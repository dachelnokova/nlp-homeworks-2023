{
 "cells": [
  {
   "cell_type": "markdown",
   "id": "4ca384d0-da9b-41bc-a902-ee069922c0c2",
   "metadata": {
    "id": "4ca384d0-da9b-41bc-a902-ee069922c0c2"
   },
   "source": [
    "## Домашка (10 баллов)\n",
    "\n",
    "\n",
    "Обучите модель с минимум 15 слоями, где у каждого слоя разные параметры (Dropout, Conv1d и Pooling, Dense считаются слоями, остальное нет). Как мимнимум 4 слоя должны быть наложены друг на друга и как минимум 2 параллельных слоя (последовательности слоев). Должен быть хотя бы один слой каждого типа.\n",
    "\n",
    "При обучении используйте колбек для отслеживания лучшей модели. Ориентируйтесь на ф1 меру. Качество модели не должно быть околонулевым. Если метрики не растут, то попробуйте пообучать подольше или перестроить саму сеть.\n",
    "\n",
    "Советы: Начните с небольших сетей и постепенно добавляйте, не пытайтесь сразу собрать все слои. Иногда кернел может крашиться просто так или из-за слишком больших матриц.\n"
   ]
  },
  {
   "cell_type": "code",
   "execution_count": null,
   "id": "DfN0shCVqaeq",
   "metadata": {
    "id": "DfN0shCVqaeq"
   },
   "outputs": [],
   "source": [
    "# %pip install --upgrade keras\n",
    "# %pip install torch torchvision torchaudio\n",
    "# %pip install scikit-learn pandas matplotlib"
   ]
  },
  {
   "cell_type": "code",
   "execution_count": 4,
   "id": "d2NTccfJqOi4",
   "metadata": {
    "id": "d2NTccfJqOi4"
   },
   "outputs": [],
   "source": [
    "import os\n",
    "os.environ[\"KERAS_BACKEND\"] = \"torch\"\n",
    "import keras\n",
    "import pandas as pd\n",
    "import numpy as np\n",
    "from string import punctuation\n",
    "from sklearn.model_selection import train_test_split\n",
    "from collections import Counter\n",
    "import matplotlib.pyplot as plt\n",
    "%matplotlib inline"
   ]
  },
  {
   "cell_type": "markdown",
   "id": "alXG48g2qYEc",
   "metadata": {
    "id": "alXG48g2qYEc"
   },
   "source": [
    "### Загрузка данных"
   ]
  },
  {
   "cell_type": "code",
   "execution_count": 5,
   "id": "UnblusTcqUVK",
   "metadata": {
    "colab": {
     "base_uri": "https://localhost:8080/"
    },
    "id": "UnblusTcqUVK",
    "outputId": "d0506d7e-abb4-4751-c308-b487a0bca150"
   },
   "outputs": [
    {
     "name": "stdout",
     "output_type": "stream",
     "text": [
      "Mounted at /content/drive\n"
     ]
    }
   ],
   "source": [
    "from google.colab import drive\n",
    "drive.mount('/content/drive')"
   ]
  },
  {
   "cell_type": "code",
   "execution_count": 6,
   "id": "1rhOSKgOqWwS",
   "metadata": {
    "id": "1rhOSKgOqWwS"
   },
   "outputs": [],
   "source": [
    "data = pd.read_csv('/content/drive/MyDrive/Colab Notebooks/compling/NLP-7-cnn_keras/lenta_40k.csv.zip')"
   ]
  },
  {
   "cell_type": "code",
   "execution_count": 7,
   "id": "jsTA-ToDqjVr",
   "metadata": {
    "colab": {
     "base_uri": "https://localhost:8080/",
     "height": 424
    },
    "id": "jsTA-ToDqjVr",
    "outputId": "9793eceb-a534-4300-9f97-8ce2319b7733"
   },
   "outputs": [
    {
     "data": {
      "text/html": [
       "\n",
       "  <div id=\"df-15bf8530-1c4c-46f2-b5e1-e45cd948d4df\" class=\"colab-df-container\">\n",
       "    <div>\n",
       "<style scoped>\n",
       "    .dataframe tbody tr th:only-of-type {\n",
       "        vertical-align: middle;\n",
       "    }\n",
       "\n",
       "    .dataframe tbody tr th {\n",
       "        vertical-align: top;\n",
       "    }\n",
       "\n",
       "    .dataframe thead th {\n",
       "        text-align: right;\n",
       "    }\n",
       "</style>\n",
       "<table border=\"1\" class=\"dataframe\">\n",
       "  <thead>\n",
       "    <tr style=\"text-align: right;\">\n",
       "      <th></th>\n",
       "      <th>text</th>\n",
       "      <th>topic</th>\n",
       "    </tr>\n",
       "  </thead>\n",
       "  <tbody>\n",
       "    <tr>\n",
       "      <th>0</th>\n",
       "      <td>Россия должна сотрудничать с Всемирным антидоп...</td>\n",
       "      <td>Спорт</td>\n",
       "    </tr>\n",
       "    <tr>\n",
       "      <th>1</th>\n",
       "      <td>Уголовный суд Кувейта 28 июня освободил под за...</td>\n",
       "      <td>Мир</td>\n",
       "    </tr>\n",
       "    <tr>\n",
       "      <th>2</th>\n",
       "      <td>Французский журнал Charlie Hebdo опубликовал н...</td>\n",
       "      <td>Интернет и СМИ</td>\n",
       "    </tr>\n",
       "    <tr>\n",
       "      <th>3</th>\n",
       "      <td>В Петербурге в доме № 53 по улице Лени Голиков...</td>\n",
       "      <td>Россия</td>\n",
       "    </tr>\n",
       "    <tr>\n",
       "      <th>4</th>\n",
       "      <td>В московском аэропорту \"Домодедово\" задержан г...</td>\n",
       "      <td>Россия</td>\n",
       "    </tr>\n",
       "    <tr>\n",
       "      <th>...</th>\n",
       "      <td>...</td>\n",
       "      <td>...</td>\n",
       "    </tr>\n",
       "    <tr>\n",
       "      <th>44351</th>\n",
       "      <td>Российский Минфин может пересмотреть минимальн...</td>\n",
       "      <td>Экономика</td>\n",
       "    </tr>\n",
       "    <tr>\n",
       "      <th>44352</th>\n",
       "      <td>Сотрудники Службы безопасности Украины (СБУ) с...</td>\n",
       "      <td>Бывший СССР</td>\n",
       "    </tr>\n",
       "    <tr>\n",
       "      <th>44353</th>\n",
       "      <td>Америке следует задуматься над поставками на У...</td>\n",
       "      <td>Силовые структуры</td>\n",
       "    </tr>\n",
       "    <tr>\n",
       "      <th>44354</th>\n",
       "      <td>Опознаны тела 71 человека, погибшего в результ...</td>\n",
       "      <td>Мир</td>\n",
       "    </tr>\n",
       "    <tr>\n",
       "      <th>44355</th>\n",
       "      <td>Украинский националист, лидер запрещенной в Ро...</td>\n",
       "      <td>Бывший СССР</td>\n",
       "    </tr>\n",
       "  </tbody>\n",
       "</table>\n",
       "<p>44356 rows × 2 columns</p>\n",
       "</div>\n",
       "    <div class=\"colab-df-buttons\">\n",
       "\n",
       "  <div class=\"colab-df-container\">\n",
       "    <button class=\"colab-df-convert\" onclick=\"convertToInteractive('df-15bf8530-1c4c-46f2-b5e1-e45cd948d4df')\"\n",
       "            title=\"Convert this dataframe to an interactive table.\"\n",
       "            style=\"display:none;\">\n",
       "\n",
       "  <svg xmlns=\"http://www.w3.org/2000/svg\" height=\"24px\" viewBox=\"0 -960 960 960\">\n",
       "    <path d=\"M120-120v-720h720v720H120Zm60-500h600v-160H180v160Zm220 220h160v-160H400v160Zm0 220h160v-160H400v160ZM180-400h160v-160H180v160Zm440 0h160v-160H620v160ZM180-180h160v-160H180v160Zm440 0h160v-160H620v160Z\"/>\n",
       "  </svg>\n",
       "    </button>\n",
       "\n",
       "  <style>\n",
       "    .colab-df-container {\n",
       "      display:flex;\n",
       "      gap: 12px;\n",
       "    }\n",
       "\n",
       "    .colab-df-convert {\n",
       "      background-color: #E8F0FE;\n",
       "      border: none;\n",
       "      border-radius: 50%;\n",
       "      cursor: pointer;\n",
       "      display: none;\n",
       "      fill: #1967D2;\n",
       "      height: 32px;\n",
       "      padding: 0 0 0 0;\n",
       "      width: 32px;\n",
       "    }\n",
       "\n",
       "    .colab-df-convert:hover {\n",
       "      background-color: #E2EBFA;\n",
       "      box-shadow: 0px 1px 2px rgba(60, 64, 67, 0.3), 0px 1px 3px 1px rgba(60, 64, 67, 0.15);\n",
       "      fill: #174EA6;\n",
       "    }\n",
       "\n",
       "    .colab-df-buttons div {\n",
       "      margin-bottom: 4px;\n",
       "    }\n",
       "\n",
       "    [theme=dark] .colab-df-convert {\n",
       "      background-color: #3B4455;\n",
       "      fill: #D2E3FC;\n",
       "    }\n",
       "\n",
       "    [theme=dark] .colab-df-convert:hover {\n",
       "      background-color: #434B5C;\n",
       "      box-shadow: 0px 1px 3px 1px rgba(0, 0, 0, 0.15);\n",
       "      filter: drop-shadow(0px 1px 2px rgba(0, 0, 0, 0.3));\n",
       "      fill: #FFFFFF;\n",
       "    }\n",
       "  </style>\n",
       "\n",
       "    <script>\n",
       "      const buttonEl =\n",
       "        document.querySelector('#df-15bf8530-1c4c-46f2-b5e1-e45cd948d4df button.colab-df-convert');\n",
       "      buttonEl.style.display =\n",
       "        google.colab.kernel.accessAllowed ? 'block' : 'none';\n",
       "\n",
       "      async function convertToInteractive(key) {\n",
       "        const element = document.querySelector('#df-15bf8530-1c4c-46f2-b5e1-e45cd948d4df');\n",
       "        const dataTable =\n",
       "          await google.colab.kernel.invokeFunction('convertToInteractive',\n",
       "                                                    [key], {});\n",
       "        if (!dataTable) return;\n",
       "\n",
       "        const docLinkHtml = 'Like what you see? Visit the ' +\n",
       "          '<a target=\"_blank\" href=https://colab.research.google.com/notebooks/data_table.ipynb>data table notebook</a>'\n",
       "          + ' to learn more about interactive tables.';\n",
       "        element.innerHTML = '';\n",
       "        dataTable['output_type'] = 'display_data';\n",
       "        await google.colab.output.renderOutput(dataTable, element);\n",
       "        const docLink = document.createElement('div');\n",
       "        docLink.innerHTML = docLinkHtml;\n",
       "        element.appendChild(docLink);\n",
       "      }\n",
       "    </script>\n",
       "  </div>\n",
       "\n",
       "\n",
       "<div id=\"df-217f9d1a-b14e-4479-8aa2-b3b0f555fa59\">\n",
       "  <button class=\"colab-df-quickchart\" onclick=\"quickchart('df-217f9d1a-b14e-4479-8aa2-b3b0f555fa59')\"\n",
       "            title=\"Suggest charts\"\n",
       "            style=\"display:none;\">\n",
       "\n",
       "<svg xmlns=\"http://www.w3.org/2000/svg\" height=\"24px\"viewBox=\"0 0 24 24\"\n",
       "     width=\"24px\">\n",
       "    <g>\n",
       "        <path d=\"M19 3H5c-1.1 0-2 .9-2 2v14c0 1.1.9 2 2 2h14c1.1 0 2-.9 2-2V5c0-1.1-.9-2-2-2zM9 17H7v-7h2v7zm4 0h-2V7h2v10zm4 0h-2v-4h2v4z\"/>\n",
       "    </g>\n",
       "</svg>\n",
       "  </button>\n",
       "\n",
       "<style>\n",
       "  .colab-df-quickchart {\n",
       "      --bg-color: #E8F0FE;\n",
       "      --fill-color: #1967D2;\n",
       "      --hover-bg-color: #E2EBFA;\n",
       "      --hover-fill-color: #174EA6;\n",
       "      --disabled-fill-color: #AAA;\n",
       "      --disabled-bg-color: #DDD;\n",
       "  }\n",
       "\n",
       "  [theme=dark] .colab-df-quickchart {\n",
       "      --bg-color: #3B4455;\n",
       "      --fill-color: #D2E3FC;\n",
       "      --hover-bg-color: #434B5C;\n",
       "      --hover-fill-color: #FFFFFF;\n",
       "      --disabled-bg-color: #3B4455;\n",
       "      --disabled-fill-color: #666;\n",
       "  }\n",
       "\n",
       "  .colab-df-quickchart {\n",
       "    background-color: var(--bg-color);\n",
       "    border: none;\n",
       "    border-radius: 50%;\n",
       "    cursor: pointer;\n",
       "    display: none;\n",
       "    fill: var(--fill-color);\n",
       "    height: 32px;\n",
       "    padding: 0;\n",
       "    width: 32px;\n",
       "  }\n",
       "\n",
       "  .colab-df-quickchart:hover {\n",
       "    background-color: var(--hover-bg-color);\n",
       "    box-shadow: 0 1px 2px rgba(60, 64, 67, 0.3), 0 1px 3px 1px rgba(60, 64, 67, 0.15);\n",
       "    fill: var(--button-hover-fill-color);\n",
       "  }\n",
       "\n",
       "  .colab-df-quickchart-complete:disabled,\n",
       "  .colab-df-quickchart-complete:disabled:hover {\n",
       "    background-color: var(--disabled-bg-color);\n",
       "    fill: var(--disabled-fill-color);\n",
       "    box-shadow: none;\n",
       "  }\n",
       "\n",
       "  .colab-df-spinner {\n",
       "    border: 2px solid var(--fill-color);\n",
       "    border-color: transparent;\n",
       "    border-bottom-color: var(--fill-color);\n",
       "    animation:\n",
       "      spin 1s steps(1) infinite;\n",
       "  }\n",
       "\n",
       "  @keyframes spin {\n",
       "    0% {\n",
       "      border-color: transparent;\n",
       "      border-bottom-color: var(--fill-color);\n",
       "      border-left-color: var(--fill-color);\n",
       "    }\n",
       "    20% {\n",
       "      border-color: transparent;\n",
       "      border-left-color: var(--fill-color);\n",
       "      border-top-color: var(--fill-color);\n",
       "    }\n",
       "    30% {\n",
       "      border-color: transparent;\n",
       "      border-left-color: var(--fill-color);\n",
       "      border-top-color: var(--fill-color);\n",
       "      border-right-color: var(--fill-color);\n",
       "    }\n",
       "    40% {\n",
       "      border-color: transparent;\n",
       "      border-right-color: var(--fill-color);\n",
       "      border-top-color: var(--fill-color);\n",
       "    }\n",
       "    60% {\n",
       "      border-color: transparent;\n",
       "      border-right-color: var(--fill-color);\n",
       "    }\n",
       "    80% {\n",
       "      border-color: transparent;\n",
       "      border-right-color: var(--fill-color);\n",
       "      border-bottom-color: var(--fill-color);\n",
       "    }\n",
       "    90% {\n",
       "      border-color: transparent;\n",
       "      border-bottom-color: var(--fill-color);\n",
       "    }\n",
       "  }\n",
       "</style>\n",
       "\n",
       "  <script>\n",
       "    async function quickchart(key) {\n",
       "      const quickchartButtonEl =\n",
       "        document.querySelector('#' + key + ' button');\n",
       "      quickchartButtonEl.disabled = true;  // To prevent multiple clicks.\n",
       "      quickchartButtonEl.classList.add('colab-df-spinner');\n",
       "      try {\n",
       "        const charts = await google.colab.kernel.invokeFunction(\n",
       "            'suggestCharts', [key], {});\n",
       "      } catch (error) {\n",
       "        console.error('Error during call to suggestCharts:', error);\n",
       "      }\n",
       "      quickchartButtonEl.classList.remove('colab-df-spinner');\n",
       "      quickchartButtonEl.classList.add('colab-df-quickchart-complete');\n",
       "    }\n",
       "    (() => {\n",
       "      let quickchartButtonEl =\n",
       "        document.querySelector('#df-217f9d1a-b14e-4479-8aa2-b3b0f555fa59 button');\n",
       "      quickchartButtonEl.style.display =\n",
       "        google.colab.kernel.accessAllowed ? 'block' : 'none';\n",
       "    })();\n",
       "  </script>\n",
       "</div>\n",
       "    </div>\n",
       "  </div>\n"
      ],
      "text/plain": [
       "                                                    text              topic\n",
       "0      Россия должна сотрудничать с Всемирным антидоп...              Спорт\n",
       "1      Уголовный суд Кувейта 28 июня освободил под за...                Мир\n",
       "2      Французский журнал Charlie Hebdo опубликовал н...     Интернет и СМИ\n",
       "3      В Петербурге в доме № 53 по улице Лени Голиков...             Россия\n",
       "4      В московском аэропорту \"Домодедово\" задержан г...             Россия\n",
       "...                                                  ...                ...\n",
       "44351  Российский Минфин может пересмотреть минимальн...          Экономика\n",
       "44352  Сотрудники Службы безопасности Украины (СБУ) с...        Бывший СССР\n",
       "44353  Америке следует задуматься над поставками на У...  Силовые структуры\n",
       "44354  Опознаны тела 71 человека, погибшего в результ...                Мир\n",
       "44355  Украинский националист, лидер запрещенной в Ро...        Бывший СССР\n",
       "\n",
       "[44356 rows x 2 columns]"
      ]
     },
     "execution_count": 7,
     "metadata": {},
     "output_type": "execute_result"
    }
   ],
   "source": [
    "data"
   ]
  },
  {
   "cell_type": "code",
   "execution_count": 8,
   "id": "MdTaJRzxqlTR",
   "metadata": {
    "id": "MdTaJRzxqlTR"
   },
   "outputs": [],
   "source": [
    "def preprocess(text):\n",
    "    tokens = text.lower().split()\n",
    "    tokens = [token.strip(punctuation) for token in tokens]\n",
    "    return tokens"
   ]
  },
  {
   "cell_type": "code",
   "execution_count": 9,
   "id": "8ezbpNx5qmlE",
   "metadata": {
    "id": "8ezbpNx5qmlE"
   },
   "outputs": [],
   "source": [
    "# словарь\n",
    "vocab = Counter()\n",
    "\n",
    "for text in data.text:\n",
    "    vocab.update(preprocess(text))"
   ]
  },
  {
   "cell_type": "code",
   "execution_count": 10,
   "id": "a7b-ViuMqoDY",
   "metadata": {
    "colab": {
     "base_uri": "https://localhost:8080/"
    },
    "id": "a7b-ViuMqoDY",
    "outputId": "b9b61d40-14a0-4240-89db-a047bcf4640d"
   },
   "outputs": [
    {
     "data": {
      "text/plain": [
       "354611"
      ]
     },
     "execution_count": 10,
     "metadata": {},
     "output_type": "execute_result"
    }
   ],
   "source": [
    "len(vocab)"
   ]
  },
  {
   "cell_type": "code",
   "execution_count": 11,
   "id": "e8S1yYgPqpbX",
   "metadata": {
    "id": "e8S1yYgPqpbX"
   },
   "outputs": [],
   "source": [
    "# отфильтрованный словарь\n",
    "filtered_vocab = set()\n",
    "\n",
    "for word in vocab:\n",
    "    if vocab[word] > 30:\n",
    "        filtered_vocab.add(word)"
   ]
  },
  {
   "cell_type": "code",
   "execution_count": 12,
   "id": "hNaUPHDjqq5d",
   "metadata": {
    "colab": {
     "base_uri": "https://localhost:8080/"
    },
    "id": "hNaUPHDjqq5d",
    "outputId": "cb82dc7a-78ae-4e6e-fb30-bd860cb32274"
   },
   "outputs": [
    {
     "data": {
      "text/plain": [
       "24091"
      ]
     },
     "execution_count": 12,
     "metadata": {},
     "output_type": "execute_result"
    }
   ],
   "source": [
    "len(filtered_vocab)"
   ]
  },
  {
   "cell_type": "code",
   "execution_count": 13,
   "id": "Ii0eO4CsqtAj",
   "metadata": {
    "id": "Ii0eO4CsqtAj"
   },
   "outputs": [],
   "source": [
    "# индексируем слова\n",
    "word2id = {'PAD':0}\n",
    "\n",
    "for word in filtered_vocab:\n",
    "    word2id[word] = len(word2id)"
   ]
  },
  {
   "cell_type": "code",
   "execution_count": 14,
   "id": "aot947C1Zf1E",
   "metadata": {
    "id": "aot947C1Zf1E"
   },
   "outputs": [],
   "source": [
    "id2word = {i:word for word, i in word2id.items()}"
   ]
  },
  {
   "cell_type": "code",
   "execution_count": 15,
   "id": "NpuiaoW6Zf1E",
   "metadata": {
    "id": "NpuiaoW6Zf1E"
   },
   "outputs": [],
   "source": [
    "# переводим тексты в последовательности индексов\n",
    "# каждый текст теперь – это список индексов токенов, из которых он состоит\n",
    "X = []\n",
    "\n",
    "for text in data.text:\n",
    "    tokens = preprocess(text)\n",
    "    ids = [word2id.get(token, 1) for token in tokens]\n",
    "    X.append(ids)"
   ]
  },
  {
   "cell_type": "code",
   "execution_count": 16,
   "id": "1YHAGuLEZf1E",
   "metadata": {
    "id": "1YHAGuLEZf1E"
   },
   "outputs": [],
   "source": [
    "MAX_LEN = max(len(x) for x in X)"
   ]
  },
  {
   "cell_type": "markdown",
   "id": "4YjP0KnqZf1E",
   "metadata": {
    "id": "4YjP0KnqZf1E"
   },
   "source": [
    "Можно посчитать среднюю или медианную длину, если максимальная кажется слишком большой."
   ]
  },
  {
   "cell_type": "code",
   "execution_count": 17,
   "id": "XpAAXZc6Zf1E",
   "metadata": {
    "id": "XpAAXZc6Zf1E"
   },
   "outputs": [],
   "source": [
    "MEAN_LEN = np.median([len(x) for x in X])"
   ]
  },
  {
   "cell_type": "code",
   "execution_count": 18,
   "id": "XqXqey1rZf1E",
   "metadata": {
    "colab": {
     "base_uri": "https://localhost:8080/"
    },
    "id": "XqXqey1rZf1E",
    "outputId": "fd6760d0-9b4b-4a2d-ec86-929a5ce283f0"
   },
   "outputs": [
    {
     "data": {
      "text/plain": [
       "(1748, 170.0)"
      ]
     },
     "execution_count": 18,
     "metadata": {},
     "output_type": "execute_result"
    }
   ],
   "source": [
    "MAX_LEN, MEAN_LEN\n",
    "# максимальная длина сильно больше средней длины текста,"
   ]
  },
  {
   "cell_type": "code",
   "execution_count": 19,
   "id": "jRrY8ysVZf1F",
   "metadata": {
    "id": "jRrY8ysVZf1F"
   },
   "outputs": [],
   "source": [
    "# поэтому паддинг сделаем до значения чуть больше среднего\n",
    "MAX_LEN = int(MEAN_LEN + 30)"
   ]
  },
  {
   "cell_type": "code",
   "execution_count": 20,
   "id": "bxOgQY7eZf1F",
   "metadata": {
    "id": "bxOgQY7eZf1F"
   },
   "outputs": [],
   "source": [
    "# паддинг, в керасе есть отдельная функция\n",
    "X = keras.preprocessing.sequence.pad_sequences(X, maxlen=MAX_LEN)"
   ]
  },
  {
   "cell_type": "code",
   "execution_count": 21,
   "id": "SMs6BZXIZf1F",
   "metadata": {
    "colab": {
     "base_uri": "https://localhost:8080/"
    },
    "id": "SMs6BZXIZf1F",
    "outputId": "ff1238d4-5285-4b96-c888-b3c59df6b0f0"
   },
   "outputs": [
    {
     "data": {
      "text/plain": [
       "(44356, 200)"
      ]
     },
     "execution_count": 21,
     "metadata": {},
     "output_type": "execute_result"
    }
   ],
   "source": [
    "# на входе теперь матрица X: 44356 – всего индексов токенов и 200 – длина каждого текста в токенах\n",
    "X.shape"
   ]
  },
  {
   "cell_type": "code",
   "execution_count": 42,
   "id": "LMPS6161Zf1G",
   "metadata": {
    "id": "LMPS6161Zf1G"
   },
   "outputs": [],
   "source": [
    "# создаем словарь, маппинг индекс в лэйбл, лэйбл в индекс\n",
    "id2label = {i:label for i, label in enumerate(set(data.topic.values))}\n",
    "label2id = {l:i for i, l in id2label.items()}"
   ]
  },
  {
   "cell_type": "code",
   "execution_count": 43,
   "id": "CrxG4o80Zf1G",
   "metadata": {
    "id": "CrxG4o80Zf1G"
   },
   "outputs": [],
   "source": [
    "# Категории (темы) преобразуются в one-hot кодировку,\n",
    "# чтобы каждый правильный ответ был массивом из 0 и 1 в той позиции, которому классу соответствует этот текст\n",
    "y = keras.utils.to_categorical([label2id[label] for label in data.topic.values])"
   ]
  },
  {
   "cell_type": "code",
   "execution_count": 55,
   "id": "OubfWh26Zf1G",
   "metadata": {
    "colab": {
     "base_uri": "https://localhost:8080/"
    },
    "id": "OubfWh26Zf1G",
    "outputId": "4ec2f7a2-c121-4a59-e507-1feedbd1743d"
   },
   "outputs": [
    {
     "data": {
      "text/plain": [
       "19"
      ]
     },
     "execution_count": 55,
     "metadata": {},
     "output_type": "execute_result"
    }
   ],
   "source": [
    "# всего 19 классов\n",
    "len(label2id)"
   ]
  },
  {
   "cell_type": "markdown",
   "id": "XiyCUEkTZf1H",
   "metadata": {
    "id": "XiyCUEkTZf1H"
   },
   "source": [
    "В этот раз добавим стратификацию, т.к. в данных у нас дисбаланс классов."
   ]
  },
  {
   "cell_type": "code",
   "execution_count": 56,
   "id": "OzNC81QmZf1H",
   "metadata": {
    "id": "OzNC81QmZf1H"
   },
   "outputs": [],
   "source": [
    "X_train, X_valid, y_train, y_valid = train_test_split(X, y, test_size=0.05)"
   ]
  },
  {
   "cell_type": "markdown",
   "id": "Z0zmcp43jAPi",
   "metadata": {
    "id": "Z0zmcp43jAPi"
   },
   "source": [
    "### Колбэки"
   ]
  },
  {
   "cell_type": "code",
   "execution_count": 45,
   "id": "_YckMw2wi_bl",
   "metadata": {
    "id": "_YckMw2wi_bl"
   },
   "outputs": [],
   "source": [
    "# ModelCheckpoint сохраняет лучшие версии моделей\n",
    "checkpoint = keras.callbacks.ModelCheckpoint('model.weights.h5', # названия файла\n",
    "                                                monitor='val_f1', # за какой метрикой следить\n",
    "                                                verbose=1, # будет печатать что происходит\n",
    "                                                save_weights_only=True, # если нужно только веса сохранить\n",
    "                                                save_best_only=True, # сохранять только лучшие\n",
    "                                                mode='max', # если метрика должна расти, то тут max и min если наоборот\n",
    "                                                save_freq='epoch' # как часто вызывать\n",
    "                                               )\n",
    "\n",
    "# EarlyStopping позволяет автоматически остановить обучение, если качество не улучшается\n",
    "early_stop = keras.callbacks.EarlyStopping(monitor='val_f1',\n",
    "                                              min_delta=0.01, # какая разница считается как улучшение\n",
    "                                              patience=3, # сколько эпох терпеть отсутствие улучшений\n",
    "                                              verbose=1,\n",
    "                                              mode='max',\n",
    "                                              )"
   ]
  },
  {
   "cell_type": "markdown",
   "id": "z85MTcvWLcBB",
   "metadata": {
    "id": "z85MTcvWLcBB"
   },
   "source": [
    "### Модель 1\n",
    "\n",
    "\n"
   ]
  },
  {
   "cell_type": "code",
   "execution_count": 58,
   "id": "b2jwW0w8HZY8",
   "metadata": {
    "id": "b2jwW0w8HZY8"
   },
   "outputs": [],
   "source": [
    "inputs = keras.layers.Input(shape=(MAX_LEN,))\n",
    "embeddings = keras.layers.Embedding(input_dim=len(word2id), output_dim=100)(inputs, )\n",
    "\n",
    "conv1 = keras.layers.Conv1D(kernel_size=5, filters=50, strides=1,\n",
    "                                              activation='relu')(embeddings)\n",
    "pool1 = keras.layers.AveragePooling1D(pool_size=5)(conv1)\n",
    "conv2 = keras.layers.Conv1D(kernel_size=9, filters=35, strides=3,\n",
    "                                              activation='relu')(pool1)\n",
    "pool2 = keras.layers.MaxPooling1D(pool_size=3)(conv2)\n",
    "\n",
    "concat = keras.layers.Flatten()(pool2)\n",
    "dense1 = keras.layers.Dense(50, activation='relu')(concat)\n",
    "dense2 = keras.layers.Dense(70, activation='relu')(dense1)\n",
    "outputs = keras.layers.Dense(len(label2id), activation='softmax')(dense2)\n",
    "\n",
    "\n",
    "model = keras.Model(inputs=inputs, outputs=outputs)\n",
    "optimizer = keras.optimizers.Adam(learning_rate=0.001)\n",
    "\n",
    "model.compile(optimizer=optimizer,\n",
    "              loss='categorical_crossentropy',\n",
    "              metrics=[keras.metrics.F1Score(average='weighted', name='f1')])"
   ]
  },
  {
   "cell_type": "code",
   "execution_count": 28,
   "id": "2LqQbQXAsal_",
   "metadata": {
    "id": "2LqQbQXAsal_"
   },
   "outputs": [],
   "source": [
    "keras.metrics.F1Score?"
   ]
  },
  {
   "cell_type": "code",
   "execution_count": 59,
   "id": "aYk4sj41L-Bv",
   "metadata": {
    "colab": {
     "base_uri": "https://localhost:8080/"
    },
    "id": "aYk4sj41L-Bv",
    "outputId": "b760aaa8-6d83-4828-c057-354b213db91e"
   },
   "outputs": [
    {
     "name": "stdout",
     "output_type": "stream",
     "text": [
      "Model: \"model_6\"\n",
      "_________________________________________________________________\n",
      " Layer (type)                Output Shape              Param #   \n",
      "=================================================================\n",
      " input_7 (InputLayer)        [(None, 200)]             0         \n",
      "                                                                 \n",
      " embedding_6 (Embedding)     (None, 200, 100)          2409200   \n",
      "                                                                 \n",
      " conv1d_12 (Conv1D)          (None, 196, 50)           25050     \n",
      "                                                                 \n",
      " average_pooling1d_6 (Avera  (None, 39, 50)            0         \n",
      " gePooling1D)                                                    \n",
      "                                                                 \n",
      " conv1d_13 (Conv1D)          (None, 11, 35)            15785     \n",
      "                                                                 \n",
      " max_pooling1d_5 (MaxPoolin  (None, 3, 35)             0         \n",
      " g1D)                                                            \n",
      "                                                                 \n",
      " flatten_6 (Flatten)         (None, 105)               0         \n",
      "                                                                 \n",
      " dense_17 (Dense)            (None, 50)                5300      \n",
      "                                                                 \n",
      " dense_18 (Dense)            (None, 70)                3570      \n",
      "                                                                 \n",
      " dense_19 (Dense)            (None, 19)                1349      \n",
      "                                                                 \n",
      "=================================================================\n",
      "Total params: 2460254 (9.39 MB)\n",
      "Trainable params: 2460254 (9.39 MB)\n",
      "Non-trainable params: 0 (0.00 Byte)\n",
      "_________________________________________________________________\n"
     ]
    }
   ],
   "source": [
    "model.summary()"
   ]
  },
  {
   "cell_type": "code",
   "execution_count": 60,
   "id": "Smi-afVuMBjf",
   "metadata": {
    "colab": {
     "base_uri": "https://localhost:8080/"
    },
    "id": "Smi-afVuMBjf",
    "outputId": "c7757e64-eacf-4711-af79-509156abc655"
   },
   "outputs": [
    {
     "name": "stdout",
     "output_type": "stream",
     "text": [
      "Epoch 1/50\n",
      "43/43 [==============================] - ETA: 0s - loss: 2.4694 - f1: 0.0912\n",
      "Epoch 1: val_f1 improved from 0.07382 to 0.08075, saving model to model.weights.h5\n",
      "43/43 [==============================] - 10s 186ms/step - loss: 2.4694 - f1: 0.0912 - val_loss: 2.2607 - val_f1: 0.0808\n",
      "Epoch 2/50\n",
      "43/43 [==============================] - ETA: 0s - loss: 2.1090 - f1: 0.1683\n",
      "Epoch 2: val_f1 improved from 0.08075 to 0.20121, saving model to model.weights.h5\n",
      "43/43 [==============================] - 6s 128ms/step - loss: 2.1090 - f1: 0.1683 - val_loss: 2.0106 - val_f1: 0.2012\n",
      "Epoch 3/50\n",
      "43/43 [==============================] - ETA: 0s - loss: 1.7645 - f1: 0.3165\n",
      "Epoch 3: val_f1 improved from 0.20121 to 0.40113, saving model to model.weights.h5\n",
      "43/43 [==============================] - 7s 155ms/step - loss: 1.7645 - f1: 0.3165 - val_loss: 1.5884 - val_f1: 0.4011\n",
      "Epoch 4/50\n",
      "43/43 [==============================] - ETA: 0s - loss: 1.2553 - f1: 0.5449\n",
      "Epoch 4: val_f1 improved from 0.40113 to 0.55899, saving model to model.weights.h5\n",
      "43/43 [==============================] - 5s 113ms/step - loss: 1.2553 - f1: 0.5449 - val_loss: 1.3605 - val_f1: 0.5590\n",
      "Epoch 5/50\n",
      "43/43 [==============================] - ETA: 0s - loss: 0.9286 - f1: 0.6906\n",
      "Epoch 5: val_f1 improved from 0.55899 to 0.61194, saving model to model.weights.h5\n",
      "43/43 [==============================] - 5s 109ms/step - loss: 0.9286 - f1: 0.6906 - val_loss: 1.2747 - val_f1: 0.6119\n",
      "Epoch 6/50\n",
      "43/43 [==============================] - ETA: 0s - loss: 0.6918 - f1: 0.7673\n",
      "Epoch 6: val_f1 improved from 0.61194 to 0.63514, saving model to model.weights.h5\n",
      "43/43 [==============================] - 5s 115ms/step - loss: 0.6918 - f1: 0.7673 - val_loss: 1.2949 - val_f1: 0.6351\n",
      "Epoch 7/50\n",
      "43/43 [==============================] - ETA: 0s - loss: 0.5225 - f1: 0.8271\n",
      "Epoch 7: val_f1 did not improve from 0.63514\n",
      "43/43 [==============================] - 4s 83ms/step - loss: 0.5225 - f1: 0.8271 - val_loss: 1.4800 - val_f1: 0.6320\n",
      "Epoch 8/50\n",
      "43/43 [==============================] - ETA: 0s - loss: 0.3954 - f1: 0.8729\n",
      "Epoch 8: val_f1 did not improve from 0.63514\n",
      "43/43 [==============================] - 3s 62ms/step - loss: 0.3954 - f1: 0.8729 - val_loss: 1.6885 - val_f1: 0.6318\n",
      "Epoch 9/50\n",
      "43/43 [==============================] - ETA: 0s - loss: 0.2920 - f1: 0.9087\n",
      "Epoch 9: val_f1 did not improve from 0.63514\n",
      "43/43 [==============================] - 3s 61ms/step - loss: 0.2920 - f1: 0.9087 - val_loss: 1.9838 - val_f1: 0.6283\n",
      "Epoch 9: early stopping\n"
     ]
    },
    {
     "data": {
      "text/plain": [
       "<keras.src.callbacks.History at 0x7949e6f1dd80>"
      ]
     },
     "execution_count": 60,
     "metadata": {},
     "output_type": "execute_result"
    }
   ],
   "source": [
    "model.fit(X_train, y_train,\n",
    "          validation_data=(X_valid, y_valid),\n",
    "          batch_size=1000,\n",
    "         epochs=50,\n",
    "         callbacks=[checkpoint, early_stop])"
   ]
  },
  {
   "cell_type": "code",
   "execution_count": 61,
   "id": "IYahloiTQJ3V",
   "metadata": {
    "colab": {
     "base_uri": "https://localhost:8080/",
     "height": 489
    },
    "id": "IYahloiTQJ3V",
    "outputId": "ebe4fc91-afc8-49e5-c204-9697139d9204"
   },
   "outputs": [
    {
     "name": "stdout",
     "output_type": "stream",
     "text": [
      "dict_keys(['loss', 'f1', 'val_loss', 'val_f1'])\n"
     ]
    },
    {
     "data": {
      "image/png": "[encoded data removed]",
      "text/plain": [
       "<Figure size 640x480 with 1 Axes>"
      ]
     },
     "metadata": {},
     "output_type": "display_data"
    }
   ],
   "source": [
    "print(model.history.history.keys())\n",
    "plt.plot(model.history.history['f1'])\n",
    "plt.plot(model.history.history['val_f1'])\n",
    "plt.title('model metrics')\n",
    "plt.ylabel('f1')\n",
    "plt.xlabel('epoch')\n",
    "plt.legend(['train', 'val'], loc='upper left')\n",
    "plt.show()"
   ]
  },
  {
   "cell_type": "markdown",
   "id": "d0YwfYBeZvHq",
   "metadata": {
    "id": "d0YwfYBeZvHq"
   },
   "source": [
    "### Модель 2"
   ]
  },
  {
   "cell_type": "code",
   "execution_count": 62,
   "id": "O1FR5CF5Zuel",
   "metadata": {
    "id": "O1FR5CF5Zuel"
   },
   "outputs": [],
   "source": [
    "inputs = keras.layers.Input(shape=(MAX_LEN,))\n",
    "embeddings = keras.layers.Embedding(input_dim=len(word2id), output_dim=100)(inputs, )\n",
    "\n",
    "drop1 = keras.layers.Dropout(0.1)(embeddings)\n",
    "conv1 = keras.layers.Conv1D(kernel_size=5, filters=50, strides=1,\n",
    "                                              activation='relu')(embeddings)\n",
    "pool1 = keras.layers.AveragePooling1D(pool_size=5)(conv1)\n",
    "conv2 = keras.layers.Conv1D(kernel_size=9, filters=35, strides=3,\n",
    "                                              activation='relu')(pool1)\n",
    "pool2 = keras.layers.MaxPooling1D(pool_size=3)(conv2)\n",
    "drop2 = keras.layers.Dropout(0.2)(pool2)\n",
    "\n",
    "concat = keras.layers.Flatten()(drop2)\n",
    "dense1 = keras.layers.Dense(50, activation='relu')(concat)\n",
    "dense2 = keras.layers.Dense(70, activation='relu')(dense1)\n",
    "outputs = keras.layers.Dense(len(label2id), activation='softmax')(dense2)\n",
    "\n",
    "\n",
    "model = keras.Model(inputs=inputs, outputs=outputs)\n",
    "optimizer = keras.optimizers.Adam(learning_rate=0.001)\n",
    "\n",
    "model.compile(optimizer=optimizer,\n",
    "              loss='categorical_crossentropy', # функция потерь\n",
    "              metrics=[keras.metrics.F1Score(average='weighted', name='f1')])"
   ]
  },
  {
   "cell_type": "code",
   "execution_count": 63,
   "id": "YQSgL0K9a1EY",
   "metadata": {
    "colab": {
     "base_uri": "https://localhost:8080/"
    },
    "id": "YQSgL0K9a1EY",
    "outputId": "4af8520e-0964-4ab5-a9a9-b983483556ce"
   },
   "outputs": [
    {
     "name": "stdout",
     "output_type": "stream",
     "text": [
      "Model: \"model_7\"\n",
      "_________________________________________________________________\n",
      " Layer (type)                Output Shape              Param #   \n",
      "=================================================================\n",
      " input_8 (InputLayer)        [(None, 200)]             0         \n",
      "                                                                 \n",
      " embedding_7 (Embedding)     (None, 200, 100)          2409200   \n",
      "                                                                 \n",
      " conv1d_14 (Conv1D)          (None, 196, 50)           25050     \n",
      "                                                                 \n",
      " average_pooling1d_7 (Avera  (None, 39, 50)            0         \n",
      " gePooling1D)                                                    \n",
      "                                                                 \n",
      " conv1d_15 (Conv1D)          (None, 11, 35)            15785     \n",
      "                                                                 \n",
      " max_pooling1d_6 (MaxPoolin  (None, 3, 35)             0         \n",
      " g1D)                                                            \n",
      "                                                                 \n",
      " dropout_1 (Dropout)         (None, 3, 35)             0         \n",
      "                                                                 \n",
      " flatten_7 (Flatten)         (None, 105)               0         \n",
      "                                                                 \n",
      " dense_20 (Dense)            (None, 50)                5300      \n",
      "                                                                 \n",
      " dense_21 (Dense)            (None, 70)                3570      \n",
      "                                                                 \n",
      " dense_22 (Dense)            (None, 19)                1349      \n",
      "                                                                 \n",
      "=================================================================\n",
      "Total params: 2460254 (9.39 MB)\n",
      "Trainable params: 2460254 (9.39 MB)\n",
      "Non-trainable params: 0 (0.00 Byte)\n",
      "_________________________________________________________________\n"
     ]
    }
   ],
   "source": [
    "model.summary()"
   ]
  },
  {
   "cell_type": "code",
   "execution_count": 64,
   "id": "xVbfrwFda8hq",
   "metadata": {
    "colab": {
     "base_uri": "https://localhost:8080/"
    },
    "id": "xVbfrwFda8hq",
    "outputId": "cccb5184-fba4-4ca8-aad0-766d70847873"
   },
   "outputs": [
    {
     "name": "stdout",
     "output_type": "stream",
     "text": [
      "Epoch 1/50\n",
      "43/43 [==============================] - ETA: 0s - loss: 2.5204 - f1: 0.1201\n",
      "Epoch 1: val_f1 did not improve from 0.63514\n",
      "43/43 [==============================] - 11s 175ms/step - loss: 2.5204 - f1: 0.1201 - val_loss: 2.2759 - val_f1: 0.0881\n",
      "Epoch 2/50\n",
      "43/43 [==============================] - ETA: 0s - loss: 2.1575 - f1: 0.1290\n",
      "Epoch 2: val_f1 did not improve from 0.63514\n",
      "43/43 [==============================] - 5s 113ms/step - loss: 2.1575 - f1: 0.1290 - val_loss: 2.0546 - val_f1: 0.1918\n",
      "Epoch 3/50\n",
      "43/43 [==============================] - ETA: 0s - loss: 1.8312 - f1: 0.2926\n",
      "Epoch 3: val_f1 did not improve from 0.63514\n",
      "43/43 [==============================] - 4s 98ms/step - loss: 1.8312 - f1: 0.2926 - val_loss: 1.5845 - val_f1: 0.4063\n",
      "Epoch 4/50\n",
      "43/43 [==============================] - ETA: 0s - loss: 1.2670 - f1: 0.5292\n",
      "Epoch 4: val_f1 did not improve from 0.63514\n",
      "43/43 [==============================] - 6s 127ms/step - loss: 1.2670 - f1: 0.5292 - val_loss: 1.2213 - val_f1: 0.5569\n",
      "Epoch 5/50\n",
      "43/43 [==============================] - ETA: 0s - loss: 0.9403 - f1: 0.6648\n",
      "Epoch 5: val_f1 did not improve from 0.63514\n",
      "43/43 [==============================] - 4s 86ms/step - loss: 0.9403 - f1: 0.6648 - val_loss: 1.1469 - val_f1: 0.6301\n",
      "Epoch 6/50\n",
      "43/43 [==============================] - ETA: 0s - loss: 0.7284 - f1: 0.7446\n",
      "Epoch 6: val_f1 improved from 0.63514 to 0.63996, saving model to model.weights.h5\n",
      "43/43 [==============================] - 4s 88ms/step - loss: 0.7284 - f1: 0.7446 - val_loss: 1.1850 - val_f1: 0.6400\n",
      "Epoch 7/50\n",
      "43/43 [==============================] - ETA: 0s - loss: 0.5898 - f1: 0.7947\n",
      "Epoch 7: val_f1 improved from 0.63996 to 0.64501, saving model to model.weights.h5\n",
      "43/43 [==============================] - 3s 77ms/step - loss: 0.5898 - f1: 0.7947 - val_loss: 1.2383 - val_f1: 0.6450\n",
      "Epoch 8/50\n",
      "43/43 [==============================] - ETA: 0s - loss: 0.4808 - f1: 0.8372\n",
      "Epoch 8: val_f1 improved from 0.64501 to 0.65324, saving model to model.weights.h5\n",
      "43/43 [==============================] - 4s 93ms/step - loss: 0.4808 - f1: 0.8372 - val_loss: 1.3755 - val_f1: 0.6532\n",
      "Epoch 9/50\n",
      "43/43 [==============================] - ETA: 0s - loss: 0.3928 - f1: 0.8679\n",
      "Epoch 9: val_f1 improved from 0.65324 to 0.65405, saving model to model.weights.h5\n",
      "43/43 [==============================] - 4s 83ms/step - loss: 0.3928 - f1: 0.8679 - val_loss: 1.5415 - val_f1: 0.6540\n",
      "Epoch 10/50\n",
      "43/43 [==============================] - ETA: 0s - loss: 0.3217 - f1: 0.8924\n",
      "Epoch 10: val_f1 did not improve from 0.65405\n",
      "43/43 [==============================] - 2s 49ms/step - loss: 0.3217 - f1: 0.8924 - val_loss: 1.6702 - val_f1: 0.6494\n",
      "Epoch 10: early stopping\n"
     ]
    },
    {
     "data": {
      "text/plain": [
       "<keras.src.callbacks.History at 0x794a1c16ebc0>"
      ]
     },
     "execution_count": 64,
     "metadata": {},
     "output_type": "execute_result"
    }
   ],
   "source": [
    "model.fit(X_train, y_train,\n",
    "          validation_data=(X_valid, y_valid),\n",
    "          batch_size=1000,\n",
    "         epochs=50,\n",
    "         callbacks=[checkpoint, early_stop])"
   ]
  },
  {
   "cell_type": "code",
   "execution_count": 65,
   "id": "FOPrwRipafll",
   "metadata": {
    "colab": {
     "base_uri": "https://localhost:8080/",
     "height": 489
    },
    "id": "FOPrwRipafll",
    "outputId": "c322040d-78ae-461f-937f-8ea98e1fae37"
   },
   "outputs": [
    {
     "name": "stdout",
     "output_type": "stream",
     "text": [
      "dict_keys(['loss', 'f1', 'val_loss', 'val_f1'])\n"
     ]
    },
    {
     "data": {
      "image/png": "[encoded data removed]",
      "text/plain": [
       "<Figure size 640x480 with 1 Axes>"
      ]
     },
     "metadata": {},
     "output_type": "display_data"
    }
   ],
   "source": [
    "print(model.history.history.keys())\n",
    "plt.plot(model.history.history['f1'])\n",
    "plt.plot(model.history.history['val_f1'])\n",
    "plt.title('model metrics')\n",
    "plt.ylabel('f1')\n",
    "plt.xlabel('epoch')\n",
    "plt.legend(['train', 'val'], loc='upper left')\n",
    "plt.show()"
   ]
  },
  {
   "cell_type": "markdown",
   "id": "JIdYZfkGZ1AU",
   "metadata": {
    "id": "JIdYZfkGZ1AU"
   },
   "source": [
    "### Модель 3"
   ]
  },
  {
   "cell_type": "code",
   "execution_count": 93,
   "id": "arcoQJEYZ3Xq",
   "metadata": {
    "id": "arcoQJEYZ3Xq"
   },
   "outputs": [],
   "source": [
    "inputs = keras.layers.Input(shape=(MAX_LEN,))\n",
    "embeddings = keras.layers.Embedding(input_dim=len(word2id), output_dim=100)(inputs)\n",
    "drop1 = keras.layers.Dropout(0.1)(embeddings)\n",
    "convs = []\n",
    "\n",
    "for ks in [3, 4, 5, 7, 10]:\n",
    "    conv1 = keras.layers.Conv1D(kernel_size=ks, filters=50, padding='same', strides=1)(embeddings)\n",
    "    conv2 = keras.layers.Conv1D(kernel_size=ks, filters=60, padding='same', strides=3,\n",
    "                                                  activation='relu')(conv1)\n",
    "    conv3 = keras.layers.Conv1D(kernel_size=ks, filters=35, padding='same', strides=7,\n",
    "                                                  activation='relu')(conv2)\n",
    "    conv4 = keras.layers.Conv1D(kernel_size=ks, filters=20, padding='same', strides=2, kernel_regularizer='l2',\n",
    "                                                  activation='relu')(pool1)\n",
    "    convs.append(conv2)\n",
    "\n",
    "concat = keras.layers.concatenate(convs, axis=2)\n",
    "\n",
    "conv_global1 = keras.layers.Conv1D(kernel_size=5, filters=32, padding='same', strides=1)(concat)\n",
    "pool1 = keras.layers.AveragePooling1D(pool_size=5)(conv_global1)\n",
    "conv_global2 = keras.layers.Conv1D(kernel_size=10, filters=30, strides=6)(pool1)\n",
    "pool2 = keras.layers.GlobalMaxPooling1D()(conv_global2)\n",
    "flatten = keras.layers.Flatten()(pool2)\n",
    "drop2 = keras.layers.Dropout(0.2)(flatten)\n",
    "dense1 = keras.layers.Dense(50, activation='relu')(drop2)\n",
    "dense2 = keras.layers.Dense(70, activation='relu')(dense1)\n",
    "drop3 = keras.layers.Dropout(0.3)(dense2)\n",
    "outputs = keras.layers.Dense(len(label2id), activation='softmax')(drop3)\n",
    "\n",
    "model = keras.Model(inputs=inputs, outputs=outputs)\n",
    "optimizer = keras.optimizers.Adam(learning_rate=0.001)\n",
    "\n",
    "model.compile(optimizer=optimizer,\n",
    "              loss='categorical_crossentropy',\n",
    "              metrics=[keras.metrics.F1Score(average='weighted', name='f1')])\n"
   ]
  },
  {
   "cell_type": "code",
   "execution_count": 94,
   "id": "SpcCpUN7Zf1a",
   "metadata": {
    "colab": {
     "base_uri": "https://localhost:8080/"
    },
    "id": "SpcCpUN7Zf1a",
    "outputId": "f0fd64cc-32c8-4d2c-b0d0-4124744267c3"
   },
   "outputs": [
    {
     "name": "stdout",
     "output_type": "stream",
     "text": [
      "Model: \"model_13\"\n",
      "__________________________________________________________________________________________________\n",
      " Layer (type)                Output Shape                 Param #   Connected to                  \n",
      "==================================================================================================\n",
      " input_20 (InputLayer)       [(None, 200)]                0         []                            \n",
      "                                                                                                  \n",
      " embedding_19 (Embedding)    (None, 200, 100)             2409200   ['input_20[0][0]']            \n",
      "                                                                                                  \n",
      " conv1d_179 (Conv1D)         (None, 200, 50)              15050     ['embedding_19[0][0]']        \n",
      "                                                                                                  \n",
      " conv1d_183 (Conv1D)         (None, 200, 50)              20050     ['embedding_19[0][0]']        \n",
      "                                                                                                  \n",
      " conv1d_187 (Conv1D)         (None, 200, 50)              25050     ['embedding_19[0][0]']        \n",
      "                                                                                                  \n",
      " conv1d_191 (Conv1D)         (None, 200, 50)              35050     ['embedding_19[0][0]']        \n",
      "                                                                                                  \n",
      " conv1d_195 (Conv1D)         (None, 200, 50)              50050     ['embedding_19[0][0]']        \n",
      "                                                                                                  \n",
      " conv1d_180 (Conv1D)         (None, 67, 60)               9060      ['conv1d_179[0][0]']          \n",
      "                                                                                                  \n",
      " conv1d_184 (Conv1D)         (None, 67, 60)               12060     ['conv1d_183[0][0]']          \n",
      "                                                                                                  \n",
      " conv1d_188 (Conv1D)         (None, 67, 60)               15060     ['conv1d_187[0][0]']          \n",
      "                                                                                                  \n",
      " conv1d_192 (Conv1D)         (None, 67, 60)               21060     ['conv1d_191[0][0]']          \n",
      "                                                                                                  \n",
      " conv1d_196 (Conv1D)         (None, 67, 60)               30060     ['conv1d_195[0][0]']          \n",
      "                                                                                                  \n",
      " concatenate_11 (Concatenat  (None, 67, 300)              0         ['conv1d_180[0][0]',          \n",
      " e)                                                                  'conv1d_184[0][0]',          \n",
      "                                                                     'conv1d_188[0][0]',          \n",
      "                                                                     'conv1d_192[0][0]',          \n",
      "                                                                     'conv1d_196[0][0]']          \n",
      "                                                                                                  \n",
      " conv1d_199 (Conv1D)         (None, 67, 32)               48032     ['concatenate_11[0][0]']      \n",
      "                                                                                                  \n",
      " average_pooling1d_23 (Aver  (None, 13, 32)               0         ['conv1d_199[0][0]']          \n",
      " agePooling1D)                                                                                    \n",
      "                                                                                                  \n",
      " conv1d_200 (Conv1D)         (None, 1, 30)                9630      ['average_pooling1d_23[0][0]']\n",
      "                                                                                                  \n",
      " global_max_pooling1d_4 (Gl  (None, 30)                   0         ['conv1d_200[0][0]']          \n",
      " obalMaxPooling1D)                                                                                \n",
      "                                                                                                  \n",
      " flatten_13 (Flatten)        (None, 30)                   0         ['global_max_pooling1d_4[0][0]\n",
      "                                                                    ']                            \n",
      "                                                                                                  \n",
      " dropout_24 (Dropout)        (None, 30)                   0         ['flatten_13[0][0]']          \n",
      "                                                                                                  \n",
      " dense_38 (Dense)            (None, 50)                   1550      ['dropout_24[0][0]']          \n",
      "                                                                                                  \n",
      " dense_39 (Dense)            (None, 70)                   3570      ['dense_38[0][0]']            \n",
      "                                                                                                  \n",
      " dropout_25 (Dropout)        (None, 70)                   0         ['dense_39[0][0]']            \n",
      "                                                                                                  \n",
      " dense_40 (Dense)            (None, 19)                   1349      ['dropout_25[0][0]']          \n",
      "                                                                                                  \n",
      "==================================================================================================\n",
      "Total params: 2705881 (10.32 MB)\n",
      "Trainable params: 2705881 (10.32 MB)\n",
      "Non-trainable params: 0 (0.00 Byte)\n",
      "__________________________________________________________________________________________________\n"
     ]
    }
   ],
   "source": [
    "model.summary()"
   ]
  },
  {
   "cell_type": "code",
   "execution_count": 95,
   "id": "hV46jvzoCY56",
   "metadata": {
    "colab": {
     "base_uri": "https://localhost:8080/"
    },
    "id": "hV46jvzoCY56",
    "outputId": "342a4018-7b1b-4b7c-bfb7-a86a114ceb80"
   },
   "outputs": [
    {
     "name": "stdout",
     "output_type": "stream",
     "text": [
      "Epoch 1/50\n",
      "43/43 [==============================] - ETA: 0s - loss: 2.4799 - f1: 0.1201\n",
      "Epoch 1: val_f1 did not improve from 0.65405\n",
      "43/43 [==============================] - 17s 240ms/step - loss: 2.4799 - f1: 0.1201 - val_loss: 2.1966 - val_f1: 0.1213\n",
      "Epoch 2/50\n",
      "43/43 [==============================] - ETA: 0s - loss: 2.0024 - f1: 0.2622\n",
      "Epoch 2: val_f1 did not improve from 0.65405\n",
      "43/43 [==============================] - 8s 188ms/step - loss: 2.0024 - f1: 0.2622 - val_loss: 1.5316 - val_f1: 0.3897\n",
      "Epoch 3/50\n",
      "43/43 [==============================] - ETA: 0s - loss: 1.3632 - f1: 0.5017\n",
      "Epoch 3: val_f1 did not improve from 0.65405\n",
      "43/43 [==============================] - 7s 165ms/step - loss: 1.3632 - f1: 0.5017 - val_loss: 1.3222 - val_f1: 0.5363\n",
      "Epoch 4/50\n",
      "43/43 [==============================] - ETA: 0s - loss: 1.1009 - f1: 0.6050\n",
      "Epoch 4: val_f1 did not improve from 0.65405\n",
      "43/43 [==============================] - 8s 178ms/step - loss: 1.1009 - f1: 0.6050 - val_loss: 1.3634 - val_f1: 0.5460\n",
      "Epoch 5/50\n",
      "43/43 [==============================] - ETA: 0s - loss: 0.9381 - f1: 0.6647\n",
      "Epoch 5: val_f1 did not improve from 0.65405\n",
      "43/43 [==============================] - 8s 177ms/step - loss: 0.9381 - f1: 0.6647 - val_loss: 1.4155 - val_f1: 0.5601\n",
      "Epoch 6/50\n",
      "43/43 [==============================] - ETA: 0s - loss: 0.7734 - f1: 0.7288\n",
      "Epoch 6: val_f1 did not improve from 0.65405\n",
      "43/43 [==============================] - 7s 161ms/step - loss: 0.7734 - f1: 0.7288 - val_loss: 1.5223 - val_f1: 0.5881\n",
      "Epoch 7/50\n",
      "43/43 [==============================] - ETA: 0s - loss: 0.5990 - f1: 0.7900\n",
      "Epoch 7: val_f1 did not improve from 0.65405\n",
      "43/43 [==============================] - 8s 176ms/step - loss: 0.5990 - f1: 0.7900 - val_loss: 1.6822 - val_f1: 0.5986\n",
      "Epoch 8/50\n",
      "43/43 [==============================] - ETA: 0s - loss: 0.4522 - f1: 0.8394\n",
      "Epoch 8: val_f1 did not improve from 0.65405\n",
      "43/43 [==============================] - 7s 157ms/step - loss: 0.4522 - f1: 0.8394 - val_loss: 2.0327 - val_f1: 0.5947\n",
      "Epoch 9/50\n",
      "43/43 [==============================] - ETA: 0s - loss: 0.3509 - f1: 0.8703\n",
      "Epoch 9: val_f1 did not improve from 0.65405\n",
      "43/43 [==============================] - 7s 175ms/step - loss: 0.3509 - f1: 0.8703 - val_loss: 2.2848 - val_f1: 0.6048\n",
      "Epoch 10/50\n",
      "43/43 [==============================] - ETA: 0s - loss: 0.2898 - f1: 0.8969\n",
      "Epoch 10: val_f1 did not improve from 0.65405\n",
      "43/43 [==============================] - 7s 158ms/step - loss: 0.2898 - f1: 0.8969 - val_loss: 2.5871 - val_f1: 0.6129\n",
      "Epoch 11/50\n",
      "43/43 [==============================] - ETA: 0s - loss: 0.2347 - f1: 0.9188\n",
      "Epoch 11: val_f1 did not improve from 0.65405\n",
      "43/43 [==============================] - 7s 168ms/step - loss: 0.2347 - f1: 0.9188 - val_loss: 2.8606 - val_f1: 0.6171\n",
      "Epoch 12/50\n",
      "43/43 [==============================] - ETA: 0s - loss: 0.1990 - f1: 0.9358\n",
      "Epoch 12: val_f1 did not improve from 0.65405\n",
      "43/43 [==============================] - 7s 160ms/step - loss: 0.1990 - f1: 0.9358 - val_loss: 3.0092 - val_f1: 0.6256\n",
      "Epoch 13/50\n",
      "43/43 [==============================] - ETA: 0s - loss: 0.1602 - f1: 0.9501\n",
      "Epoch 13: val_f1 did not improve from 0.65405\n",
      "43/43 [==============================] - 8s 176ms/step - loss: 0.1602 - f1: 0.9501 - val_loss: 3.2846 - val_f1: 0.6218\n",
      "Epoch 14/50\n",
      "43/43 [==============================] - ETA: 0s - loss: 0.1227 - f1: 0.9625\n",
      "Epoch 14: val_f1 did not improve from 0.65405\n",
      "43/43 [==============================] - 7s 158ms/step - loss: 0.1227 - f1: 0.9625 - val_loss: 3.6562 - val_f1: 0.6232\n",
      "Epoch 15/50\n",
      "43/43 [==============================] - ETA: 0s - loss: 0.1110 - f1: 0.9670\n",
      "Epoch 15: val_f1 did not improve from 0.65405\n",
      "43/43 [==============================] - 7s 165ms/step - loss: 0.1110 - f1: 0.9670 - val_loss: 3.7588 - val_f1: 0.6292\n",
      "Epoch 15: early stopping\n"
     ]
    },
    {
     "data": {
      "text/plain": [
       "<keras.src.callbacks.History at 0x794a1c16d180>"
      ]
     },
     "execution_count": 95,
     "metadata": {},
     "output_type": "execute_result"
    }
   ],
   "source": [
    "model.fit(X_train, y_train,\n",
    "          validation_data=(X_valid, y_valid),\n",
    "          batch_size=1000,\n",
    "         epochs=50,\n",
    "         callbacks=[checkpoint, early_stop])"
   ]
  },
  {
   "cell_type": "code",
   "execution_count": 96,
   "id": "ffNQ0wjeE4gi",
   "metadata": {
    "colab": {
     "base_uri": "https://localhost:8080/",
     "height": 489
    },
    "id": "ffNQ0wjeE4gi",
    "outputId": "9c03f305-c2a9-410b-89a1-e4a0894e0388"
   },
   "outputs": [
    {
     "name": "stdout",
     "output_type": "stream",
     "text": [
      "dict_keys(['loss', 'f1', 'val_loss', 'val_f1'])\n"
     ]
    },
    {
     "data": {
      "image/png": "[encoded data removed]",
      "text/plain": [
       "<Figure size 640x480 with 1 Axes>"
      ]
     },
     "metadata": {},
     "output_type": "display_data"
    }
   ],
   "source": [
    "print(model.history.history.keys())\n",
    "plt.plot(model.history.history['f1'])\n",
    "plt.plot(model.history.history['val_f1'])\n",
    "plt.title('model metrics')\n",
    "plt.ylabel('f1')\n",
    "plt.xlabel('epoch')\n",
    "plt.legend(['train', 'val'], loc='upper left')\n",
    "plt.show()"
   ]
  }
 ],
 "metadata": {
  "accelerator": "GPU",
  "colab": {
   "collapsed_sections": [
    "alXG48g2qYEc",
    "d0YwfYBeZvHq",
    "JIdYZfkGZ1AU",
    "mLXCB9KJ1lQK"
   ],
   "gpuType": "T4",
   "provenance": []
  },
  "kernelspec": {
   "display_name": "Python 3 (ipykernel)",
   "language": "python",
   "name": "python3"
  },
  "language_info": {
   "codemirror_mode": {
    "name": "ipython",
    "version": 3
   },
   "file_extension": ".py",
   "mimetype": "text/x-python",
   "name": "python",
   "nbconvert_exporter": "python",
   "pygments_lexer": "ipython3",
   "version": "3.11.2"
  }
 },
 "nbformat": 4,
 "nbformat_minor": 5
}
