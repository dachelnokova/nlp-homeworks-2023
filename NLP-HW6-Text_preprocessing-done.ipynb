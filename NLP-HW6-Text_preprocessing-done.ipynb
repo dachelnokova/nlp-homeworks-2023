{
 "cells": [
  {
   "cell_type": "markdown",
   "metadata": {},
   "source": [
    "# Домашнее задание № 1"
   ]
  },
  {
   "cell_type": "markdown",
   "metadata": {},
   "source": [
    "## Задание 1 (2 балла)"
   ]
  },
  {
   "cell_type": "markdown",
   "metadata": {},
   "source": [
    "Найдите 1 любой способ сломать токенизацию на предложения функцией sentenize из библиотеки razdel. Придумайте (или найдите на каком-то корпусе) такое предложение (или несколько предложений), которое будет некорректно разобрано sentenize, но при этом будет грамматически корректным."
   ]
  },
  {
   "cell_type": "code",
   "execution_count": 4,
   "metadata": {},
   "outputs": [
    {
     "name": "stdout",
     "output_type": "stream",
     "text": [
      "Collecting razdel\n",
      "  Using cached razdel-0.5.0-py3-none-any.whl (21 kB)\n",
      "Installing collected packages: razdel\n",
      "Successfully installed razdel-0.5.0\n",
      "\n",
      "\u001b[1m[\u001b[0m\u001b[34;49mnotice\u001b[0m\u001b[1;39;49m]\u001b[0m\u001b[39;49m A new release of pip available: \u001b[0m\u001b[31;49m22.3.1\u001b[0m\u001b[39;49m -> \u001b[0m\u001b[32;49m23.3.1\u001b[0m\n",
      "\u001b[1m[\u001b[0m\u001b[34;49mnotice\u001b[0m\u001b[1;39;49m]\u001b[0m\u001b[39;49m To update, run: \u001b[0m\u001b[32;49mpip install --upgrade pip\u001b[0m\n"
     ]
    }
   ],
   "source": [
    "!pip install razdel"
   ]
  },
  {
   "cell_type": "code",
   "execution_count": 5,
   "metadata": {},
   "outputs": [],
   "source": [
    "text1 = \"\"\" Его инициалы – К. М. Вероятнее всего, его зовут Константин Михайлович.\n",
    "\n",
    "\"\"\" \n",
    "# здесь два предложения, сложность в том, что точка после \"М\" – это и сокращение инициала, и конец предложения"
   ]
  },
  {
   "cell_type": "code",
   "execution_count": 9,
   "metadata": {},
   "outputs": [
    {
     "data": {
      "text/plain": [
       "['Его инициалы – К. М. Вероятнее всего, его зовут Константин Михайлович.']"
      ]
     },
     "execution_count": 9,
     "metadata": {},
     "output_type": "execute_result"
    }
   ],
   "source": [
    "from razdel import sentenize\n",
    "sents = list(sentenize(text1))\n",
    "[sent.text for sent in sents[:2]]\n",
    "# два предложения разбираются как одно (как будто К. М. Вероятнее – инициалы и фамилия)\n",
    "# чтобы правильно токенизировать, придется встроить NER"
   ]
  },
  {
   "cell_type": "markdown",
   "metadata": {},
   "source": [
    "## 2. Токенизация Mystem vs razdel.tokenize (2 балла)\n",
    "\n",
    "\n",
    "Токенизируйте текст с помощью razdel и с помощью Mystem. Найдите различия в токенизациях. Что по вашему работает лучше на приведенном тексте?"
   ]
  },
  {
   "cell_type": "code",
   "execution_count": 13,
   "metadata": {},
   "outputs": [],
   "source": [
    "text2 = \"\"\"\n",
    "Вторым и третьим открытыми белыми карликами стали Сириус B и Процион B. В 1844 году директор Кёнигсбергской обсерватории Фридрих Бессель, анализируя данные наблюдений, которые велись с 1755 года, обнаружил, что Сириус, ярчайшая звезда земного неба, и Процион периодически, хотя и весьма слабо, отклоняются от прямолинейной траектории движения по небесной сфере[5]. Бессель пришёл к выводу, что у каждой из них должен быть близкий спутник. Сообщение было встречено скептически, поскольку слабый спутник оставался ненаблюдаемым, а его масса должна была быть достаточно велика — сравнимой с массой Сириуса и Проциона, соответственно.\n",
    "\n",
    "В январе 1862 года Элвин Грэхэм Кларк, юстируя 18-дюймовый рефрактор, самый большой на то время телескоп в мире (Dearborn Telescope), впоследствии поставленный семейной фирмой Кларков в обсерваторию Чикагского университета, обнаружил в непосредственной близости от Сириуса тусклую звёздочку. Это был спутник Сириуса, Сириус B, предсказанный Бесселем[6]. А в 1896 году американский астроном Д. М. Шеберле открыл Процион B, подтвердив тем самым и второе предсказание Бесселя.\n",
    "\n",
    "В 1915 году американский астроном Уолтер Сидней Адамс измерил спектр Сириуса B. Из измерений следовало, что его температура не ниже, чем у Сириуса A (по современным данным, температура поверхности Сириуса B составляет 25 000 K, а Сириуса A — 10 000 К), что, с учётом его в 10 000 раз меньшей, чем у Сириуса A, светимости указывает на очень малый радиус и, соответственно, высокую плотность — 106 г/см3 (плотность Сириуса ~0,25 г/см3, плотность Солнца ~1,4 г/см3).\n",
    "\"\"\""
   ]
  },
  {
   "cell_type": "code",
   "execution_count": 16,
   "metadata": {},
   "outputs": [
    {
     "name": "stdout",
     "output_type": "stream",
     "text": [
      "Collecting pymystem3\n",
      "  Using cached pymystem3-0.2.0-py3-none-any.whl (10 kB)\n",
      "Requirement already satisfied: requests in /Users/dariachelnokova/myenv/lib/python3.11/site-packages (from pymystem3) (2.31.0)\n",
      "Requirement already satisfied: charset-normalizer<4,>=2 in /Users/dariachelnokova/myenv/lib/python3.11/site-packages (from requests->pymystem3) (3.3.2)\n",
      "Requirement already satisfied: idna<4,>=2.5 in /Users/dariachelnokova/myenv/lib/python3.11/site-packages (from requests->pymystem3) (3.4)\n",
      "Requirement already satisfied: urllib3<3,>=1.21.1 in /Users/dariachelnokova/myenv/lib/python3.11/site-packages (from requests->pymystem3) (2.1.0)\n",
      "Requirement already satisfied: certifi>=2017.4.17 in /Users/dariachelnokova/myenv/lib/python3.11/site-packages (from requests->pymystem3) (2023.7.22)\n",
      "Installing collected packages: pymystem3\n",
      "Successfully installed pymystem3-0.2.0\n",
      "\n",
      "\u001b[1m[\u001b[0m\u001b[34;49mnotice\u001b[0m\u001b[1;39;49m]\u001b[0m\u001b[39;49m A new release of pip available: \u001b[0m\u001b[31;49m22.3.1\u001b[0m\u001b[39;49m -> \u001b[0m\u001b[32;49m23.3.1\u001b[0m\n",
      "\u001b[1m[\u001b[0m\u001b[34;49mnotice\u001b[0m\u001b[1;39;49m]\u001b[0m\u001b[39;49m To update, run: \u001b[0m\u001b[32;49mpip install --upgrade pip\u001b[0m\n"
     ]
    }
   ],
   "source": [
    "!pip install pymystem3"
   ]
  },
  {
   "cell_type": "code",
   "execution_count": 14,
   "metadata": {},
   "outputs": [
    {
     "name": "stdout",
     "output_type": "stream",
     "text": [
      "['вторым', 'и', 'третьим', 'открытыми', 'белыми', 'карликами', 'стали', 'сириус', 'b', 'и', 'процион', 'b', '.', 'в', '1844', 'году', 'директор', 'кёнигсбергской', 'обсерватории', 'фридрих', 'бессель', ',', 'анализируя', 'данные', 'наблюдений', ',', 'которые', 'велись', 'с', '1755', 'года', ',', 'обнаружил', ',', 'что', 'сириус', ',', 'ярчайшая', 'звезда', 'земного', 'неба', ',', 'и', 'процион', 'периодически', ',', 'хотя', 'и', 'весьма', 'слабо', ',', 'отклоняются', 'от', 'прямолинейной', 'траектории', 'движения', 'по', 'небесной', 'сфере', '[', '5', ']', '.', 'бессель', 'пришёл', 'к', 'выводу', ',', 'что', 'у', 'каждой', 'из', 'них', 'должен', 'быть', 'близкий', 'спутник', '.', 'сообщение', 'было', 'встречено', 'скептически', ',', 'поскольку', 'слабый', 'спутник', 'оставался', 'ненаблюдаемым', ',', 'а', 'его', 'масса', 'должна', 'была', 'быть', 'достаточно', 'велика', '—', 'сравнимой', 'с', 'массой', 'сириуса', 'и', 'проциона', ',', 'соответственно', '.', 'в', 'январе', '1862', 'года', 'элвин', 'грэхэм', 'кларк', ',', 'юстируя', '18-дюймовый', 'рефрактор', ',', 'самый', 'большой', 'на', 'то', 'время', 'телескоп', 'в', 'мире', '(', 'dearborn', 'telescope', ')', ',', 'впоследствии', 'поставленный', 'семейной', 'фирмой', 'кларков', 'в', 'обсерваторию', 'чикагского', 'университета', ',', 'обнаружил', 'в', 'непосредственной', 'близости', 'от', 'сириуса', 'тусклую', 'звёздочку', '.', 'это', 'был', 'спутник', 'сириуса', ',', 'сириус', 'b', ',', 'предсказанный', 'бесселем', '[', '6', ']', '.', 'а', 'в', '1896', 'году', 'американский', 'астроном', 'д', '.', 'м', '.', 'шеберле', 'открыл', 'процион', 'b', ',', 'подтвердив', 'тем', 'самым', 'и', 'второе', 'предсказание', 'бесселя', '.', 'в', '1915', 'году', 'американский', 'астроном', 'уолтер', 'сидней', 'адамс', 'измерил', 'спектр', 'сириуса', 'b', '.', 'из', 'измерений', 'следовало', ',', 'что', 'его', 'температура', 'не', 'ниже', ',', 'чем', 'у', 'сириуса', 'a', '(', 'по', 'современным', 'данным', ',', 'температура', 'поверхности', 'сириуса', 'b', 'составляет', '25', '000', 'k', ',', 'а', 'сириуса', 'a', '—', '10', '000', 'к', ')', ',', 'что', ',', 'с', 'учётом', 'его', 'в', '10', '000', 'раз', 'меньшей', ',', 'чем', 'у', 'сириуса', 'a', ',', 'светимости', 'указывает', 'на', 'очень', 'малый', 'радиус', 'и', ',', 'соответственно', ',', 'высокую', 'плотность', '—', '106', 'г', '/', 'см', '3', '(', 'плотность', 'сириуса', '~', '0,25', 'г', '/', 'см', '3', ',', 'плотность', 'солнца', '~', '1,4', 'г', '/', 'см', '3', ')', '.']\n",
      "292\n"
     ]
    }
   ],
   "source": [
    "# razdel.tokenize\n",
    "from razdel import tokenize as razdel_tokenize\n",
    "razdel_tokens = [token.text.lower() for token in list(razdel_tokenize(text2))]\n",
    "print(razdel_tokens)\n",
    "print(len(razdel_tokens))"
   ]
  },
  {
   "cell_type": "code",
   "execution_count": 17,
   "metadata": {
    "scrolled": true
   },
   "outputs": [
    {
     "name": "stdout",
     "output_type": "stream",
     "text": [
      "['вторым', 'и', 'третьим', 'открытыми', 'белыми', 'карликами', 'стали', 'сириус', 'b', 'и', 'процион', 'b', '.', 'в', '1844', 'году', 'директор', 'кёнигсбергской', 'обсерватории', 'фридрих', 'бессель', ',', 'анализируя', 'данные', 'наблюдений', ',', 'которые', 'велись', 'с', '1755', 'года', ',', 'обнаружил', ',', 'что', 'сириус', ',', 'ярчайшая', 'звезда', 'земного', 'неба', ',', 'и', 'процион', 'периодически', ',', 'хотя', 'и', 'весьма', 'слабо', ',', 'отклоняются', 'от', 'прямолинейной', 'траектории', 'движения', 'по', 'небесной', 'сфере', '[', '5', ']', '.', 'бессель', 'пришёл', 'к', 'выводу', ',', 'что', 'у', 'каждой', 'из', 'них', 'должен', 'быть', 'близкий', 'спутник', '.', 'сообщение', 'было', 'встречено', 'скептически', ',', 'поскольку', 'слабый', 'спутник', 'оставался', 'ненаблюдаемым', ',', 'а', 'его', 'масса', 'должна', 'была', 'быть', 'достаточно', 'велика', '—', 'сравнимой', 'с', 'массой', 'сириуса', 'и', 'проциона', ',', 'соответственно', '.', 'в', 'январе', '1862', 'года', 'элвин', 'грэхэм', 'кларк', ',', 'юстируя', '18', '-', 'дюймовый', 'рефрактор', ',', 'самый', 'большой', 'на', 'то', 'время', 'телескоп', 'в', 'мире', '(', 'dearborn', 'telescope', '),', 'впоследствии', 'поставленный', 'семейной', 'фирмой', 'кларков', 'в', 'обсерваторию', 'чикагского', 'университета', ',', 'обнаружил', 'в', 'непосредственной', 'близости', 'от', 'сириуса', 'тусклую', 'звёздочку', '.', 'это', 'был', 'спутник', 'сириуса', ',', 'сириус', 'b', ',', 'предсказанный', 'бесселем', '[', '6', ']', '.', 'а', 'в', '1896', 'году', 'американский', 'астроном', 'д', '.', 'м', '.', 'шеберле', 'открыл', 'процион', 'b', ',', 'подтвердив', 'тем', 'самым', 'и', 'второе', 'предсказание', 'бесселя', '.', 'в', '1915', 'году', 'американский', 'астроном', 'уолтер', 'сидней', 'адамс', 'измерил', 'спектр', 'сириуса', 'b', '.', 'из', 'измерений', 'следовало', ',', 'что', 'его', 'температура', 'не', 'ниже', ',', 'чем', 'у', 'сириуса', 'a', '(', 'по', 'современным', 'данным', ',', 'температура', 'поверхности', 'сириуса', 'b', 'составляет', '25', '000', 'k', ',', 'а', 'сириуса', 'a', '—', '10', '000', 'к', '),', 'что', ',', 'с', 'учётом', 'его', 'в', '10', '000', 'раз', 'меньшей', ',', 'чем', 'у', 'сириуса', 'a', ',', 'светимости', 'указывает', 'на', 'очень', 'малый', 'радиус', 'и', ',', 'соответственно', ',', 'высокую', 'плотность', '—', '106', 'г', '/', 'см3', '(', 'плотность', 'сириуса', '~', '0', ',', '25', 'г', '/', 'см3', ',', 'плотность', 'солнца', '~', '1', ',', '4', 'г', '/', 'см3', ')', '.']\n",
      "293\n"
     ]
    }
   ],
   "source": [
    "from pymystem3 import Mystem\n",
    "mystem = Mystem()\n",
    "tokens = mystem.analyze(text2)\n",
    "mystem_tokens =[token['text'].strip().lower() for token in tokens if 'text' in token and token['text'].strip()]\n",
    "print(mystem_tokens)\n",
    "print(len(mystem_tokens))"
   ]
  },
  {
   "cell_type": "code",
   "execution_count": 18,
   "metadata": {},
   "outputs": [
    {
     "name": "stdout",
     "output_type": "stream",
     "text": [
      "Отличия: {'см3', '4', '),', '1,4', '0,25', '18-дюймовый', '0', 'см', '18', '1', 'дюймовый', '3', '-'}\n"
     ]
    }
   ],
   "source": [
    "differences = set(razdel_tokens) ^ set(mystem_tokens)\n",
    "print(\"Отличия:\", differences)"
   ]
  },
  {
   "cell_type": "code",
   "execution_count": 19,
   "metadata": {},
   "outputs": [
    {
     "name": "stdout",
     "output_type": "stream",
     "text": [
      "Отличия: как распознал razdel ['18-дюймовый', 'см', '3', '0,25', '1,4']\n",
      "Отличия: как распознал Mystem ['18', '-', 'дюймовый', '),', 'см3', '0', '1', '4']\n"
     ]
    }
   ],
   "source": [
    "from collections import OrderedDict\n",
    "\n",
    "only_razdel_tokens = [lemma for lemma in razdel_tokens if lemma not in set(mystem_tokens)]\n",
    "only_mystem_tokens = [lemma for lemma in mystem_tokens if lemma not in set (razdel_tokens)]\n",
    "\n",
    "# Сохранение порядка встреченных слов\n",
    "ordered_only_razdel_tokens = list(OrderedDict.fromkeys(only_razdel_tokens))\n",
    "ordered_only_mystem_tokens = list(OrderedDict.fromkeys(only_mystem_tokens))\n",
    "\n",
    "print(\"Отличия: как распознал razdel\", ordered_only_razdel_tokens)\n",
    "print(\"Отличия: как распознал Mystem\", ordered_only_mystem_tokens)"
   ]
  },
  {
   "cell_type": "markdown",
   "metadata": {},
   "source": [
    "#### Выводы\n",
    "Razdel, кажется, немного лучше справился: в отличие от Mystem он понял, что \"18-дюймовый\" – это единое слово, не разделял дробные числа \"1,4\" и \"0,25\".\n",
    "С другой стороны, razdel разделил \"см3\" на два токена, что, наверное, неправильно, а Mystem не разделил. Хотя зависит от цели токенизации."
   ]
  },
  {
   "cell_type": "markdown",
   "metadata": {},
   "source": [
    "## 3. Лемматизация Mystem vs Pymorphy (2 балла)"
   ]
  },
  {
   "cell_type": "markdown",
   "metadata": {},
   "source": [
    "Лемматизируйте текст с помощью mystem и pymorphy. Найдите различия в лемматизации. Что по вашему работает лучше на приведенном тексте?"
   ]
  },
  {
   "cell_type": "markdown",
   "metadata": {},
   "source": [
    "Важно: для пайморфи используйте токенизацию из mystem, чтобы исключить влияние токенизации на результат. Анализируйте только значимые различия, а не технические особенности (не сравнивайте скорость работы и удобность интерфейса)."
   ]
  },
  {
   "cell_type": "code",
   "execution_count": 1,
   "metadata": {
    "scrolled": true
   },
   "outputs": [
    {
     "name": "stdout",
     "output_type": "stream",
     "text": [
      "Collecting pymorphy2[fast]\n",
      "  Using cached pymorphy2-0.9.1-py3-none-any.whl (55 kB)\n",
      "Collecting dawg-python>=0.7.1\n",
      "  Using cached DAWG_Python-0.7.2-py2.py3-none-any.whl (11 kB)\n",
      "Collecting pymorphy2-dicts-ru<3.0,>=2.4\n",
      "  Using cached pymorphy2_dicts_ru-2.4.417127.4579844-py2.py3-none-any.whl (8.2 MB)\n",
      "Collecting docopt>=0.6\n",
      "  Using cached docopt-0.6.2.tar.gz (25 kB)\n",
      "  Preparing metadata (setup.py) ... \u001b[?25ldone\n",
      "\u001b[?25hCollecting DAWG>=0.8\n",
      "  Using cached DAWG-0.8.0.tar.gz (371 kB)\n",
      "  Preparing metadata (setup.py) ... \u001b[?25ldone\n",
      "\u001b[?25hInstalling collected packages: pymorphy2-dicts-ru, docopt, dawg-python, DAWG, pymorphy2\n",
      "\u001b[33m  DEPRECATION: docopt is being installed using the legacy 'setup.py install' method, because it does not have a 'pyproject.toml' and the 'wheel' package is not installed. pip 23.1 will enforce this behaviour change. A possible replacement is to enable the '--use-pep517' option. Discussion can be found at https://github.com/pypa/pip/issues/8559\u001b[0m\u001b[33m\n",
      "\u001b[0m  Running setup.py install for docopt ... \u001b[?25ldone\n",
      "\u001b[33m  DEPRECATION: DAWG is being installed using the legacy 'setup.py install' method, because it does not have a 'pyproject.toml' and the 'wheel' package is not installed. pip 23.1 will enforce this behaviour change. A possible replacement is to enable the '--use-pep517' option. Discussion can be found at https://github.com/pypa/pip/issues/8559\u001b[0m\u001b[33m\n",
      "\u001b[0m\u001b[?25h  Running setup.py install for DAWG ... \u001b[?25lerror\n",
      "  \u001b[1;31merror\u001b[0m: \u001b[1msubprocess-exited-with-error\u001b[0m\n",
      "  \n",
      "  \u001b[31m×\u001b[0m \u001b[32mRunning setup.py install for DAWG\u001b[0m did not run successfully.\n",
      "  \u001b[31m│\u001b[0m exit code: \u001b[1;36m1\u001b[0m\n",
      "  \u001b[31m╰─>\u001b[0m \u001b[31m[19 lines of output]\u001b[0m\n",
      "  \u001b[31m   \u001b[0m running install\n",
      "  \u001b[31m   \u001b[0m /Users/dariachelnokova/myenv/lib/python3.11/site-packages/setuptools/command/install.py:34: SetuptoolsDeprecationWarning: setup.py install is deprecated. Use build and pip and other standards-based tools.\n",
      "  \u001b[31m   \u001b[0m   warnings.warn(\n",
      "  \u001b[31m   \u001b[0m running build\n",
      "  \u001b[31m   \u001b[0m running build_ext\n",
      "  \u001b[31m   \u001b[0m building 'dawg' extension\n",
      "  \u001b[31m   \u001b[0m creating build\n",
      "  \u001b[31m   \u001b[0m creating build/temp.macosx-10.9-universal2-cpython-311\n",
      "  \u001b[31m   \u001b[0m creating build/temp.macosx-10.9-universal2-cpython-311/lib\n",
      "  \u001b[31m   \u001b[0m creating build/temp.macosx-10.9-universal2-cpython-311/lib/b64\n",
      "  \u001b[31m   \u001b[0m creating build/temp.macosx-10.9-universal2-cpython-311/src\n",
      "  \u001b[31m   \u001b[0m clang -Wsign-compare -Wunreachable-code -fno-common -dynamic -DNDEBUG -g -fwrapv -O3 -Wall -arch arm64 -arch x86_64 -g -Ilib -I/Users/dariachelnokova/myenv/include -I/Library/Frameworks/Python.framework/Versions/3.11/include/python3.11 -c lib/b64/cdecode.c -o build/temp.macosx-10.9-universal2-cpython-311/lib/b64/cdecode.o\n",
      "  \u001b[31m   \u001b[0m clang -Wsign-compare -Wunreachable-code -fno-common -dynamic -DNDEBUG -g -fwrapv -O3 -Wall -arch arm64 -arch x86_64 -g -Ilib -I/Users/dariachelnokova/myenv/include -I/Library/Frameworks/Python.framework/Versions/3.11/include/python3.11 -c lib/b64/cencode.c -o build/temp.macosx-10.9-universal2-cpython-311/lib/b64/cencode.o\n",
      "  \u001b[31m   \u001b[0m clang -Wsign-compare -Wunreachable-code -fno-common -dynamic -DNDEBUG -g -fwrapv -O3 -Wall -arch arm64 -arch x86_64 -g -Ilib -I/Users/dariachelnokova/myenv/include -I/Library/Frameworks/Python.framework/Versions/3.11/include/python3.11 -c src/_base_types.cpp -o build/temp.macosx-10.9-universal2-cpython-311/src/_base_types.o\n",
      "  \u001b[31m   \u001b[0m src/_base_types.cpp:196:12: fatal error: 'longintrepr.h' file not found\n",
      "  \u001b[31m   \u001b[0m   #include \"longintrepr.h\"\n",
      "  \u001b[31m   \u001b[0m            ^~~~~~~~~~~~~~~\n",
      "  \u001b[31m   \u001b[0m 1 error generated.\n",
      "  \u001b[31m   \u001b[0m error: command '/usr/bin/clang' failed with exit code 1\n",
      "  \u001b[31m   \u001b[0m \u001b[31m[end of output]\u001b[0m\n",
      "  \n",
      "  \u001b[1;35mnote\u001b[0m: This error originates from a subprocess, and is likely not a problem with pip.\n",
      "\u001b[1;31merror\u001b[0m: \u001b[1mlegacy-install-failure\u001b[0m\n",
      "\n",
      "\u001b[31m×\u001b[0m Encountered error while trying to install package.\n",
      "\u001b[31m╰─>\u001b[0m DAWG\n",
      "\n",
      "\u001b[1;35mnote\u001b[0m: This is an issue with the package mentioned above, not pip.\n",
      "\u001b[1;36mhint\u001b[0m: See above for output from the failure.\n",
      "\n",
      "\u001b[1m[\u001b[0m\u001b[34;49mnotice\u001b[0m\u001b[1;39;49m]\u001b[0m\u001b[39;49m A new release of pip available: \u001b[0m\u001b[31;49m22.3.1\u001b[0m\u001b[39;49m -> \u001b[0m\u001b[32;49m23.3.1\u001b[0m\n",
      "\u001b[1m[\u001b[0m\u001b[34;49mnotice\u001b[0m\u001b[1;39;49m]\u001b[0m\u001b[39;49m To update, run: \u001b[0m\u001b[32;49mpip install --upgrade pip\u001b[0m\n",
      "\u001b[?25h"
     ]
    }
   ],
   "source": [
    "!pip install pymorphy2[fast] # не получилось установить :("
   ]
  },
  {
   "cell_type": "code",
   "execution_count": 22,
   "metadata": {
    "scrolled": true
   },
   "outputs": [
    {
     "name": "stdout",
     "output_type": "stream",
     "text": [
      "Collecting pymorphy3\n",
      "  Using cached pymorphy3-1.2.1-py3-none-any.whl (55 kB)\n",
      "Requirement already satisfied: dawg-python>=0.7.1 in /Users/dariachelnokova/myenv/lib/python3.11/site-packages (from pymorphy3) (0.7.2)\n",
      "Collecting docopt-ng>=0.6\n",
      "  Using cached docopt_ng-0.9.0-py3-none-any.whl (16 kB)\n",
      "Collecting pymorphy3-dicts-ru\n",
      "  Using cached pymorphy3_dicts_ru-2.4.417150.4580142-py2.py3-none-any.whl (8.4 MB)\n",
      "Installing collected packages: pymorphy3-dicts-ru, docopt-ng, pymorphy3\n",
      "Successfully installed docopt-ng-0.9.0 pymorphy3-1.2.1 pymorphy3-dicts-ru-2.4.417150.4580142\n",
      "\n",
      "\u001b[1m[\u001b[0m\u001b[34;49mnotice\u001b[0m\u001b[1;39;49m]\u001b[0m\u001b[39;49m A new release of pip available: \u001b[0m\u001b[31;49m22.3.1\u001b[0m\u001b[39;49m -> \u001b[0m\u001b[32;49m23.3.1\u001b[0m\n",
      "\u001b[1m[\u001b[0m\u001b[34;49mnotice\u001b[0m\u001b[1;39;49m]\u001b[0m\u001b[39;49m To update, run: \u001b[0m\u001b[32;49mpip install --upgrade pip\u001b[0m\n"
     ]
    }
   ],
   "source": [
    "!pip install pymorphy3"
   ]
  },
  {
   "cell_type": "code",
   "execution_count": 25,
   "metadata": {},
   "outputs": [
    {
     "name": "stdout",
     "output_type": "stream",
     "text": [
      "Collecting pandas\n",
      "  Downloading pandas-2.1.3-cp311-cp311-macosx_10_9_x86_64.whl (11.6 MB)\n",
      "\u001b[2K     \u001b[90m━━━━━━━━━━━━━━━━━━━━━━━━━━━━━━━━━━━━━━━━\u001b[0m \u001b[32m11.6/11.6 MB\u001b[0m \u001b[31m13.7 MB/s\u001b[0m eta \u001b[36m0:00:00\u001b[0m00:01\u001b[0m00:01\u001b[0m\n",
      "\u001b[?25hCollecting numpy<2,>=1.23.2\n",
      "  Downloading numpy-1.26.2-cp311-cp311-macosx_10_9_x86_64.whl (20.6 MB)\n",
      "\u001b[2K     \u001b[90m━━━━━━━━━━━━━━━━━━━━━━━━━━━━━━━━━━━━━━━━\u001b[0m \u001b[32m20.6/20.6 MB\u001b[0m \u001b[31m14.7 MB/s\u001b[0m eta \u001b[36m0:00:00\u001b[0m00:01\u001b[0m00:01\u001b[0m\n",
      "\u001b[?25hRequirement already satisfied: python-dateutil>=2.8.2 in /Users/dariachelnokova/myenv/lib/python3.11/site-packages (from pandas) (2.8.2)\n",
      "Collecting pytz>=2020.1\n",
      "  Using cached pytz-2023.3.post1-py2.py3-none-any.whl (502 kB)\n",
      "Collecting tzdata>=2022.1\n",
      "  Using cached tzdata-2023.3-py2.py3-none-any.whl (341 kB)\n",
      "Requirement already satisfied: six>=1.5 in /Users/dariachelnokova/myenv/lib/python3.11/site-packages (from python-dateutil>=2.8.2->pandas) (1.16.0)\n",
      "Installing collected packages: pytz, tzdata, numpy, pandas\n",
      "Successfully installed numpy-1.26.2 pandas-2.1.3 pytz-2023.3.post1 tzdata-2023.3\n",
      "\n",
      "\u001b[1m[\u001b[0m\u001b[34;49mnotice\u001b[0m\u001b[1;39;49m]\u001b[0m\u001b[39;49m A new release of pip available: \u001b[0m\u001b[31;49m22.3.1\u001b[0m\u001b[39;49m -> \u001b[0m\u001b[32;49m23.3.1\u001b[0m\n",
      "\u001b[1m[\u001b[0m\u001b[34;49mnotice\u001b[0m\u001b[1;39;49m]\u001b[0m\u001b[39;49m To update, run: \u001b[0m\u001b[32;49mpip install --upgrade pip\u001b[0m\n"
     ]
    }
   ],
   "source": [
    "!pip install pandas"
   ]
  },
  {
   "cell_type": "code",
   "execution_count": 26,
   "metadata": {},
   "outputs": [
    {
     "name": "stdout",
     "output_type": "stream",
     "text": [
      "['второй', 'и', 'третий', 'открытый', 'белый', 'карлик', 'становиться', 'сириус', 'и', 'процион', 'в', 'год', 'директор', 'кенигсбергский', 'обсерватория', 'фридрих', 'бессель', 'анализировать', 'данные', 'наблюдение', 'который', 'вестись', 'с', 'год', 'обнаруживать', 'что', 'сириус', 'яркий', 'звезда', 'земной', 'небо', 'и', 'процион', 'периодически', 'хотя', 'и', 'весьма', 'слабо', 'отклоняться', 'от', 'прямолинейный', 'траектория', 'движение', 'по', 'небесный', 'сфера', 'бессель', 'приходить', 'к', 'вывод', 'что', 'у', 'каждый', 'из', 'они', 'должный', 'быть', 'близкий', 'спутник', 'сообщение', 'быть', 'встречать', 'скептически', 'поскольку', 'слабый', 'спутник', 'оставаться', 'ненаблюдаемый', 'а', 'его', 'масса', 'должный', 'быть', 'быть', 'достаточно', 'большой', 'сравнимый', 'с', 'масса', 'сириус', 'и', 'процион', 'соответственно', 'в', 'январь', 'год', 'элвин', 'грэхэм', 'кларк', 'юстировать', 'дюймовый', 'рефрактор', 'самый', 'большой', 'на', 'то', 'время', 'телескоп', 'в', 'мир', 'впоследствии', 'поставлять', 'семейный', 'фирма', 'кларк', 'в', 'обсерватория', 'чикагский', 'университет', 'обнаруживать', 'в', 'непосредственный', 'близость', 'от', 'сириус', 'тусклый', 'звездочка', 'это', 'быть', 'спутник', 'сириус', 'сириус', 'предсказывать', 'бессель', 'а', 'в', 'год', 'американский', 'астроном', 'д', 'м', 'шеберль', 'открывать', 'процион', 'подтвердить', 'то', 'самый', 'и', 'второй', 'предсказание', 'бессель', 'в', 'год', 'американский', 'астроном', 'уолтер', 'сидней', 'адамс', 'измерять', 'спектр', 'сириус', 'из', 'измерение', 'следовать', 'что', 'его', 'температура', 'не', 'низкий', 'чем', 'у', 'сириус', 'по', 'современный', 'данные', 'температура', 'поверхность', 'сириус', 'составлять', 'а', 'сириус', 'к', 'что', 'с', 'учет', 'он', 'в', 'раз', 'меньший', 'чем', 'у', 'сириус', 'светимость', 'указывать', 'на', 'очень', 'малый', 'радиус', 'и', 'соответственно', 'высокий', 'плотность', 'г', 'плотность', 'сириус', 'г', 'плотность', 'солнце', 'г']\n",
      "199\n"
     ]
    }
   ],
   "source": [
    "# лемматизация Mystem\n",
    "words_analized = mystem.analyze(text2)\n",
    "mystem_lemmas = [parse['analysis'][0]['lex'] for parse in words_analized if parse.get('analysis')]\n",
    "print (mystem_lemmas)\n",
    "print(len(mystem_lemmas))"
   ]
  },
  {
   "cell_type": "code",
   "execution_count": 27,
   "metadata": {},
   "outputs": [
    {
     "name": "stdout",
     "output_type": "stream",
     "text": [
      "['второй', 'и', 'третий', 'открытый', 'белый', 'карлик', 'стать', 'сириус', 'и', 'процион', 'в', 'год', 'директор', 'кёнигсбергский', 'обсерватория', 'фридрих', 'бессель', 'анализировать', 'дать', 'наблюдение', 'который', 'вестись', 'с', 'год', 'обнаружить', 'что', 'сириус', 'яркий', 'звезда', 'земной', 'небо', 'и', 'процион', 'периодически', 'хотя', 'и', 'весьма', 'слабо', 'отклоняться', 'от', 'прямолинейный', 'траектория', 'движение', 'по', 'небесный', 'сфера', 'бессель', 'прийти', 'к', 'вывод', 'что', 'у', 'каждый', 'из', 'они', 'должный', 'быть', 'близкий', 'спутник', 'сообщение', 'быть', 'встретить', 'скептически', 'поскольку', 'слабый', 'спутник', 'оставаться', 'ненаблюдаемый', 'а', 'он', 'масса', 'должный', 'быть', 'быть', 'достаточно', 'большой', 'сравнимый', 'с', 'масса', 'сириус', 'и', 'процион', 'соответственно', 'в', 'январь', 'год', 'элвин', 'грэхэма', 'кларк', 'юстировать', 'дюймовый', 'рефрактор', 'самый', 'большой', 'на', 'то', 'время', 'телескоп', 'в', 'мир', 'впоследствии', 'поставить', 'семейный', 'фирма', 'кларк', 'в', 'обсерватория', 'чикагский', 'университет', 'обнаружить', 'в', 'непосредственный', 'близость', 'от', 'сириус', 'тусклый', 'звёздочка', 'это', 'быть', 'спутник', 'сириус', 'сириус', 'предсказать', 'бессель', 'а', 'в', 'год', 'американский', 'астроном', 'далее', 'м', 'шеберл', 'открыть', 'процион', 'подтвердить', 'тем', 'самый', 'и', 'второе', 'предсказание', 'бессель', 'в', 'год', 'американский', 'астроном', 'уолтер', 'сидней', 'адамс', 'измерить', 'спектр', 'сириус', 'из', 'измерение', 'следовать', 'что', 'он', 'температура', 'не', 'ниже', 'чем', 'у', 'сириус', 'по', 'современный', 'данные', 'температура', 'поверхность', 'сириус', 'составлять', 'а', 'сириус', 'к', 'что', 'с', 'учёт', 'он', 'в', 'раз', 'малый', 'чем', 'у', 'сириус', 'светимость', 'указывать', 'на', 'очень', 'малый', 'радиус', 'и', 'соответственно', 'высокий', 'плотность', 'г', 'плотность', 'сириус', 'г', 'плотность', 'солнце', 'г']\n",
      "199\n"
     ]
    }
   ],
   "source": [
    "# лемматизация Pymorphy\n",
    "from pymorphy3 import MorphAnalyzer\n",
    "# Фильтрация знаков препинания и цифр\n",
    "mystem_tokens_filtered = [parse['text'].lower() for parse in words_analized if parse.get('analysis')]\n",
    "morph = MorphAnalyzer()\n",
    "pymorphy_lemmas = [morph.parse(token)[0].normal_form for token in mystem_tokens_filtered]\n",
    "print (pymorphy_lemmas)\n",
    "print(len(pymorphy_lemmas))"
   ]
  },
  {
   "cell_type": "code",
   "execution_count": 28,
   "metadata": {},
   "outputs": [
    {
     "name": "stdout",
     "output_type": "stream",
     "text": [
      "             Токен    Лемма Mystem  Лемма Pymorphy\n",
      "0            стали     становиться           стать\n",
      "1   кёнигсбергской  кенигсбергский  кёнигсбергский\n",
      "2           данные          данные            дать\n",
      "3        обнаружил    обнаруживать      обнаружить\n",
      "4           пришёл       приходить          прийти\n",
      "5        встречено       встречать       встретить\n",
      "6              его             его              он\n",
      "7           грэхэм          грэхэм         грэхэма\n",
      "8     поставленный      поставлять       поставить\n",
      "9        обнаружил    обнаруживать      обнаружить\n",
      "10       звёздочку       звездочка       звёздочка\n",
      "11   предсказанный   предсказывать     предсказать\n",
      "12               д               д           далее\n",
      "13         шеберле         шеберль          шеберл\n",
      "14          открыл       открывать         открыть\n",
      "15             тем              то             тем\n",
      "16          второе          второй          второе\n",
      "17         измерил        измерять        измерить\n",
      "18             его             его              он\n",
      "19            ниже          низкий            ниже\n",
      "20          учётом            учет            учёт\n",
      "21         меньшей         меньший           малый\n"
     ]
    }
   ],
   "source": [
    "import pandas as pd\n",
    "different_lemmas = [(token, mystem_lemma, pymorphy_lemma) for token, mystem_lemma, pymorphy_lemma in zip(mystem_tokens_filtered, mystem_lemmas, pymorphy_lemmas) if mystem_lemma != pymorphy_lemma]\n",
    "df = pd.DataFrame(different_lemmas, columns=['Токен', 'Лемма Mystem', 'Лемма Pymorphy'])\n",
    "\n",
    "print(df)"
   ]
  },
  {
   "cell_type": "markdown",
   "metadata": {},
   "source": [
    "#### Отличия\n",
    "1. mystem убрал все ё, pymorphy оставил\n",
    "2. mystem приводит глаголы и причастия совершенного вида к форме несовершенного inf, pymorphy – оставляет вид как был\n",
    "3. mystem оставил местоимение \"его\" без изменений, pymorphy – привел к форме \"он\" (правильнее привести к \"его\", тк в тексте это притяжательное прил., а не личное)\n",
    "4. pymorphy оставил \"тем\", \"второе\", \"ниже\" без изменений, mystem – привел к начальной форме \"то\", \"второй\", \"низкий\" (mystem прав, в тексте \"ниже\" – это ср. прилагательное, а не ср. наречие)\n",
    "5. в иностранных омонимах mystem сделал на одну ошибку меньше, чем pymorphy\n",
    "6. инициал Д. pymorphy ошибочно распознал как \"далее\"\n",
    "7. pymorphy привел слово \"меньшей\" к изначальной несравнительной форме \"малый\", mystem – просто к начальной форме сравнительного прилагательного (\"меньший\")\n",
    "\n",
    "#### Вывод\n",
    "Думаю, mystem сработал лучше: он в целом привел слова к более правильной форме, различив контекстуальный смысл синонимичных словоформ, и сделал меньше ошибок."
   ]
  },
  {
   "cell_type": "markdown",
   "metadata": {},
   "source": [
    "## 4. Лемматизация в SpaCy (2 балла)\n",
    "\n",
    "С помощью Spacy (модель для русского языка) лемматизируйте тот же текст. Проверьте есть ли различия с Mystem и Pymoprhy."
   ]
  },
  {
   "cell_type": "code",
   "execution_count": 29,
   "metadata": {
    "scrolled": true
   },
   "outputs": [
    {
     "name": "stdout",
     "output_type": "stream",
     "text": [
      "Collecting spacy\n",
      "  Using cached spacy-3.7.2-cp311-cp311-macosx_10_9_x86_64.whl (6.7 MB)\n",
      "Collecting spacy-legacy<3.1.0,>=3.0.11\n",
      "  Using cached spacy_legacy-3.0.12-py2.py3-none-any.whl (29 kB)\n",
      "Collecting spacy-loggers<2.0.0,>=1.0.0\n",
      "  Using cached spacy_loggers-1.0.5-py3-none-any.whl (22 kB)\n",
      "Collecting murmurhash<1.1.0,>=0.28.0\n",
      "  Using cached murmurhash-1.0.10-cp311-cp311-macosx_10_9_x86_64.whl (26 kB)\n",
      "Collecting cymem<2.1.0,>=2.0.2\n",
      "  Using cached cymem-2.0.8-cp311-cp311-macosx_10_9_x86_64.whl (41 kB)\n",
      "Collecting preshed<3.1.0,>=3.0.2\n",
      "  Using cached preshed-3.0.9-cp311-cp311-macosx_10_9_x86_64.whl (132 kB)\n",
      "Collecting thinc<8.3.0,>=8.1.8\n",
      "  Using cached thinc-8.2.1-cp311-cp311-macosx_10_9_x86_64.whl (859 kB)\n",
      "Collecting wasabi<1.2.0,>=0.9.1\n",
      "  Using cached wasabi-1.1.2-py3-none-any.whl (27 kB)\n",
      "Collecting srsly<3.0.0,>=2.4.3\n",
      "  Using cached srsly-2.4.8-cp311-cp311-macosx_10_9_x86_64.whl (490 kB)\n",
      "Collecting catalogue<2.1.0,>=2.0.6\n",
      "  Using cached catalogue-2.0.10-py3-none-any.whl (17 kB)\n",
      "Collecting weasel<0.4.0,>=0.1.0\n",
      "  Using cached weasel-0.3.4-py3-none-any.whl (50 kB)\n",
      "Collecting typer<0.10.0,>=0.3.0\n",
      "  Using cached typer-0.9.0-py3-none-any.whl (45 kB)\n",
      "Collecting smart-open<7.0.0,>=5.2.1\n",
      "  Using cached smart_open-6.4.0-py3-none-any.whl (57 kB)\n",
      "Collecting tqdm<5.0.0,>=4.38.0\n",
      "  Using cached tqdm-4.66.1-py3-none-any.whl (78 kB)\n",
      "Requirement already satisfied: requests<3.0.0,>=2.13.0 in /Users/dariachelnokova/myenv/lib/python3.11/site-packages (from spacy) (2.31.0)\n",
      "Collecting pydantic!=1.8,!=1.8.1,<3.0.0,>=1.7.4\n",
      "  Downloading pydantic-2.5.1-py3-none-any.whl (381 kB)\n",
      "\u001b[2K     \u001b[90m━━━━━━━━━━━━━━━━━━━━━━━━━━━━━━━━━━━━━━━\u001b[0m \u001b[32m381.6/381.6 kB\u001b[0m \u001b[31m1.7 MB/s\u001b[0m eta \u001b[36m0:00:00\u001b[0ma \u001b[36m0:00:01\u001b[0m\n",
      "\u001b[?25hRequirement already satisfied: jinja2 in /Users/dariachelnokova/myenv/lib/python3.11/site-packages (from spacy) (3.1.2)\n",
      "Requirement already satisfied: setuptools in /Users/dariachelnokova/myenv/lib/python3.11/site-packages (from spacy) (65.5.0)\n",
      "Requirement already satisfied: packaging>=20.0 in /Users/dariachelnokova/myenv/lib/python3.11/site-packages (from spacy) (23.2)\n",
      "Collecting langcodes<4.0.0,>=3.2.0\n",
      "  Using cached langcodes-3.3.0-py3-none-any.whl (181 kB)\n",
      "Requirement already satisfied: numpy>=1.19.0 in /Users/dariachelnokova/myenv/lib/python3.11/site-packages (from spacy) (1.26.2)\n",
      "Collecting annotated-types>=0.4.0\n",
      "  Using cached annotated_types-0.6.0-py3-none-any.whl (12 kB)\n",
      "Collecting pydantic-core==2.14.3\n",
      "  Downloading pydantic_core-2.14.3-cp311-cp311-macosx_10_7_x86_64.whl (1.9 MB)\n",
      "\u001b[2K     \u001b[90m━━━━━━━━━━━━━━━━━━━━━━━━━━━━━━━━━━━━━━━━\u001b[0m \u001b[32m1.9/1.9 MB\u001b[0m \u001b[31m9.9 MB/s\u001b[0m eta \u001b[36m0:00:00\u001b[0m:00:01\u001b[0m00:01\u001b[0m\n",
      "\u001b[?25hCollecting typing-extensions>=4.6.1\n",
      "  Using cached typing_extensions-4.8.0-py3-none-any.whl (31 kB)\n",
      "Requirement already satisfied: charset-normalizer<4,>=2 in /Users/dariachelnokova/myenv/lib/python3.11/site-packages (from requests<3.0.0,>=2.13.0->spacy) (3.3.2)\n",
      "Requirement already satisfied: idna<4,>=2.5 in /Users/dariachelnokova/myenv/lib/python3.11/site-packages (from requests<3.0.0,>=2.13.0->spacy) (3.4)\n",
      "Requirement already satisfied: urllib3<3,>=1.21.1 in /Users/dariachelnokova/myenv/lib/python3.11/site-packages (from requests<3.0.0,>=2.13.0->spacy) (2.1.0)\n",
      "Requirement already satisfied: certifi>=2017.4.17 in /Users/dariachelnokova/myenv/lib/python3.11/site-packages (from requests<3.0.0,>=2.13.0->spacy) (2023.7.22)\n",
      "Collecting blis<0.8.0,>=0.7.8\n",
      "  Using cached blis-0.7.11-cp311-cp311-macosx_10_9_x86_64.whl (6.1 MB)\n",
      "Collecting confection<1.0.0,>=0.0.1\n",
      "  Using cached confection-0.1.3-py3-none-any.whl (34 kB)\n",
      "Collecting click<9.0.0,>=7.1.1\n",
      "  Using cached click-8.1.7-py3-none-any.whl (97 kB)\n",
      "Collecting cloudpathlib<0.17.0,>=0.7.0\n",
      "  Using cached cloudpathlib-0.16.0-py3-none-any.whl (45 kB)\n",
      "Requirement already satisfied: MarkupSafe>=2.0 in /Users/dariachelnokova/myenv/lib/python3.11/site-packages (from jinja2->spacy) (2.1.3)\n",
      "Installing collected packages: cymem, wasabi, typing-extensions, tqdm, spacy-loggers, spacy-legacy, smart-open, murmurhash, langcodes, cloudpathlib, click, catalogue, blis, annotated-types, typer, srsly, pydantic-core, preshed, pydantic, confection, weasel, thinc, spacy\n",
      "Successfully installed annotated-types-0.6.0 blis-0.7.11 catalogue-2.0.10 click-8.1.7 cloudpathlib-0.16.0 confection-0.1.3 cymem-2.0.8 langcodes-3.3.0 murmurhash-1.0.10 preshed-3.0.9 pydantic-2.5.1 pydantic-core-2.14.3 smart-open-6.4.0 spacy-3.7.2 spacy-legacy-3.0.12 spacy-loggers-1.0.5 srsly-2.4.8 thinc-8.2.1 tqdm-4.66.1 typer-0.9.0 typing-extensions-4.8.0 wasabi-1.1.2 weasel-0.3.4\n",
      "\n",
      "\u001b[1m[\u001b[0m\u001b[34;49mnotice\u001b[0m\u001b[1;39;49m]\u001b[0m\u001b[39;49m A new release of pip available: \u001b[0m\u001b[31;49m22.3.1\u001b[0m\u001b[39;49m -> \u001b[0m\u001b[32;49m23.3.1\u001b[0m\n",
      "\u001b[1m[\u001b[0m\u001b[34;49mnotice\u001b[0m\u001b[1;39;49m]\u001b[0m\u001b[39;49m To update, run: \u001b[0m\u001b[32;49mpip install --upgrade pip\u001b[0m\n"
     ]
    }
   ],
   "source": [
    "!pip install spacy"
   ]
  },
  {
   "cell_type": "code",
   "execution_count": 31,
   "metadata": {
    "scrolled": true
   },
   "outputs": [
    {
     "name": "stdout",
     "output_type": "stream",
     "text": [
      "Collecting ru-core-news-sm==3.7.0\n",
      "  Downloading https://github.com/explosion/spacy-models/releases/download/ru_core_news_sm-3.7.0/ru_core_news_sm-3.7.0-py3-none-any.whl (15.3 MB)\n",
      "\u001b[2K     \u001b[90m━━━━━━━━━━━━━━━━━━━━━━━━━━━━━━━━━━━━━━━━\u001b[0m \u001b[32m15.3/15.3 MB\u001b[0m \u001b[31m16.7 MB/s\u001b[0m eta \u001b[36m0:00:00\u001b[0m00:01\u001b[0m00:01\u001b[0m\n",
      "\u001b[?25hRequirement already satisfied: spacy<3.8.0,>=3.7.0 in /Users/dariachelnokova/myenv/lib/python3.11/site-packages (from ru-core-news-sm==3.7.0) (3.7.2)\n",
      "Requirement already satisfied: pymorphy3>=1.0.0 in /Users/dariachelnokova/myenv/lib/python3.11/site-packages (from ru-core-news-sm==3.7.0) (1.2.1)\n",
      "Requirement already satisfied: dawg-python>=0.7.1 in /Users/dariachelnokova/myenv/lib/python3.11/site-packages (from pymorphy3>=1.0.0->ru-core-news-sm==3.7.0) (0.7.2)\n",
      "Requirement already satisfied: docopt-ng>=0.6 in /Users/dariachelnokova/myenv/lib/python3.11/site-packages (from pymorphy3>=1.0.0->ru-core-news-sm==3.7.0) (0.9.0)\n",
      "Requirement already satisfied: pymorphy3-dicts-ru in /Users/dariachelnokova/myenv/lib/python3.11/site-packages (from pymorphy3>=1.0.0->ru-core-news-sm==3.7.0) (2.4.417150.4580142)\n",
      "Requirement already satisfied: spacy-legacy<3.1.0,>=3.0.11 in /Users/dariachelnokova/myenv/lib/python3.11/site-packages (from spacy<3.8.0,>=3.7.0->ru-core-news-sm==3.7.0) (3.0.12)\n",
      "Requirement already satisfied: spacy-loggers<2.0.0,>=1.0.0 in /Users/dariachelnokova/myenv/lib/python3.11/site-packages (from spacy<3.8.0,>=3.7.0->ru-core-news-sm==3.7.0) (1.0.5)\n",
      "Requirement already satisfied: murmurhash<1.1.0,>=0.28.0 in /Users/dariachelnokova/myenv/lib/python3.11/site-packages (from spacy<3.8.0,>=3.7.0->ru-core-news-sm==3.7.0) (1.0.10)\n",
      "Requirement already satisfied: cymem<2.1.0,>=2.0.2 in /Users/dariachelnokova/myenv/lib/python3.11/site-packages (from spacy<3.8.0,>=3.7.0->ru-core-news-sm==3.7.0) (2.0.8)\n",
      "Requirement already satisfied: preshed<3.1.0,>=3.0.2 in /Users/dariachelnokova/myenv/lib/python3.11/site-packages (from spacy<3.8.0,>=3.7.0->ru-core-news-sm==3.7.0) (3.0.9)\n",
      "Requirement already satisfied: thinc<8.3.0,>=8.1.8 in /Users/dariachelnokova/myenv/lib/python3.11/site-packages (from spacy<3.8.0,>=3.7.0->ru-core-news-sm==3.7.0) (8.2.1)\n",
      "Requirement already satisfied: wasabi<1.2.0,>=0.9.1 in /Users/dariachelnokova/myenv/lib/python3.11/site-packages (from spacy<3.8.0,>=3.7.0->ru-core-news-sm==3.7.0) (1.1.2)\n",
      "Requirement already satisfied: srsly<3.0.0,>=2.4.3 in /Users/dariachelnokova/myenv/lib/python3.11/site-packages (from spacy<3.8.0,>=3.7.0->ru-core-news-sm==3.7.0) (2.4.8)\n",
      "Requirement already satisfied: catalogue<2.1.0,>=2.0.6 in /Users/dariachelnokova/myenv/lib/python3.11/site-packages (from spacy<3.8.0,>=3.7.0->ru-core-news-sm==3.7.0) (2.0.10)\n",
      "Requirement already satisfied: weasel<0.4.0,>=0.1.0 in /Users/dariachelnokova/myenv/lib/python3.11/site-packages (from spacy<3.8.0,>=3.7.0->ru-core-news-sm==3.7.0) (0.3.4)\n",
      "Requirement already satisfied: typer<0.10.0,>=0.3.0 in /Users/dariachelnokova/myenv/lib/python3.11/site-packages (from spacy<3.8.0,>=3.7.0->ru-core-news-sm==3.7.0) (0.9.0)\n",
      "Requirement already satisfied: smart-open<7.0.0,>=5.2.1 in /Users/dariachelnokova/myenv/lib/python3.11/site-packages (from spacy<3.8.0,>=3.7.0->ru-core-news-sm==3.7.0) (6.4.0)\n",
      "Requirement already satisfied: tqdm<5.0.0,>=4.38.0 in /Users/dariachelnokova/myenv/lib/python3.11/site-packages (from spacy<3.8.0,>=3.7.0->ru-core-news-sm==3.7.0) (4.66.1)\n",
      "Requirement already satisfied: requests<3.0.0,>=2.13.0 in /Users/dariachelnokova/myenv/lib/python3.11/site-packages (from spacy<3.8.0,>=3.7.0->ru-core-news-sm==3.7.0) (2.31.0)\n",
      "Requirement already satisfied: pydantic!=1.8,!=1.8.1,<3.0.0,>=1.7.4 in /Users/dariachelnokova/myenv/lib/python3.11/site-packages (from spacy<3.8.0,>=3.7.0->ru-core-news-sm==3.7.0) (2.5.1)\n",
      "Requirement already satisfied: jinja2 in /Users/dariachelnokova/myenv/lib/python3.11/site-packages (from spacy<3.8.0,>=3.7.0->ru-core-news-sm==3.7.0) (3.1.2)\n",
      "Requirement already satisfied: setuptools in /Users/dariachelnokova/myenv/lib/python3.11/site-packages (from spacy<3.8.0,>=3.7.0->ru-core-news-sm==3.7.0) (65.5.0)\n",
      "Requirement already satisfied: packaging>=20.0 in /Users/dariachelnokova/myenv/lib/python3.11/site-packages (from spacy<3.8.0,>=3.7.0->ru-core-news-sm==3.7.0) (23.2)\n",
      "Requirement already satisfied: langcodes<4.0.0,>=3.2.0 in /Users/dariachelnokova/myenv/lib/python3.11/site-packages (from spacy<3.8.0,>=3.7.0->ru-core-news-sm==3.7.0) (3.3.0)\n",
      "Requirement already satisfied: numpy>=1.19.0 in /Users/dariachelnokova/myenv/lib/python3.11/site-packages (from spacy<3.8.0,>=3.7.0->ru-core-news-sm==3.7.0) (1.26.2)\n",
      "Requirement already satisfied: annotated-types>=0.4.0 in /Users/dariachelnokova/myenv/lib/python3.11/site-packages (from pydantic!=1.8,!=1.8.1,<3.0.0,>=1.7.4->spacy<3.8.0,>=3.7.0->ru-core-news-sm==3.7.0) (0.6.0)\n",
      "Requirement already satisfied: pydantic-core==2.14.3 in /Users/dariachelnokova/myenv/lib/python3.11/site-packages (from pydantic!=1.8,!=1.8.1,<3.0.0,>=1.7.4->spacy<3.8.0,>=3.7.0->ru-core-news-sm==3.7.0) (2.14.3)\n",
      "Requirement already satisfied: typing-extensions>=4.6.1 in /Users/dariachelnokova/myenv/lib/python3.11/site-packages (from pydantic!=1.8,!=1.8.1,<3.0.0,>=1.7.4->spacy<3.8.0,>=3.7.0->ru-core-news-sm==3.7.0) (4.8.0)\n",
      "Requirement already satisfied: charset-normalizer<4,>=2 in /Users/dariachelnokova/myenv/lib/python3.11/site-packages (from requests<3.0.0,>=2.13.0->spacy<3.8.0,>=3.7.0->ru-core-news-sm==3.7.0) (3.3.2)\n",
      "Requirement already satisfied: idna<4,>=2.5 in /Users/dariachelnokova/myenv/lib/python3.11/site-packages (from requests<3.0.0,>=2.13.0->spacy<3.8.0,>=3.7.0->ru-core-news-sm==3.7.0) (3.4)\n",
      "Requirement already satisfied: urllib3<3,>=1.21.1 in /Users/dariachelnokova/myenv/lib/python3.11/site-packages (from requests<3.0.0,>=2.13.0->spacy<3.8.0,>=3.7.0->ru-core-news-sm==3.7.0) (2.1.0)\n",
      "Requirement already satisfied: certifi>=2017.4.17 in /Users/dariachelnokova/myenv/lib/python3.11/site-packages (from requests<3.0.0,>=2.13.0->spacy<3.8.0,>=3.7.0->ru-core-news-sm==3.7.0) (2023.7.22)\n",
      "Requirement already satisfied: blis<0.8.0,>=0.7.8 in /Users/dariachelnokova/myenv/lib/python3.11/site-packages (from thinc<8.3.0,>=8.1.8->spacy<3.8.0,>=3.7.0->ru-core-news-sm==3.7.0) (0.7.11)\n",
      "Requirement already satisfied: confection<1.0.0,>=0.0.1 in /Users/dariachelnokova/myenv/lib/python3.11/site-packages (from thinc<8.3.0,>=8.1.8->spacy<3.8.0,>=3.7.0->ru-core-news-sm==3.7.0) (0.1.3)\n",
      "Requirement already satisfied: click<9.0.0,>=7.1.1 in /Users/dariachelnokova/myenv/lib/python3.11/site-packages (from typer<0.10.0,>=0.3.0->spacy<3.8.0,>=3.7.0->ru-core-news-sm==3.7.0) (8.1.7)\n",
      "Requirement already satisfied: cloudpathlib<0.17.0,>=0.7.0 in /Users/dariachelnokova/myenv/lib/python3.11/site-packages (from weasel<0.4.0,>=0.1.0->spacy<3.8.0,>=3.7.0->ru-core-news-sm==3.7.0) (0.16.0)\n",
      "Requirement already satisfied: MarkupSafe>=2.0 in /Users/dariachelnokova/myenv/lib/python3.11/site-packages (from jinja2->spacy<3.8.0,>=3.7.0->ru-core-news-sm==3.7.0) (2.1.3)\n",
      "\n",
      "\u001b[1m[\u001b[0m\u001b[34;49mnotice\u001b[0m\u001b[1;39;49m]\u001b[0m\u001b[39;49m A new release of pip available: \u001b[0m\u001b[31;49m22.3.1\u001b[0m\u001b[39;49m -> \u001b[0m\u001b[32;49m23.3.1\u001b[0m\n",
      "\u001b[1m[\u001b[0m\u001b[34;49mnotice\u001b[0m\u001b[1;39;49m]\u001b[0m\u001b[39;49m To update, run: \u001b[0m\u001b[32;49mpip install --upgrade pip\u001b[0m\n",
      "\u001b[38;5;2m✔ Download and installation successful\u001b[0m\n",
      "You can now load the package via spacy.load('ru_core_news_sm')\n"
     ]
    }
   ],
   "source": [
    "!python -m spacy download ru_core_news_sm"
   ]
  },
  {
   "cell_type": "code",
   "execution_count": 32,
   "metadata": {},
   "outputs": [],
   "source": [
    "import spacy\n",
    "nlp = spacy.load(\"ru_core_news_sm\")"
   ]
  },
  {
   "cell_type": "code",
   "execution_count": 33,
   "metadata": {},
   "outputs": [
    {
     "name": "stdout",
     "output_type": "stream",
     "text": [
      "['\\n', 'второй', 'и', 'третий', 'открытый', 'белый', 'карлик', 'стать', 'сириус', 'b', 'и', 'процион', 'b.', 'в', '1844', 'год', 'директор', 'кёнигсбергский', 'обсерватория', 'фридрих', 'бессель', ',', 'анализировать', 'данные', 'наблюдение', ',', 'которые', 'вестись', 'с', '1755', 'год', ',', 'обнаружить', ',', 'что', 'сириус', ',', 'яркий', 'звезда', 'земной', 'небо', ',', 'и', 'процион', 'периодически', ',', 'хотя', 'и', 'весьма', 'слабо', ',', 'отклоняться', 'от', 'прямолинейный', 'траектория', 'движение', 'по', 'небесный', 'сфере[5', ']', '.', 'бессель', 'прийти', 'к', 'вывод', ',', 'что', 'у', 'каждый', 'из', 'них', 'должный', 'быть', 'близкий', 'спутник', '.', 'сообщение', 'было', 'встретить', 'скептически', ',', 'поскольку', 'слабый', 'спутник', 'оставаться', 'ненаблюдаемый', ',', 'а', 'он', 'масса', 'должный', 'быть', 'быть', 'достаточно', 'большой', '—', 'сравнимый', 'с', 'масса', 'сириус', 'и', 'проциона', ',', 'соответственно', '.', '\\n\\n', 'в', 'январь', '1862', 'год', 'элвин', 'грэхэм', 'кларк', ',', 'юстировать', '18-дюймовый', 'рефрактор', ',', 'самый', 'большой', 'на', 'тот', 'время', 'телескоп', 'в', 'мир', '(', 'dearborn', 'telescope', ')', ',', 'впоследствии', 'поставить', 'семейный', 'фирма', 'кларков', 'в', 'обсерватория', 'чикагского', 'университет', ',', 'обнаружить', 'в', 'непосредственный', 'близость', 'от', 'сириус', 'тусклый', 'звёздочка', '.', 'это', 'быть', 'спутник', 'сириус', ',', 'сириус', 'b', ',', 'предсказанный', 'бесселем[6', ']', '.', 'а', 'в', '1896', 'год', 'американский', 'астроном', 'д.', 'м.', 'шеберле', 'открыть', 'процион', 'b', ',', 'подтвердить', 'тем', 'самым', 'и', 'второй', 'предсказание', 'бесселя', '.', '\\n\\n', 'в', '1915', 'год', 'американский', 'астроном', 'уолтер', 'сидней', 'адамс', 'измерить', 'спектр', 'сириус', 'b.', 'Из', 'измерение', 'следовать', ',', 'что', 'он', 'температура', 'не', 'низкий', ',', 'чем', 'у', 'сириус', 'a', '(', 'по', 'современный', 'данным', ',', 'температура', 'поверхность', 'сириус', 'b', 'составлять', '25', '000', 'k', ',', 'а', 'сириуса', 'a', '—', '10', '000', 'к', ')', ',', 'что', ',', 'с', 'учёт', 'его', 'в', '10', '000', 'раз', 'малый', ',', 'чем', 'у', 'сириус', 'a', ',', 'светимость', 'указывать', 'на', 'очень', 'малый', 'радиус', 'и', ',', 'соответственно', ',', 'высокий', 'плотность', '—', '106', 'г', '/', 'см3', '(', 'плотность', 'сириус', '~0,25', 'г', '/', 'см3', ',', 'плотность', 'солнце', '~1,4', 'г', '/', 'см3', ')', '.', '\\n']\n",
      "283\n"
     ]
    }
   ],
   "source": [
    "# лемматизация spacy (сырой текст)\n",
    "doc = nlp(text2)\n",
    "\n",
    "spacy_lemmas1 = [token.lemma_ for sent in doc.sents for token in sent]\n",
    "\n",
    "\n",
    "print(spacy_lemmas1)\n",
    "print(len(spacy_lemmas1))"
   ]
  },
  {
   "cell_type": "code",
   "execution_count": 34,
   "metadata": {},
   "outputs": [
    {
     "name": "stdout",
     "output_type": "stream",
     "text": [
      "['второй', 'и', 'третий', 'открытый', 'белый', 'карлик', 'стать', 'сириус', 'и', 'процион', 'в', 'год', 'директор', 'кёнигсбергский', 'обсерватория', 'фридрих', 'бессель', 'анализировать', 'данные', 'наблюдение', 'которые', 'вестись', 'с', 'год', 'обнаружить', 'что', 'сириус', 'яркий', 'звезда', 'земной', 'небо', 'и', 'процион', 'периодически', 'хотя', 'и', 'весьма', 'слабо', 'отклоняться', 'от', 'прямолинейный', 'траектория', 'движение', 'по', 'небесный', 'сфера', 'бессель', 'прийти', 'к', 'вывод', 'что', 'у', 'каждый', 'из', 'них', 'должный', 'быть', 'близкий', 'спутник', 'сообщение', 'было', 'встретить', 'скептически', 'поскольку', 'слабый', 'спутник', 'оставаться', 'ненаблюдаемый', 'а', 'он', 'масса', 'должный', 'быть', 'быть', 'достаточно', 'большой', 'сравнимый', 'с', 'масса', 'сириус', 'и', 'проциона', 'соответственно', 'в', 'январь', 'год', 'элвин', 'грэхэм', 'кларк', 'юстировать', 'дюймовый', 'рефрактор', 'самый', 'большой', 'на', 'тот', 'время', 'телескоп', 'в', 'мир', 'впоследствии', 'поставить', 'семейный', 'фирма', 'кларк', 'в', 'обсерватория', 'чикагского', 'университет', 'обнаружить', 'в', 'непосредственный', 'близость', 'от', 'сириус', 'тусклый', 'звёздочка', 'это', 'быть', 'спутник', 'сириус', 'сириус', 'предсказать', 'бесселем', 'а', 'в', 'год', 'американский', 'астроном', 'д', 'м', 'шеберле', 'открыть', 'процион', 'подтвердить', 'тем', 'самым', 'и', 'второй', 'предсказание', 'бесселя', 'в', 'год', 'американский', 'астроном', 'уолтер', 'сидней', 'адамс', 'измерить', 'спектр', 'сириус', 'из', 'измерение', 'следовать', 'что', 'он', 'температура', 'не', 'низкий', 'чем', 'у', 'сириус', 'по', 'современный', 'данным', 'температура', 'поверхность', 'сириус', 'составлять', 'а', 'сириус', 'к', 'что', 'с', 'учёт', 'его', 'в', 'раз', 'малый', 'чем', 'у', 'сириус', 'светимость', 'указывать', 'на', 'очень', 'малый', 'радиус', 'и', 'соответственно', 'высокий', 'плотность', 'г', 'плотность', 'сириус', 'г', 'плотность', 'солнце', 'г']\n",
      "199\n"
     ]
    }
   ],
   "source": [
    "# лемматизация spacy (с токенами mystem)\n",
    "text_from_mystemtokens = ' '.join(mystem_tokens_filtered)\n",
    "\n",
    "doc = nlp(text_from_mystemtokens)\n",
    "spacy_lemmas2 = [token.lemma_ for token in doc]\n",
    "\n",
    "print(spacy_lemmas2)\n",
    "print(len(spacy_lemmas2))"
   ]
  },
  {
   "cell_type": "code",
   "execution_count": 35,
   "metadata": {
    "scrolled": true
   },
   "outputs": [
    {
     "name": "stdout",
     "output_type": "stream",
     "text": [
      "             Токен    Лемма Mystem  Лемма Pymorphy     Лемма SpaCy\n",
      "0            стали     становиться           стать           стать\n",
      "1   кёнигсбергской  кенигсбергский  кёнигсбергский  кёнигсбергский\n",
      "2           данные          данные            дать          данные\n",
      "3          которые         который         который         которые\n",
      "4        обнаружил    обнаруживать      обнаружить      обнаружить\n",
      "5           пришёл       приходить          прийти          прийти\n",
      "6              них             они             они             них\n",
      "7             было            быть            быть            было\n",
      "8        встречено       встречать       встретить       встретить\n",
      "9              его             его              он              он\n",
      "10        проциона         процион         процион        проциона\n",
      "11          грэхэм          грэхэм         грэхэма          грэхэм\n",
      "12              то              то              то             тот\n",
      "13    поставленный      поставлять       поставить       поставить\n",
      "14      чикагского       чикагский       чикагский      чикагского\n",
      "15       обнаружил    обнаруживать      обнаружить      обнаружить\n",
      "16       звёздочку       звездочка       звёздочка       звёздочка\n",
      "17   предсказанный   предсказывать     предсказать     предсказать\n",
      "18        бесселем         бессель         бессель        бесселем\n",
      "19               д               д           далее               д\n",
      "20         шеберле         шеберль          шеберл         шеберле\n",
      "21          открыл       открывать         открыть         открыть\n",
      "22             тем              то             тем             тем\n",
      "23           самым           самый           самый           самым\n",
      "24          второе          второй          второе          второй\n",
      "25         бесселя         бессель         бессель         бесселя\n",
      "26         измерил        измерять        измерить        измерить\n",
      "27             его             его              он              он\n",
      "28            ниже          низкий            ниже          низкий\n",
      "29          данным          данные          данные          данным\n",
      "30          учётом            учет            учёт            учёт\n",
      "31             его              он              он             его\n",
      "32         меньшей         меньший           малый           малый\n"
     ]
    }
   ],
   "source": [
    "different_lemmas = [(token, mystem_lemma, pymorphy_lemma,spacy_lemma) for token, mystem_lemma, pymorphy_lemma, spacy_lemma in zip(mystem_tokens_filtered, mystem_lemmas, pymorphy_lemmas,spacy_lemmas2) if mystem_lemma != pymorphy_lemma or mystem_lemma != spacy_lemma or pymorphy_lemma != spacy_lemma]\n",
    "df = pd.DataFrame(different_lemmas, columns=['Токен', 'Лемма Mystem', 'Лемма Pymorphy', 'Лемма SpaCy'])\n",
    "\n",
    "print(df)"
   ]
  },
  {
   "cell_type": "markdown",
   "metadata": {},
   "source": [
    "#### Сравление SpaCy с Mystem и Pymorphy\n",
    "Лемматизация SpaCy больше похожа на Pymorphy (оставляет \"ё\", оставляет вид гл. неизменным)\n",
    "Обибок больше, чем в Mystem и Pymorphy, плюс многие слова не привелись к начальной форме (которые, них, было, тот, чикагского...)\n",
    "Зато в отличие от предыдущих двух библиотек SpaCy правильно лемматизировал иностранные имена: не изменял их (может, это как-то связано с тем, что библиотека многоязычная..?)"
   ]
  },
  {
   "cell_type": "markdown",
   "metadata": {},
   "source": [
    "## 5*. Дизамбигуация в Mystem (2 балла)"
   ]
  },
  {
   "cell_type": "markdown",
   "metadata": {},
   "source": [
    "*необязательное задание на 10 баллов"
   ]
  },
  {
   "cell_type": "markdown",
   "metadata": {},
   "source": [
    "Одна из фичей майстема - контекстная дизамбигуация (т.е. определение правильного разбора в зависимости от контекста)."
   ]
  },
  {
   "cell_type": "markdown",
   "metadata": {},
   "source": [
    "Запустите mystem на очищенном тексте с дизамбигуацией и без и проверьте есть ли какие-то различия."
   ]
  },
  {
   "cell_type": "code",
   "execution_count": 36,
   "metadata": {},
   "outputs": [
    {
     "data": {
      "text/plain": [
       "'вторым и третьим открытыми белыми карликами стали сириус и процион в году директор кёнигсбергской обсерватории фридрих бессель анализируя данные наблюдений которые велись с года обнаружил что сириус ярчайшая звезда земного неба и процион периодически хотя и весьма слабо отклоняются от прямолинейной траектории движения по небесной сфере бессель пришёл к выводу что у каждой из них должен быть близкий спутник сообщение было встречено скептически поскольку слабый спутник оставался ненаблюдаемым а его масса должна была быть достаточно велика сравнимой с массой сириуса и проциона соответственно в январе года элвин грэхэм кларк юстируя дюймовый рефрактор самый большой на то время телескоп в мире впоследствии поставленный семейной фирмой кларков в обсерваторию чикагского университета обнаружил в непосредственной близости от сириуса тусклую звёздочку это был спутник сириуса сириус предсказанный бесселем а в году американский астроном д м шеберле открыл процион подтвердив тем самым и второе предсказание бесселя в году американский астроном уолтер сидней адамс измерил спектр сириуса из измерений следовало что его температура не ниже чем у сириуса по современным данным температура поверхности сириуса составляет а сириуса к что с учётом его в раз меньшей чем у сириуса светимости указывает на очень малый радиус и соответственно высокую плотность г плотность сириуса г плотность солнца г'"
      ]
     },
     "execution_count": 36,
     "metadata": {},
     "output_type": "execute_result"
    }
   ],
   "source": [
    "text_from_mystemtokens"
   ]
  },
  {
   "cell_type": "code",
   "execution_count": 37,
   "metadata": {
    "scrolled": true
   },
   "outputs": [
    {
     "name": "stdout",
     "output_type": "stream",
     "text": [
      "[{'lex': 'второй', 'wt': 0.986135184, 'gr': 'ANUM=(дат,мн|твор,ед,муж|твор,ед,сред)'}, {'lex': 'и', 'wt': 0.9999770357, 'gr': 'CONJ='}, {'lex': 'третий', 'wt': 0.9944396734, 'gr': 'ANUM=(дат,мн|твор,ед,муж|твор,ед,сред)'}, {'lex': 'открытый', 'wt': 0.959315763, 'gr': 'A=твор,мн,полн'}, {'lex': 'белый', 'wt': 0.9932845421, 'gr': 'A=твор,мн,полн'}, {'lex': 'карлик', 'wt': 1, 'gr': 'S,муж,од=твор,мн'}, {'lex': 'становиться', 'wt': 0.9821285244, 'gr': 'V,нп=прош,мн,изъяв,сов'}, {'lex': 'сириус', 'wt': 1, 'gr': 'S,гео,муж,неод=(вин,ед|им,ед)'}, {'lex': 'и', 'wt': 0.9999770357, 'gr': 'CONJ='}, {'lex': 'процион', 'wt': 1, 'qual': 'bastard', 'gr': 'S,муж,неод=(вин,ед|им,ед)'}, {'lex': 'в', 'wt': 0.9999917878, 'gr': 'PR='}, {'lex': 'год', 'wt': 1, 'gr': 'S,муж,неод=(дат,ед|местн,ед)'}, {'lex': 'директор', 'wt': 1, 'gr': 'S,муж,од=им,ед'}, {'lex': 'кенигсбергский', 'wt': 1, 'gr': 'A=(пр,ед,полн,жен|дат,ед,полн,жен|род,ед,полн,жен|твор,ед,полн,жен)'}, {'lex': 'обсерватория', 'wt': 1, 'gr': 'S,жен,неод=(пр,ед|вин,мн|дат,ед|род,ед|им,мн)'}, {'lex': 'фридрих', 'wt': 1, 'gr': 'S,имя,муж,од=им,ед'}, {'lex': 'бессель', 'wt': 1, 'gr': 'S,имя,муж,од=им,ед'}, {'lex': 'анализировать', 'wt': 1, 'gr': 'V,несов,пе=непрош,деепр'}, {'lex': 'данные', 'wt': 0.8760081205, 'gr': 'S,мн,неод=(вин|им)'}, {'lex': 'наблюдение', 'wt': 1, 'gr': 'S,сред,неод=род,мн'}, {'lex': 'который', 'wt': 1, 'gr': 'APRO=(им,мн|вин,мн,неод)'}, {'lex': 'вестись', 'wt': 0.5361965901, 'gr': 'V,несов,нп=прош,мн,изъяв'}, {'lex': 'с', 'wt': 0.999977831, 'gr': 'PR='}, {'lex': 'год', 'wt': 1, 'gr': 'S,муж,неод=(вин,мн|род,ед|им,мн)'}, {'lex': 'обнаруживать', 'wt': 1, 'gr': 'V,пе=прош,ед,изъяв,муж,сов'}, {'lex': 'что', 'wt': 0.688532576, 'gr': 'CONJ='}, {'lex': 'сириус', 'wt': 1, 'gr': 'S,гео,муж,неод=(вин,ед|им,ед)'}, {'lex': 'яркий', 'wt': 1, 'gr': 'A=им,ед,полн,прев,жен'}, {'lex': 'звезда', 'wt': 0.690962732, 'gr': 'S,жен,неод=им,ед'}, {'lex': 'земной', 'wt': 1, 'gr': 'A=(вин,ед,полн,муж,од|род,ед,полн,муж|род,ед,полн,сред)'}, {'lex': 'небо', 'wt': 0.5986169838, 'gr': 'S,сред,неод=(вин,мн|род,ед|им,мн)'}, {'lex': 'и', 'wt': 0.9999770357, 'gr': 'CONJ='}, {'lex': 'процион', 'wt': 1, 'qual': 'bastard', 'gr': 'S,муж,неод=(вин,ед|им,ед)'}, {'lex': 'периодически', 'wt': 0.9999489765, 'gr': 'ADV='}, {'lex': 'хотя', 'wt': 0.7674314765, 'gr': 'CONJ='}, {'lex': 'и', 'wt': 0.9999770357, 'gr': 'CONJ='}, {'lex': 'весьма', 'wt': 1, 'gr': 'ADV='}, {'lex': 'слабо', 'wt': 0.9235434159, 'gr': 'ADV='}, {'lex': 'отклоняться', 'wt': 1, 'gr': 'V,нп=непрош,мн,изъяв,3-л,несов'}, {'lex': 'от', 'wt': 1, 'gr': 'PR='}, {'lex': 'прямолинейный', 'wt': 1, 'gr': 'A=(пр,ед,полн,жен|дат,ед,полн,жен|род,ед,полн,жен|твор,ед,полн,жен)'}, {'lex': 'траектория', 'wt': 1, 'gr': 'S,жен,неод=(пр,ед|вин,мн|дат,ед|род,ед|им,мн)'}, {'lex': 'движение', 'wt': 1, 'gr': 'S,сред,неод=(вин,мн|род,ед|им,мн)'}, {'lex': 'по', 'wt': 1, 'gr': 'PR='}, {'lex': 'небесный', 'wt': 1, 'gr': 'A=(пр,ед,полн,жен|дат,ед,полн,жен|род,ед,полн,жен|твор,ед,полн,жен)'}, {'lex': 'сфера', 'wt': 1, 'gr': 'S,жен,неод=(пр,ед|дат,ед)'}, {'lex': 'бессель', 'wt': 1, 'gr': 'S,имя,муж,од=им,ед'}, {'lex': 'приходить', 'wt': 0.9984379383, 'gr': 'V,нп=прош,ед,изъяв,муж,сов'}, {'lex': 'к', 'wt': 0.9999551798, 'gr': 'PR='}, {'lex': 'вывод', 'wt': 1, 'gr': 'S,муж,неод=дат,ед'}, {'lex': 'что', 'wt': 0.688532576, 'gr': 'CONJ='}, {'lex': 'у', 'wt': 0.9993940324, 'gr': 'PR='}, {'lex': 'каждый', 'wt': 0.9971198475, 'gr': 'APRO=(пр,ед,жен|дат,ед,жен|род,ед,жен|твор,ед,жен)'}, {'lex': 'из', 'wt': 0.9999999775, 'gr': 'PR='}, {'lex': 'они', 'wt': 1, 'gr': 'SPRO,мн=(пр|вин|род)'}, {'lex': 'должный', 'wt': 1, 'gr': 'A=ед,кр,муж'}, {'lex': 'быть', 'wt': 1, 'gr': 'V,нп=инф,несов'}, {'lex': 'близкий', 'wt': 1, 'gr': 'A=(вин,ед,полн,муж,неод|им,ед,полн,муж)'}, {'lex': 'спутник', 'wt': 1, 'gr': 'S,муж=(им,ед,од|вин,ед,неод|им,ед,неод)'}, {'lex': 'сообщение', 'wt': 1, 'gr': 'S,сред,неод=(вин,ед|им,ед)'}, {'lex': 'быть', 'wt': 0.975680698, 'gr': 'V,нп=прош,ед,изъяв,сред,несов'}, {'lex': 'встречать', 'wt': 1, 'gr': 'V,пе=прош,ед,прич,кр,сред,сов,страд'}, {'lex': 'скептически', 'wt': 0.9999643443, 'gr': 'ADV='}, {'lex': 'поскольку', 'wt': 1, 'gr': 'CONJ='}, {'lex': 'слабый', 'wt': 1, 'gr': 'A=(вин,ед,полн,муж,неод|им,ед,полн,муж)'}, {'lex': 'спутник', 'wt': 1, 'gr': 'S,муж=(им,ед,од|вин,ед,неод|им,ед,неод)'}, {'lex': 'оставаться', 'wt': 1, 'gr': 'V,нп=прош,ед,изъяв,муж,несов'}, {'lex': 'ненаблюдаемый', 'wt': 1, 'gr': 'A,полн=(дат,мн|твор,ед,муж|твор,ед,сред)'}, {'lex': 'а', 'wt': 0.9822148501, 'gr': 'CONJ='}, {'lex': 'он', 'wt': 0.9242062374, 'gr': 'SPRO,ед,3-л,муж=(вин|род)'}, {'lex': 'масса', 'wt': 1, 'gr': 'S,жен,неод=им,ед'}, {'lex': 'должный', 'wt': 1, 'gr': 'A=ед,кр,жен'}, {'lex': 'быть', 'wt': 1, 'gr': 'V,нп=прош,ед,изъяв,жен,несов'}, {'lex': 'быть', 'wt': 1, 'gr': 'V,нп=инф,несов'}, {'lex': 'достаточно', 'wt': 0.591353536, 'gr': 'ADV='}, {'lex': 'большой', 'wt': 0.9952426116, 'gr': 'A=ед,кр,жен'}, {'lex': 'сравнимый', 'wt': 1, 'gr': 'A=(пр,ед,полн,жен|дат,ед,полн,жен|род,ед,полн,жен|твор,ед,полн,жен)'}, {'lex': 'с', 'wt': 0.999977831, 'gr': 'PR='}, {'lex': 'масса', 'wt': 1, 'gr': 'S,жен,неод=твор,ед'}, {'lex': 'сириус', 'wt': 1, 'gr': 'S,гео,муж,неод=род,ед'}, {'lex': 'и', 'wt': 0.9999770357, 'gr': 'CONJ='}, {'lex': 'процион', 'wt': 1, 'qual': 'bastard', 'gr': 'S,муж,неод=род,ед'}, {'lex': 'соответственно', 'wt': 0.759490663, 'gr': 'ADV='}, {'lex': 'в', 'wt': 0.9999917878, 'gr': 'PR='}, {'lex': 'январь', 'wt': 0.9998020422, 'gr': 'S,муж,неод=пр,ед'}, {'lex': 'год', 'wt': 1, 'gr': 'S,муж,неод=(вин,мн|род,ед|им,мн)'}, {'lex': 'элвин', 'wt': 1, 'gr': 'S,имя,муж,од=им,ед'}, {'lex': 'грэхэм', 'wt': 1, 'gr': 'S,имя,муж,од=им,ед'}, {'lex': 'кларк', 'wt': 0.6541957737, 'gr': 'S,фам,муж,од=им,ед'}, {'lex': 'юстировать', 'wt': 1, 'gr': 'V,пе=непрош,деепр,несов'}, {'lex': 'дюймовый', 'wt': 1, 'gr': 'A=(вин,ед,полн,муж,неод|им,ед,полн,муж)'}, {'lex': 'рефрактор', 'wt': 1, 'gr': 'S,муж,неод=(вин,ед|им,ед)'}, {'lex': 'самый', 'wt': 1, 'gr': 'APRO=(вин,ед,муж,неод|им,ед,муж)'}, {'lex': 'большой', 'wt': 1, 'gr': 'A=(вин,ед,полн,муж,неод|им,ед,полн,муж|пр,ед,полн,жен|дат,ед,полн,жен|род,ед,полн,жен|твор,ед,полн,жен)'}, {'lex': 'на', 'wt': 0.9989522965, 'gr': 'PR='}, {'lex': 'то', 'wt': 0.4146576429, 'gr': 'SPRO,ед,сред,неод=(вин|им)'}, {'lex': 'время', 'wt': 1, 'gr': 'S,сред,неод=(вин,ед|им,ед)'}, {'lex': 'телескоп', 'wt': 1, 'gr': 'S,муж,неод=(вин,ед|им,ед)'}, {'lex': 'в', 'wt': 0.9999917878, 'gr': 'PR='}, {'lex': 'мир', 'wt': 0.9922263828, 'gr': 'S,муж,неод=пр,ед'}, {'lex': 'впоследствии', 'wt': 1, 'gr': 'ADV='}, {'lex': 'поставлять', 'wt': 1, 'gr': 'V,пе=(прош,вин,ед,прич,полн,муж,сов,страд,неод|прош,им,ед,прич,полн,муж,сов,страд)'}, {'lex': 'семейный', 'wt': 1, 'gr': 'A=(пр,ед,полн,жен|дат,ед,полн,жен|род,ед,полн,жен|твор,ед,полн,жен)'}, {'lex': 'фирма', 'wt': 1, 'gr': 'S,жен,неод=твор,ед'}, {'lex': 'кларк', 'wt': 0.6997748608, 'gr': 'S,муж,неод=род,мн'}, {'lex': 'в', 'wt': 0.9999917878, 'gr': 'PR='}, {'lex': 'обсерватория', 'wt': 1, 'gr': 'S,жен,неод=вин,ед'}, {'lex': 'чикагский', 'wt': 1, 'gr': 'A,гео=(вин,ед,полн,муж,од|род,ед,полн,муж|род,ед,полн,сред)'}, {'lex': 'университет', 'wt': 1, 'gr': 'S,муж,неод=род,ед'}, {'lex': 'обнаруживать', 'wt': 1, 'gr': 'V,пе=прош,ед,изъяв,муж,сов'}, {'lex': 'в', 'wt': 0.9999917878, 'gr': 'PR='}, {'lex': 'непосредственный', 'wt': 1, 'gr': 'A=(пр,ед,полн,жен|дат,ед,полн,жен|род,ед,полн,жен|твор,ед,полн,жен)'}, {'lex': 'близость', 'wt': 1, 'gr': 'S,жен,неод=(пр,ед|вин,мн|дат,ед|род,ед|им,мн)'}, {'lex': 'от', 'wt': 1, 'gr': 'PR='}, {'lex': 'сириус', 'wt': 1, 'gr': 'S,гео,муж,неод=род,ед'}, {'lex': 'тусклый', 'wt': 1, 'gr': 'A=вин,ед,полн,жен'}, {'lex': 'звездочка', 'wt': 1, 'gr': 'S,жен,неод=вин,ед'}, {'lex': 'это', 'wt': 0.7809833731, 'gr': 'SPRO,ед,сред,неод=(вин|им)'}, {'lex': 'быть', 'wt': 1, 'gr': 'V,нп=прош,ед,изъяв,муж,несов'}, {'lex': 'спутник', 'wt': 1, 'gr': 'S,муж=(им,ед,од|вин,ед,неод|им,ед,неод)'}, {'lex': 'сириус', 'wt': 1, 'gr': 'S,гео,муж,неод=род,ед'}, {'lex': 'сириус', 'wt': 1, 'gr': 'S,гео,муж,неод=(вин,ед|им,ед)'}, {'lex': 'предсказывать', 'wt': 1, 'gr': 'V=(прош,вин,ед,прич,полн,муж,сов,страд,неод|прош,им,ед,прич,полн,муж,сов,страд)'}, {'lex': 'бессель', 'wt': 1, 'gr': 'S,имя,муж,од=твор,ед'}, {'lex': 'а', 'wt': 0.9822148501, 'gr': 'CONJ='}, {'lex': 'в', 'wt': 0.9999917878, 'gr': 'PR='}, {'lex': 'год', 'wt': 1, 'gr': 'S,муж,неод=(дат,ед|местн,ед)'}, {'lex': 'американский', 'wt': 1, 'gr': 'A=(вин,ед,полн,муж,неод|им,ед,полн,муж)'}, {'lex': 'астроном', 'wt': 1, 'gr': 'S,муж,од=им,ед'}, {'lex': 'д', 'wt': 1, 'gr': 'S,сокр=(пр,мн|пр,ед|вин,мн|вин,ед|дат,мн|дат,ед|род,мн|род,ед|твор,мн|твор,ед|им,мн|им,ед)'}, {'lex': 'м', 'wt': 1, 'gr': 'S,сокр=(пр,мн|пр,ед|вин,мн|вин,ед|дат,мн|дат,ед|род,мн|род,ед|твор,мн|твор,ед|им,мн|им,ед)'}, {'lex': 'шеберля', 'wt': 0.4074250787, 'qual': 'bastard', 'gr': 'S,гео,жен,неод=(пр,ед|дат,ед)'}, {'lex': 'открывать', 'wt': 1, 'gr': 'V=прош,ед,изъяв,муж,сов'}, {'lex': 'процион', 'wt': 1, 'qual': 'bastard', 'gr': 'S,муж,неод=(вин,ед|им,ед)'}, {'lex': 'подтвердить', 'wt': 0.8641491534, 'gr': 'V,сов,нп=прош,деепр'}, {'lex': 'то', 'wt': 0.6993998155, 'gr': 'SPRO,ед,сред,неод=твор'}, {'lex': 'самый', 'wt': 1, 'gr': 'APRO=(дат,мн|твор,ед,муж|твор,ед,сред)'}, {'lex': 'и', 'wt': 0.9999770357, 'gr': 'CONJ='}, {'lex': 'второй', 'wt': 0.9241041717, 'gr': 'ANUM=(вин,ед,сред|им,ед,сред)'}, {'lex': 'предсказание', 'wt': 1, 'gr': 'S,сред,неод=(вин,ед|им,ед)'}, {'lex': 'бессель', 'wt': 1, 'gr': 'S,имя,муж,од=(вин,ед|род,ед)'}, {'lex': 'в', 'wt': 0.9999917878, 'gr': 'PR='}, {'lex': 'год', 'wt': 1, 'gr': 'S,муж,неод=(дат,ед|местн,ед)'}, {'lex': 'американский', 'wt': 1, 'gr': 'A=(вин,ед,полн,муж,неод|им,ед,полн,муж)'}, {'lex': 'астроном', 'wt': 1, 'gr': 'S,муж,од=им,ед'}, {'lex': 'уолтер', 'wt': 1, 'gr': 'S,имя,муж,од=им,ед'}, {'lex': 'сидней', 'wt': 0.8818068541, 'gr': 'S,гео,муж,неод=(вин,ед|им,ед)'}, {'lex': 'адамс', 'wt': 0.9243308352, 'gr': 'S,фам,муж,од=им,ед'}, {'lex': 'измерять', 'wt': 1, 'gr': 'V,пе=прош,ед,изъяв,муж,сов'}, {'lex': 'спектр', 'wt': 0.9946207043, 'gr': 'S,муж,неод=(вин,ед|им,ед)'}, {'lex': 'сириус', 'wt': 1, 'gr': 'S,гео,муж,неод=род,ед'}, {'lex': 'из', 'wt': 0.9999999775, 'gr': 'PR='}, {'lex': 'измерение', 'wt': 1, 'gr': 'S,сред,неод=род,мн'}, {'lex': 'следовать', 'wt': 0, 'gr': 'V,несов=прош,ед,изъяв,сред'}, {'lex': 'что', 'wt': 0.688532576, 'gr': 'CONJ='}, {'lex': 'он', 'wt': 0.9242062374, 'gr': 'SPRO,ед,3-л,муж=(вин|род)'}, {'lex': 'температура', 'wt': 1, 'gr': 'S,жен,неод=им,ед'}, {'lex': 'не', 'wt': 1, 'gr': 'PART='}, {'lex': 'низко', 'wt': 0.4143243352, 'gr': 'ADV=срав'}, {'lex': 'чем', 'wt': 0.8023791472, 'gr': 'CONJ='}, {'lex': 'у', 'wt': 0.9993940324, 'gr': 'PR='}, {'lex': 'сириус', 'wt': 1, 'gr': 'S,гео,муж,неод=род,ед'}, {'lex': 'по', 'wt': 1, 'gr': 'PR='}, {'lex': 'современный', 'wt': 1, 'gr': 'A=(дат,мн,полн|твор,ед,полн,муж|твор,ед,полн,сред)'}, {'lex': 'данные', 'wt': 0.9553083191, 'gr': 'S,мн,неод=дат'}, {'lex': 'температура', 'wt': 1, 'gr': 'S,жен,неод=им,ед'}, {'lex': 'поверхность', 'wt': 1, 'gr': 'S,жен,неод=(пр,ед|вин,мн|дат,ед|род,ед|им,мн)'}, {'lex': 'сириус', 'wt': 1, 'gr': 'S,гео,муж,неод=род,ед'}, {'lex': 'составлять', 'wt': 1, 'gr': 'V,пе=непрош,ед,изъяв,3-л,несов'}, {'lex': 'а', 'wt': 0.9822148501, 'gr': 'CONJ='}, {'lex': 'сириус', 'wt': 1, 'gr': 'S,гео,муж,неод=род,ед'}, {'lex': 'к', 'wt': 0.9999551798, 'gr': 'PR='}, {'lex': 'что', 'wt': 0.688532576, 'gr': 'CONJ='}, {'lex': 'с', 'wt': 0.999977831, 'gr': 'PR='}, {'lex': 'учет', 'wt': 1, 'gr': 'S,муж,неод=твор,ед'}, {'lex': 'он', 'wt': 0.9242062374, 'gr': 'SPRO,ед,3-л,муж=(вин|род)'}, {'lex': 'в', 'wt': 0.9999917878, 'gr': 'PR='}, {'lex': 'раз', 'wt': 0.9278416023, 'gr': 'S,муж,неод=(вин,ед|род,мн|им,ед)'}, {'lex': 'меньший', 'wt': 1, 'gr': 'A,полн=(пр,ед,жен|дат,ед,жен|род,ед,жен|твор,ед,жен)'}, {'lex': 'чем', 'wt': 0.8023791472, 'gr': 'CONJ='}, {'lex': 'у', 'wt': 0.9993940324, 'gr': 'PR='}, {'lex': 'сириус', 'wt': 1, 'gr': 'S,гео,муж,неод=род,ед'}, {'lex': 'светимость', 'wt': 1, 'gr': 'S,жен,неод=(пр,ед|вин,мн|дат,ед|род,ед|им,мн)'}, {'lex': 'указывать', 'wt': 1, 'gr': 'V=непрош,ед,изъяв,3-л,несов,пе'}, {'lex': 'на', 'wt': 0.9989522965, 'gr': 'PR='}, {'lex': 'очень', 'wt': 1, 'gr': 'ADV='}, {'lex': 'малый', 'wt': 0.7365821443, 'gr': 'A=(вин,ед,полн,муж,неод|им,ед,полн,муж)'}, {'lex': 'радиус', 'wt': 1, 'gr': 'S,муж,неод=(вин,ед|им,ед)'}, {'lex': 'и', 'wt': 0.9999770357, 'gr': 'CONJ='}, {'lex': 'соответственно', 'wt': 0.759490663, 'gr': 'ADV='}, {'lex': 'высокий', 'wt': 1, 'gr': 'A=вин,ед,полн,жен'}, {'lex': 'плотность', 'wt': 1, 'gr': 'S,жен,неод=(вин,ед|им,ед)'}, {'lex': 'г', 'wt': 1, 'gr': 'S,сокр=(пр,мн|пр,ед|вин,мн|вин,ед|дат,мн|дат,ед|род,мн|род,ед|твор,мн|твор,ед|им,мн|им,ед)'}, {'lex': 'плотность', 'wt': 1, 'gr': 'S,жен,неод=(вин,ед|им,ед)'}, {'lex': 'сириус', 'wt': 1, 'gr': 'S,гео,муж,неод=род,ед'}, {'lex': 'г', 'wt': 1, 'gr': 'S,сокр=(пр,мн|пр,ед|вин,мн|вин,ед|дат,мн|дат,ед|род,мн|род,ед|твор,мн|твор,ед|им,мн|им,ед)'}, {'lex': 'плотность', 'wt': 1, 'gr': 'S,жен,неод=(вин,ед|им,ед)'}, {'lex': 'солнце', 'wt': 1, 'gr': 'S,сред,неод=(вин,мн|род,ед|им,мн)'}, {'lex': 'г', 'wt': 1, 'gr': 'S,сокр=(пр,мн|пр,ед|вин,мн|вин,ед|дат,мн|дат,ед|род,мн|род,ед|твор,мн|твор,ед|им,мн|им,ед)'}]\n"
     ]
    }
   ],
   "source": [
    "# без контекстной дизамбигуации\n",
    "mystem_without_disambiguation = Mystem(disambiguation=False)\n",
    "words_analized = mystem_without_disambiguation.analyze(text_from_mystemtokens)\n",
    "result_without_disambiguation = [parse['analysis'][0] for parse in words_analized if parse.get('analysis')]\n",
    "print(result_without_disambiguation)"
   ]
  },
  {
   "cell_type": "code",
   "execution_count": 38,
   "metadata": {
    "scrolled": true
   },
   "outputs": [
    {
     "name": "stdout",
     "output_type": "stream",
     "text": [
      "[{'lex': 'второй', 'wt': 0.986135184, 'gr': 'ANUM=(дат,мн|твор,ед,муж|твор,ед,сред)'}, {'lex': 'и', 'wt': 0.9999770357, 'gr': 'CONJ='}, {'lex': 'третий', 'wt': 0.9944396734, 'gr': 'ANUM=(дат,мн|твор,ед,муж|твор,ед,сред)'}, {'lex': 'открытый', 'wt': 0.959315763, 'gr': 'A=твор,мн,полн'}, {'lex': 'белый', 'wt': 0.9932845421, 'gr': 'A=твор,мн,полн'}, {'lex': 'карлик', 'wt': 1, 'gr': 'S,муж,од=твор,мн'}, {'lex': 'становиться', 'wt': 0.9821285244, 'gr': 'V,нп=прош,мн,изъяв,сов'}, {'lex': 'сириус', 'wt': 1, 'gr': 'S,гео,муж,неод=(вин,ед|им,ед)'}, {'lex': 'и', 'wt': 0.9999770357, 'gr': 'CONJ='}, {'lex': 'процион', 'wt': 1, 'qual': 'bastard', 'gr': 'S,муж,неод=(вин,ед|им,ед)'}, {'lex': 'в', 'wt': 0.9999917878, 'gr': 'PR='}, {'lex': 'год', 'wt': 1, 'gr': 'S,муж,неод=(дат,ед|местн,ед)'}, {'lex': 'директор', 'wt': 1, 'gr': 'S,муж,од=им,ед'}, {'lex': 'кенигсбергский', 'wt': 1, 'gr': 'A=(пр,ед,полн,жен|дат,ед,полн,жен|род,ед,полн,жен|твор,ед,полн,жен)'}, {'lex': 'обсерватория', 'wt': 1, 'gr': 'S,жен,неод=(пр,ед|вин,мн|дат,ед|род,ед|им,мн)'}, {'lex': 'фридрих', 'wt': 1, 'gr': 'S,имя,муж,од=им,ед'}, {'lex': 'бессель', 'wt': 1, 'gr': 'S,имя,муж,од=им,ед'}, {'lex': 'анализировать', 'wt': 1, 'gr': 'V,несов,пе=непрош,деепр'}, {'lex': 'данные', 'wt': 0.8760081205, 'gr': 'S,мн,неод=(вин|им)'}, {'lex': 'наблюдение', 'wt': 1, 'gr': 'S,сред,неод=род,мн'}, {'lex': 'который', 'wt': 1, 'gr': 'APRO=(им,мн|вин,мн,неод)'}, {'lex': 'вестись', 'wt': 0.5361965901, 'gr': 'V,несов,нп=прош,мн,изъяв'}, {'lex': 'с', 'wt': 0.999977831, 'gr': 'PR='}, {'lex': 'год', 'wt': 1, 'gr': 'S,муж,неод=(вин,мн|род,ед|им,мн)'}, {'lex': 'обнаруживать', 'wt': 1, 'gr': 'V,пе=прош,ед,изъяв,муж,сов'}, {'lex': 'что', 'wt': 0.688532576, 'gr': 'CONJ='}, {'lex': 'сириус', 'wt': 1, 'gr': 'S,гео,муж,неод=(вин,ед|им,ед)'}, {'lex': 'яркий', 'wt': 1, 'gr': 'A=им,ед,полн,прев,жен'}, {'lex': 'звезда', 'wt': 0.690962732, 'gr': 'S,жен,неод=им,ед'}, {'lex': 'земной', 'wt': 1, 'gr': 'A=(вин,ед,полн,муж,од|род,ед,полн,муж|род,ед,полн,сред)'}, {'lex': 'небо', 'wt': 0.5986169838, 'gr': 'S,сред,неод=(вин,мн|род,ед|им,мн)'}, {'lex': 'и', 'wt': 0.9999770357, 'gr': 'CONJ='}, {'lex': 'процион', 'wt': 1, 'qual': 'bastard', 'gr': 'S,муж,неод=(вин,ед|им,ед)'}, {'lex': 'периодически', 'wt': 0.9999489765, 'gr': 'ADV='}, {'lex': 'хотя', 'wt': 0.7674314765, 'gr': 'CONJ='}, {'lex': 'и', 'wt': 0.9999770357, 'gr': 'CONJ='}, {'lex': 'весьма', 'wt': 1, 'gr': 'ADV='}, {'lex': 'слабо', 'wt': 0.9235434159, 'gr': 'ADV='}, {'lex': 'отклоняться', 'wt': 1, 'gr': 'V,нп=непрош,мн,изъяв,3-л,несов'}, {'lex': 'от', 'wt': 1, 'gr': 'PR='}, {'lex': 'прямолинейный', 'wt': 1, 'gr': 'A=(пр,ед,полн,жен|дат,ед,полн,жен|род,ед,полн,жен|твор,ед,полн,жен)'}, {'lex': 'траектория', 'wt': 1, 'gr': 'S,жен,неод=(пр,ед|вин,мн|дат,ед|род,ед|им,мн)'}, {'lex': 'движение', 'wt': 1, 'gr': 'S,сред,неод=(вин,мн|род,ед|им,мн)'}, {'lex': 'по', 'wt': 1, 'gr': 'PR='}, {'lex': 'небесный', 'wt': 1, 'gr': 'A=(пр,ед,полн,жен|дат,ед,полн,жен|род,ед,полн,жен|твор,ед,полн,жен)'}, {'lex': 'сфера', 'wt': 1, 'gr': 'S,жен,неод=(пр,ед|дат,ед)'}, {'lex': 'бессель', 'wt': 1, 'gr': 'S,имя,муж,од=им,ед'}, {'lex': 'приходить', 'wt': 0.9984379383, 'gr': 'V,нп=прош,ед,изъяв,муж,сов'}, {'lex': 'к', 'wt': 0.9999551798, 'gr': 'PR='}, {'lex': 'вывод', 'wt': 1, 'gr': 'S,муж,неод=дат,ед'}, {'lex': 'что', 'wt': 0.688532576, 'gr': 'CONJ='}, {'lex': 'у', 'wt': 0.9993940324, 'gr': 'PR='}, {'lex': 'каждый', 'wt': 0.9971198475, 'gr': 'APRO=(пр,ед,жен|дат,ед,жен|род,ед,жен|твор,ед,жен)'}, {'lex': 'из', 'wt': 0.9999999775, 'gr': 'PR='}, {'lex': 'они', 'wt': 1, 'gr': 'SPRO,мн=(пр|вин|род)'}, {'lex': 'должный', 'wt': 1, 'gr': 'A=ед,кр,муж'}, {'lex': 'быть', 'wt': 1, 'gr': 'V,нп=инф,несов'}, {'lex': 'близкий', 'wt': 1, 'gr': 'A=(вин,ед,полн,муж,неод|им,ед,полн,муж)'}, {'lex': 'спутник', 'wt': 1, 'gr': 'S,муж=(им,ед,од|вин,ед,неод|им,ед,неод)'}, {'lex': 'сообщение', 'wt': 1, 'gr': 'S,сред,неод=(вин,ед|им,ед)'}, {'lex': 'быть', 'wt': 0.975680698, 'gr': 'V,нп=прош,ед,изъяв,сред,несов'}, {'lex': 'встречать', 'wt': 1, 'gr': 'V,пе=прош,ед,прич,кр,сред,сов,страд'}, {'lex': 'скептически', 'wt': 0.9999643443, 'gr': 'ADV='}, {'lex': 'поскольку', 'wt': 1, 'gr': 'CONJ='}, {'lex': 'слабый', 'wt': 1, 'gr': 'A=(вин,ед,полн,муж,неод|им,ед,полн,муж)'}, {'lex': 'спутник', 'wt': 1, 'gr': 'S,муж=(им,ед,од|вин,ед,неод|им,ед,неод)'}, {'lex': 'оставаться', 'wt': 1, 'gr': 'V,нп=прош,ед,изъяв,муж,несов'}, {'lex': 'ненаблюдаемый', 'wt': 1, 'gr': 'A,полн=(дат,мн|твор,ед,муж|твор,ед,сред)'}, {'lex': 'а', 'wt': 0.9822148501, 'gr': 'CONJ='}, {'lex': 'его', 'wt': 3.284086391e-05, 'gr': 'APRO=(пр,мн|дат,мн|род,мн|твор,мн|им,мн|им,ед,жен|вин,ед,муж,од|род,ед,муж|род,ед,сред|вин,ед,сред|им,ед,сред|пр,ед,жен|дат,ед,жен|род,ед,жен|твор,ед,жен|пр,ед,муж|пр,ед,сред|дат,ед,муж|дат,ед,сред|вин,ед,жен|вин,мн,неод|вин,ед,муж,неод|им,ед,муж|твор,ед,муж|твор,ед,сред|вин,мн,од|пр,мн,сред|вин,мн,сред|дат,мн,сред|род,мн,сред|твор,мн,сред|им,мн,сред|пр,мн,муж|вин,мн,муж|вин,ед,муж|дат,мн,муж)'}, {'lex': 'масса', 'wt': 1, 'gr': 'S,жен,неод=им,ед'}, {'lex': 'должный', 'wt': 1, 'gr': 'A=ед,кр,жен'}, {'lex': 'быть', 'wt': 1, 'gr': 'V,нп=прош,ед,изъяв,жен,несов'}, {'lex': 'быть', 'wt': 1, 'gr': 'V,нп=инф,несов'}, {'lex': 'достаточно', 'wt': 0.591353536, 'gr': 'ADV='}, {'lex': 'большой', 'wt': 0.9952426116, 'gr': 'A=ед,кр,жен'}, {'lex': 'сравнимый', 'wt': 1, 'gr': 'A=(пр,ед,полн,жен|дат,ед,полн,жен|род,ед,полн,жен|твор,ед,полн,жен)'}, {'lex': 'с', 'wt': 0.999977831, 'gr': 'PR='}, {'lex': 'масса', 'wt': 1, 'gr': 'S,жен,неод=твор,ед'}, {'lex': 'сириус', 'wt': 1, 'gr': 'S,гео,муж,неод=род,ед'}, {'lex': 'и', 'wt': 0.9999770357, 'gr': 'CONJ='}, {'lex': 'процион', 'wt': 1, 'qual': 'bastard', 'gr': 'S,муж,неод=род,ед'}, {'lex': 'соответственно', 'wt': 0.759490663, 'gr': 'ADV='}, {'lex': 'в', 'wt': 0.9999917878, 'gr': 'PR='}, {'lex': 'январь', 'wt': 0.9998020422, 'gr': 'S,муж,неод=пр,ед'}, {'lex': 'год', 'wt': 1, 'gr': 'S,муж,неод=(вин,мн|род,ед|им,мн)'}, {'lex': 'элвин', 'wt': 1, 'gr': 'S,имя,муж,од=им,ед'}, {'lex': 'грэхэм', 'wt': 1, 'gr': 'S,имя,муж,од=им,ед'}, {'lex': 'кларк', 'wt': 0.6541957737, 'gr': 'S,фам,муж,од=им,ед'}, {'lex': 'юстировать', 'wt': 1, 'gr': 'V,пе=непрош,деепр,несов'}, {'lex': 'дюймовый', 'wt': 1, 'gr': 'A=(вин,ед,полн,муж,неод|им,ед,полн,муж)'}, {'lex': 'рефрактор', 'wt': 1, 'gr': 'S,муж,неод=(вин,ед|им,ед)'}, {'lex': 'самый', 'wt': 1, 'gr': 'APRO=(вин,ед,муж,неод|им,ед,муж)'}, {'lex': 'большой', 'wt': 1, 'gr': 'A=(вин,ед,полн,муж,неод|им,ед,полн,муж|пр,ед,полн,жен|дат,ед,полн,жен|род,ед,полн,жен|твор,ед,полн,жен)'}, {'lex': 'на', 'wt': 0.9989522965, 'gr': 'PR='}, {'lex': 'то', 'wt': 0.4146576429, 'gr': 'SPRO,ед,сред,неод=(вин|им)'}, {'lex': 'время', 'wt': 1, 'gr': 'S,сред,неод=(вин,ед|им,ед)'}, {'lex': 'телескоп', 'wt': 1, 'gr': 'S,муж,неод=(вин,ед|им,ед)'}, {'lex': 'в', 'wt': 0.9999917878, 'gr': 'PR='}, {'lex': 'мир', 'wt': 0.9922263828, 'gr': 'S,муж,неод=пр,ед'}, {'lex': 'впоследствии', 'wt': 1, 'gr': 'ADV='}, {'lex': 'поставлять', 'wt': 1, 'gr': 'V,пе=(прош,вин,ед,прич,полн,муж,сов,страд,неод|прош,им,ед,прич,полн,муж,сов,страд)'}, {'lex': 'семейный', 'wt': 1, 'gr': 'A=(пр,ед,полн,жен|дат,ед,полн,жен|род,ед,полн,жен|твор,ед,полн,жен)'}, {'lex': 'фирма', 'wt': 1, 'gr': 'S,жен,неод=твор,ед'}, {'lex': 'кларк', 'wt': 0.6997748608, 'gr': 'S,муж,неод=род,мн'}, {'lex': 'в', 'wt': 0.9999917878, 'gr': 'PR='}, {'lex': 'обсерватория', 'wt': 1, 'gr': 'S,жен,неод=вин,ед'}, {'lex': 'чикагский', 'wt': 1, 'gr': 'A,гео=(вин,ед,полн,муж,од|род,ед,полн,муж|род,ед,полн,сред)'}, {'lex': 'университет', 'wt': 1, 'gr': 'S,муж,неод=род,ед'}, {'lex': 'обнаруживать', 'wt': 1, 'gr': 'V,пе=прош,ед,изъяв,муж,сов'}, {'lex': 'в', 'wt': 0.9999917878, 'gr': 'PR='}, {'lex': 'непосредственный', 'wt': 1, 'gr': 'A=(пр,ед,полн,жен|дат,ед,полн,жен|род,ед,полн,жен|твор,ед,полн,жен)'}, {'lex': 'близость', 'wt': 1, 'gr': 'S,жен,неод=(пр,ед|вин,мн|дат,ед|род,ед|им,мн)'}, {'lex': 'от', 'wt': 1, 'gr': 'PR='}, {'lex': 'сириус', 'wt': 1, 'gr': 'S,гео,муж,неод=род,ед'}, {'lex': 'тусклый', 'wt': 1, 'gr': 'A=вин,ед,полн,жен'}, {'lex': 'звездочка', 'wt': 1, 'gr': 'S,жен,неод=вин,ед'}, {'lex': 'это', 'wt': 0.1633604427, 'gr': 'PART='}, {'lex': 'быть', 'wt': 1, 'gr': 'V,нп=прош,ед,изъяв,муж,несов'}, {'lex': 'спутник', 'wt': 1, 'gr': 'S,муж=(им,ед,од|вин,ед,неод|им,ед,неод)'}, {'lex': 'сириус', 'wt': 1, 'gr': 'S,гео,муж,неод=род,ед'}, {'lex': 'сириус', 'wt': 1, 'gr': 'S,гео,муж,неод=(вин,ед|им,ед)'}, {'lex': 'предсказывать', 'wt': 1, 'gr': 'V=(прош,вин,ед,прич,полн,муж,сов,страд,неод|прош,им,ед,прич,полн,муж,сов,страд)'}, {'lex': 'бессель', 'wt': 1, 'gr': 'S,имя,муж,од=твор,ед'}, {'lex': 'а', 'wt': 0.9822148501, 'gr': 'CONJ='}, {'lex': 'в', 'wt': 0.9999917878, 'gr': 'PR='}, {'lex': 'год', 'wt': 1, 'gr': 'S,муж,неод=(дат,ед|местн,ед)'}, {'lex': 'американский', 'wt': 1, 'gr': 'A=(вин,ед,полн,муж,неод|им,ед,полн,муж)'}, {'lex': 'астроном', 'wt': 1, 'gr': 'S,муж,од=им,ед'}, {'lex': 'д', 'wt': 1, 'gr': 'S,сокр=(пр,мн|пр,ед|вин,мн|вин,ед|дат,мн|дат,ед|род,мн|род,ед|твор,мн|твор,ед|им,мн|им,ед)'}, {'lex': 'м', 'wt': 1, 'gr': 'S,сокр=(пр,мн|пр,ед|вин,мн|вин,ед|дат,мн|дат,ед|род,мн|род,ед|твор,мн|твор,ед|им,мн|им,ед)'}, {'lex': 'шеберло', 'wt': 0.307442537, 'qual': 'bastard', 'gr': 'S,сред,неод=пр,ед'}, {'lex': 'открывать', 'wt': 1, 'gr': 'V=прош,ед,изъяв,муж,сов'}, {'lex': 'процион', 'wt': 1, 'qual': 'bastard', 'gr': 'S,муж,неод=(вин,ед|им,ед)'}, {'lex': 'подтвердить', 'wt': 0.8641491534, 'gr': 'V,сов,нп=прош,деепр'}, {'lex': 'то', 'wt': 0.6993998155, 'gr': 'SPRO,ед,сред,неод=твор'}, {'lex': 'самый', 'wt': 1, 'gr': 'APRO=(дат,мн|твор,ед,муж|твор,ед,сред)'}, {'lex': 'и', 'wt': 0.9999770357, 'gr': 'CONJ='}, {'lex': 'второй', 'wt': 0.9241041717, 'gr': 'ANUM=(вин,ед,сред|им,ед,сред)'}, {'lex': 'предсказание', 'wt': 1, 'gr': 'S,сред,неод=(вин,ед|им,ед)'}, {'lex': 'бессель', 'wt': 1, 'gr': 'S,имя,муж,од=(вин,ед|род,ед)'}, {'lex': 'в', 'wt': 0.9999917878, 'gr': 'PR='}, {'lex': 'год', 'wt': 1, 'gr': 'S,муж,неод=(дат,ед|местн,ед)'}, {'lex': 'американский', 'wt': 1, 'gr': 'A=(вин,ед,полн,муж,неод|им,ед,полн,муж)'}, {'lex': 'астроном', 'wt': 1, 'gr': 'S,муж,од=им,ед'}, {'lex': 'уолтер', 'wt': 1, 'gr': 'S,имя,муж,од=им,ед'}, {'lex': 'сидней', 'wt': 0.8818068541, 'gr': 'S,гео,муж,неод=(вин,ед|им,ед)'}, {'lex': 'адамс', 'wt': 0.9243308352, 'gr': 'S,фам,муж,од=им,ед'}, {'lex': 'измерять', 'wt': 1, 'gr': 'V,пе=прош,ед,изъяв,муж,сов'}, {'lex': 'спектр', 'wt': 0.9946207043, 'gr': 'S,муж,неод=(вин,ед|им,ед)'}, {'lex': 'сириус', 'wt': 1, 'gr': 'S,гео,муж,неод=род,ед'}, {'lex': 'из', 'wt': 0.9999999775, 'gr': 'PR='}, {'lex': 'измерение', 'wt': 1, 'gr': 'S,сред,неод=род,мн'}, {'lex': 'следовать', 'wt': 0, 'gr': 'V,несов=прош,ед,изъяв,сред'}, {'lex': 'что', 'wt': 0.688532576, 'gr': 'CONJ='}, {'lex': 'его', 'wt': 3.284086391e-05, 'gr': 'APRO=(пр,мн|дат,мн|род,мн|твор,мн|им,мн|им,ед,жен|вин,ед,муж,од|род,ед,муж|род,ед,сред|вин,ед,сред|им,ед,сред|пр,ед,жен|дат,ед,жен|род,ед,жен|твор,ед,жен|пр,ед,муж|пр,ед,сред|дат,ед,муж|дат,ед,сред|вин,ед,жен|вин,мн,неод|вин,ед,муж,неод|им,ед,муж|твор,ед,муж|твор,ед,сред|вин,мн,од|пр,мн,сред|вин,мн,сред|дат,мн,сред|род,мн,сред|твор,мн,сред|им,мн,сред|пр,мн,муж|вин,мн,муж|вин,ед,муж|дат,мн,муж)'}, {'lex': 'температура', 'wt': 1, 'gr': 'S,жен,неод=им,ед'}, {'lex': 'не', 'wt': 1, 'gr': 'PART='}, {'lex': 'низкий', 'wt': 0.3520033513, 'gr': 'A=срав'}, {'lex': 'чем', 'wt': 0.8023791472, 'gr': 'CONJ='}, {'lex': 'у', 'wt': 0.9993940324, 'gr': 'PR='}, {'lex': 'сириус', 'wt': 1, 'gr': 'S,гео,муж,неод=род,ед'}, {'lex': 'по', 'wt': 1, 'gr': 'PR='}, {'lex': 'современный', 'wt': 1, 'gr': 'A=(дат,мн,полн|твор,ед,полн,муж|твор,ед,полн,сред)'}, {'lex': 'данные', 'wt': 0.9553083191, 'gr': 'S,мн,неод=дат'}, {'lex': 'температура', 'wt': 1, 'gr': 'S,жен,неод=им,ед'}, {'lex': 'поверхность', 'wt': 1, 'gr': 'S,жен,неод=(пр,ед|вин,мн|дат,ед|род,ед|им,мн)'}, {'lex': 'сириус', 'wt': 1, 'gr': 'S,гео,муж,неод=род,ед'}, {'lex': 'составлять', 'wt': 1, 'gr': 'V,пе=непрош,ед,изъяв,3-л,несов'}, {'lex': 'а', 'wt': 0.9822148501, 'gr': 'CONJ='}, {'lex': 'сириус', 'wt': 1, 'gr': 'S,гео,муж,неод=род,ед'}, {'lex': 'к', 'wt': 0.9999551798, 'gr': 'PR='}, {'lex': 'что', 'wt': 0.2934446278, 'gr': 'SPRO,ед,сред,неод=(вин|им)'}, {'lex': 'с', 'wt': 0.999977831, 'gr': 'PR='}, {'lex': 'учет', 'wt': 1, 'gr': 'S,муж,неод=твор,ед'}, {'lex': 'он', 'wt': 0.9242062374, 'gr': 'SPRO,ед,3-л,муж=(вин|род)'}, {'lex': 'в', 'wt': 0.9999917878, 'gr': 'PR='}, {'lex': 'раз', 'wt': 0.9278416023, 'gr': 'S,муж,неод=(вин,ед|род,мн|им,ед)'}, {'lex': 'меньший', 'wt': 1, 'gr': 'A,полн=(пр,ед,жен|дат,ед,жен|род,ед,жен|твор,ед,жен)'}, {'lex': 'чем', 'wt': 0.8023791472, 'gr': 'CONJ='}, {'lex': 'у', 'wt': 0.9993940324, 'gr': 'PR='}, {'lex': 'сириус', 'wt': 1, 'gr': 'S,гео,муж,неод=род,ед'}, {'lex': 'светимость', 'wt': 1, 'gr': 'S,жен,неод=(пр,ед|вин,мн|дат,ед|род,ед|им,мн)'}, {'lex': 'указывать', 'wt': 1, 'gr': 'V=непрош,ед,изъяв,3-л,несов,пе'}, {'lex': 'на', 'wt': 0.9989522965, 'gr': 'PR='}, {'lex': 'очень', 'wt': 1, 'gr': 'ADV='}, {'lex': 'малый', 'wt': 0.7365821443, 'gr': 'A=(вин,ед,полн,муж,неод|им,ед,полн,муж)'}, {'lex': 'радиус', 'wt': 1, 'gr': 'S,муж,неод=(вин,ед|им,ед)'}, {'lex': 'и', 'wt': 0.9999770357, 'gr': 'CONJ='}, {'lex': 'соответственно', 'wt': 0.759490663, 'gr': 'ADV='}, {'lex': 'высокий', 'wt': 1, 'gr': 'A=вин,ед,полн,жен'}, {'lex': 'плотность', 'wt': 1, 'gr': 'S,жен,неод=(вин,ед|им,ед)'}, {'lex': 'г', 'wt': 1, 'gr': 'S,сокр=(пр,мн|пр,ед|вин,мн|вин,ед|дат,мн|дат,ед|род,мн|род,ед|твор,мн|твор,ед|им,мн|им,ед)'}, {'lex': 'плотность', 'wt': 1, 'gr': 'S,жен,неод=(вин,ед|им,ед)'}, {'lex': 'сириус', 'wt': 1, 'gr': 'S,гео,муж,неод=род,ед'}, {'lex': 'г', 'wt': 1, 'gr': 'S,сокр=(пр,мн|пр,ед|вин,мн|вин,ед|дат,мн|дат,ед|род,мн|род,ед|твор,мн|твор,ед|им,мн|им,ед)'}, {'lex': 'плотность', 'wt': 1, 'gr': 'S,жен,неод=(вин,ед|им,ед)'}, {'lex': 'солнце', 'wt': 1, 'gr': 'S,сред,неод=(вин,мн|род,ед|им,мн)'}, {'lex': 'г', 'wt': 1, 'gr': 'S,сокр=(пр,мн|пр,ед|вин,мн|вин,ед|дат,мн|дат,ед|род,мн|род,ед|твор,мн|твор,ед|им,мн|им,ед)'}]\n"
     ]
    }
   ],
   "source": [
    "# с контекстной дизамбигуацией (она по умолчанию есть, как я поняла)\n",
    "mystem_with_disambiguation = Mystem()\n",
    "words_analized = mystem_with_disambiguation.analyze(text_from_mystemtokens)\n",
    "result_with_disambiguation = [parse['analysis'][0] for parse in words_analized if parse.get('analysis')]\n",
    "print(result_with_disambiguation)"
   ]
  },
  {
   "cell_type": "code",
   "execution_count": 39,
   "metadata": {
    "scrolled": true
   },
   "outputs": [
    {
     "name": "stdout",
     "output_type": "stream",
     "text": [
      "его\n",
      "- Контекст: оставался ненаблюдаемым а его масса должна была\n",
      "- Без дизамбигуации: {'lex': 'он', 'wt': 0.9242062374, 'gr': 'SPRO,ед,3-л,муж=(вин|род)'}\n",
      "- С дизамбигуацией: {'lex': 'его', 'wt': 3.284086391e-05, 'gr': 'APRO=(пр,мн|дат,мн|род,мн|твор,мн|им,мн|им,ед,жен|вин,ед,муж,од|род,ед,муж|род,ед,сред|вин,ед,сред|им,ед,сред|пр,ед,жен|дат,ед,жен|род,ед,жен|твор,ед,жен|пр,ед,муж|пр,ед,сред|дат,ед,муж|дат,ед,сред|вин,ед,жен|вин,мн,неод|вин,ед,муж,неод|им,ед,муж|твор,ед,муж|твор,ед,сред|вин,мн,од|пр,мн,сред|вин,мн,сред|дат,мн,сред|род,мн,сред|твор,мн,сред|им,мн,сред|пр,мн,муж|вин,мн,муж|вин,ед,муж|дат,мн,муж)'}\n",
      "\n",
      "это\n",
      "- Контекст: сириуса тусклую звёздочку это был спутник сириуса\n",
      "- Без дизамбигуации: {'lex': 'это', 'wt': 0.7809833731, 'gr': 'SPRO,ед,сред,неод=(вин|им)'}\n",
      "- С дизамбигуацией: {'lex': 'это', 'wt': 0.1633604427, 'gr': 'PART='}\n",
      "\n",
      "шеберле\n",
      "- Контекст: астроном д м шеберле открыл процион подтвердив\n",
      "- Без дизамбигуации: {'lex': 'шеберля', 'wt': 0.4074250787, 'qual': 'bastard', 'gr': 'S,гео,жен,неод=(пр,ед|дат,ед)'}\n",
      "- С дизамбигуацией: {'lex': 'шеберло', 'wt': 0.307442537, 'qual': 'bastard', 'gr': 'S,сред,неод=пр,ед'}\n",
      "\n",
      "его\n",
      "- Контекст: измерений следовало что его температура не ниже\n",
      "- Без дизамбигуации: {'lex': 'он', 'wt': 0.9242062374, 'gr': 'SPRO,ед,3-л,муж=(вин|род)'}\n",
      "- С дизамбигуацией: {'lex': 'его', 'wt': 3.284086391e-05, 'gr': 'APRO=(пр,мн|дат,мн|род,мн|твор,мн|им,мн|им,ед,жен|вин,ед,муж,од|род,ед,муж|род,ед,сред|вин,ед,сред|им,ед,сред|пр,ед,жен|дат,ед,жен|род,ед,жен|твор,ед,жен|пр,ед,муж|пр,ед,сред|дат,ед,муж|дат,ед,сред|вин,ед,жен|вин,мн,неод|вин,ед,муж,неод|им,ед,муж|твор,ед,муж|твор,ед,сред|вин,мн,од|пр,мн,сред|вин,мн,сред|дат,мн,сред|род,мн,сред|твор,мн,сред|им,мн,сред|пр,мн,муж|вин,мн,муж|вин,ед,муж|дат,мн,муж)'}\n",
      "\n",
      "ниже\n",
      "- Контекст: его температура не ниже чем у сириуса\n",
      "- Без дизамбигуации: {'lex': 'низко', 'wt': 0.4143243352, 'gr': 'ADV=срав'}\n",
      "- С дизамбигуацией: {'lex': 'низкий', 'wt': 0.3520033513, 'gr': 'A=срав'}\n",
      "\n",
      "что\n",
      "- Контекст: а сириуса к что с учётом его\n",
      "- Без дизамбигуации: {'lex': 'что', 'wt': 0.688532576, 'gr': 'CONJ='}\n",
      "- С дизамбигуацией: {'lex': 'что', 'wt': 0.2934446278, 'gr': 'SPRO,ед,сред,неод=(вин|им)'}\n",
      "\n"
     ]
    }
   ],
   "source": [
    "# cравнение результатов\n",
    "\n",
    "differences = []\n",
    "\n",
    "# перебираем токены и их разборы\n",
    "for i, (r1, r2) in enumerate(zip(result_with_disambiguation, result_without_disambiguation)):\n",
    "    if r1 != r2:\n",
    "        token = text_from_mystemtokens.split()[i]  # получаем текущий токен\n",
    "\n",
    "        # определяем индексы слов до и после токена\n",
    "        start_index = max(0, i - 3)  # начало окружения, не уходя за границы текста\n",
    "        end_index = min(len(text_from_mystemtokens.split()), i + 4)  # конец окружения\n",
    "\n",
    "        # извлекаем токены из окружения\n",
    "        surrounding_words = text_from_mystemtokens.split()[start_index:end_index]\n",
    "        differences.append((token, surrounding_words, r1, r2))\n",
    "\n",
    "for diff in differences:\n",
    "    token, surrounding_words, r1, r2 = diff\n",
    "    print(token)\n",
    "    print(\"- Контекст:\", ' '.join(surrounding_words))\n",
    "    print(\"- Без дизамбигуации:\", r2)\n",
    "    print(\"- С дизамбигуацией:\", r1)\n",
    "    print()\n"
   ]
  },
  {
   "cell_type": "markdown",
   "metadata": {},
   "source": [
    "### Результаты\n",
    "6 отличий:\n",
    "\n",
    "**\"его\"**\n",
    "1. многозначность словоформы: может быть притяжательным местоимением (\"это его пальто\") и личным (\"ты его знаешь\")\n",
    "2. в данном контексте: притяжательное местоимение (\"его масса\"), в терминах mystem – APRO, местоимение-прилагательное\n",
    "3. с дизамбигуацией определено правильно (мест-прил, APRO), без дизамбигуации неправильно (мест-сущ, SPRO)\n",
    "\n",
    "**\"это\"**\n",
    "1. многозначность словоформы: частица, местоимение (ср. род местоимения этот)\n",
    "2. в данном контексте: частица, указательное слово (\"это был спутник\"), PART\n",
    "3. с дизамбигуацией определено правильно (PART), без дизамбигуации неправильно (SPRO)\n",
    "\n",
    "**\"шеберле\"** – иностранный антропоним, оба разбора неверные, 'qual': 'bastard' (неизвестное слово)\n",
    "\n",
    "**\"его\"** температура – с дизамбигуацией определено правильно (мест-прил, APRO), без дизамбигуации неправильно (мест-сущ, SPRO)\n",
    "\n",
    "**\"ниже\"**\n",
    "1.  многозначность словоформы: наречие в ср.ст. (\"рассмотрим вопрос ниже\"), прил. в ср.ст. (\"ниже нуля\")\n",
    "2.  в данном контексте: прилагательное (\"температура не ниже чем у сириуса\")\n",
    "3.  с дизамбигуацией определено правильно (A=срав), без дизамбигуации неправильно (ADV=срав)\n",
    "\n",
    "**\"что\"**\n",
    "1. многозначность словоформы: мест. (\"знаю, что за этим кроется\"), союз, частица\n",
    "2. в данном контексте: местоимение (\"что, с учётом его\")\n",
    "3. с дизамбигуацией определено правильно (мест-сущ, SPRO), без дизамбигуации неправильно (CONJ)\n",
    "\n",
    "#### Вывод: дизамбигуация работает отлично"
   ]
  }
 ],
 "metadata": {
  "kernelspec": {
   "display_name": "Python 3 (ipykernel)",
   "language": "python",
   "name": "python3"
  },
  "language_info": {
   "codemirror_mode": {
    "name": "ipython",
    "version": 3
   },
   "file_extension": ".py",
   "mimetype": "text/x-python",
   "name": "python",
   "nbconvert_exporter": "python",
   "pygments_lexer": "ipython3",
   "version": "3.11.2"
  }
 },
 "nbformat": 4,
 "nbformat_minor": 4
}
