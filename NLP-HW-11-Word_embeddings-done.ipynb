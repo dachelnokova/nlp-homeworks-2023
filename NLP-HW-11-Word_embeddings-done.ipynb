{
 "cells": [
  {
   "cell_type": "markdown",
   "id": "a98604cb",
   "metadata": {
    "id": "a98604cb"
   },
   "source": [
    "Домашку будет легче делать в колабе (убедитесь, что у вас runtype с gpu)."
   ]
  },
  {
   "cell_type": "markdown",
   "id": "9c422aa0",
   "metadata": {
    "id": "9c422aa0"
   },
   "source": [
    "# Задание 1 (3 балла)"
   ]
  },
  {
   "cell_type": "markdown",
   "id": "e4a72790",
   "metadata": {
    "id": "e4a72790"
   },
   "source": [
    "Обучите word2vec модели с негативным семплированием (cbow и skip-gram) с помощью tensorflow аналогично тому, как это было сделано в семинаре. Вам нужно изменить следующие пункты:\n",
    "1) добавьте лемматизацию в предобработку (любым способом)  \n",
    "2) измените размер окна в большую или меньшую сторону\n",
    "3) измените размерность итоговых векторов\n",
    "\n",
    "Выберете несколько не похожих по смыслу слов (не таких как в семинаре), и протестируйте полученные эмбединги (найдите ближайшие слова и оцените качество, как в семинаре).\n",
    "Постарайтесь обучать модели как можно дольше и на как можно большем количестве данных. (Но если у вас мало времени или ресурсов, то допустимо взять поменьше данных и поставить меньше эпох)"
   ]
  },
  {
   "cell_type": "code",
   "execution_count": 158,
   "id": "f4413b9c-e829-484e-90ba-52420530bbb7",
   "metadata": {
    "id": "f4413b9c-e829-484e-90ba-52420530bbb7"
   },
   "outputs": [],
   "source": [
    "import tensorflow as tf\n",
    "import numpy as np\n",
    "import pandas as pd\n",
    "from string import punctuation\n",
    "from sklearn.model_selection import train_test_split\n",
    "from collections import Counter\n",
    "import matplotlib.pyplot as plt\n",
    "from sklearn.decomposition import TruncatedSVD\n",
    "from sklearn.feature_extraction.text import CountVectorizer\n",
    "from sklearn.metrics.pairwise import cosine_distances\n",
    "\n",
    "from IPython.display import Image\n",
    "from IPython.core.display import HTML\n",
    "%matplotlib inline"
   ]
  },
  {
   "cell_type": "code",
   "execution_count": 60,
   "id": "gm_NwfEhz2Pp",
   "metadata": {
    "colab": {
     "base_uri": "https://localhost:8080/"
    },
    "id": "gm_NwfEhz2Pp",
    "outputId": "72639178-9d1d-44ce-b09a-95deb7bb098f"
   },
   "outputs": [],
   "source": [
    "#from google.colab import drive\n",
    "#drive.mount('/content/drive')"
   ]
  },
  {
   "cell_type": "code",
   "execution_count": 159,
   "id": "88dae6ff-5367-410f-acd7-010eadc7d995",
   "metadata": {
    "colab": {
     "base_uri": "https://localhost:8080/"
    },
    "id": "88dae6ff-5367-410f-acd7-010eadc7d995",
    "outputId": "a46ef50d-8c02-4410-9a3a-1817d7891df0"
   },
   "outputs": [
    {
     "data": {
      "text/plain": [
       "20003"
      ]
     },
     "execution_count": 159,
     "metadata": {},
     "output_type": "execute_result"
    }
   ],
   "source": [
    "#wiki = open('/content/drive/MyDrive/Colab Notebooks/wiki_data.txt').read().split('\\n')\n",
    "wiki = open('wiki_data.txt').read().split('\\n')\n",
    "len(wiki)"
   ]
  },
  {
   "cell_type": "code",
   "execution_count": 160,
   "id": "cde5fd96",
   "metadata": {
    "colab": {
     "base_uri": "https://localhost:8080/"
    },
    "id": "cde5fd96",
    "outputId": "0aa28001-6060-48e3-8fcc-5b67feaf229d"
   },
   "outputs": [],
   "source": [
    "from pymystem3 import Mystem\n",
    "import re\n",
    "mystem = Mystem()\n",
    "\n",
    "def lem_preprocess(text):\n",
    "    text = re.sub('#+', ' ', text.lower())\n",
    "    # лемматизация в Mystem\n",
    "    words_analyzed = mystem.analyze(text)\n",
    "    lemmas = [parse['analysis'][0]['lex'] for parse in words_analyzed if parse.get('analysis')]\n",
    "    lemmatized_tokens = [lemma.lower() for lemma in lemmas]\n",
    "    lemmatized_tokens = [token.strip(punctuation) for token in lemmatized_tokens]\n",
    "    lemmatized_tokens = [token for token in lemmatized_tokens if token]\n",
    "\n",
    "    return lemmatized_tokens"
   ]
  },
  {
   "cell_type": "code",
   "execution_count": 161,
   "id": "28fe750a-5f7e-4915-869c-cf492a15fdc2",
   "metadata": {
    "id": "28fe750a-5f7e-4915-869c-cf492a15fdc2"
   },
   "outputs": [],
   "source": [
    "vocab = Counter()\n",
    "\n",
    "for text in wiki:\n",
    "    vocab.update(lem_preprocess(text))"
   ]
  },
  {
   "cell_type": "code",
   "execution_count": 162,
   "id": "4f71d7cb",
   "metadata": {
    "colab": {
     "base_uri": "https://localhost:8080/"
    },
    "id": "4f71d7cb",
    "outputId": "f6210f5f-2fdc-4f38-b5df-057acf3d9ec6"
   },
   "outputs": [
    {
     "data": {
      "text/plain": [
       "143035"
      ]
     },
     "execution_count": 162,
     "metadata": {},
     "output_type": "execute_result"
    }
   ],
   "source": [
    "len(vocab)"
   ]
  },
  {
   "cell_type": "code",
   "execution_count": 163,
   "id": "a5fac982-0535-4426-bc5c-968fa0d7d310",
   "metadata": {
    "id": "a5fac982-0535-4426-bc5c-968fa0d7d310"
   },
   "outputs": [],
   "source": [
    "filtered_vocab = set()\n",
    "\n",
    "for word in vocab:\n",
    "    if vocab[word] > 20:\n",
    "        filtered_vocab.add(word)"
   ]
  },
  {
   "cell_type": "code",
   "execution_count": 164,
   "id": "78f74674-59c3-4990-9394-50e1ee0e030d",
   "metadata": {
    "colab": {
     "base_uri": "https://localhost:8080/"
    },
    "id": "78f74674-59c3-4990-9394-50e1ee0e030d",
    "outputId": "dbea8129-a239-45d0-c273-1536dfde3f5b"
   },
   "outputs": [
    {
     "data": {
      "text/plain": [
       "15318"
      ]
     },
     "execution_count": 164,
     "metadata": {},
     "output_type": "execute_result"
    }
   ],
   "source": [
    "len(filtered_vocab)"
   ]
  },
  {
   "cell_type": "code",
   "execution_count": 165,
   "id": "75501729-ed35-4ee2-91c5-37d96d220211",
   "metadata": {
    "id": "75501729-ed35-4ee2-91c5-37d96d220211"
   },
   "outputs": [],
   "source": [
    "# словарь с индексами\n",
    "word2id = { 'PAD':0}\n",
    "\n",
    "for word in filtered_vocab:\n",
    "    word2id[word] = len(word2id)"
   ]
  },
  {
   "cell_type": "code",
   "execution_count": 166,
   "id": "118d4947-fb94-4f21-9904-60f94ad0457d",
   "metadata": {
    "id": "118d4947-fb94-4f21-9904-60f94ad0457d"
   },
   "outputs": [],
   "source": [
    "id2word = {i:word for word, i in word2id.items()}"
   ]
  },
  {
   "cell_type": "code",
   "execution_count": 167,
   "id": "34abd038-c5b7-447a-a08a-9da899cfb1ac",
   "metadata": {
    "id": "34abd038-c5b7-447a-a08a-9da899cfb1ac"
   },
   "outputs": [],
   "source": [
    "# Заменяем слова на индексы.\n",
    "sentences = []\n",
    "\n",
    "for text in wiki:\n",
    "    tokens = lem_preprocess(text)\n",
    "    if not tokens:\n",
    "        continue\n",
    "    ids = [word2id[token] for token in tokens if token in word2id]\n",
    "    sentences.append(ids)"
   ]
  },
  {
   "cell_type": "code",
   "execution_count": 168,
   "id": "xn3Sp2TnlDtx",
   "metadata": {
    "id": "xn3Sp2TnlDtx"
   },
   "outputs": [],
   "source": [
    "def most_similar(word, embeddings):\n",
    "    similar = [id2word[i] for i in\n",
    "               cosine_distances(embeddings[word2id[word]].reshape(1, -1), embeddings).argsort()[0][:10]]\n",
    "    return similar"
   ]
  },
  {
   "cell_type": "markdown",
   "id": "760adddc-41b9-4abf-9ea3-4af6fd3c645a",
   "metadata": {
    "id": "760adddc-41b9-4abf-9ea3-4af6fd3c645a",
    "jp-MarkdownHeadingCollapsed": true
   },
   "source": [
    "## Skip Gram, negative sampling"
   ]
  },
  {
   "cell_type": "code",
   "execution_count": 73,
   "id": "98352852-8dd1-4429-b98f-b61dd3c62cc2",
   "metadata": {
    "id": "98352852-8dd1-4429-b98f-b61dd3c62cc2"
   },
   "outputs": [],
   "source": [
    "vocab_size = len(id2word)"
   ]
  },
  {
   "cell_type": "code",
   "execution_count": 74,
   "id": "74d4feb7-b4c2-4ff7-8426-5d3c974de109",
   "metadata": {
    "id": "74d4feb7-b4c2-4ff7-8426-5d3c974de109"
   },
   "outputs": [],
   "source": [
    "\n",
    "# skip gram\n",
    "def gen_batches_sg(sentences, window = 3, batch_size=1000):\n",
    "    while True:\n",
    "        X_target = []\n",
    "        X_context = []\n",
    "        y = []\n",
    "\n",
    "        for sent in sentences:\n",
    "            for i in range(len(sent)-1):\n",
    "                word = sent[i]\n",
    "                context = sent[max(0, i-window):i] + sent[i+1:i+window]\n",
    "                for context_word in context:\n",
    "                    X_target.append(word)\n",
    "                    X_context.append(context_word)\n",
    "                    y.append(1)\n",
    "\n",
    "                    X_target.append(word)\n",
    "                    X_context.append(np.random.randint(vocab_size))\n",
    "                    y.append(0)\n",
    "\n",
    "                    if len(X_target) >= batch_size:\n",
    "                        X_target = np.array(X_target)\n",
    "                        X_context = np.array(X_context)\n",
    "                        y = np.array(y)\n",
    "                        yield ((X_target, X_context), y)\n",
    "                        X_target = []\n",
    "                        X_context = []\n",
    "                        y = []"
   ]
  },
  {
   "cell_type": "code",
   "execution_count": 75,
   "id": "d31236f0-e13c-4da2-a5f8-aab03cb89cdd",
   "metadata": {
    "id": "d31236f0-e13c-4da2-a5f8-aab03cb89cdd"
   },
   "outputs": [],
   "source": [
    "inputs_target = tf.keras.layers.Input(shape=(1,))\n",
    "inputs_context = tf.keras.layers.Input(shape=(1,))\n",
    "\n",
    "\n",
    "embeddings_target = tf.keras.layers.Embedding(input_dim=len(word2id), output_dim=300)(inputs_target, )\n",
    "embeddings_context = tf.keras.layers.Embedding(input_dim=len(word2id), output_dim=300)(inputs_context, )\n",
    "\n",
    "target = tf.keras.layers.Flatten()(embeddings_target)\n",
    "context = tf.keras.layers.Flatten()(embeddings_context)\n",
    "\n",
    "dot = tf.keras.layers.Dot(1)([target, context])\n",
    "outputs = tf.keras.layers.Activation(activation='sigmoid')(dot)\n",
    "\n",
    "skip_gram_embedding_model = tf.keras.Model(inputs=[inputs_target, inputs_context],\n",
    "                       outputs=outputs)\n",
    "optimizer = tf.keras.optimizers.Adam(learning_rate=0.001)\n",
    "skip_gram_embedding_model.compile(optimizer=optimizer,\n",
    "              loss='binary_crossentropy',\n",
    "              metrics=['accuracy'])"
   ]
  },
  {
   "cell_type": "code",
   "execution_count": 83,
   "id": "1207e7b5-1e76-4f77-8ff5-ade5d75b3523",
   "metadata": {
    "colab": {
     "base_uri": "https://localhost:8080/"
    },
    "id": "1207e7b5-1e76-4f77-8ff5-ade5d75b3523",
    "outputId": "c79b6a50-05c5-44a6-8a54-0a06a0701eed"
   },
   "outputs": [
    {
     "name": "stdout",
     "output_type": "stream",
     "text": [
      "Epoch 1/3\n",
      "10000/10000 [==============================] - 1355s 136ms/step - loss: 0.3727 - accuracy: 0.8403 - val_loss: 0.4016 - val_accuracy: 0.8182\n",
      "Epoch 2/3\n",
      "10000/10000 [==============================] - 1478s 148ms/step - loss: 0.3783 - accuracy: 0.8411 - val_loss: 0.3441 - val_accuracy: 0.8572\n",
      "Epoch 3/3\n",
      "10000/10000 [==============================] - 1336s 134ms/step - loss: 0.3777 - accuracy: 0.8418 - val_loss: 0.3021 - val_accuracy: 0.8716\n"
     ]
    },
    {
     "data": {
      "text/plain": [
       "<keras.src.callbacks.History at 0x1365ce110>"
      ]
     },
     "execution_count": 83,
     "metadata": {},
     "output_type": "execute_result"
    }
   ],
   "source": [
    "skip_gram_embedding_model.fit(gen_batches_sg(sentences, window=3),\n",
    "          validation_data=gen_batches_sg(sentences,  window=3),\n",
    "          batch_size=1000,\n",
    "          steps_per_epoch=10000,\n",
    "          validation_steps=30,\n",
    "         epochs=3)"
   ]
  },
  {
   "cell_type": "code",
   "execution_count": 84,
   "id": "32d89539-c635-43be-b649-dd8747d51768",
   "metadata": {
    "id": "32d89539-c635-43be-b649-dd8747d51768"
   },
   "outputs": [],
   "source": [
    "skip_gram_embeddings = skip_gram_embedding_model.layers[2].get_weights()[0]"
   ]
  },
  {
   "cell_type": "code",
   "execution_count": 85,
   "id": "d3ad44b0-c5ef-44ce-8dc4-3d8f1e5b6aaa",
   "metadata": {
    "colab": {
     "base_uri": "https://localhost:8080/"
    },
    "id": "d3ad44b0-c5ef-44ce-8dc4-3d8f1e5b6aaa",
    "outputId": "f10229a3-7659-4830-8570-9d910db1d913"
   },
   "outputs": [
    {
     "data": {
      "text/plain": [
       "['школа',\n",
       " 'училище',\n",
       " 'интернат',\n",
       " 'общеобразовательный',\n",
       " 'гимназия',\n",
       " 'обучаться',\n",
       " 'учиться',\n",
       " 'студент',\n",
       " 'преподавать',\n",
       " 'оканчивать']"
      ]
     },
     "execution_count": 85,
     "metadata": {},
     "output_type": "execute_result"
    }
   ],
   "source": [
    "most_similar('школа', skip_gram_embeddings)"
   ]
  },
  {
   "cell_type": "code",
   "execution_count": 86,
   "id": "j3hFH5x4OP_P",
   "metadata": {
    "colab": {
     "base_uri": "https://localhost:8080/"
    },
    "id": "j3hFH5x4OP_P",
    "outputId": "857a5389-d1e5-4336-e3cf-ab2b32b281e0"
   },
   "outputs": [
    {
     "data": {
      "text/plain": [
       "['награда',\n",
       " 'вручаться',\n",
       " 'лауреат',\n",
       " 'приз',\n",
       " 'премия',\n",
       " 'грэмми',\n",
       " 'диплом',\n",
       " 'эмми',\n",
       " 'вручать',\n",
       " 'удостоить']"
      ]
     },
     "execution_count": 86,
     "metadata": {},
     "output_type": "execute_result"
    }
   ],
   "source": [
    "most_similar('награда', skip_gram_embeddings)"
   ]
  },
  {
   "cell_type": "code",
   "execution_count": 87,
   "id": "PhMwAIt9OSUS",
   "metadata": {
    "colab": {
     "base_uri": "https://localhost:8080/"
    },
    "id": "PhMwAIt9OSUS",
    "outputId": "9c83764a-dad8-4dc2-b821-e5c9cf607764"
   },
   "outputs": [
    {
     "data": {
      "text/plain": [
       "['дуб',\n",
       " 'сосна',\n",
       " 'береза',\n",
       " 'хвойный',\n",
       " 'липа',\n",
       " 'ель',\n",
       " 'произрастать',\n",
       " 'луг',\n",
       " 'клен',\n",
       " 'массив']"
      ]
     },
     "execution_count": 87,
     "metadata": {},
     "output_type": "execute_result"
    }
   ],
   "source": [
    "most_similar('дуб', skip_gram_embeddings)"
   ]
  },
  {
   "cell_type": "markdown",
   "id": "5a3e1574-5336-4aa9-9aff-51e7e86e8da0",
   "metadata": {
    "id": "5a3e1574-5336-4aa9-9aff-51e7e86e8da0",
    "jp-MarkdownHeadingCollapsed": true
   },
   "source": [
    "## CBOW, negative sampling"
   ]
  },
  {
   "cell_type": "code",
   "execution_count": 169,
   "id": "42039437-1fff-4bf7-afa9-754e1034b8d1",
   "metadata": {
    "id": "42039437-1fff-4bf7-afa9-754e1034b8d1"
   },
   "outputs": [],
   "source": [
    "# cbow\n",
    "def gen_batches_cbow(sentences, window = 8, batch_size=1000):\n",
    "    while True:\n",
    "        X_target = []\n",
    "        X_context = []\n",
    "        y = []\n",
    "\n",
    "        for sent in sentences:\n",
    "            for i in range(len(sent)-1):\n",
    "                word = sent[i]\n",
    "                context = sent[max(0, i-window):i] + sent[i+1:i+window]\n",
    "\n",
    "                X_target.append(word)\n",
    "                X_context.append(context)\n",
    "                y.append(1)\n",
    "\n",
    "                X_target.append(np.random.randint(vocab_size))\n",
    "                X_context.append(context)\n",
    "                y.append(0)\n",
    "\n",
    "                if len(X_target) == batch_size:\n",
    "                    X_target = np.array(X_target)\n",
    "                    X_context = tf.keras.preprocessing.sequence.pad_sequences(X_context, maxlen=window*2)\n",
    "                    y = np.array(y)\n",
    "                    yield ((X_target, X_context), y)\n",
    "                    X_target = []\n",
    "                    X_context = []\n",
    "                    y = []"
   ]
  },
  {
   "cell_type": "code",
   "execution_count": 170,
   "id": "5a17badd-8007-4d40-8ef1-7909c9668a25",
   "metadata": {
    "id": "5a17badd-8007-4d40-8ef1-7909c9668a25"
   },
   "outputs": [],
   "source": [
    "#cbow negative sampling\n",
    "inputs_target = tf.keras.layers.Input(shape=(1,))\n",
    "inputs_context = tf.keras.layers.Input(shape=(10,))\n",
    "\n",
    "\n",
    "embeddings_target = tf.keras.layers.Embedding(input_dim=len(word2id), output_dim=200)(inputs_target, )\n",
    "embeddings_context = tf.keras.layers.Embedding(input_dim=len(word2id), output_dim=200)(inputs_context, )\n",
    "\n",
    "target = tf.keras.layers.Flatten()(embeddings_target)\n",
    "context = tf.keras.layers.Lambda(lambda x: tf.keras.backend.sum(x, axis=1))(embeddings_context)\n",
    "dot = tf.keras.layers.Dot(1)([target, context])\n",
    "\n",
    "# полученную близость нужно преобразовать в вероятность\n",
    "# когда она одна используется не софтмакс и сигмоида\n",
    "outputs = tf.keras.layers.Activation(activation='sigmoid')(dot)\n",
    "\n",
    "cbow_model = tf.keras.Model(inputs=[inputs_target, inputs_context],\n",
    "                       outputs=outputs)\n",
    "\n",
    "\n",
    "optimizer = tf.keras.optimizers.Adam(learning_rate=0.001)\n",
    "cbow_model.compile(optimizer=optimizer,\n",
    "              loss='binary_crossentropy',\n",
    "              metrics=['accuracy'])\n"
   ]
  },
  {
   "cell_type": "code",
   "execution_count": 171,
   "id": "b83e266c-c509-4939-8db8-db308686c226",
   "metadata": {
    "colab": {
     "base_uri": "https://localhost:8080/"
    },
    "id": "b83e266c-c509-4939-8db8-db308686c226",
    "outputId": "1c7036ee-15d4-4ef1-e149-8feb0cd49e43"
   },
   "outputs": [
    {
     "name": "stdout",
     "output_type": "stream",
     "text": [
      "Epoch 1/2\n",
      "4000/4000 [==============================] - 408s 102ms/step - loss: 0.3593 - accuracy: 0.8476 - val_loss: 0.2915 - val_accuracy: 0.8810\n",
      "Epoch 2/2\n",
      "4000/4000 [==============================] - 432s 108ms/step - loss: 0.2880 - accuracy: 0.8846 - val_loss: 0.2964 - val_accuracy: 0.8832\n"
     ]
    },
    {
     "data": {
      "text/plain": [
       "<keras.src.callbacks.History at 0x136b41bd0>"
      ]
     },
     "execution_count": 171,
     "metadata": {},
     "output_type": "execute_result"
    }
   ],
   "source": [
    "cbow_model.fit(gen_batches_cbow(sentences, window=8),\n",
    "          validation_data=gen_batches_cbow(sentences,  window=8),\n",
    "          batch_size=1000,\n",
    "          steps_per_epoch=4000,\n",
    "          validation_steps=30,\n",
    "         epochs=2)"
   ]
  },
  {
   "cell_type": "code",
   "execution_count": 172,
   "id": "e14e1286-ed3f-48f8-9b57-5dd5c06b0f83",
   "metadata": {
    "id": "e14e1286-ed3f-48f8-9b57-5dd5c06b0f83"
   },
   "outputs": [],
   "source": [
    "cbow_embeddings = cbow_model.layers[2].get_weights()[0]"
   ]
  },
  {
   "cell_type": "code",
   "execution_count": 173,
   "id": "ya65vpp2D59x",
   "metadata": {
    "colab": {
     "base_uri": "https://localhost:8080/"
    },
    "id": "ya65vpp2D59x",
    "outputId": "363400e5-a47e-4880-eec5-b93a97342c67"
   },
   "outputs": [
    {
     "data": {
      "text/plain": [
       "['школа',\n",
       " 'студент',\n",
       " 'работать',\n",
       " 'университет',\n",
       " 'учиться',\n",
       " 'училище',\n",
       " 'учитель',\n",
       " 'институт',\n",
       " 'искусство',\n",
       " 'обучаться']"
      ]
     },
     "execution_count": 173,
     "metadata": {},
     "output_type": "execute_result"
    }
   ],
   "source": [
    "most_similar('школа', cbow_embeddings)"
   ]
  },
  {
   "cell_type": "code",
   "execution_count": 174,
   "id": "JwA7SabyD59z",
   "metadata": {
    "colab": {
     "base_uri": "https://localhost:8080/"
    },
    "id": "JwA7SabyD59z",
    "outputId": "94575a83-f874-4d7a-93c9-79ad8044dbb0"
   },
   "outputs": [
    {
     "data": {
      "text/plain": [
       "['награда',\n",
       " 'медаль',\n",
       " 'награждать',\n",
       " 'удостаиваться',\n",
       " 'вручаться',\n",
       " 'премия',\n",
       " 'вручать',\n",
       " 'заслуга',\n",
       " 'награждение',\n",
       " 'приз']"
      ]
     },
     "execution_count": 174,
     "metadata": {},
     "output_type": "execute_result"
    }
   ],
   "source": [
    "most_similar('награда', cbow_embeddings)"
   ]
  },
  {
   "cell_type": "code",
   "execution_count": 175,
   "id": "19nB3eWzD590",
   "metadata": {
    "colab": {
     "base_uri": "https://localhost:8080/"
    },
    "id": "19nB3eWzD590",
    "outputId": "b07d9851-76b0-464a-d4cc-cd8528c4f6d7"
   },
   "outputs": [
    {
     "data": {
      "text/plain": [
       "['дуб',\n",
       " 'береза',\n",
       " 'сосна',\n",
       " 'широколиственный',\n",
       " 'лягушка',\n",
       " 'субальпийский',\n",
       " 'произрастать',\n",
       " 'липа',\n",
       " 'хвойный',\n",
       " 'листва']"
      ]
     },
     "execution_count": 175,
     "metadata": {},
     "output_type": "execute_result"
    }
   ],
   "source": [
    "most_similar('дуб', cbow_embeddings)"
   ]
  },
  {
   "cell_type": "code",
   "execution_count": 176,
   "id": "vDYqDlz76g61",
   "metadata": {
    "colab": {
     "base_uri": "https://localhost:8080/"
    },
    "id": "vDYqDlz76g61",
    "outputId": "9f110e8c-24a4-4171-9ba6-b0eb8b7d0276"
   },
   "outputs": [
    {
     "name": "stdout",
     "output_type": "stream",
     "text": [
      "Model: \"model_12\"\n",
      "__________________________________________________________________________________________________\n",
      " Layer (type)                Output Shape                 Param #   Connected to                  \n",
      "==================================================================================================\n",
      " input_20 (InputLayer)       [(None, 1)]                  0         []                            \n",
      "                                                                                                  \n",
      " input_21 (InputLayer)       [(None, 10)]                 0         []                            \n",
      "                                                                                                  \n",
      " embedding_19 (Embedding)    (None, 1, 200)               3063800   ['input_20[0][0]']            \n",
      "                                                                                                  \n",
      " embedding_20 (Embedding)    (None, 10, 200)              3063800   ['input_21[0][0]']            \n",
      "                                                                                                  \n",
      " flatten_7 (Flatten)         (None, 200)                  0         ['embedding_19[0][0]']        \n",
      "                                                                                                  \n",
      " lambda_11 (Lambda)          (None, 200)                  0         ['embedding_20[0][0]']        \n",
      "                                                                                                  \n",
      " dot_6 (Dot)                 (None, 1)                    0         ['flatten_7[0][0]',           \n",
      "                                                                     'lambda_11[0][0]']           \n",
      "                                                                                                  \n",
      " activation_6 (Activation)   (None, 1)                    0         ['dot_6[0][0]']               \n",
      "                                                                                                  \n",
      "==================================================================================================\n",
      "Total params: 6127600 (23.37 MB)\n",
      "Trainable params: 6127600 (23.37 MB)\n",
      "Non-trainable params: 0 (0.00 Byte)\n",
      "__________________________________________________________________________________________________\n"
     ]
    }
   ],
   "source": [
    "cbow_model.summary()"
   ]
  },
  {
   "cell_type": "markdown",
   "id": "c3b61b7c",
   "metadata": {
    "id": "c3b61b7c",
    "jp-MarkdownHeadingCollapsed": true
   },
   "source": [
    "# Задание 2 (3 балла)"
   ]
  },
  {
   "cell_type": "markdown",
   "id": "66eff080",
   "metadata": {
    "id": "66eff080"
   },
   "source": [
    "Обучите 1 word2vec и 1 fastext модель в gensim. В каждой из модели нужно задать все параметры, которые мы разбирали на семинаре. Заданные значения должны отличаться от дефолтных и от тех, что мы использовали на семинаре."
   ]
  },
  {
   "cell_type": "markdown",
   "id": "G7DXnMXeDXpp",
   "metadata": {
    "id": "G7DXnMXeDXpp"
   },
   "source": [
    "## *word2vec*"
   ]
  },
  {
   "cell_type": "code",
   "execution_count": 179,
   "id": "986c2018",
   "metadata": {
    "id": "986c2018"
   },
   "outputs": [],
   "source": [
    "#!pip install gensim"
   ]
  },
  {
   "cell_type": "code",
   "execution_count": 20,
   "id": "e5035bdc",
   "metadata": {
    "id": "e5035bdc"
   },
   "outputs": [],
   "source": [
    "import gensim"
   ]
  },
  {
   "cell_type": "code",
   "execution_count": 21,
   "id": "mdCmq8JTNSlg",
   "metadata": {
    "id": "mdCmq8JTNSlg"
   },
   "outputs": [],
   "source": [
    "?gensim.models.Word2Vec"
   ]
  },
  {
   "cell_type": "code",
   "execution_count": 193,
   "id": "1jEqsvGTNSvd",
   "metadata": {
    "colab": {
     "base_uri": "https://localhost:8080/",
     "height": 35
    },
    "id": "1jEqsvGTNSvd",
    "outputId": "ab497d80-b3a4-4abf-d502-258967e96d31"
   },
   "outputs": [
    {
     "data": {
      "application/vnd.google.colaboratory.intrinsic+json": {
       "type": "string"
      },
      "text/plain": [
       "'4.3.2'"
      ]
     },
     "execution_count": 193,
     "metadata": {},
     "output_type": "execute_result"
    }
   ],
   "source": [
    "gensim.__version__"
   ]
  },
  {
   "cell_type": "code",
   "execution_count": 22,
   "id": "Nw16aemBNSyX",
   "metadata": {
    "id": "Nw16aemBNSyX"
   },
   "outputs": [],
   "source": [
    "wiki = open('/content/drive/MyDrive/Colab Notebooks/wiki_data.txt').read().split('\\n')"
   ]
  },
  {
   "cell_type": "code",
   "execution_count": 23,
   "id": "kPXwFHC2GR7K",
   "metadata": {
    "colab": {
     "base_uri": "https://localhost:8080/"
    },
    "id": "kPXwFHC2GR7K",
    "outputId": "81021dff-fa2f-4a18-9767-af932e83458f"
   },
   "outputs": [
    {
     "data": {
      "text/plain": [
       "20003"
      ]
     },
     "execution_count": 23,
     "metadata": {},
     "output_type": "execute_result"
    }
   ],
   "source": [
    "len(wiki)"
   ]
  },
  {
   "cell_type": "code",
   "execution_count": 24,
   "id": "dOAGJcGiPkHr",
   "metadata": {
    "id": "dOAGJcGiPkHr"
   },
   "outputs": [],
   "source": [
    "def preprocess(text):\n",
    "    tokens = re.sub('#+', ' ', text.lower()).split()\n",
    "    tokens = [token.strip(punctuation) for token in tokens]\n",
    "    tokens = [token for token in tokens if token]\n",
    "    return tokens"
   ]
  },
  {
   "cell_type": "code",
   "execution_count": 25,
   "id": "DxVCbvIyNS4F",
   "metadata": {
    "id": "DxVCbvIyNS4F"
   },
   "outputs": [],
   "source": [
    "texts = [preprocess(text) for text in wiki]"
   ]
  },
  {
   "cell_type": "code",
   "execution_count": 26,
   "id": "UhXSVnHXEDIg",
   "metadata": {
    "colab": {
     "base_uri": "https://localhost:8080/"
    },
    "id": "UhXSVnHXEDIg",
    "outputId": "0df735fe-1dbf-427f-d9d0-d401a41f5121"
   },
   "outputs": [
    {
     "data": {
      "text/plain": [
       "20003"
      ]
     },
     "execution_count": 26,
     "metadata": {},
     "output_type": "execute_result"
    }
   ],
   "source": [
    "len(texts)"
   ]
  },
  {
   "cell_type": "code",
   "execution_count": 48,
   "id": "d3cdy2cCNS7Z",
   "metadata": {
    "colab": {
     "base_uri": "https://localhost:8080/"
    },
    "id": "d3cdy2cCNS7Z",
    "outputId": "8cf7ddb4-e1f0-49f0-8c49-8309d52a6302"
   },
   "outputs": [
    {
     "name": "stdout",
     "output_type": "stream",
     "text": [
      "CPU times: user 4min 38s, sys: 983 ms, total: 4min 39s\n",
      "Wall time: 2min 47s\n"
     ]
    }
   ],
   "source": [
    "%%time\n",
    "w2v = gensim.models.Word2Vec(texts,\n",
    "                             vector_size=100,\n",
    "                             min_count=2,\n",
    "                             max_vocab_size=2000000,\n",
    "                             window=7,\n",
    "                             epochs=10,\n",
    "                             sg=0,\n",
    "                             hs=0,\n",
    "                             negative=10,\n",
    "                             ns_exponent=0.75)"
   ]
  },
  {
   "cell_type": "code",
   "execution_count": 49,
   "id": "gmEFkLaINS-M",
   "metadata": {
    "colab": {
     "base_uri": "https://localhost:8080/"
    },
    "id": "gmEFkLaINS-M",
    "outputId": "ad326695-33de-4297-8bba-4784f4a1ab92"
   },
   "outputs": [
    {
     "data": {
      "text/plain": [
       "[('библиотека', 0.8635463118553162),\n",
       " ('больница', 0.8274450898170471),\n",
       " ('начальная', 0.8189181685447693),\n",
       " ('общеобразовательная', 0.794535756111145),\n",
       " ('школа»', 0.774200439453125),\n",
       " ('мельница', 0.7735310792922974),\n",
       " ('мечеть', 0.7665143013000488),\n",
       " ('земская', 0.7623246908187866),\n",
       " ('церковно-приходская', 0.7528213858604431),\n",
       " ('амбулатория', 0.7400420308113098)]"
      ]
     },
     "execution_count": 49,
     "metadata": {},
     "output_type": "execute_result"
    }
   ],
   "source": [
    "w2v.wv.most_similar('школа')"
   ]
  },
  {
   "cell_type": "code",
   "execution_count": 50,
   "id": "fhtFMsEnK5YA",
   "metadata": {
    "colab": {
     "base_uri": "https://localhost:8080/"
    },
    "id": "fhtFMsEnK5YA",
    "outputId": "3e3456df-a9fc-4ad8-9a57-0eabff01e4aa"
   },
   "outputs": [
    {
     "data": {
      "text/plain": [
       "[('премия', 0.8354505896568298),\n",
       " ('ежегодная', 0.8080328702926636),\n",
       " ('вручаемая', 0.7899661660194397),\n",
       " ('присуждаемая', 0.7689447402954102),\n",
       " ('вручается', 0.7675710320472717),\n",
       " ('роль»', 0.7424097061157227),\n",
       " ('присуждается', 0.7419078350067139),\n",
       " ('награждена', 0.7342870831489563),\n",
       " ('удостоена', 0.7277912497520447),\n",
       " ('вручалась', 0.7214802503585815)]"
      ]
     },
     "execution_count": 50,
     "metadata": {},
     "output_type": "execute_result"
    }
   ],
   "source": [
    "w2v.wv.most_similar('награда')"
   ]
  },
  {
   "cell_type": "code",
   "execution_count": 51,
   "id": "8_z7feY-NTEA",
   "metadata": {
    "colab": {
     "base_uri": "https://localhost:8080/"
    },
    "id": "8_z7feY-NTEA",
    "outputId": "087b9070-01a2-4720-c3d8-31e8ad6d09ee"
   },
   "outputs": [
    {
     "data": {
      "text/plain": [
       "[('сосна', 0.888418436050415),\n",
       " ('лесной', 0.83096843957901),\n",
       " ('ель', 0.8297629952430725),\n",
       " ('черешчатый', 0.8231375813484192),\n",
       " ('лиственница', 0.8215847015380859),\n",
       " ('массив', 0.8167522549629211),\n",
       " ('певун', 0.8114539384841919),\n",
       " ('липа', 0.8084785342216492),\n",
       " ('бук', 0.8066466450691223),\n",
       " ('сосны', 0.8055039048194885)]"
      ]
     },
     "execution_count": 51,
     "metadata": {},
     "output_type": "execute_result"
    }
   ],
   "source": [
    "w2v.wv.most_similar('дуб')"
   ]
  },
  {
   "cell_type": "markdown",
   "id": "ZLO9fcsADdhL",
   "metadata": {
    "id": "ZLO9fcsADdhL"
   },
   "source": [
    "## *fastext*"
   ]
  },
  {
   "cell_type": "code",
   "execution_count": 167,
   "id": "LIR_ubBTLc7t",
   "metadata": {
    "colab": {
     "base_uri": "https://localhost:8080/"
    },
    "id": "LIR_ubBTLc7t",
    "outputId": "eaea3ea0-00cd-4f45-b8e1-f0ffa310891d"
   },
   "outputs": [
    {
     "name": "stdout",
     "output_type": "stream",
     "text": [
      "CPU times: user 4min 14s, sys: 1.86 s, total: 4min 16s\n",
      "Wall time: 2min 29s\n"
     ]
    }
   ],
   "source": [
    "%%time\n",
    "ft = gensim.models.FastText(\n",
    "    texts,\n",
    "    min_n=4,\n",
    "    max_n=9,\n",
    "    vector_size=200,\n",
    "    min_count=20,\n",
    "    max_vocab_size=18000,\n",
    "    window=7,\n",
    "    epochs=6\n",
    ")"
   ]
  },
  {
   "cell_type": "code",
   "execution_count": 168,
   "id": "lNokvEzlMYrn",
   "metadata": {
    "colab": {
     "base_uri": "https://localhost:8080/"
    },
    "id": "lNokvEzlMYrn",
    "outputId": "94e6e4cc-321e-4b51-9a8a-296d4512eb15"
   },
   "outputs": [
    {
     "data": {
      "text/plain": [
       "[('церкви', 0.7999461889266968),\n",
       " ('храм', 0.7809791564941406),\n",
       " ('построена', 0.766800582408905),\n",
       " ('храма', 0.7586629986763),\n",
       " ('церквей', 0.7304018139839172),\n",
       " ('монастыря', 0.7257094979286194),\n",
       " ('монастырь', 0.725253701210022),\n",
       " ('монастыре', 0.7233832478523254),\n",
       " ('иконы', 0.6746119856834412),\n",
       " ('собор', 0.6553686857223511)]"
      ]
     },
     "execution_count": 168,
     "metadata": {},
     "output_type": "execute_result"
    }
   ],
   "source": [
    "ft.wv.most_similar('церковь')"
   ]
  },
  {
   "cell_type": "code",
   "execution_count": 169,
   "id": "DNigvXxNMZXV",
   "metadata": {
    "colab": {
     "base_uri": "https://localhost:8080/"
    },
    "id": "DNigvXxNMZXV",
    "outputId": "ea4db9fb-7f43-44a4-b792-48a2f57dc945"
   },
   "outputs": [
    {
     "data": {
      "text/plain": [
       "[('наград', 0.9833800196647644),\n",
       " ('награды', 0.9741664528846741),\n",
       " ('«за', 0.7661421298980713),\n",
       " ('награждён', 0.7626065015792847),\n",
       " ('медалью', 0.7455712556838989),\n",
       " ('медалями', 0.7408798933029175),\n",
       " ('заслуги', 0.736426591873169),\n",
       " ('«золотой', 0.7206846475601196),\n",
       " ('ордена', 0.7107876539230347),\n",
       " ('орденом', 0.7028277516365051)]"
      ]
     },
     "execution_count": 169,
     "metadata": {},
     "output_type": "execute_result"
    }
   ],
   "source": [
    "ft.wv.most_similar('награда')"
   ]
  },
  {
   "cell_type": "code",
   "execution_count": null,
   "id": "VZyiExmGMZrW",
   "metadata": {
    "id": "VZyiExmGMZrW"
   },
   "outputs": [],
   "source": [
    "ft.wv.most_similar('дуб')"
   ]
  },
  {
   "cell_type": "markdown",
   "id": "e4bb928c",
   "metadata": {
    "id": "e4bb928c"
   },
   "source": [
    "# Задание 3 (4 балла)"
   ]
  },
  {
   "cell_type": "markdown",
   "id": "3019b0d1",
   "metadata": {
    "id": "3019b0d1"
   },
   "source": [
    "Используя датасет для классификации (labeled.csv) и простую нейронную сеть (последняя модель в семинаре), оцените качество полученных эмбедингов в задании 1 и 2 (4 набора эмбедингов), также проверьте 1 любую из предобученных моделей с rus-vectores (но только не tayga_upos_skipgram_300_2_2019).\n",
    "Какая модель показывает наилучший результат?\n",
    "\n",
    "Убедитесь, что для каждой модели вы корректно воспроизводите пайплайн предобработки (в 1 задании у вас лемматизация, не забудьте ее применить к датасету для классификации; у выбранной предобученной модели может быть своя специфичная предобработка - ее нужно воспроизвести)"
   ]
  },
  {
   "cell_type": "code",
   "execution_count": 178,
   "id": "ed908832",
   "metadata": {
    "id": "ed908832"
   },
   "outputs": [],
   "source": [
    "#data = pd.read_csv('/content/drive/MyDrive/Colab Notebooks/labeled.csv')\n",
    "data = pd.read_csv('labeled.csv')"
   ]
  },
  {
   "cell_type": "markdown",
   "id": "Xtp5YaH_Rdo-",
   "metadata": {
    "id": "Xtp5YaH_Rdo-",
    "jp-MarkdownHeadingCollapsed": true
   },
   "source": [
    "## 1) Эмбединги skip gram из первого задания"
   ]
  },
  {
   "cell_type": "code",
   "execution_count": 179,
   "id": "k3-GSWtzSgTp",
   "metadata": {
    "id": "k3-GSWtzSgTp"
   },
   "outputs": [],
   "source": [
    "data['norm_text'] = data.comment.apply(lem_preprocess)"
   ]
  },
  {
   "cell_type": "code",
   "execution_count": 180,
   "id": "n3Z38OxIssv0",
   "metadata": {
    "colab": {
     "base_uri": "https://localhost:8080/",
     "height": 555
    },
    "id": "n3Z38OxIssv0",
    "outputId": "daa16420-c580-4b53-a09d-f70905884487"
   },
   "outputs": [
    {
     "data": {
      "text/html": [
       "<div>\n",
       "<style scoped>\n",
       "    .dataframe tbody tr th:only-of-type {\n",
       "        vertical-align: middle;\n",
       "    }\n",
       "\n",
       "    .dataframe tbody tr th {\n",
       "        vertical-align: top;\n",
       "    }\n",
       "\n",
       "    .dataframe thead th {\n",
       "        text-align: right;\n",
       "    }\n",
       "</style>\n",
       "<table border=\"1\" class=\"dataframe\">\n",
       "  <thead>\n",
       "    <tr style=\"text-align: right;\">\n",
       "      <th></th>\n",
       "      <th>comment</th>\n",
       "      <th>toxic</th>\n",
       "      <th>norm_text</th>\n",
       "    </tr>\n",
       "  </thead>\n",
       "  <tbody>\n",
       "    <tr>\n",
       "      <th>0</th>\n",
       "      <td>Верблюдов-то за что? Дебилы, бл...\\n</td>\n",
       "      <td>1.0</td>\n",
       "      <td>[верблюд, то, за, что, дебил]</td>\n",
       "    </tr>\n",
       "    <tr>\n",
       "      <th>1</th>\n",
       "      <td>Хохлы, это отдушина затюканого россиянина, мол...</td>\n",
       "      <td>1.0</td>\n",
       "      <td>[хохол, это, отдушина, затюканый, россиянин, м...</td>\n",
       "    </tr>\n",
       "    <tr>\n",
       "      <th>2</th>\n",
       "      <td>Собаке - собачья смерть\\n</td>\n",
       "      <td>1.0</td>\n",
       "      <td>[собака, собачий, смерть]</td>\n",
       "    </tr>\n",
       "    <tr>\n",
       "      <th>3</th>\n",
       "      <td>Страницу обнови, дебил. Это тоже не оскорблени...</td>\n",
       "      <td>1.0</td>\n",
       "      <td>[страница, обновлять, дебил, это, тоже, не, ос...</td>\n",
       "    </tr>\n",
       "    <tr>\n",
       "      <th>4</th>\n",
       "      <td>тебя не убедил 6-страничный пдф в том, что Скр...</td>\n",
       "      <td>1.0</td>\n",
       "      <td>[ты, не, убеждать, страничный, в, то, что, скр...</td>\n",
       "    </tr>\n",
       "    <tr>\n",
       "      <th>...</th>\n",
       "      <td>...</td>\n",
       "      <td>...</td>\n",
       "      <td>...</td>\n",
       "    </tr>\n",
       "    <tr>\n",
       "      <th>14407</th>\n",
       "      <td>Вонючий совковый скот прибежал и ноет. А вот и...</td>\n",
       "      <td>1.0</td>\n",
       "      <td>[вонючий, совковый, скот, прибегать, и, ныть, ...</td>\n",
       "    </tr>\n",
       "    <tr>\n",
       "      <th>14408</th>\n",
       "      <td>А кого любить? Гоблина тупорылого что-ли? Или ...</td>\n",
       "      <td>1.0</td>\n",
       "      <td>[а, кто, любить, гоблин, тупорылый, что, ли, и...</td>\n",
       "    </tr>\n",
       "    <tr>\n",
       "      <th>14409</th>\n",
       "      <td>Посмотрел Утомленных солнцем 2. И оказалось, ч...</td>\n",
       "      <td>0.0</td>\n",
       "      <td>[посмотреть, утомленный, солнце, и, оказыватьс...</td>\n",
       "    </tr>\n",
       "    <tr>\n",
       "      <th>14410</th>\n",
       "      <td>КРЫМОТРЕД НАРУШАЕТ ПРАВИЛА РАЗДЕЛА Т.К В НЕМ Н...</td>\n",
       "      <td>1.0</td>\n",
       "      <td>[крымотред, нарушать, правило, раздел, т, к, в...</td>\n",
       "    </tr>\n",
       "    <tr>\n",
       "      <th>14411</th>\n",
       "      <td>До сих пор пересматриваю его видео. Орамбо кст...</td>\n",
       "      <td>0.0</td>\n",
       "      <td>[до, сей, пора, пересматривать, он, видео, ора...</td>\n",
       "    </tr>\n",
       "  </tbody>\n",
       "</table>\n",
       "<p>14412 rows × 3 columns</p>\n",
       "</div>"
      ],
      "text/plain": [
       "                                                 comment  toxic  \\\n",
       "0                   Верблюдов-то за что? Дебилы, бл...\\n    1.0   \n",
       "1      Хохлы, это отдушина затюканого россиянина, мол...    1.0   \n",
       "2                              Собаке - собачья смерть\\n    1.0   \n",
       "3      Страницу обнови, дебил. Это тоже не оскорблени...    1.0   \n",
       "4      тебя не убедил 6-страничный пдф в том, что Скр...    1.0   \n",
       "...                                                  ...    ...   \n",
       "14407  Вонючий совковый скот прибежал и ноет. А вот и...    1.0   \n",
       "14408  А кого любить? Гоблина тупорылого что-ли? Или ...    1.0   \n",
       "14409  Посмотрел Утомленных солнцем 2. И оказалось, ч...    0.0   \n",
       "14410  КРЫМОТРЕД НАРУШАЕТ ПРАВИЛА РАЗДЕЛА Т.К В НЕМ Н...    1.0   \n",
       "14411  До сих пор пересматриваю его видео. Орамбо кст...    0.0   \n",
       "\n",
       "                                               norm_text  \n",
       "0                          [верблюд, то, за, что, дебил]  \n",
       "1      [хохол, это, отдушина, затюканый, россиянин, м...  \n",
       "2                              [собака, собачий, смерть]  \n",
       "3      [страница, обновлять, дебил, это, тоже, не, ос...  \n",
       "4      [ты, не, убеждать, страничный, в, то, что, скр...  \n",
       "...                                                  ...  \n",
       "14407  [вонючий, совковый, скот, прибегать, и, ныть, ...  \n",
       "14408  [а, кто, любить, гоблин, тупорылый, что, ли, и...  \n",
       "14409  [посмотреть, утомленный, солнце, и, оказыватьс...  \n",
       "14410  [крымотред, нарушать, правило, раздел, т, к, в...  \n",
       "14411  [до, сей, пора, пересматривать, он, видео, ора...  \n",
       "\n",
       "[14412 rows x 3 columns]"
      ]
     },
     "execution_count": 180,
     "metadata": {},
     "output_type": "execute_result"
    }
   ],
   "source": [
    "data"
   ]
  },
  {
   "cell_type": "code",
   "execution_count": 181,
   "id": "bd2lVUU0ssv2",
   "metadata": {
    "colab": {
     "base_uri": "https://localhost:8080/"
    },
    "id": "bd2lVUU0ssv2",
    "outputId": "3bef7045-9936-4e2d-a2a9-cc2c118e1b45"
   },
   "outputs": [
    {
     "data": {
      "text/plain": [
       "6058"
      ]
     },
     "execution_count": 181,
     "metadata": {},
     "output_type": "execute_result"
    }
   ],
   "source": [
    "vocab = Counter()\n",
    "\n",
    "for text in data['norm_text']:\n",
    "    vocab.update(text)\n",
    "\n",
    "filtered_vocab = set()\n",
    "\n",
    "for word in vocab:\n",
    "    if vocab[word] > 5:\n",
    "        filtered_vocab.add(word)\n",
    "\n",
    "len(filtered_vocab)"
   ]
  },
  {
   "cell_type": "code",
   "execution_count": 182,
   "id": "kwLuFTIFssv4",
   "metadata": {
    "id": "kwLuFTIFssv4"
   },
   "outputs": [],
   "source": [
    "word2id = { 'PAD':0}\n",
    "\n",
    "for word in filtered_vocab:\n",
    "    word2id[word] = len(word2id)\n",
    "id2word = {i:word for word, i in word2id.items()}"
   ]
  },
  {
   "cell_type": "code",
   "execution_count": 183,
   "id": "KvB0ziA_ssv5",
   "metadata": {
    "id": "KvB0ziA_ssv5"
   },
   "outputs": [],
   "source": [
    "X = []\n",
    "\n",
    "for tokens in data['norm_text']:\n",
    "    ids = [word2id[token] for token in tokens if token in word2id]\n",
    "    X.append(ids)"
   ]
  },
  {
   "cell_type": "code",
   "execution_count": 184,
   "id": "0nem8NcSssv6",
   "metadata": {
    "id": "0nem8NcSssv6"
   },
   "outputs": [],
   "source": [
    "X = tf.keras.preprocessing.sequence.pad_sequences(X, maxlen=300)\n",
    "y = data.toxic.values"
   ]
  },
  {
   "cell_type": "code",
   "execution_count": 185,
   "id": "EUtYHmbwssv8",
   "metadata": {
    "id": "EUtYHmbwssv8"
   },
   "outputs": [],
   "source": [
    "X_train, X_valid, y_train, y_valid = train_test_split(X, y, test_size=0.05)"
   ]
  },
  {
   "cell_type": "code",
   "execution_count": 186,
   "id": "b89ca814-f31d-4652-a3a3-416404fc0a3a",
   "metadata": {},
   "outputs": [
    {
     "data": {
      "text/plain": [
       "(13691, 300)"
      ]
     },
     "execution_count": 186,
     "metadata": {},
     "output_type": "execute_result"
    }
   ],
   "source": [
    "X_train.shape"
   ]
  },
  {
   "cell_type": "code",
   "execution_count": 187,
   "id": "32ee4872-f51e-424e-8a7a-74ab97e6a714",
   "metadata": {},
   "outputs": [
    {
     "data": {
      "text/plain": [
       "(13691,)"
      ]
     },
     "execution_count": 187,
     "metadata": {},
     "output_type": "execute_result"
    }
   ],
   "source": [
    "y_train.shape"
   ]
  },
  {
   "cell_type": "code",
   "execution_count": 110,
   "id": "h_cKD3PZ2361",
   "metadata": {
    "id": "h_cKD3PZ2361"
   },
   "outputs": [],
   "source": [
    "weights = np.zeros((len(word2id), 300))\n",
    "\n",
    "for word, i in word2id.items():\n",
    "    # вектор паддинга оставим нулевым\n",
    "    if word == 'PAD':\n",
    "        continue\n",
    "\n",
    "    try:\n",
    "        weights[i] = skip_gram_embedding_model.layers[2].get_weights()[0][i]\n",
    "\n",
    "    except KeyError:\n",
    "        # для слов, которых нет в модели тоже возьмем какой-то  рандомный вектор\n",
    "        continue\n",
    "        weights[i] = np.random.rand(300)\n",
    "        print(f\"Word: {word}, Index: {i}, Random Weight: {weights}\")"
   ]
  },
  {
   "cell_type": "code",
   "execution_count": 111,
   "id": "uo-_uoJn2sAH",
   "metadata": {
    "id": "uo-_uoJn2sAH"
   },
   "outputs": [],
   "source": [
    "\n",
    "\n",
    "inputs = tf.keras.layers.Input(shape=(300,))\n",
    "\n",
    "# передаем матрицу в эмбединг слой\n",
    "# указываем параметр trainable=False, чтобы вектора не обучались\n",
    "# Пояснение: кажется, что обучение векторов отключать не стоит, так как модель должна взять готовые\n",
    "# эмбединги и подогнать их к нашей задаче. На практитке это однако не работает - эмбединги просто\n",
    "# обучатся заново\n",
    "embeddings = tf.keras.layers.Embedding(input_dim=len(word2id), output_dim=300,\n",
    "                                       trainable=False,\n",
    "                                       weights=[weights])(inputs, )\n",
    "mean = tf.keras.layers.Lambda(lambda x: tf.keras.backend.mean(x,  axis=1))(embeddings)\n",
    "\n",
    "outputs = tf.keras.layers.Dense(1, activation='sigmoid')(mean)\n",
    "\n",
    "model = tf.keras.Model(inputs=inputs, outputs=outputs)\n",
    "optimizer = tf.keras.optimizers.Adam()\n",
    "model.compile(optimizer=optimizer,\n",
    "              loss='binary_crossentropy',\n",
    "              metrics=['accuracy'])"
   ]
  },
  {
   "cell_type": "code",
   "execution_count": 112,
   "id": "ny3fNA1D2yf4",
   "metadata": {
    "colab": {
     "base_uri": "https://localhost:8080/"
    },
    "id": "ny3fNA1D2yf4",
    "outputId": "a2b7d7d2-e7db-42d6-9407-57872b0103d3",
    "scrolled": true
   },
   "outputs": [
    {
     "name": "stdout",
     "output_type": "stream",
     "text": [
      "Epoch 1/50\n",
      "428/428 [==============================] - 5s 9ms/step - loss: 0.6572 - accuracy: 0.6651 - val_loss: 0.6498 - val_accuracy: 0.6463\n",
      "Epoch 2/50\n",
      "428/428 [==============================] - 4s 9ms/step - loss: 0.6320 - accuracy: 0.6661 - val_loss: 0.6466 - val_accuracy: 0.6463\n",
      "Epoch 3/50\n",
      "428/428 [==============================] - 4s 10ms/step - loss: 0.6286 - accuracy: 0.6661 - val_loss: 0.6472 - val_accuracy: 0.6463\n",
      "Epoch 4/50\n",
      "428/428 [==============================] - 4s 8ms/step - loss: 0.6280 - accuracy: 0.6661 - val_loss: 0.6477 - val_accuracy: 0.6463\n",
      "Epoch 5/50\n",
      "428/428 [==============================] - 4s 9ms/step - loss: 0.6277 - accuracy: 0.6661 - val_loss: 0.6474 - val_accuracy: 0.6463\n",
      "Epoch 6/50\n",
      "428/428 [==============================] - 4s 9ms/step - loss: 0.6274 - accuracy: 0.6661 - val_loss: 0.6474 - val_accuracy: 0.6463\n",
      "Epoch 7/50\n",
      "428/428 [==============================] - 4s 9ms/step - loss: 0.6271 - accuracy: 0.6661 - val_loss: 0.6473 - val_accuracy: 0.6463\n",
      "Epoch 8/50\n",
      "428/428 [==============================] - 4s 9ms/step - loss: 0.6268 - accuracy: 0.6661 - val_loss: 0.6470 - val_accuracy: 0.6463\n",
      "Epoch 9/50\n",
      "428/428 [==============================] - 3s 8ms/step - loss: 0.6265 - accuracy: 0.6661 - val_loss: 0.6468 - val_accuracy: 0.6463\n",
      "Epoch 10/50\n",
      "428/428 [==============================] - 3s 8ms/step - loss: 0.6262 - accuracy: 0.6661 - val_loss: 0.6467 - val_accuracy: 0.6463\n",
      "Epoch 11/50\n",
      "428/428 [==============================] - 3s 8ms/step - loss: 0.6259 - accuracy: 0.6661 - val_loss: 0.6467 - val_accuracy: 0.6463\n",
      "Epoch 12/50\n",
      "428/428 [==============================] - 4s 9ms/step - loss: 0.6256 - accuracy: 0.6661 - val_loss: 0.6466 - val_accuracy: 0.6463\n",
      "Epoch 13/50\n",
      "428/428 [==============================] - 4s 10ms/step - loss: 0.6254 - accuracy: 0.6661 - val_loss: 0.6460 - val_accuracy: 0.6463\n",
      "Epoch 14/50\n",
      "428/428 [==============================] - 4s 9ms/step - loss: 0.6251 - accuracy: 0.6661 - val_loss: 0.6459 - val_accuracy: 0.6463\n",
      "Epoch 15/50\n",
      "428/428 [==============================] - 4s 9ms/step - loss: 0.6248 - accuracy: 0.6661 - val_loss: 0.6456 - val_accuracy: 0.6463\n",
      "Epoch 16/50\n",
      "428/428 [==============================] - 4s 9ms/step - loss: 0.6246 - accuracy: 0.6661 - val_loss: 0.6454 - val_accuracy: 0.6463\n",
      "Epoch 17/50\n",
      "428/428 [==============================] - 4s 8ms/step - loss: 0.6243 - accuracy: 0.6661 - val_loss: 0.6453 - val_accuracy: 0.6463\n",
      "Epoch 18/50\n",
      "428/428 [==============================] - 3s 8ms/step - loss: 0.6240 - accuracy: 0.6661 - val_loss: 0.6451 - val_accuracy: 0.6463\n",
      "Epoch 19/50\n",
      "428/428 [==============================] - 4s 9ms/step - loss: 0.6238 - accuracy: 0.6661 - val_loss: 0.6451 - val_accuracy: 0.6463\n",
      "Epoch 20/50\n",
      "428/428 [==============================] - 4s 9ms/step - loss: 0.6235 - accuracy: 0.6661 - val_loss: 0.6452 - val_accuracy: 0.6463\n",
      "Epoch 21/50\n",
      "428/428 [==============================] - 4s 9ms/step - loss: 0.6233 - accuracy: 0.6661 - val_loss: 0.6446 - val_accuracy: 0.6463\n",
      "Epoch 22/50\n",
      "428/428 [==============================] - 4s 8ms/step - loss: 0.6230 - accuracy: 0.6661 - val_loss: 0.6444 - val_accuracy: 0.6463\n",
      "Epoch 23/50\n",
      "428/428 [==============================] - 4s 9ms/step - loss: 0.6227 - accuracy: 0.6661 - val_loss: 0.6441 - val_accuracy: 0.6463\n",
      "Epoch 24/50\n",
      "428/428 [==============================] - 3s 8ms/step - loss: 0.6225 - accuracy: 0.6661 - val_loss: 0.6441 - val_accuracy: 0.6463\n",
      "Epoch 25/50\n",
      "428/428 [==============================] - 3s 8ms/step - loss: 0.6222 - accuracy: 0.6661 - val_loss: 0.6436 - val_accuracy: 0.6463\n",
      "Epoch 26/50\n",
      "428/428 [==============================] - 3s 8ms/step - loss: 0.6220 - accuracy: 0.6661 - val_loss: 0.6438 - val_accuracy: 0.6463\n",
      "Epoch 27/50\n",
      "428/428 [==============================] - 4s 9ms/step - loss: 0.6217 - accuracy: 0.6661 - val_loss: 0.6435 - val_accuracy: 0.6463\n",
      "Epoch 28/50\n",
      "428/428 [==============================] - 3s 8ms/step - loss: 0.6215 - accuracy: 0.6661 - val_loss: 0.6434 - val_accuracy: 0.6463\n",
      "Epoch 29/50\n",
      "428/428 [==============================] - 3s 8ms/step - loss: 0.6212 - accuracy: 0.6661 - val_loss: 0.6434 - val_accuracy: 0.6463\n",
      "Epoch 30/50\n",
      "428/428 [==============================] - 3s 8ms/step - loss: 0.6210 - accuracy: 0.6661 - val_loss: 0.6430 - val_accuracy: 0.6463\n",
      "Epoch 31/50\n",
      "428/428 [==============================] - 3s 8ms/step - loss: 0.6207 - accuracy: 0.6661 - val_loss: 0.6431 - val_accuracy: 0.6463\n",
      "Epoch 32/50\n",
      "428/428 [==============================] - 4s 8ms/step - loss: 0.6205 - accuracy: 0.6661 - val_loss: 0.6427 - val_accuracy: 0.6463\n",
      "Epoch 33/50\n",
      "428/428 [==============================] - 3s 8ms/step - loss: 0.6203 - accuracy: 0.6661 - val_loss: 0.6423 - val_accuracy: 0.6463\n",
      "Epoch 34/50\n",
      "428/428 [==============================] - 4s 8ms/step - loss: 0.6200 - accuracy: 0.6661 - val_loss: 0.6422 - val_accuracy: 0.6463\n",
      "Epoch 35/50\n",
      "428/428 [==============================] - 4s 8ms/step - loss: 0.6198 - accuracy: 0.6661 - val_loss: 0.6422 - val_accuracy: 0.6463\n",
      "Epoch 36/50\n",
      "428/428 [==============================] - 4s 9ms/step - loss: 0.6196 - accuracy: 0.6661 - val_loss: 0.6420 - val_accuracy: 0.6463\n",
      "Epoch 37/50\n",
      "428/428 [==============================] - 4s 9ms/step - loss: 0.6193 - accuracy: 0.6661 - val_loss: 0.6420 - val_accuracy: 0.6463\n",
      "Epoch 38/50\n",
      "428/428 [==============================] - 3s 8ms/step - loss: 0.6191 - accuracy: 0.6661 - val_loss: 0.6420 - val_accuracy: 0.6463\n",
      "Epoch 39/50\n",
      "428/428 [==============================] - 3s 8ms/step - loss: 0.6189 - accuracy: 0.6661 - val_loss: 0.6417 - val_accuracy: 0.6463\n",
      "Epoch 40/50\n",
      "428/428 [==============================] - 3s 8ms/step - loss: 0.6187 - accuracy: 0.6661 - val_loss: 0.6416 - val_accuracy: 0.6463\n",
      "Epoch 41/50\n",
      "428/428 [==============================] - 3s 8ms/step - loss: 0.6185 - accuracy: 0.6661 - val_loss: 0.6414 - val_accuracy: 0.6463\n",
      "Epoch 42/50\n",
      "428/428 [==============================] - 3s 8ms/step - loss: 0.6182 - accuracy: 0.6661 - val_loss: 0.6413 - val_accuracy: 0.6463\n",
      "Epoch 43/50\n",
      "428/428 [==============================] - 3s 8ms/step - loss: 0.6180 - accuracy: 0.6661 - val_loss: 0.6409 - val_accuracy: 0.6463\n",
      "Epoch 44/50\n",
      "428/428 [==============================] - 3s 8ms/step - loss: 0.6178 - accuracy: 0.6661 - val_loss: 0.6407 - val_accuracy: 0.6463\n",
      "Epoch 45/50\n",
      "428/428 [==============================] - 3s 8ms/step - loss: 0.6176 - accuracy: 0.6661 - val_loss: 0.6404 - val_accuracy: 0.6463\n",
      "Epoch 46/50\n",
      "428/428 [==============================] - 3s 8ms/step - loss: 0.6174 - accuracy: 0.6661 - val_loss: 0.6403 - val_accuracy: 0.6463\n",
      "Epoch 47/50\n",
      "428/428 [==============================] - 3s 8ms/step - loss: 0.6172 - accuracy: 0.6661 - val_loss: 0.6402 - val_accuracy: 0.6463\n",
      "Epoch 48/50\n",
      "428/428 [==============================] - 3s 8ms/step - loss: 0.6169 - accuracy: 0.6661 - val_loss: 0.6402 - val_accuracy: 0.6463\n",
      "Epoch 49/50\n",
      "428/428 [==============================] - 3s 8ms/step - loss: 0.6167 - accuracy: 0.6661 - val_loss: 0.6401 - val_accuracy: 0.6463\n",
      "Epoch 50/50\n",
      "428/428 [==============================] - 3s 8ms/step - loss: 0.6165 - accuracy: 0.6661 - val_loss: 0.6398 - val_accuracy: 0.6463\n"
     ]
    },
    {
     "data": {
      "text/plain": [
       "<keras.src.callbacks.History at 0x13b301dd0>"
      ]
     },
     "execution_count": 112,
     "metadata": {},
     "output_type": "execute_result"
    }
   ],
   "source": [
    "\n",
    "model.fit(X_train, y_train,\n",
    "          validation_data=(X_valid, y_valid),\n",
    "          batch_size=32,\n",
    "          epochs=50)\n"
   ]
  },
  {
   "cell_type": "code",
   "execution_count": 113,
   "id": "cFjSJ_GC8KbJ",
   "metadata": {
    "colab": {
     "base_uri": "https://localhost:8080/",
     "height": 489
    },
    "id": "cFjSJ_GC8KbJ",
    "outputId": "af67cd6f-3ea7-4493-a744-a1c7082813a0"
   },
   "outputs": [
    {
     "name": "stdout",
     "output_type": "stream",
     "text": [
      "dict_keys(['loss', 'accuracy', 'val_loss', 'val_accuracy'])\n"
     ]
    },
    {
     "data": {
      "image/png": "[encoded data removed]",
      "text/plain": [
       "<Figure size 640x480 with 1 Axes>"
      ]
     },
     "metadata": {},
     "output_type": "display_data"
    }
   ],
   "source": [
    "print(model.history.history.keys())\n",
    "# summarize history for accuracy\n",
    "plt.plot(model.history.history['accuracy'])\n",
    "plt.plot(model.history.history['val_accuracy'])\n",
    "plt.title('model accuracy')\n",
    "plt.ylabel('accuracy')\n",
    "plt.xlabel('epoch')\n",
    "plt.legend(['train', 'val'], loc='upper left')\n",
    "plt.show()"
   ]
  },
  {
   "cell_type": "code",
   "execution_count": null,
   "id": "27be1595-454c-457a-ba05-bb3f4442bead",
   "metadata": {},
   "outputs": [],
   "source": [
    "# не получилось(("
   ]
  },
  {
   "cell_type": "markdown",
   "id": "EqG8pieLSgtr",
   "metadata": {
    "id": "EqG8pieLSgtr",
    "jp-MarkdownHeadingCollapsed": true
   },
   "source": [
    "## 2) Эмбединги CBOW из первого задания"
   ]
  },
  {
   "cell_type": "code",
   "execution_count": 191,
   "id": "94015bde-37b4-4a4a-aed2-da549f25459c",
   "metadata": {},
   "outputs": [],
   "source": [
    "X = tf.keras.preprocessing.sequence.pad_sequences(X, maxlen=200)\n",
    "y = data.toxic.values"
   ]
  },
  {
   "cell_type": "code",
   "execution_count": 192,
   "id": "a4db8cc1-c0ec-4ca2-9940-d7bef58ef144",
   "metadata": {},
   "outputs": [],
   "source": [
    "X_train, X_valid, y_train, y_valid = train_test_split(X, y, test_size=0.05)"
   ]
  },
  {
   "cell_type": "code",
   "execution_count": 208,
   "id": "8534f117-6f56-48ab-a9a9-6d41973146ee",
   "metadata": {},
   "outputs": [
    {
     "data": {
      "text/plain": [
       "[<keras.src.engine.input_layer.InputLayer at 0x168986e90>,\n",
       " <keras.src.layers.core.embedding.Embedding at 0x168952f50>,\n",
       " <keras.src.layers.core.lambda_layer.Lambda at 0x1681515d0>,\n",
       " <keras.src.layers.core.dense.Dense at 0x168953590>]"
      ]
     },
     "execution_count": 208,
     "metadata": {},
     "output_type": "execute_result"
    }
   ],
   "source": [
    "model.layers"
   ]
  },
  {
   "cell_type": "code",
   "execution_count": 210,
   "id": "f674eeca-9c27-44d1-bf81-5dcde4fd5a53",
   "metadata": {},
   "outputs": [],
   "source": [
    "embedding_layer = cbow_model.get_layer('embedding_19')\n",
    "embedding_weights = embedding_layer.get_weights()[0]"
   ]
  },
  {
   "cell_type": "code",
   "execution_count": 211,
   "id": "ndBRd5cI2pQM",
   "metadata": {
    "id": "ndBRd5cI2pQM"
   },
   "outputs": [],
   "source": [
    "weights = np.zeros((len(word2id), 200))\n",
    "\n",
    "for word, i in word2id.items():\n",
    "    # вектор паддинга оставим нулевым\n",
    "    if word == 'PAD':\n",
    "        continue\n",
    "\n",
    "    try:\n",
    "        weights[i] = embedding_weights[word2id[word]]\n",
    "       #weights[i] = cbow_model.get_layer('embedding_19').get_weights()[0][i]\n",
    "\n",
    "    except KeyError:\n",
    "        # для слов, которых нет в модели тоже возьмем какой-то  рандомный вектор\n",
    "        continue\n",
    "        weights[i] = np.random.rand(200)"
   ]
  },
  {
   "cell_type": "code",
   "execution_count": 212,
   "id": "ZqB74tneAl4W",
   "metadata": {
    "id": "ZqB74tneAl4W"
   },
   "outputs": [],
   "source": [
    "inputs = tf.keras.layers.Input(shape=(200,))\n",
    "\n",
    "# передаем матрицу в эмбединг слой\n",
    "# указываем параметр trainable=False, чтобы вектора не обучались\n",
    "# Пояснение: кажется, что обучение векторов отключать не стоит, так как модель должна взять готовые\n",
    "# эмбединги и подогнать их к нашей задаче. На практитке это однако не работает - эмбединги просто\n",
    "# обучатся заново\n",
    "embeddings = tf.keras.layers.Embedding(input_dim=len(word2id), output_dim=200,\n",
    "                                       trainable=False,\n",
    "                                       weights=[weights])(inputs, )\n",
    "mean = tf.keras.layers.Lambda(lambda x: tf.keras.backend.mean(x,  axis=1))(embeddings)\n",
    "\n",
    "outputs = tf.keras.layers.Dense(1, activation='sigmoid')(mean)\n",
    "\n",
    "model = tf.keras.Model(inputs=inputs, outputs=outputs)\n",
    "optimizer = tf.keras.optimizers.Adam()\n",
    "model.compile(optimizer=optimizer,\n",
    "              loss='binary_crossentropy',\n",
    "              metrics=['accuracy'])\n"
   ]
  },
  {
   "cell_type": "code",
   "execution_count": 213,
   "id": "RZuPaUBmA1fb",
   "metadata": {
    "id": "RZuPaUBmA1fb"
   },
   "outputs": [
    {
     "name": "stdout",
     "output_type": "stream",
     "text": [
      "Epoch 1/30\n",
      "428/428 [==============================] - 4s 7ms/step - loss: 0.6458 - accuracy: 0.6625 - val_loss: 0.6344 - val_accuracy: 0.6574\n",
      "Epoch 2/30\n",
      "428/428 [==============================] - 2s 5ms/step - loss: 0.6272 - accuracy: 0.6655 - val_loss: 0.6331 - val_accuracy: 0.6574\n",
      "Epoch 3/30\n",
      "428/428 [==============================] - 3s 7ms/step - loss: 0.6266 - accuracy: 0.6655 - val_loss: 0.6330 - val_accuracy: 0.6574\n",
      "Epoch 4/30\n",
      "428/428 [==============================] - 3s 6ms/step - loss: 0.6263 - accuracy: 0.6655 - val_loss: 0.6328 - val_accuracy: 0.6574\n",
      "Epoch 5/30\n",
      "428/428 [==============================] - 2s 5ms/step - loss: 0.6261 - accuracy: 0.6655 - val_loss: 0.6329 - val_accuracy: 0.6574\n",
      "Epoch 6/30\n",
      "428/428 [==============================] - 2s 5ms/step - loss: 0.6260 - accuracy: 0.6655 - val_loss: 0.6326 - val_accuracy: 0.6574\n",
      "Epoch 7/30\n",
      "428/428 [==============================] - 2s 4ms/step - loss: 0.6258 - accuracy: 0.6655 - val_loss: 0.6326 - val_accuracy: 0.6574\n",
      "Epoch 8/30\n",
      "428/428 [==============================] - 2s 4ms/step - loss: 0.6257 - accuracy: 0.6655 - val_loss: 0.6325 - val_accuracy: 0.6574\n",
      "Epoch 9/30\n",
      "428/428 [==============================] - 2s 5ms/step - loss: 0.6255 - accuracy: 0.6655 - val_loss: 0.6324 - val_accuracy: 0.6574\n",
      "Epoch 10/30\n",
      "428/428 [==============================] - 2s 4ms/step - loss: 0.6254 - accuracy: 0.6655 - val_loss: 0.6323 - val_accuracy: 0.6574\n",
      "Epoch 11/30\n",
      "428/428 [==============================] - 2s 5ms/step - loss: 0.6252 - accuracy: 0.6655 - val_loss: 0.6322 - val_accuracy: 0.6574\n",
      "Epoch 12/30\n",
      "428/428 [==============================] - 2s 5ms/step - loss: 0.6251 - accuracy: 0.6655 - val_loss: 0.6320 - val_accuracy: 0.6574\n",
      "Epoch 13/30\n",
      "428/428 [==============================] - 2s 5ms/step - loss: 0.6250 - accuracy: 0.6655 - val_loss: 0.6319 - val_accuracy: 0.6574\n",
      "Epoch 14/30\n",
      "428/428 [==============================] - 2s 5ms/step - loss: 0.6248 - accuracy: 0.6655 - val_loss: 0.6318 - val_accuracy: 0.6574\n",
      "Epoch 15/30\n",
      "428/428 [==============================] - 2s 5ms/step - loss: 0.6247 - accuracy: 0.6655 - val_loss: 0.6318 - val_accuracy: 0.6574\n",
      "Epoch 16/30\n",
      "428/428 [==============================] - 2s 5ms/step - loss: 0.6245 - accuracy: 0.6655 - val_loss: 0.6316 - val_accuracy: 0.6574\n",
      "Epoch 17/30\n",
      "428/428 [==============================] - 2s 5ms/step - loss: 0.6245 - accuracy: 0.6655 - val_loss: 0.6315 - val_accuracy: 0.6574\n",
      "Epoch 18/30\n",
      "428/428 [==============================] - 2s 5ms/step - loss: 0.6243 - accuracy: 0.6655 - val_loss: 0.6314 - val_accuracy: 0.6574\n",
      "Epoch 19/30\n",
      "428/428 [==============================] - 2s 5ms/step - loss: 0.6242 - accuracy: 0.6655 - val_loss: 0.6313 - val_accuracy: 0.6574\n",
      "Epoch 20/30\n",
      "428/428 [==============================] - 2s 4ms/step - loss: 0.6240 - accuracy: 0.6655 - val_loss: 0.6313 - val_accuracy: 0.6574\n",
      "Epoch 21/30\n",
      "428/428 [==============================] - 2s 4ms/step - loss: 0.6238 - accuracy: 0.6655 - val_loss: 0.6313 - val_accuracy: 0.6574\n",
      "Epoch 22/30\n",
      "428/428 [==============================] - 2s 4ms/step - loss: 0.6237 - accuracy: 0.6655 - val_loss: 0.6310 - val_accuracy: 0.6574\n",
      "Epoch 23/30\n",
      "428/428 [==============================] - 2s 4ms/step - loss: 0.6236 - accuracy: 0.6655 - val_loss: 0.6311 - val_accuracy: 0.6574\n",
      "Epoch 24/30\n",
      "428/428 [==============================] - 2s 4ms/step - loss: 0.6235 - accuracy: 0.6655 - val_loss: 0.6309 - val_accuracy: 0.6574\n",
      "Epoch 25/30\n",
      "428/428 [==============================] - 2s 4ms/step - loss: 0.6234 - accuracy: 0.6655 - val_loss: 0.6307 - val_accuracy: 0.6574\n",
      "Epoch 26/30\n",
      "428/428 [==============================] - 2s 4ms/step - loss: 0.6232 - accuracy: 0.6655 - val_loss: 0.6306 - val_accuracy: 0.6574\n",
      "Epoch 27/30\n",
      "428/428 [==============================] - 2s 4ms/step - loss: 0.6231 - accuracy: 0.6655 - val_loss: 0.6305 - val_accuracy: 0.6574\n",
      "Epoch 28/30\n",
      "428/428 [==============================] - 2s 4ms/step - loss: 0.6230 - accuracy: 0.6655 - val_loss: 0.6304 - val_accuracy: 0.6574\n",
      "Epoch 29/30\n",
      "428/428 [==============================] - 2s 4ms/step - loss: 0.6229 - accuracy: 0.6655 - val_loss: 0.6303 - val_accuracy: 0.6574\n",
      "Epoch 30/30\n",
      "428/428 [==============================] - 2s 4ms/step - loss: 0.6227 - accuracy: 0.6655 - val_loss: 0.6302 - val_accuracy: 0.6574\n"
     ]
    },
    {
     "data": {
      "text/plain": [
       "<keras.src.callbacks.History at 0x168699a90>"
      ]
     },
     "execution_count": 213,
     "metadata": {},
     "output_type": "execute_result"
    }
   ],
   "source": [
    "model.fit(X_train, y_train,\n",
    "          validation_data=(X_valid, y_valid),\n",
    "          batch_size=32,\n",
    "         epochs=30)"
   ]
  },
  {
   "cell_type": "code",
   "execution_count": 214,
   "id": "T8oHsP8OA38J",
   "metadata": {
    "id": "T8oHsP8OA38J"
   },
   "outputs": [
    {
     "name": "stdout",
     "output_type": "stream",
     "text": [
      "dict_keys(['loss', 'accuracy', 'val_loss', 'val_accuracy'])\n"
     ]
    },
    {
     "data": {
      "image/png": "[encoded data removed]",
      "text/plain": [
       "<Figure size 640x480 with 1 Axes>"
      ]
     },
     "metadata": {},
     "output_type": "display_data"
    }
   ],
   "source": [
    "print(model.history.history.keys())\n",
    "# summarize history for accuracy\n",
    "plt.plot(model.history.history['accuracy'])\n",
    "plt.plot(model.history.history['val_accuracy'])\n",
    "plt.title('model accuracy')\n",
    "plt.ylabel('accuracy')\n",
    "plt.xlabel('epoch')\n",
    "plt.legend(['train', 'val'], loc='upper left')\n",
    "plt.show()"
   ]
  },
  {
   "cell_type": "code",
   "execution_count": null,
   "id": "1d44ed71-85b1-4107-a9a4-ab097bddb24b",
   "metadata": {},
   "outputs": [],
   "source": [
    "# не работает :(("
   ]
  },
  {
   "cell_type": "markdown",
   "id": "eApenJ-eSj1K",
   "metadata": {
    "id": "eApenJ-eSj1K"
   },
   "source": [
    "## 3) Эмбединги word2vec из второго задания"
   ]
  },
  {
   "cell_type": "code",
   "execution_count": 54,
   "id": "FN5Vp1enx5wt",
   "metadata": {
    "id": "FN5Vp1enx5wt"
   },
   "outputs": [],
   "source": [
    "# предобработка без лемматизации\n",
    "data['norm_text'] = data.comment.apply(preprocess)"
   ]
  },
  {
   "cell_type": "code",
   "execution_count": 55,
   "id": "37skmk5lx5wu",
   "metadata": {
    "colab": {
     "base_uri": "https://localhost:8080/",
     "height": 555
    },
    "id": "37skmk5lx5wu",
    "outputId": "adf78d52-d332-48ee-fedb-59950bedeb6d"
   },
   "outputs": [
    {
     "data": {
      "text/html": [
       "\n",
       "  <div id=\"df-ecd6113b-4e0e-4b8a-9492-9a86700f0fb6\" class=\"colab-df-container\">\n",
       "    <div>\n",
       "<style scoped>\n",
       "    .dataframe tbody tr th:only-of-type {\n",
       "        vertical-align: middle;\n",
       "    }\n",
       "\n",
       "    .dataframe tbody tr th {\n",
       "        vertical-align: top;\n",
       "    }\n",
       "\n",
       "    .dataframe thead th {\n",
       "        text-align: right;\n",
       "    }\n",
       "</style>\n",
       "<table border=\"1\" class=\"dataframe\">\n",
       "  <thead>\n",
       "    <tr style=\"text-align: right;\">\n",
       "      <th></th>\n",
       "      <th>comment</th>\n",
       "      <th>toxic</th>\n",
       "      <th>norm_text</th>\n",
       "    </tr>\n",
       "  </thead>\n",
       "  <tbody>\n",
       "    <tr>\n",
       "      <th>0</th>\n",
       "      <td>Верблюдов-то за что? Дебилы, бл...\\n</td>\n",
       "      <td>1.0</td>\n",
       "      <td>[верблюдов-то, за, что, дебилы, бл]</td>\n",
       "    </tr>\n",
       "    <tr>\n",
       "      <th>1</th>\n",
       "      <td>Хохлы, это отдушина затюканого россиянина, мол...</td>\n",
       "      <td>1.0</td>\n",
       "      <td>[хохлы, это, отдушина, затюканого, россиянина,...</td>\n",
       "    </tr>\n",
       "    <tr>\n",
       "      <th>2</th>\n",
       "      <td>Собаке - собачья смерть\\n</td>\n",
       "      <td>1.0</td>\n",
       "      <td>[собаке, собачья, смерть]</td>\n",
       "    </tr>\n",
       "    <tr>\n",
       "      <th>3</th>\n",
       "      <td>Страницу обнови, дебил. Это тоже не оскорблени...</td>\n",
       "      <td>1.0</td>\n",
       "      <td>[страницу, обнови, дебил, это, тоже, не, оскор...</td>\n",
       "    </tr>\n",
       "    <tr>\n",
       "      <th>4</th>\n",
       "      <td>тебя не убедил 6-страничный пдф в том, что Скр...</td>\n",
       "      <td>1.0</td>\n",
       "      <td>[тебя, не, убедил, 6-страничный, пдф, в, том, ...</td>\n",
       "    </tr>\n",
       "    <tr>\n",
       "      <th>...</th>\n",
       "      <td>...</td>\n",
       "      <td>...</td>\n",
       "      <td>...</td>\n",
       "    </tr>\n",
       "    <tr>\n",
       "      <th>14407</th>\n",
       "      <td>Вонючий совковый скот прибежал и ноет. А вот и...</td>\n",
       "      <td>1.0</td>\n",
       "      <td>[вонючий, совковый, скот, прибежал, и, ноет, а...</td>\n",
       "    </tr>\n",
       "    <tr>\n",
       "      <th>14408</th>\n",
       "      <td>А кого любить? Гоблина тупорылого что-ли? Или ...</td>\n",
       "      <td>1.0</td>\n",
       "      <td>[а, кого, любить, гоблина, тупорылого, что-ли,...</td>\n",
       "    </tr>\n",
       "    <tr>\n",
       "      <th>14409</th>\n",
       "      <td>Посмотрел Утомленных солнцем 2. И оказалось, ч...</td>\n",
       "      <td>0.0</td>\n",
       "      <td>[посмотрел, утомленных, солнцем, 2, и, оказало...</td>\n",
       "    </tr>\n",
       "    <tr>\n",
       "      <th>14410</th>\n",
       "      <td>КРЫМОТРЕД НАРУШАЕТ ПРАВИЛА РАЗДЕЛА Т.К В НЕМ Н...</td>\n",
       "      <td>1.0</td>\n",
       "      <td>[крымотред, нарушает, правила, раздела, т.к, в...</td>\n",
       "    </tr>\n",
       "    <tr>\n",
       "      <th>14411</th>\n",
       "      <td>До сих пор пересматриваю его видео. Орамбо кст...</td>\n",
       "      <td>0.0</td>\n",
       "      <td>[до, сих, пор, пересматриваю, его, видео, орам...</td>\n",
       "    </tr>\n",
       "  </tbody>\n",
       "</table>\n",
       "<p>14412 rows × 3 columns</p>\n",
       "</div>\n",
       "    <div class=\"colab-df-buttons\">\n",
       "\n",
       "  <div class=\"colab-df-container\">\n",
       "    <button class=\"colab-df-convert\" onclick=\"convertToInteractive('df-ecd6113b-4e0e-4b8a-9492-9a86700f0fb6')\"\n",
       "            title=\"Convert this dataframe to an interactive table.\"\n",
       "            style=\"display:none;\">\n",
       "\n",
       "  <svg xmlns=\"http://www.w3.org/2000/svg\" height=\"24px\" viewBox=\"0 -960 960 960\">\n",
       "    <path d=\"M120-120v-720h720v720H120Zm60-500h600v-160H180v160Zm220 220h160v-160H400v160Zm0 220h160v-160H400v160ZM180-400h160v-160H180v160Zm440 0h160v-160H620v160ZM180-180h160v-160H180v160Zm440 0h160v-160H620v160Z\"/>\n",
       "  </svg>\n",
       "    </button>\n",
       "\n",
       "  <style>\n",
       "    .colab-df-container {\n",
       "      display:flex;\n",
       "      gap: 12px;\n",
       "    }\n",
       "\n",
       "    .colab-df-convert {\n",
       "      background-color: #E8F0FE;\n",
       "      border: none;\n",
       "      border-radius: 50%;\n",
       "      cursor: pointer;\n",
       "      display: none;\n",
       "      fill: #1967D2;\n",
       "      height: 32px;\n",
       "      padding: 0 0 0 0;\n",
       "      width: 32px;\n",
       "    }\n",
       "\n",
       "    .colab-df-convert:hover {\n",
       "      background-color: #E2EBFA;\n",
       "      box-shadow: 0px 1px 2px rgba(60, 64, 67, 0.3), 0px 1px 3px 1px rgba(60, 64, 67, 0.15);\n",
       "      fill: #174EA6;\n",
       "    }\n",
       "\n",
       "    .colab-df-buttons div {\n",
       "      margin-bottom: 4px;\n",
       "    }\n",
       "\n",
       "    [theme=dark] .colab-df-convert {\n",
       "      background-color: #3B4455;\n",
       "      fill: #D2E3FC;\n",
       "    }\n",
       "\n",
       "    [theme=dark] .colab-df-convert:hover {\n",
       "      background-color: #434B5C;\n",
       "      box-shadow: 0px 1px 3px 1px rgba(0, 0, 0, 0.15);\n",
       "      filter: drop-shadow(0px 1px 2px rgba(0, 0, 0, 0.3));\n",
       "      fill: #FFFFFF;\n",
       "    }\n",
       "  </style>\n",
       "\n",
       "    <script>\n",
       "      const buttonEl =\n",
       "        document.querySelector('#df-ecd6113b-4e0e-4b8a-9492-9a86700f0fb6 button.colab-df-convert');\n",
       "      buttonEl.style.display =\n",
       "        google.colab.kernel.accessAllowed ? 'block' : 'none';\n",
       "\n",
       "      async function convertToInteractive(key) {\n",
       "        const element = document.querySelector('#df-ecd6113b-4e0e-4b8a-9492-9a86700f0fb6');\n",
       "        const dataTable =\n",
       "          await google.colab.kernel.invokeFunction('convertToInteractive',\n",
       "                                                    [key], {});\n",
       "        if (!dataTable) return;\n",
       "\n",
       "        const docLinkHtml = 'Like what you see? Visit the ' +\n",
       "          '<a target=\"_blank\" href=https://colab.research.google.com/notebooks/data_table.ipynb>data table notebook</a>'\n",
       "          + ' to learn more about interactive tables.';\n",
       "        element.innerHTML = '';\n",
       "        dataTable['output_type'] = 'display_data';\n",
       "        await google.colab.output.renderOutput(dataTable, element);\n",
       "        const docLink = document.createElement('div');\n",
       "        docLink.innerHTML = docLinkHtml;\n",
       "        element.appendChild(docLink);\n",
       "      }\n",
       "    </script>\n",
       "  </div>\n",
       "\n",
       "\n",
       "<div id=\"df-45901b94-0b9e-4a17-b5ae-04086b67de8a\">\n",
       "  <button class=\"colab-df-quickchart\" onclick=\"quickchart('df-45901b94-0b9e-4a17-b5ae-04086b67de8a')\"\n",
       "            title=\"Suggest charts\"\n",
       "            style=\"display:none;\">\n",
       "\n",
       "<svg xmlns=\"http://www.w3.org/2000/svg\" height=\"24px\"viewBox=\"0 0 24 24\"\n",
       "     width=\"24px\">\n",
       "    <g>\n",
       "        <path d=\"M19 3H5c-1.1 0-2 .9-2 2v14c0 1.1.9 2 2 2h14c1.1 0 2-.9 2-2V5c0-1.1-.9-2-2-2zM9 17H7v-7h2v7zm4 0h-2V7h2v10zm4 0h-2v-4h2v4z\"/>\n",
       "    </g>\n",
       "</svg>\n",
       "  </button>\n",
       "\n",
       "<style>\n",
       "  .colab-df-quickchart {\n",
       "      --bg-color: #E8F0FE;\n",
       "      --fill-color: #1967D2;\n",
       "      --hover-bg-color: #E2EBFA;\n",
       "      --hover-fill-color: #174EA6;\n",
       "      --disabled-fill-color: #AAA;\n",
       "      --disabled-bg-color: #DDD;\n",
       "  }\n",
       "\n",
       "  [theme=dark] .colab-df-quickchart {\n",
       "      --bg-color: #3B4455;\n",
       "      --fill-color: #D2E3FC;\n",
       "      --hover-bg-color: #434B5C;\n",
       "      --hover-fill-color: #FFFFFF;\n",
       "      --disabled-bg-color: #3B4455;\n",
       "      --disabled-fill-color: #666;\n",
       "  }\n",
       "\n",
       "  .colab-df-quickchart {\n",
       "    background-color: var(--bg-color);\n",
       "    border: none;\n",
       "    border-radius: 50%;\n",
       "    cursor: pointer;\n",
       "    display: none;\n",
       "    fill: var(--fill-color);\n",
       "    height: 32px;\n",
       "    padding: 0;\n",
       "    width: 32px;\n",
       "  }\n",
       "\n",
       "  .colab-df-quickchart:hover {\n",
       "    background-color: var(--hover-bg-color);\n",
       "    box-shadow: 0 1px 2px rgba(60, 64, 67, 0.3), 0 1px 3px 1px rgba(60, 64, 67, 0.15);\n",
       "    fill: var(--button-hover-fill-color);\n",
       "  }\n",
       "\n",
       "  .colab-df-quickchart-complete:disabled,\n",
       "  .colab-df-quickchart-complete:disabled:hover {\n",
       "    background-color: var(--disabled-bg-color);\n",
       "    fill: var(--disabled-fill-color);\n",
       "    box-shadow: none;\n",
       "  }\n",
       "\n",
       "  .colab-df-spinner {\n",
       "    border: 2px solid var(--fill-color);\n",
       "    border-color: transparent;\n",
       "    border-bottom-color: var(--fill-color);\n",
       "    animation:\n",
       "      spin 1s steps(1) infinite;\n",
       "  }\n",
       "\n",
       "  @keyframes spin {\n",
       "    0% {\n",
       "      border-color: transparent;\n",
       "      border-bottom-color: var(--fill-color);\n",
       "      border-left-color: var(--fill-color);\n",
       "    }\n",
       "    20% {\n",
       "      border-color: transparent;\n",
       "      border-left-color: var(--fill-color);\n",
       "      border-top-color: var(--fill-color);\n",
       "    }\n",
       "    30% {\n",
       "      border-color: transparent;\n",
       "      border-left-color: var(--fill-color);\n",
       "      border-top-color: var(--fill-color);\n",
       "      border-right-color: var(--fill-color);\n",
       "    }\n",
       "    40% {\n",
       "      border-color: transparent;\n",
       "      border-right-color: var(--fill-color);\n",
       "      border-top-color: var(--fill-color);\n",
       "    }\n",
       "    60% {\n",
       "      border-color: transparent;\n",
       "      border-right-color: var(--fill-color);\n",
       "    }\n",
       "    80% {\n",
       "      border-color: transparent;\n",
       "      border-right-color: var(--fill-color);\n",
       "      border-bottom-color: var(--fill-color);\n",
       "    }\n",
       "    90% {\n",
       "      border-color: transparent;\n",
       "      border-bottom-color: var(--fill-color);\n",
       "    }\n",
       "  }\n",
       "</style>\n",
       "\n",
       "  <script>\n",
       "    async function quickchart(key) {\n",
       "      const quickchartButtonEl =\n",
       "        document.querySelector('#' + key + ' button');\n",
       "      quickchartButtonEl.disabled = true;  // To prevent multiple clicks.\n",
       "      quickchartButtonEl.classList.add('colab-df-spinner');\n",
       "      try {\n",
       "        const charts = await google.colab.kernel.invokeFunction(\n",
       "            'suggestCharts', [key], {});\n",
       "      } catch (error) {\n",
       "        console.error('Error during call to suggestCharts:', error);\n",
       "      }\n",
       "      quickchartButtonEl.classList.remove('colab-df-spinner');\n",
       "      quickchartButtonEl.classList.add('colab-df-quickchart-complete');\n",
       "    }\n",
       "    (() => {\n",
       "      let quickchartButtonEl =\n",
       "        document.querySelector('#df-45901b94-0b9e-4a17-b5ae-04086b67de8a button');\n",
       "      quickchartButtonEl.style.display =\n",
       "        google.colab.kernel.accessAllowed ? 'block' : 'none';\n",
       "    })();\n",
       "  </script>\n",
       "</div>\n",
       "    </div>\n",
       "  </div>\n"
      ],
      "text/plain": [
       "                                                 comment  toxic  \\\n",
       "0                   Верблюдов-то за что? Дебилы, бл...\\n    1.0   \n",
       "1      Хохлы, это отдушина затюканого россиянина, мол...    1.0   \n",
       "2                              Собаке - собачья смерть\\n    1.0   \n",
       "3      Страницу обнови, дебил. Это тоже не оскорблени...    1.0   \n",
       "4      тебя не убедил 6-страничный пдф в том, что Скр...    1.0   \n",
       "...                                                  ...    ...   \n",
       "14407  Вонючий совковый скот прибежал и ноет. А вот и...    1.0   \n",
       "14408  А кого любить? Гоблина тупорылого что-ли? Или ...    1.0   \n",
       "14409  Посмотрел Утомленных солнцем 2. И оказалось, ч...    0.0   \n",
       "14410  КРЫМОТРЕД НАРУШАЕТ ПРАВИЛА РАЗДЕЛА Т.К В НЕМ Н...    1.0   \n",
       "14411  До сих пор пересматриваю его видео. Орамбо кст...    0.0   \n",
       "\n",
       "                                               norm_text  \n",
       "0                    [верблюдов-то, за, что, дебилы, бл]  \n",
       "1      [хохлы, это, отдушина, затюканого, россиянина,...  \n",
       "2                              [собаке, собачья, смерть]  \n",
       "3      [страницу, обнови, дебил, это, тоже, не, оскор...  \n",
       "4      [тебя, не, убедил, 6-страничный, пдф, в, том, ...  \n",
       "...                                                  ...  \n",
       "14407  [вонючий, совковый, скот, прибежал, и, ноет, а...  \n",
       "14408  [а, кого, любить, гоблина, тупорылого, что-ли,...  \n",
       "14409  [посмотрел, утомленных, солнцем, 2, и, оказало...  \n",
       "14410  [крымотред, нарушает, правила, раздела, т.к, в...  \n",
       "14411  [до, сих, пор, пересматриваю, его, видео, орам...  \n",
       "\n",
       "[14412 rows x 3 columns]"
      ]
     },
     "execution_count": 55,
     "metadata": {},
     "output_type": "execute_result"
    }
   ],
   "source": [
    "data"
   ]
  },
  {
   "cell_type": "code",
   "execution_count": 56,
   "id": "v9r0YVdDx5ww",
   "metadata": {
    "colab": {
     "base_uri": "https://localhost:8080/"
    },
    "id": "v9r0YVdDx5ww",
    "outputId": "46f5dfdc-3b69-432b-8faf-31ffeff97191"
   },
   "outputs": [
    {
     "data": {
      "text/plain": [
       "7231"
      ]
     },
     "execution_count": 56,
     "metadata": {},
     "output_type": "execute_result"
    }
   ],
   "source": [
    "vocab = Counter()\n",
    "\n",
    "for text in data['norm_text']:\n",
    "    vocab.update(text)\n",
    "\n",
    "filtered_vocab = set()\n",
    "\n",
    "for word in vocab:\n",
    "    if vocab[word] > 5:\n",
    "        filtered_vocab.add(word)\n",
    "\n",
    "len(filtered_vocab)"
   ]
  },
  {
   "cell_type": "code",
   "execution_count": 57,
   "id": "JmU0x344x5wx",
   "metadata": {
    "id": "JmU0x344x5wx"
   },
   "outputs": [],
   "source": [
    "word2id = { 'PAD':0}\n",
    "\n",
    "for word in filtered_vocab:\n",
    "    word2id[word] = len(word2id)\n",
    "id2word = {i:word for word, i in word2id.items()}"
   ]
  },
  {
   "cell_type": "code",
   "execution_count": 58,
   "id": "iSkqY1wEx5wy",
   "metadata": {
    "id": "iSkqY1wEx5wy"
   },
   "outputs": [],
   "source": [
    "X = []\n",
    "\n",
    "for tokens in data['norm_text']:\n",
    "    ids = [word2id[token] for token in tokens if token in word2id]\n",
    "    X.append(ids)"
   ]
  },
  {
   "cell_type": "code",
   "execution_count": 59,
   "id": "brRKSC-xx5wz",
   "metadata": {
    "id": "brRKSC-xx5wz"
   },
   "outputs": [],
   "source": [
    "X = tf.keras.preprocessing.sequence.pad_sequences(X, maxlen=100)\n",
    "y = data.toxic.values"
   ]
  },
  {
   "cell_type": "code",
   "execution_count": 60,
   "id": "a1VoHTYax5wz",
   "metadata": {
    "id": "a1VoHTYax5wz"
   },
   "outputs": [],
   "source": [
    "X_train, X_valid, y_train, y_valid = train_test_split(X, y, test_size=0.05)"
   ]
  },
  {
   "cell_type": "code",
   "execution_count": 61,
   "id": "fRpWQS-wSxsA",
   "metadata": {
    "id": "fRpWQS-wSxsA"
   },
   "outputs": [],
   "source": [
    "weights = np.zeros((len(word2id), 100))\n",
    "\n",
    "for word, i in word2id.items():\n",
    "    # вектор паддинга оставим нулевым\n",
    "    if word == 'PAD':\n",
    "        continue\n",
    "\n",
    "    try:\n",
    "        weights[i] = w2v.wv[word]\n",
    "\n",
    "\n",
    "    except KeyError:\n",
    "        # для слов, которых нет в модели тоже возьмем какой-то  рандомный вектор\n",
    "        continue\n",
    "        weights[i] = w2v.wv['опрагпллирао']"
   ]
  },
  {
   "cell_type": "code",
   "execution_count": 62,
   "id": "nJvOwvGSTZ_B",
   "metadata": {
    "id": "nJvOwvGSTZ_B"
   },
   "outputs": [],
   "source": [
    "inputs = tf.keras.layers.Input(shape=(100,))\n",
    "\n",
    "# передаем матрицу в эмбединг слой\n",
    "# указываем параметр trainable=False, чтобы вектора не обучались\n",
    "# Пояснение: кажется, что обучение векторов отключать не стоит, так как модель должна взять готовые\n",
    "# эмбединги и подогнать их к нашей задаче. На практитке это однако не работает - эмбединги просто\n",
    "# обучатся заново\n",
    "embeddings = tf.keras.layers.Embedding(input_dim=len(word2id), output_dim=100,\n",
    "                                       trainable=False,\n",
    "                                       weights=[weights])(inputs, )\n",
    "mean = tf.keras.layers.Lambda(lambda x: tf.keras.backend.mean(x,  axis=1))(embeddings)\n",
    "\n",
    "outputs = tf.keras.layers.Dense(1, activation='sigmoid')(mean)\n",
    "\n",
    "model = tf.keras.Model(inputs=inputs, outputs=outputs)\n",
    "optimizer = tf.keras.optimizers.Adam()\n",
    "model.compile(optimizer=optimizer,\n",
    "              loss='binary_crossentropy',\n",
    "              metrics=['accuracy'])\n"
   ]
  },
  {
   "cell_type": "code",
   "execution_count": 63,
   "id": "la3LtPSQaBLW",
   "metadata": {
    "colab": {
     "base_uri": "https://localhost:8080/"
    },
    "id": "la3LtPSQaBLW",
    "outputId": "759a5a98-1ba3-4206-c564-16b7484bfd25"
   },
   "outputs": [
    {
     "name": "stdout",
     "output_type": "stream",
     "text": [
      "Epoch 1/30\n",
      "428/428 [==============================] - 2s 2ms/step - loss: 0.6117 - accuracy: 0.6629 - val_loss: 0.5793 - val_accuracy: 0.6921\n",
      "Epoch 2/30\n",
      "428/428 [==============================] - 1s 2ms/step - loss: 0.5889 - accuracy: 0.6672 - val_loss: 0.5647 - val_accuracy: 0.6963\n",
      "Epoch 3/30\n",
      "428/428 [==============================] - 1s 2ms/step - loss: 0.5763 - accuracy: 0.6739 - val_loss: 0.5525 - val_accuracy: 0.7004\n",
      "Epoch 4/30\n",
      "428/428 [==============================] - 1s 2ms/step - loss: 0.5675 - accuracy: 0.6807 - val_loss: 0.5474 - val_accuracy: 0.7129\n",
      "Epoch 5/30\n",
      "428/428 [==============================] - 1s 2ms/step - loss: 0.5610 - accuracy: 0.6890 - val_loss: 0.5388 - val_accuracy: 0.7212\n",
      "Epoch 6/30\n",
      "428/428 [==============================] - 1s 2ms/step - loss: 0.5561 - accuracy: 0.6935 - val_loss: 0.5349 - val_accuracy: 0.7212\n",
      "Epoch 7/30\n",
      "428/428 [==============================] - 1s 2ms/step - loss: 0.5521 - accuracy: 0.6981 - val_loss: 0.5305 - val_accuracy: 0.7268\n",
      "Epoch 8/30\n",
      "428/428 [==============================] - 1s 3ms/step - loss: 0.5486 - accuracy: 0.7024 - val_loss: 0.5297 - val_accuracy: 0.7406\n",
      "Epoch 9/30\n",
      "428/428 [==============================] - 1s 3ms/step - loss: 0.5460 - accuracy: 0.7062 - val_loss: 0.5258 - val_accuracy: 0.7393\n",
      "Epoch 10/30\n",
      "428/428 [==============================] - 1s 2ms/step - loss: 0.5435 - accuracy: 0.7111 - val_loss: 0.5208 - val_accuracy: 0.7393\n",
      "Epoch 11/30\n",
      "428/428 [==============================] - 1s 2ms/step - loss: 0.5414 - accuracy: 0.7121 - val_loss: 0.5233 - val_accuracy: 0.7351\n",
      "Epoch 12/30\n",
      "428/428 [==============================] - 1s 2ms/step - loss: 0.5395 - accuracy: 0.7173 - val_loss: 0.5200 - val_accuracy: 0.7434\n",
      "Epoch 13/30\n",
      "428/428 [==============================] - 1s 2ms/step - loss: 0.5379 - accuracy: 0.7190 - val_loss: 0.5192 - val_accuracy: 0.7420\n",
      "Epoch 14/30\n",
      "428/428 [==============================] - 1s 2ms/step - loss: 0.5367 - accuracy: 0.7210 - val_loss: 0.5169 - val_accuracy: 0.7420\n",
      "Epoch 15/30\n",
      "428/428 [==============================] - 1s 2ms/step - loss: 0.5355 - accuracy: 0.7213 - val_loss: 0.5162 - val_accuracy: 0.7448\n",
      "Epoch 16/30\n",
      "428/428 [==============================] - 1s 2ms/step - loss: 0.5343 - accuracy: 0.7231 - val_loss: 0.5119 - val_accuracy: 0.7476\n",
      "Epoch 17/30\n",
      "428/428 [==============================] - 1s 2ms/step - loss: 0.5333 - accuracy: 0.7233 - val_loss: 0.5115 - val_accuracy: 0.7448\n",
      "Epoch 18/30\n",
      "428/428 [==============================] - 1s 2ms/step - loss: 0.5323 - accuracy: 0.7254 - val_loss: 0.5109 - val_accuracy: 0.7490\n",
      "Epoch 19/30\n",
      "428/428 [==============================] - 1s 2ms/step - loss: 0.5315 - accuracy: 0.7259 - val_loss: 0.5100 - val_accuracy: 0.7476\n",
      "Epoch 20/30\n",
      "428/428 [==============================] - 1s 2ms/step - loss: 0.5307 - accuracy: 0.7276 - val_loss: 0.5092 - val_accuracy: 0.7476\n",
      "Epoch 21/30\n",
      "428/428 [==============================] - 1s 2ms/step - loss: 0.5298 - accuracy: 0.7272 - val_loss: 0.5090 - val_accuracy: 0.7462\n",
      "Epoch 22/30\n",
      "428/428 [==============================] - 1s 3ms/step - loss: 0.5291 - accuracy: 0.7281 - val_loss: 0.5082 - val_accuracy: 0.7462\n",
      "Epoch 23/30\n",
      "428/428 [==============================] - 1s 3ms/step - loss: 0.5284 - accuracy: 0.7289 - val_loss: 0.5084 - val_accuracy: 0.7476\n",
      "Epoch 24/30\n",
      "428/428 [==============================] - 1s 3ms/step - loss: 0.5278 - accuracy: 0.7297 - val_loss: 0.5076 - val_accuracy: 0.7503\n",
      "Epoch 25/30\n",
      "428/428 [==============================] - 1s 2ms/step - loss: 0.5273 - accuracy: 0.7302 - val_loss: 0.5055 - val_accuracy: 0.7517\n",
      "Epoch 26/30\n",
      "428/428 [==============================] - 1s 2ms/step - loss: 0.5267 - accuracy: 0.7295 - val_loss: 0.5057 - val_accuracy: 0.7476\n",
      "Epoch 27/30\n",
      "428/428 [==============================] - 1s 2ms/step - loss: 0.5262 - accuracy: 0.7316 - val_loss: 0.5053 - val_accuracy: 0.7517\n",
      "Epoch 28/30\n",
      "428/428 [==============================] - 1s 2ms/step - loss: 0.5256 - accuracy: 0.7314 - val_loss: 0.5070 - val_accuracy: 0.7476\n",
      "Epoch 29/30\n",
      "428/428 [==============================] - 1s 2ms/step - loss: 0.5253 - accuracy: 0.7318 - val_loss: 0.5045 - val_accuracy: 0.7559\n",
      "Epoch 30/30\n",
      "428/428 [==============================] - 1s 2ms/step - loss: 0.5247 - accuracy: 0.7316 - val_loss: 0.5062 - val_accuracy: 0.7503\n"
     ]
    },
    {
     "data": {
      "text/plain": [
       "<keras.src.callbacks.History at 0x7df8547f66e0>"
      ]
     },
     "execution_count": 63,
     "metadata": {},
     "output_type": "execute_result"
    }
   ],
   "source": [
    "# Обучаем модель\n",
    "model.fit(X_train, y_train,\n",
    "          validation_data=(X_valid, y_valid),\n",
    "          batch_size=32,\n",
    "          epochs=30)"
   ]
  },
  {
   "cell_type": "code",
   "execution_count": 64,
   "id": "5WpM73zibYD9",
   "metadata": {
    "colab": {
     "base_uri": "https://localhost:8080/",
     "height": 489
    },
    "id": "5WpM73zibYD9",
    "outputId": "bcc00a45-20bb-485e-e099-d264042192fa"
   },
   "outputs": [
    {
     "name": "stdout",
     "output_type": "stream",
     "text": [
      "dict_keys(['loss', 'accuracy', 'val_loss', 'val_accuracy'])\n"
     ]
    },
    {
     "data": {
      "image/png": "[encoded data removed]",
      "text/plain": [
       "<Figure size 640x480 with 1 Axes>"
      ]
     },
     "metadata": {},
     "output_type": "display_data"
    }
   ],
   "source": [
    "print(model.history.history.keys())\n",
    "# summarize history for accuracy\n",
    "plt.plot(model.history.history['accuracy'])\n",
    "plt.plot(model.history.history['val_accuracy'])\n",
    "plt.title('model accuracy')\n",
    "plt.ylabel('accuracy')\n",
    "plt.xlabel('epoch')\n",
    "plt.legend(['train', 'val'], loc='upper left')\n",
    "plt.show()"
   ]
  },
  {
   "cell_type": "markdown",
   "id": "R2pdmJkXSx3s",
   "metadata": {
    "id": "R2pdmJkXSx3s"
   },
   "source": [
    "## 4) Эмбединги fastext из второго задания"
   ]
  },
  {
   "cell_type": "code",
   "execution_count": null,
   "id": "TUXDjJewACeK",
   "metadata": {
    "id": "TUXDjJewACeK"
   },
   "outputs": [],
   "source": []
  },
  {
   "cell_type": "code",
   "execution_count": 173,
   "id": "xSZzzu7HAC0E",
   "metadata": {
    "id": "xSZzzu7HAC0E"
   },
   "outputs": [],
   "source": [
    "X = tf.keras.preprocessing.sequence.pad_sequences(X, maxlen=200)\n",
    "y = data.toxic.values"
   ]
  },
  {
   "cell_type": "code",
   "execution_count": 174,
   "id": "K1ZcXufgAC0I",
   "metadata": {
    "id": "K1ZcXufgAC0I"
   },
   "outputs": [],
   "source": [
    "X_train, X_valid, y_train, y_valid = train_test_split(X, y, test_size=0.05)"
   ]
  },
  {
   "cell_type": "code",
   "execution_count": 175,
   "id": "qQNOv2azRhp8",
   "metadata": {
    "colab": {
     "base_uri": "https://localhost:8080/"
    },
    "id": "qQNOv2azRhp8",
    "outputId": "1a3da1b8-1d8b-44af-e3e2-a7060291b42b"
   },
   "outputs": [
    {
     "name": "stderr",
     "output_type": "stream",
     "text": [
      "WARNING:gensim.models.fasttext:could not extract any ngrams from 'ж', returning origin vector\n",
      "WARNING:gensim.models.fasttext:could not extract any ngrams from 'ч', returning origin vector\n",
      "WARNING:gensim.models.fasttext:could not extract any ngrams from 'й', returning origin vector\n",
      "WARNING:gensim.models.fasttext:could not extract any ngrams from 'ы', returning origin vector\n",
      "WARNING:gensim.models.fasttext:could not extract any ngrams from 'з', returning origin vector\n"
     ]
    }
   ],
   "source": [
    "weights = np.zeros((len(word2id), 200))\n",
    "\n",
    "for word, i in word2id.items():\n",
    "    # вектор паддинга оставим нулевым\n",
    "    if word == 'PAD':\n",
    "        continue\n",
    "\n",
    "    try:\n",
    "        weights[i] = ft.wv[word]\n",
    "\n",
    "\n",
    "    except KeyError:\n",
    "        # для слов, которых нет в модели тоже возьмем какой-то  рандомный вектор\n",
    "        continue\n",
    "        weights[i] = ft.wv['опрагпллирао']\n"
   ]
  },
  {
   "cell_type": "code",
   "execution_count": 176,
   "id": "Vo0YJ0z7bOJ6",
   "metadata": {
    "id": "Vo0YJ0z7bOJ6"
   },
   "outputs": [],
   "source": [
    "inputs = tf.keras.layers.Input(shape=(200,))\n",
    "\n",
    "# передаем матрицу в эмбединг слой\n",
    "# указываем параметр trainable=False, чтобы вектора не обучались\n",
    "# Пояснение: кажется, что обучение векторов отключать не стоит, так как модель должна взять готовые\n",
    "# эмбединги и подогнать их к нашей задаче. На практитке это однако не работает - эмбединги просто\n",
    "# обучатся заново\n",
    "embeddings = tf.keras.layers.Embedding(input_dim=len(word2id), output_dim=200,\n",
    "                                       trainable=False,\n",
    "                                       weights=[weights])(inputs, )\n",
    "mean = tf.keras.layers.Lambda(lambda x: tf.keras.backend.mean(x,  axis=1))(embeddings)\n",
    "\n",
    "outputs = tf.keras.layers.Dense(1, activation='sigmoid')(mean)\n",
    "\n",
    "model = tf.keras.Model(inputs=inputs, outputs=outputs)\n",
    "optimizer = tf.keras.optimizers.Adam()\n",
    "model.compile(optimizer=optimizer,\n",
    "              loss='binary_crossentropy',\n",
    "              metrics=['accuracy'])\n"
   ]
  },
  {
   "cell_type": "code",
   "execution_count": 177,
   "id": "V1TDMXSXbteC",
   "metadata": {
    "colab": {
     "base_uri": "https://localhost:8080/"
    },
    "id": "V1TDMXSXbteC",
    "outputId": "01322e48-7ac3-4122-e8f4-a06a783d3b7e",
    "scrolled": true
   },
   "outputs": [
    {
     "name": "stdout",
     "output_type": "stream",
     "text": [
      "Epoch 1/30\n",
      "428/428 [==============================] - 2s 4ms/step - loss: 0.6319 - accuracy: 0.6628 - val_loss: 0.5954 - val_accuracy: 0.6838\n",
      "Epoch 2/30\n",
      "428/428 [==============================] - 2s 4ms/step - loss: 0.6170 - accuracy: 0.6642 - val_loss: 0.5860 - val_accuracy: 0.6838\n",
      "Epoch 3/30\n",
      "428/428 [==============================] - 1s 3ms/step - loss: 0.6097 - accuracy: 0.6644 - val_loss: 0.5788 - val_accuracy: 0.6852\n",
      "Epoch 4/30\n",
      "428/428 [==============================] - 1s 3ms/step - loss: 0.6045 - accuracy: 0.6647 - val_loss: 0.5760 - val_accuracy: 0.6879\n",
      "Epoch 5/30\n",
      "428/428 [==============================] - 1s 3ms/step - loss: 0.6008 - accuracy: 0.6670 - val_loss: 0.5693 - val_accuracy: 0.6879\n",
      "Epoch 6/30\n",
      "428/428 [==============================] - 1s 3ms/step - loss: 0.5977 - accuracy: 0.6691 - val_loss: 0.5672 - val_accuracy: 0.6893\n",
      "Epoch 7/30\n",
      "428/428 [==============================] - 1s 3ms/step - loss: 0.5953 - accuracy: 0.6699 - val_loss: 0.5657 - val_accuracy: 0.6907\n",
      "Epoch 8/30\n",
      "428/428 [==============================] - 1s 3ms/step - loss: 0.5932 - accuracy: 0.6715 - val_loss: 0.5630 - val_accuracy: 0.6935\n",
      "Epoch 9/30\n",
      "428/428 [==============================] - 1s 3ms/step - loss: 0.5913 - accuracy: 0.6722 - val_loss: 0.5620 - val_accuracy: 0.7032\n",
      "Epoch 10/30\n",
      "428/428 [==============================] - 1s 3ms/step - loss: 0.5897 - accuracy: 0.6733 - val_loss: 0.5603 - val_accuracy: 0.7032\n",
      "Epoch 11/30\n",
      "428/428 [==============================] - 2s 4ms/step - loss: 0.5883 - accuracy: 0.6739 - val_loss: 0.5595 - val_accuracy: 0.7032\n",
      "Epoch 12/30\n",
      "428/428 [==============================] - 1s 3ms/step - loss: 0.5867 - accuracy: 0.6737 - val_loss: 0.5528 - val_accuracy: 0.6963\n",
      "Epoch 13/30\n",
      "428/428 [==============================] - 1s 3ms/step - loss: 0.5859 - accuracy: 0.6744 - val_loss: 0.5562 - val_accuracy: 0.7060\n",
      "Epoch 14/30\n",
      "428/428 [==============================] - 1s 3ms/step - loss: 0.5846 - accuracy: 0.6748 - val_loss: 0.5561 - val_accuracy: 0.7060\n",
      "Epoch 15/30\n",
      "428/428 [==============================] - 1s 3ms/step - loss: 0.5837 - accuracy: 0.6752 - val_loss: 0.5533 - val_accuracy: 0.7087\n",
      "Epoch 16/30\n",
      "428/428 [==============================] - 1s 3ms/step - loss: 0.5827 - accuracy: 0.6756 - val_loss: 0.5532 - val_accuracy: 0.7087\n",
      "Epoch 17/30\n",
      "428/428 [==============================] - 1s 3ms/step - loss: 0.5817 - accuracy: 0.6763 - val_loss: 0.5504 - val_accuracy: 0.7115\n",
      "Epoch 18/30\n",
      "428/428 [==============================] - 1s 3ms/step - loss: 0.5809 - accuracy: 0.6769 - val_loss: 0.5524 - val_accuracy: 0.7074\n",
      "Epoch 19/30\n",
      "428/428 [==============================] - 1s 3ms/step - loss: 0.5801 - accuracy: 0.6772 - val_loss: 0.5481 - val_accuracy: 0.7129\n",
      "Epoch 20/30\n",
      "428/428 [==============================] - 1s 3ms/step - loss: 0.5796 - accuracy: 0.6774 - val_loss: 0.5489 - val_accuracy: 0.7087\n",
      "Epoch 21/30\n",
      "428/428 [==============================] - 2s 4ms/step - loss: 0.5788 - accuracy: 0.6780 - val_loss: 0.5479 - val_accuracy: 0.7115\n",
      "Epoch 22/30\n",
      "428/428 [==============================] - 1s 3ms/step - loss: 0.5781 - accuracy: 0.6780 - val_loss: 0.5490 - val_accuracy: 0.7074\n",
      "Epoch 23/30\n",
      "428/428 [==============================] - 1s 3ms/step - loss: 0.5775 - accuracy: 0.6792 - val_loss: 0.5479 - val_accuracy: 0.7074\n",
      "Epoch 24/30\n",
      "428/428 [==============================] - 1s 3ms/step - loss: 0.5769 - accuracy: 0.6799 - val_loss: 0.5440 - val_accuracy: 0.7115\n",
      "Epoch 25/30\n",
      "428/428 [==============================] - 1s 3ms/step - loss: 0.5764 - accuracy: 0.6808 - val_loss: 0.5438 - val_accuracy: 0.7101\n",
      "Epoch 26/30\n",
      "428/428 [==============================] - 1s 3ms/step - loss: 0.5758 - accuracy: 0.6807 - val_loss: 0.5477 - val_accuracy: 0.7087\n",
      "Epoch 27/30\n",
      "428/428 [==============================] - 1s 3ms/step - loss: 0.5754 - accuracy: 0.6804 - val_loss: 0.5468 - val_accuracy: 0.7087\n",
      "Epoch 28/30\n",
      "428/428 [==============================] - 1s 3ms/step - loss: 0.5748 - accuracy: 0.6817 - val_loss: 0.5451 - val_accuracy: 0.7101\n",
      "Epoch 29/30\n",
      "428/428 [==============================] - 1s 3ms/step - loss: 0.5744 - accuracy: 0.6813 - val_loss: 0.5469 - val_accuracy: 0.7074\n",
      "Epoch 30/30\n",
      "428/428 [==============================] - 2s 4ms/step - loss: 0.5738 - accuracy: 0.6823 - val_loss: 0.5466 - val_accuracy: 0.7115\n"
     ]
    },
    {
     "data": {
      "text/plain": [
       "<keras.src.callbacks.History at 0x7852fbd0d840>"
      ]
     },
     "execution_count": 177,
     "metadata": {},
     "output_type": "execute_result"
    }
   ],
   "source": [
    "model.fit(X_train, y_train,\n",
    "          validation_data=(X_valid, y_valid),\n",
    "          batch_size=32,\n",
    "         epochs=30)"
   ]
  },
  {
   "cell_type": "code",
   "execution_count": 178,
   "id": "CKvGP776bWLG",
   "metadata": {
    "colab": {
     "base_uri": "https://localhost:8080/",
     "height": 489
    },
    "id": "CKvGP776bWLG",
    "outputId": "a9b937ad-4800-4be7-fa8e-49fa984790d7"
   },
   "outputs": [
    {
     "name": "stdout",
     "output_type": "stream",
     "text": [
      "dict_keys(['loss', 'accuracy', 'val_loss', 'val_accuracy'])\n"
     ]
    },
    {
     "data": {
      "image/png": "[encoded data removed]",
      "text/plain": [
       "<Figure size 640x480 with 1 Axes>"
      ]
     },
     "metadata": {},
     "output_type": "display_data"
    }
   ],
   "source": [
    "print(model.history.history.keys())\n",
    "# summarize history for accuracy\n",
    "plt.plot(model.history.history['accuracy'])\n",
    "plt.plot(model.history.history['val_accuracy'])\n",
    "plt.title('model accuracy')\n",
    "plt.ylabel('accuracy')\n",
    "plt.xlabel('epoch')\n",
    "plt.legend(['train', 'val'], loc='upper left')\n",
    "plt.show()"
   ]
  },
  {
   "cell_type": "markdown",
   "id": "UtnGPg7FTU0p",
   "metadata": {
    "id": "UtnGPg7FTU0p"
   },
   "source": [
    "## 5) Эмбединги предобученной модели с rus-vectores"
   ]
  },
  {
   "cell_type": "code",
   "execution_count": 3,
   "id": "Qih1F3qCTawX",
   "metadata": {
    "colab": {
     "base_uri": "https://localhost:8080/",
     "height": 402
    },
    "id": "Qih1F3qCTawX",
    "outputId": "232f386f-7ddb-4c89-a4a1-7c54e26db56e"
   },
   "outputs": [],
   "source": [
    "import gensim"
   ]
  },
  {
   "cell_type": "code",
   "execution_count": 4,
   "id": "fa2ea74f-dbfa-41cc-b3b3-73de122c9747",
   "metadata": {},
   "outputs": [],
   "source": [
    "rusvec_model = gensim.models.KeyedVectors.load_word2vec_format('araneum_upos_skipgram_300_2_2018.vec', binary=False)"
   ]
  },
  {
   "cell_type": "code",
   "execution_count": 5,
   "id": "1kBruSFTYqeH",
   "metadata": {
    "id": "1kBruSFTYqeH",
    "scrolled": true
   },
   "outputs": [
    {
     "data": {
      "text/plain": [
       "array([ 0.077049,  0.047464,  0.06009 , -0.074989,  0.044796, -0.001967,\n",
       "       -0.029693,  0.043408,  0.064917, -0.040833, -0.061425, -0.029607,\n",
       "       -0.029905,  0.064318, -0.165209, -0.048543,  0.094033,  0.098251,\n",
       "        0.120046,  0.023853,  0.016249, -0.015089, -0.05077 , -0.01809 ,\n",
       "       -0.064637, -0.039266, -0.022106, -0.019366,  0.016014, -0.051354,\n",
       "        0.046586, -0.024155,  0.062748,  0.000681,  0.05134 ,  0.049167,\n",
       "        0.005723, -0.072041, -0.049427, -0.094474, -0.075772,  0.087238,\n",
       "       -0.023207, -0.043947, -0.005014,  0.048574, -0.008169, -0.016334,\n",
       "       -0.006644,  0.026402,  0.046584, -0.040629,  0.008602,  0.047264,\n",
       "        0.00828 ,  0.089396, -0.030152, -0.011632,  0.016811,  0.081198,\n",
       "       -0.042167, -0.004215,  0.079515,  0.061092,  0.065421, -0.090715,\n",
       "       -0.07259 ,  0.061831,  0.036428,  0.024443,  0.040917,  0.043281,\n",
       "        0.050277,  0.02531 ,  0.040681, -0.073628,  0.032021, -0.020285,\n",
       "       -0.001634, -0.073642, -0.092016, -0.010889,  0.014986,  0.083961,\n",
       "       -0.037115,  0.073271,  0.003354, -0.020166, -0.011193, -0.153913,\n",
       "        0.077515,  0.048687, -0.10863 ,  0.080093,  0.04904 , -0.015638,\n",
       "       -0.011593,  0.023486, -0.054422, -0.019362,  0.060243,  0.004193,\n",
       "        0.055972,  0.02419 , -0.035099, -0.037713, -0.05796 ,  0.044854,\n",
       "       -0.009581,  0.006213,  0.091667,  0.035143, -0.058419, -0.077955,\n",
       "        0.010467, -0.045589,  0.067338,  0.049547,  0.028813, -0.053835,\n",
       "       -0.040958, -0.059349, -0.051708, -0.01979 ,  0.060717, -0.064267,\n",
       "        0.000969,  0.010098,  0.007866,  0.037205, -0.035548,  0.031603,\n",
       "       -0.101909,  0.016248,  0.004228, -0.029127, -0.102244,  0.03937 ,\n",
       "       -0.011886, -0.048208, -0.040977,  0.017401,  0.041162, -0.030116,\n",
       "       -0.074647, -0.031459, -0.001456,  0.049032,  0.099571, -0.049697,\n",
       "        0.000542, -0.01695 ,  0.043604, -0.017133, -0.003281, -0.002051,\n",
       "       -0.068998,  0.010618, -0.051367, -0.080354,  0.016654,  0.029355,\n",
       "       -0.044999, -0.08382 , -0.067588,  0.007303,  0.018462,  0.047438,\n",
       "       -0.132176,  0.01172 ,  0.030804, -0.001147, -0.097051, -0.013091,\n",
       "       -0.051683,  0.107505,  0.001299,  0.081465, -0.106922, -0.02635 ,\n",
       "       -0.060651, -0.015804, -0.090327,  0.01674 , -0.019938,  0.053004,\n",
       "        0.0802  ,  0.075273, -0.011325,  0.104902,  0.118813,  0.014863,\n",
       "       -0.031739, -0.036848,  0.007057, -0.017402,  0.023001,  0.044251,\n",
       "        0.004787,  0.08071 , -0.158897, -0.081702, -0.040502, -0.022916,\n",
       "        0.022795, -0.027717,  0.046067,  0.029809, -0.050003, -0.033388,\n",
       "       -0.007351, -0.045664, -0.089034, -0.038753, -0.00454 , -0.072393,\n",
       "        0.023547,  0.028502, -0.019941,  0.036289, -0.054831,  0.03609 ,\n",
       "        0.117796, -0.036494,  0.054533,  0.010218, -0.05965 , -0.041402,\n",
       "        0.061536,  0.061666, -0.086688,  0.004461, -0.065211, -0.196897,\n",
       "       -0.064875, -0.000384,  0.00934 , -0.018347,  0.016305,  0.00207 ,\n",
       "        0.025788,  0.025661, -0.024847,  0.001329,  0.017222,  0.023123,\n",
       "        0.020163,  0.037764,  0.097089, -0.076315,  0.062176,  0.074422,\n",
       "       -0.104194, -0.054039,  0.004654,  0.034065,  0.054541,  0.022959,\n",
       "        0.040029,  0.037736, -0.041228, -0.077804,  0.103979, -0.055198,\n",
       "        0.032196,  0.020032,  0.055866, -0.03335 ,  0.064627, -0.117019,\n",
       "       -0.019819, -0.091563,  0.016277, -0.158784,  0.090109,  0.052189,\n",
       "        0.026157,  0.043388,  0.09961 ,  0.040325,  0.01243 ,  0.062557,\n",
       "       -0.112546, -0.045751,  0.071704, -0.02192 , -0.028775, -0.010755,\n",
       "       -0.102415,  0.036397, -0.141866, -0.00391 ,  0.008874, -0.055684,\n",
       "       -0.062073, -0.0665  , -0.090125,  0.026231,  0.029068, -0.121298],\n",
       "      dtype=float32)"
      ]
     },
     "execution_count": 5,
     "metadata": {},
     "output_type": "execute_result"
    }
   ],
   "source": [
    "rusvec_model['март_NOUN']"
   ]
  },
  {
   "cell_type": "code",
   "execution_count": 6,
   "id": "hAXB5fk7YtS3",
   "metadata": {
    "id": "hAXB5fk7YtS3"
   },
   "outputs": [
    {
     "data": {
      "text/plain": [
       "[('март_NOUN', 0.9506458044052124),\n",
       " ('ноябрь_NOUN', 0.9416142702102661),\n",
       " ('декабрь_NOUN', 0.9391436576843262),\n",
       " ('январь_NOUN', 0.9299512505531311),\n",
       " ('апрель_NOUN', 0.9271649718284607),\n",
       " ('октябрь_NOUN', 0.9204078316688538),\n",
       " ('сентябрь_NOUN', 0.9028568267822266),\n",
       " ('май_NOUN', 0.8944932222366333),\n",
       " ('июнь_NOUN', 0.8860151767730713),\n",
       " ('марта_NOUN', 0.8700184226036072)]"
      ]
     },
     "execution_count": 6,
     "metadata": {},
     "output_type": "execute_result"
    }
   ],
   "source": [
    "rusvec_model.most_similar('февраль_NOUN')"
   ]
  },
  {
   "cell_type": "code",
   "execution_count": 7,
   "id": "-wCq7WUBY1Ws",
   "metadata": {
    "id": "-wCq7WUBY1Ws"
   },
   "outputs": [],
   "source": [
    "from pymystem3 import Mystem\n",
    "m = Mystem()"
   ]
  },
  {
   "cell_type": "code",
   "execution_count": 8,
   "id": "38Vm8kYNY3I-",
   "metadata": {
    "id": "38Vm8kYNY3I-"
   },
   "outputs": [],
   "source": [
    "def normalize_mystem(text):\n",
    "    tokens = []\n",
    "    norm_words = m.analyze(text)\n",
    "    for norm_word in norm_words:\n",
    "        if 'analysis' not in norm_word:\n",
    "            continue\n",
    "\n",
    "        if not len(norm_word['analysis']):\n",
    "            lemma = norm_word['text']\n",
    "            pos = 'UNKN'\n",
    "        else:\n",
    "            lemma = norm_word[\"analysis\"][0][\"lex\"].lower().strip()\n",
    "            pos = norm_word[\"analysis\"][0][\"gr\"].split(',')[0]\n",
    "            pos = pos.split('=')[0].strip()\n",
    "        pos = mapping[pos]\n",
    "        tokens.append(lemma+'_'+pos)\n",
    "\n",
    "    return tokens\n"
   ]
  },
  {
   "cell_type": "code",
   "execution_count": 9,
   "id": "558c8da5-f049-4cc3-81ea-27211c777b94",
   "metadata": {},
   "outputs": [],
   "source": [
    "mapping = {}\n",
    "# https://github.com/akutuzov/universal-pos-tags/blob/4653e8a9154e93fe2f417c7fdb7a357b7d6ce333/ru-rnc.map\n",
    "for line in open('./ru-rnc.map'):\n",
    "    ms, ud = line.strip('\\n').split()\n",
    "    mapping[ms] = ud"
   ]
  },
  {
   "cell_type": "code",
   "execution_count": 10,
   "id": "4f9ff49d-7a47-4e72-ab66-2f00b161e293",
   "metadata": {},
   "outputs": [
    {
     "data": {
      "text/plain": [
       "{'A': 'ADJ',\n",
       " 'ADV': 'ADV',\n",
       " 'ADVPRO': 'ADV',\n",
       " 'ANUM': 'ADJ',\n",
       " 'APRO': 'DET',\n",
       " 'COM': 'ADJ',\n",
       " 'CONJ': 'SCONJ',\n",
       " 'INTJ': 'INTJ',\n",
       " 'NONLEX': 'X',\n",
       " 'NUM': 'NUM',\n",
       " 'PART': 'PART',\n",
       " 'PR': 'ADP',\n",
       " 'S': 'NOUN',\n",
       " 'SPRO': 'PRON',\n",
       " 'UNKN': 'X',\n",
       " 'V': 'VERB'}"
      ]
     },
     "execution_count": 10,
     "metadata": {},
     "output_type": "execute_result"
    }
   ],
   "source": [
    "mapping"
   ]
  },
  {
   "cell_type": "code",
   "execution_count": 11,
   "id": "R55h9berY-3r",
   "metadata": {
    "id": "R55h9berY-3r"
   },
   "outputs": [],
   "source": [
    "data['norm_text'] = data.comment.apply(normalize_mystem)"
   ]
  },
  {
   "cell_type": "code",
   "execution_count": 12,
   "id": "gUobh7V7ZE2o",
   "metadata": {
    "id": "gUobh7V7ZE2o"
   },
   "outputs": [
    {
     "data": {
      "text/html": [
       "<div>\n",
       "<style scoped>\n",
       "    .dataframe tbody tr th:only-of-type {\n",
       "        vertical-align: middle;\n",
       "    }\n",
       "\n",
       "    .dataframe tbody tr th {\n",
       "        vertical-align: top;\n",
       "    }\n",
       "\n",
       "    .dataframe thead th {\n",
       "        text-align: right;\n",
       "    }\n",
       "</style>\n",
       "<table border=\"1\" class=\"dataframe\">\n",
       "  <thead>\n",
       "    <tr style=\"text-align: right;\">\n",
       "      <th></th>\n",
       "      <th>comment</th>\n",
       "      <th>toxic</th>\n",
       "      <th>norm_text</th>\n",
       "    </tr>\n",
       "  </thead>\n",
       "  <tbody>\n",
       "    <tr>\n",
       "      <th>0</th>\n",
       "      <td>Верблюдов-то за что? Дебилы, бл...\\n</td>\n",
       "      <td>1.0</td>\n",
       "      <td>[верблюд_NOUN, то_PART, за_ADP, что_PRON, деби...</td>\n",
       "    </tr>\n",
       "    <tr>\n",
       "      <th>1</th>\n",
       "      <td>Хохлы, это отдушина затюканого россиянина, мол...</td>\n",
       "      <td>1.0</td>\n",
       "      <td>[хохол_NOUN, это_PART, отдушина_NOUN, затюканы...</td>\n",
       "    </tr>\n",
       "    <tr>\n",
       "      <th>2</th>\n",
       "      <td>Собаке - собачья смерть\\n</td>\n",
       "      <td>1.0</td>\n",
       "      <td>[собака_NOUN, собачий_ADJ, смерть_NOUN]</td>\n",
       "    </tr>\n",
       "    <tr>\n",
       "      <th>3</th>\n",
       "      <td>Страницу обнови, дебил. Это тоже не оскорблени...</td>\n",
       "      <td>1.0</td>\n",
       "      <td>[страница_NOUN, обновлять_VERB, дебил_NOUN, эт...</td>\n",
       "    </tr>\n",
       "    <tr>\n",
       "      <th>4</th>\n",
       "      <td>тебя не убедил 6-страничный пдф в том, что Скр...</td>\n",
       "      <td>1.0</td>\n",
       "      <td>[ты_PRON, не_PART, убеждать_VERB, страничный_A...</td>\n",
       "    </tr>\n",
       "    <tr>\n",
       "      <th>...</th>\n",
       "      <td>...</td>\n",
       "      <td>...</td>\n",
       "      <td>...</td>\n",
       "    </tr>\n",
       "    <tr>\n",
       "      <th>14407</th>\n",
       "      <td>Вонючий совковый скот прибежал и ноет. А вот и...</td>\n",
       "      <td>1.0</td>\n",
       "      <td>[вонючий_ADJ, совковый_ADJ, скот_NOUN, прибега...</td>\n",
       "    </tr>\n",
       "    <tr>\n",
       "      <th>14408</th>\n",
       "      <td>А кого любить? Гоблина тупорылого что-ли? Или ...</td>\n",
       "      <td>1.0</td>\n",
       "      <td>[а_SCONJ, кто_PRON, любить_VERB, гоблин_NOUN, ...</td>\n",
       "    </tr>\n",
       "    <tr>\n",
       "      <th>14409</th>\n",
       "      <td>Посмотрел Утомленных солнцем 2. И оказалось, ч...</td>\n",
       "      <td>0.0</td>\n",
       "      <td>[посмотреть_VERB, утомленный_ADJ, солнце_NOUN,...</td>\n",
       "    </tr>\n",
       "    <tr>\n",
       "      <th>14410</th>\n",
       "      <td>КРЫМОТРЕД НАРУШАЕТ ПРАВИЛА РАЗДЕЛА Т.К В НЕМ Н...</td>\n",
       "      <td>1.0</td>\n",
       "      <td>[крымотред_ADV, нарушать_VERB, правило_NOUN, р...</td>\n",
       "    </tr>\n",
       "    <tr>\n",
       "      <th>14411</th>\n",
       "      <td>До сих пор пересматриваю его видео. Орамбо кст...</td>\n",
       "      <td>0.0</td>\n",
       "      <td>[до_ADP, сей_DET, пора_NOUN, пересматривать_VE...</td>\n",
       "    </tr>\n",
       "  </tbody>\n",
       "</table>\n",
       "<p>14412 rows × 3 columns</p>\n",
       "</div>"
      ],
      "text/plain": [
       "                                                 comment  toxic  \\\n",
       "0                   Верблюдов-то за что? Дебилы, бл...\\n    1.0   \n",
       "1      Хохлы, это отдушина затюканого россиянина, мол...    1.0   \n",
       "2                              Собаке - собачья смерть\\n    1.0   \n",
       "3      Страницу обнови, дебил. Это тоже не оскорблени...    1.0   \n",
       "4      тебя не убедил 6-страничный пдф в том, что Скр...    1.0   \n",
       "...                                                  ...    ...   \n",
       "14407  Вонючий совковый скот прибежал и ноет. А вот и...    1.0   \n",
       "14408  А кого любить? Гоблина тупорылого что-ли? Или ...    1.0   \n",
       "14409  Посмотрел Утомленных солнцем 2. И оказалось, ч...    0.0   \n",
       "14410  КРЫМОТРЕД НАРУШАЕТ ПРАВИЛА РАЗДЕЛА Т.К В НЕМ Н...    1.0   \n",
       "14411  До сих пор пересматриваю его видео. Орамбо кст...    0.0   \n",
       "\n",
       "                                               norm_text  \n",
       "0      [верблюд_NOUN, то_PART, за_ADP, что_PRON, деби...  \n",
       "1      [хохол_NOUN, это_PART, отдушина_NOUN, затюканы...  \n",
       "2                [собака_NOUN, собачий_ADJ, смерть_NOUN]  \n",
       "3      [страница_NOUN, обновлять_VERB, дебил_NOUN, эт...  \n",
       "4      [ты_PRON, не_PART, убеждать_VERB, страничный_A...  \n",
       "...                                                  ...  \n",
       "14407  [вонючий_ADJ, совковый_ADJ, скот_NOUN, прибега...  \n",
       "14408  [а_SCONJ, кто_PRON, любить_VERB, гоблин_NOUN, ...  \n",
       "14409  [посмотреть_VERB, утомленный_ADJ, солнце_NOUN,...  \n",
       "14410  [крымотред_ADV, нарушать_VERB, правило_NOUN, р...  \n",
       "14411  [до_ADP, сей_DET, пора_NOUN, пересматривать_VE...  \n",
       "\n",
       "[14412 rows x 3 columns]"
      ]
     },
     "execution_count": 12,
     "metadata": {},
     "output_type": "execute_result"
    }
   ],
   "source": [
    "data"
   ]
  },
  {
   "cell_type": "code",
   "execution_count": 50,
   "id": "b9m4FTrMZHRA",
   "metadata": {
    "id": "b9m4FTrMZHRA"
   },
   "outputs": [
    {
     "data": {
      "text/plain": [
       "6216"
      ]
     },
     "execution_count": 50,
     "metadata": {},
     "output_type": "execute_result"
    }
   ],
   "source": [
    "vocab = Counter()\n",
    "\n",
    "for text in data['norm_text']:\n",
    "    vocab.update(text)\n",
    "\n",
    "filtered_vocab = set()\n",
    "\n",
    "for word in vocab:\n",
    "    if vocab[word] > 5:\n",
    "        filtered_vocab.add(word)\n",
    "\n",
    "len(filtered_vocab)"
   ]
  },
  {
   "cell_type": "code",
   "execution_count": 51,
   "id": "4c1BpNZ5ZNF6",
   "metadata": {
    "id": "4c1BpNZ5ZNF6"
   },
   "outputs": [],
   "source": [
    "word2id = { 'PAD':0}\n",
    "\n",
    "for word in filtered_vocab:\n",
    "    word2id[word] = len(word2id)\n",
    "id2word = {i:word for word, i in word2id.items()}"
   ]
  },
  {
   "cell_type": "code",
   "execution_count": 52,
   "id": "zf6obJH6ZPL0",
   "metadata": {
    "id": "zf6obJH6ZPL0"
   },
   "outputs": [],
   "source": [
    "X = []\n",
    "\n",
    "for tokens in data['norm_text']:\n",
    "    ids = [word2id[token] for token in tokens if token in word2id]\n",
    "    X.append(ids)"
   ]
  },
  {
   "cell_type": "code",
   "execution_count": 53,
   "id": "fxtVFoenZRG5",
   "metadata": {
    "id": "fxtVFoenZRG5"
   },
   "outputs": [],
   "source": [
    "X = tf.keras.preprocessing.sequence.pad_sequences(X, maxlen=300)\n",
    "y = data.toxic.values"
   ]
  },
  {
   "cell_type": "code",
   "execution_count": 54,
   "id": "yJ57JLE_ZSyw",
   "metadata": {
    "id": "yJ57JLE_ZSyw"
   },
   "outputs": [],
   "source": [
    "X_train, X_valid, y_train, y_valid = train_test_split(X, y, test_size=0.05)"
   ]
  },
  {
   "cell_type": "code",
   "execution_count": 55,
   "id": "hx9uhgMUZiKq",
   "metadata": {
    "id": "hx9uhgMUZiKq"
   },
   "outputs": [],
   "source": [
    "weights = np.zeros((len(word2id), 300))\n",
    "\n",
    "for word, i in word2id.items():\n",
    "    # вектор паддинга оставим нулевым\n",
    "    if word == 'PAD':\n",
    "        continue\n",
    "\n",
    "    try:\n",
    "        weights[i] = rusvec_model[word]\n",
    "\n",
    "\n",
    "    except KeyError:\n",
    "        # для слов, которых нет в модели тоже возьмем какой-то  рандомный вектор\n",
    "        continue\n",
    "        weights[i] = rusvec_model['опрагпллирао']"
   ]
  },
  {
   "cell_type": "code",
   "execution_count": 56,
   "id": "b_CxKWsFZ5n2",
   "metadata": {
    "id": "b_CxKWsFZ5n2"
   },
   "outputs": [],
   "source": [
    " #trainable=False\n",
    "\n",
    "inputs = tf.keras.layers.Input(shape=(300,))\n",
    "\n",
    "# передаем матрицу в эмбединг слой\n",
    "# указываем параметр trainable=False, чтобы вектора не обучались\n",
    "# Пояснение: кажется, что обучение векторов отключать не стоит, так как модель должна взять готовые\n",
    "# эмбединги и подогнать их к нашей задаче. На практитке это однако не работает - эмбединги просто\n",
    "# обучатся заново\n",
    "embeddings = tf.keras.layers.Embedding(input_dim=len(word2id), output_dim=300,\n",
    "                                       trainable=False,\n",
    "                                       weights=[weights])(inputs, )\n",
    "mean = tf.keras.layers.Lambda(lambda x: tf.keras.backend.mean(x,  axis=1))(embeddings)\n",
    "\n",
    "outputs = tf.keras.layers.Dense(1, activation='sigmoid')(mean)\n",
    "\n",
    "model = tf.keras.Model(inputs=inputs, outputs=outputs)\n",
    "optimizer = tf.keras.optimizers.Adam()\n",
    "model.compile(optimizer=optimizer,\n",
    "              loss='binary_crossentropy',\n",
    "              metrics=['accuracy'])\n"
   ]
  },
  {
   "cell_type": "code",
   "execution_count": 30,
   "id": "FRmehlALaO8C",
   "metadata": {
    "id": "FRmehlALaO8C"
   },
   "outputs": [
    {
     "name": "stdout",
     "output_type": "stream",
     "text": [
      "Epoch 1/80\n",
      "428/428 [==============================] - 4s 8ms/step - loss: 0.6657 - accuracy: 0.6623 - val_loss: 0.6375 - val_accuracy: 0.6921\n",
      "Epoch 2/80\n",
      "428/428 [==============================] - 3s 7ms/step - loss: 0.6378 - accuracy: 0.6637 - val_loss: 0.6184 - val_accuracy: 0.6921\n",
      "Epoch 3/80\n",
      "428/428 [==============================] - 3s 7ms/step - loss: 0.6295 - accuracy: 0.6637 - val_loss: 0.6117 - val_accuracy: 0.6921\n",
      "Epoch 4/80\n",
      "428/428 [==============================] - 3s 8ms/step - loss: 0.6261 - accuracy: 0.6637 - val_loss: 0.6084 - val_accuracy: 0.6921\n",
      "Epoch 5/80\n",
      "428/428 [==============================] - 3s 7ms/step - loss: 0.6234 - accuracy: 0.6637 - val_loss: 0.6056 - val_accuracy: 0.6921\n",
      "Epoch 6/80\n",
      "428/428 [==============================] - 3s 7ms/step - loss: 0.6209 - accuracy: 0.6637 - val_loss: 0.6032 - val_accuracy: 0.6921\n",
      "Epoch 7/80\n",
      "428/428 [==============================] - 3s 7ms/step - loss: 0.6184 - accuracy: 0.6637 - val_loss: 0.6010 - val_accuracy: 0.6921\n",
      "Epoch 8/80\n",
      "428/428 [==============================] - 3s 7ms/step - loss: 0.6160 - accuracy: 0.6637 - val_loss: 0.5987 - val_accuracy: 0.6921\n",
      "Epoch 9/80\n",
      "428/428 [==============================] - 3s 7ms/step - loss: 0.6136 - accuracy: 0.6637 - val_loss: 0.5967 - val_accuracy: 0.6921\n",
      "Epoch 10/80\n",
      "428/428 [==============================] - 3s 7ms/step - loss: 0.6113 - accuracy: 0.6637 - val_loss: 0.5946 - val_accuracy: 0.6921\n",
      "Epoch 11/80\n",
      "428/428 [==============================] - 3s 7ms/step - loss: 0.6090 - accuracy: 0.6637 - val_loss: 0.5922 - val_accuracy: 0.6921\n",
      "Epoch 12/80\n",
      "428/428 [==============================] - 3s 8ms/step - loss: 0.6067 - accuracy: 0.6637 - val_loss: 0.5904 - val_accuracy: 0.6921\n",
      "Epoch 13/80\n",
      "428/428 [==============================] - 3s 7ms/step - loss: 0.6045 - accuracy: 0.6637 - val_loss: 0.5882 - val_accuracy: 0.6921\n",
      "Epoch 14/80\n",
      "428/428 [==============================] - 3s 7ms/step - loss: 0.6024 - accuracy: 0.6637 - val_loss: 0.5858 - val_accuracy: 0.6921\n",
      "Epoch 15/80\n",
      "428/428 [==============================] - 3s 7ms/step - loss: 0.6003 - accuracy: 0.6637 - val_loss: 0.5842 - val_accuracy: 0.6921\n",
      "Epoch 16/80\n",
      "428/428 [==============================] - 3s 7ms/step - loss: 0.5982 - accuracy: 0.6637 - val_loss: 0.5821 - val_accuracy: 0.6921\n",
      "Epoch 17/80\n",
      "428/428 [==============================] - 3s 7ms/step - loss: 0.5962 - accuracy: 0.6637 - val_loss: 0.5803 - val_accuracy: 0.6921\n",
      "Epoch 18/80\n",
      "428/428 [==============================] - 3s 7ms/step - loss: 0.5942 - accuracy: 0.6637 - val_loss: 0.5783 - val_accuracy: 0.6921\n",
      "Epoch 19/80\n",
      "428/428 [==============================] - 3s 7ms/step - loss: 0.5923 - accuracy: 0.6638 - val_loss: 0.5764 - val_accuracy: 0.6921\n",
      "Epoch 20/80\n",
      "428/428 [==============================] - 3s 7ms/step - loss: 0.5903 - accuracy: 0.6639 - val_loss: 0.5743 - val_accuracy: 0.6921\n",
      "Epoch 21/80\n",
      "428/428 [==============================] - 3s 7ms/step - loss: 0.5884 - accuracy: 0.6639 - val_loss: 0.5725 - val_accuracy: 0.6921\n",
      "Epoch 22/80\n",
      "428/428 [==============================] - 3s 7ms/step - loss: 0.5865 - accuracy: 0.6642 - val_loss: 0.5706 - val_accuracy: 0.6921\n",
      "Epoch 23/80\n",
      "428/428 [==============================] - 3s 7ms/step - loss: 0.5846 - accuracy: 0.6643 - val_loss: 0.5686 - val_accuracy: 0.6921\n",
      "Epoch 24/80\n",
      "428/428 [==============================] - 3s 7ms/step - loss: 0.5828 - accuracy: 0.6643 - val_loss: 0.5669 - val_accuracy: 0.6935\n",
      "Epoch 25/80\n",
      "428/428 [==============================] - 3s 7ms/step - loss: 0.5809 - accuracy: 0.6644 - val_loss: 0.5651 - val_accuracy: 0.6949\n",
      "Epoch 26/80\n",
      "428/428 [==============================] - 3s 7ms/step - loss: 0.5791 - accuracy: 0.6644 - val_loss: 0.5635 - val_accuracy: 0.6949\n",
      "Epoch 27/80\n",
      "428/428 [==============================] - 3s 7ms/step - loss: 0.5773 - accuracy: 0.6649 - val_loss: 0.5617 - val_accuracy: 0.6949\n",
      "Epoch 28/80\n",
      "428/428 [==============================] - 3s 7ms/step - loss: 0.5756 - accuracy: 0.6649 - val_loss: 0.5601 - val_accuracy: 0.6949\n",
      "Epoch 29/80\n",
      "428/428 [==============================] - 3s 7ms/step - loss: 0.5738 - accuracy: 0.6661 - val_loss: 0.5585 - val_accuracy: 0.6949\n",
      "Epoch 30/80\n",
      "428/428 [==============================] - 3s 7ms/step - loss: 0.5721 - accuracy: 0.6671 - val_loss: 0.5567 - val_accuracy: 0.6963\n",
      "Epoch 31/80\n",
      "428/428 [==============================] - 3s 7ms/step - loss: 0.5705 - accuracy: 0.6670 - val_loss: 0.5553 - val_accuracy: 0.6976\n",
      "Epoch 32/80\n",
      "428/428 [==============================] - 3s 7ms/step - loss: 0.5688 - accuracy: 0.6679 - val_loss: 0.5536 - val_accuracy: 0.6976\n",
      "Epoch 33/80\n",
      "428/428 [==============================] - 3s 7ms/step - loss: 0.5671 - accuracy: 0.6685 - val_loss: 0.5524 - val_accuracy: 0.7032\n",
      "Epoch 34/80\n",
      "428/428 [==============================] - 3s 7ms/step - loss: 0.5655 - accuracy: 0.6703 - val_loss: 0.5507 - val_accuracy: 0.7032\n",
      "Epoch 35/80\n",
      "428/428 [==============================] - 3s 7ms/step - loss: 0.5639 - accuracy: 0.6712 - val_loss: 0.5490 - val_accuracy: 0.7046\n",
      "Epoch 36/80\n",
      "428/428 [==============================] - 3s 7ms/step - loss: 0.5623 - accuracy: 0.6720 - val_loss: 0.5473 - val_accuracy: 0.7060\n",
      "Epoch 37/80\n",
      "428/428 [==============================] - 3s 7ms/step - loss: 0.5608 - accuracy: 0.6723 - val_loss: 0.5458 - val_accuracy: 0.7087\n",
      "Epoch 38/80\n",
      "428/428 [==============================] - 3s 7ms/step - loss: 0.5592 - accuracy: 0.6732 - val_loss: 0.5445 - val_accuracy: 0.7101\n",
      "Epoch 39/80\n",
      "428/428 [==============================] - 3s 7ms/step - loss: 0.5577 - accuracy: 0.6747 - val_loss: 0.5429 - val_accuracy: 0.7129\n",
      "Epoch 40/80\n",
      "428/428 [==============================] - 3s 7ms/step - loss: 0.5562 - accuracy: 0.6755 - val_loss: 0.5416 - val_accuracy: 0.7157\n",
      "Epoch 41/80\n",
      "428/428 [==============================] - 3s 7ms/step - loss: 0.5547 - accuracy: 0.6764 - val_loss: 0.5404 - val_accuracy: 0.7143\n",
      "Epoch 42/80\n",
      "428/428 [==============================] - 3s 7ms/step - loss: 0.5532 - accuracy: 0.6771 - val_loss: 0.5392 - val_accuracy: 0.7171\n",
      "Epoch 43/80\n",
      "428/428 [==============================] - 3s 7ms/step - loss: 0.5518 - accuracy: 0.6791 - val_loss: 0.5377 - val_accuracy: 0.7171\n",
      "Epoch 44/80\n",
      "428/428 [==============================] - 3s 7ms/step - loss: 0.5504 - accuracy: 0.6817 - val_loss: 0.5365 - val_accuracy: 0.7157\n",
      "Epoch 45/80\n",
      "428/428 [==============================] - 3s 7ms/step - loss: 0.5490 - accuracy: 0.6828 - val_loss: 0.5351 - val_accuracy: 0.7171\n",
      "Epoch 46/80\n",
      "428/428 [==============================] - 3s 7ms/step - loss: 0.5476 - accuracy: 0.6841 - val_loss: 0.5338 - val_accuracy: 0.7171\n",
      "Epoch 47/80\n",
      "428/428 [==============================] - 3s 7ms/step - loss: 0.5462 - accuracy: 0.6860 - val_loss: 0.5325 - val_accuracy: 0.7171\n",
      "Epoch 48/80\n",
      "428/428 [==============================] - 3s 7ms/step - loss: 0.5449 - accuracy: 0.6887 - val_loss: 0.5311 - val_accuracy: 0.7198\n",
      "Epoch 49/80\n",
      "428/428 [==============================] - 3s 7ms/step - loss: 0.5435 - accuracy: 0.6880 - val_loss: 0.5301 - val_accuracy: 0.7226\n",
      "Epoch 50/80\n",
      "428/428 [==============================] - 3s 7ms/step - loss: 0.5423 - accuracy: 0.6902 - val_loss: 0.5289 - val_accuracy: 0.7240\n",
      "Epoch 51/80\n",
      "428/428 [==============================] - 3s 7ms/step - loss: 0.5410 - accuracy: 0.6918 - val_loss: 0.5277 - val_accuracy: 0.7282\n",
      "Epoch 52/80\n",
      "428/428 [==============================] - 3s 7ms/step - loss: 0.5397 - accuracy: 0.6919 - val_loss: 0.5265 - val_accuracy: 0.7282\n",
      "Epoch 53/80\n",
      "428/428 [==============================] - 3s 8ms/step - loss: 0.5384 - accuracy: 0.6934 - val_loss: 0.5253 - val_accuracy: 0.7282\n",
      "Epoch 54/80\n",
      "428/428 [==============================] - 3s 7ms/step - loss: 0.5372 - accuracy: 0.6938 - val_loss: 0.5242 - val_accuracy: 0.7309\n",
      "Epoch 55/80\n",
      "428/428 [==============================] - 3s 7ms/step - loss: 0.5360 - accuracy: 0.6956 - val_loss: 0.5231 - val_accuracy: 0.7309\n",
      "Epoch 56/80\n",
      "428/428 [==============================] - 3s 7ms/step - loss: 0.5348 - accuracy: 0.6969 - val_loss: 0.5219 - val_accuracy: 0.7323\n",
      "Epoch 57/80\n",
      "428/428 [==============================] - 3s 7ms/step - loss: 0.5336 - accuracy: 0.6989 - val_loss: 0.5207 - val_accuracy: 0.7323\n",
      "Epoch 58/80\n",
      "428/428 [==============================] - 3s 7ms/step - loss: 0.5324 - accuracy: 0.7001 - val_loss: 0.5197 - val_accuracy: 0.7337\n",
      "Epoch 59/80\n",
      "428/428 [==============================] - 3s 7ms/step - loss: 0.5312 - accuracy: 0.7027 - val_loss: 0.5186 - val_accuracy: 0.7337\n",
      "Epoch 60/80\n",
      "428/428 [==============================] - 3s 8ms/step - loss: 0.5300 - accuracy: 0.7032 - val_loss: 0.5175 - val_accuracy: 0.7337\n",
      "Epoch 61/80\n",
      "428/428 [==============================] - 3s 7ms/step - loss: 0.5289 - accuracy: 0.7059 - val_loss: 0.5164 - val_accuracy: 0.7365\n",
      "Epoch 62/80\n",
      "428/428 [==============================] - 3s 7ms/step - loss: 0.5278 - accuracy: 0.7065 - val_loss: 0.5153 - val_accuracy: 0.7365\n",
      "Epoch 63/80\n",
      "428/428 [==============================] - 3s 8ms/step - loss: 0.5267 - accuracy: 0.7082 - val_loss: 0.5144 - val_accuracy: 0.7379\n",
      "Epoch 64/80\n",
      "428/428 [==============================] - 3s 7ms/step - loss: 0.5255 - accuracy: 0.7092 - val_loss: 0.5134 - val_accuracy: 0.7406\n",
      "Epoch 65/80\n",
      "428/428 [==============================] - 3s 7ms/step - loss: 0.5245 - accuracy: 0.7118 - val_loss: 0.5124 - val_accuracy: 0.7420\n",
      "Epoch 66/80\n",
      "428/428 [==============================] - 3s 7ms/step - loss: 0.5234 - accuracy: 0.7143 - val_loss: 0.5112 - val_accuracy: 0.7420\n",
      "Epoch 67/80\n",
      "428/428 [==============================] - 3s 7ms/step - loss: 0.5223 - accuracy: 0.7141 - val_loss: 0.5103 - val_accuracy: 0.7448\n",
      "Epoch 68/80\n",
      "428/428 [==============================] - 3s 7ms/step - loss: 0.5213 - accuracy: 0.7167 - val_loss: 0.5093 - val_accuracy: 0.7448\n",
      "Epoch 69/80\n",
      "428/428 [==============================] - 3s 7ms/step - loss: 0.5203 - accuracy: 0.7167 - val_loss: 0.5084 - val_accuracy: 0.7448\n",
      "Epoch 70/80\n",
      "428/428 [==============================] - 3s 7ms/step - loss: 0.5192 - accuracy: 0.7179 - val_loss: 0.5078 - val_accuracy: 0.7448\n",
      "Epoch 71/80\n",
      "428/428 [==============================] - 3s 8ms/step - loss: 0.5182 - accuracy: 0.7205 - val_loss: 0.5067 - val_accuracy: 0.7448\n",
      "Epoch 72/80\n",
      "428/428 [==============================] - 3s 7ms/step - loss: 0.5172 - accuracy: 0.7219 - val_loss: 0.5057 - val_accuracy: 0.7448\n",
      "Epoch 73/80\n",
      "428/428 [==============================] - 3s 8ms/step - loss: 0.5162 - accuracy: 0.7235 - val_loss: 0.5048 - val_accuracy: 0.7434\n",
      "Epoch 74/80\n",
      "428/428 [==============================] - 3s 7ms/step - loss: 0.5152 - accuracy: 0.7232 - val_loss: 0.5040 - val_accuracy: 0.7476\n",
      "Epoch 75/80\n",
      "428/428 [==============================] - 3s 7ms/step - loss: 0.5143 - accuracy: 0.7267 - val_loss: 0.5032 - val_accuracy: 0.7476\n",
      "Epoch 76/80\n",
      "428/428 [==============================] - 3s 7ms/step - loss: 0.5133 - accuracy: 0.7271 - val_loss: 0.5022 - val_accuracy: 0.7476\n",
      "Epoch 77/80\n",
      "428/428 [==============================] - 3s 7ms/step - loss: 0.5124 - accuracy: 0.7275 - val_loss: 0.5015 - val_accuracy: 0.7490\n",
      "Epoch 78/80\n",
      "428/428 [==============================] - 3s 7ms/step - loss: 0.5114 - accuracy: 0.7298 - val_loss: 0.5008 - val_accuracy: 0.7490\n",
      "Epoch 79/80\n",
      "428/428 [==============================] - 3s 7ms/step - loss: 0.5105 - accuracy: 0.7314 - val_loss: 0.4999 - val_accuracy: 0.7490\n",
      "Epoch 80/80\n",
      "428/428 [==============================] - 3s 7ms/step - loss: 0.5096 - accuracy: 0.7336 - val_loss: 0.4990 - val_accuracy: 0.7490\n"
     ]
    },
    {
     "data": {
      "text/plain": [
       "<keras.src.callbacks.History at 0x13096d190>"
      ]
     },
     "execution_count": 30,
     "metadata": {},
     "output_type": "execute_result"
    }
   ],
   "source": [
    "model.fit(X_train, y_train,\n",
    "          validation_data=(X_valid, y_valid),\n",
    "          batch_size=32,\n",
    "         epochs=80)"
   ]
  },
  {
   "cell_type": "code",
   "execution_count": 31,
   "id": "cc8b35a4-193b-4133-83d0-47175b8d8c28",
   "metadata": {},
   "outputs": [
    {
     "name": "stdout",
     "output_type": "stream",
     "text": [
      "dict_keys(['loss', 'accuracy', 'val_loss', 'val_accuracy'])\n"
     ]
    },
    {
     "data": {
      "image/png": "[encoded data removed]",
      "text/plain": [
       "<Figure size 640x480 with 1 Axes>"
      ]
     },
     "metadata": {},
     "output_type": "display_data"
    }
   ],
   "source": [
    "print(model.history.history.keys())\n",
    "# summarize history for accuracy\n",
    "plt.plot(model.history.history['accuracy'])\n",
    "plt.plot(model.history.history['val_accuracy'])\n",
    "plt.title('model accuracy')\n",
    "plt.ylabel('accuracy')\n",
    "plt.xlabel('epoch')\n",
    "plt.legend(['train', 'val'], loc='upper left')\n",
    "plt.show()"
   ]
  },
  {
   "cell_type": "code",
   "execution_count": 32,
   "id": "a523cfa8-e89f-4765-8ed6-786b711c78c0",
   "metadata": {},
   "outputs": [],
   "source": [
    " #trainable=True\n",
    "\n",
    "inputs = tf.keras.layers.Input(shape=(300,))\n",
    "\n",
    "# передаем матрицу в эмбединг слой\n",
    "# указываем параметр trainable=False, чтобы вектора не обучались\n",
    "# Пояснение: кажется, что обучение векторов отключать не стоит, так как модель должна взять готовые\n",
    "# эмбединги и подогнать их к нашей задаче. На практитке это однако не работает - эмбединги просто\n",
    "# обучатся заново\n",
    "embeddings = tf.keras.layers.Embedding(input_dim=len(word2id), output_dim=300,\n",
    "                                       trainable=True,\n",
    "                                       weights=[weights])(inputs, )\n",
    "mean = tf.keras.layers.Lambda(lambda x: tf.keras.backend.mean(x,  axis=1))(embeddings)\n",
    "\n",
    "outputs = tf.keras.layers.Dense(1, activation='sigmoid')(mean)\n",
    "\n",
    "model = tf.keras.Model(inputs=inputs, outputs=outputs)\n",
    "optimizer = tf.keras.optimizers.Adam()\n",
    "model.compile(optimizer=optimizer,\n",
    "              loss='binary_crossentropy',\n",
    "              metrics=['accuracy'])\n"
   ]
  },
  {
   "cell_type": "code",
   "execution_count": 48,
   "id": "7f9a8f44-5a44-4ea2-a34b-c576fdeaaa82",
   "metadata": {},
   "outputs": [
    {
     "name": "stdout",
     "output_type": "stream",
     "text": [
      "Epoch 1/80\n",
      "156/428 [=========>....................] - ETA: 13s - loss: 0.0782 - accuracy: 0.9712"
     ]
    },
    {
     "ename": "KeyboardInterrupt",
     "evalue": "",
     "output_type": "error",
     "traceback": [
      "\u001b[0;31m---------------------------------------------------------------------------\u001b[0m",
      "\u001b[0;31mKeyboardInterrupt\u001b[0m                         Traceback (most recent call last)",
      "Cell \u001b[0;32mIn[48], line 1\u001b[0m\n\u001b[0;32m----> 1\u001b[0m \u001b[43mmodel\u001b[49m\u001b[38;5;241;43m.\u001b[39;49m\u001b[43mfit\u001b[49m\u001b[43m(\u001b[49m\u001b[43mX_train\u001b[49m\u001b[43m,\u001b[49m\u001b[43m \u001b[49m\u001b[43my_train\u001b[49m\u001b[43m,\u001b[49m\n\u001b[1;32m      2\u001b[0m \u001b[43m          \u001b[49m\u001b[43mvalidation_data\u001b[49m\u001b[38;5;241;43m=\u001b[39;49m\u001b[43m(\u001b[49m\u001b[43mX_valid\u001b[49m\u001b[43m,\u001b[49m\u001b[43m \u001b[49m\u001b[43my_valid\u001b[49m\u001b[43m)\u001b[49m\u001b[43m,\u001b[49m\n\u001b[1;32m      3\u001b[0m \u001b[43m          \u001b[49m\u001b[43mbatch_size\u001b[49m\u001b[38;5;241;43m=\u001b[39;49m\u001b[38;5;241;43m32\u001b[39;49m\u001b[43m,\u001b[49m\n\u001b[1;32m      4\u001b[0m \u001b[43m         \u001b[49m\u001b[43mepochs\u001b[49m\u001b[38;5;241;43m=\u001b[39;49m\u001b[38;5;241;43m80\u001b[39;49m\u001b[43m)\u001b[49m\n",
      "File \u001b[0;32m~/myenv/lib/python3.11/site-packages/keras/src/utils/traceback_utils.py:65\u001b[0m, in \u001b[0;36mfilter_traceback.<locals>.error_handler\u001b[0;34m(*args, **kwargs)\u001b[0m\n\u001b[1;32m     63\u001b[0m filtered_tb \u001b[38;5;241m=\u001b[39m \u001b[38;5;28;01mNone\u001b[39;00m\n\u001b[1;32m     64\u001b[0m \u001b[38;5;28;01mtry\u001b[39;00m:\n\u001b[0;32m---> 65\u001b[0m     \u001b[38;5;28;01mreturn\u001b[39;00m \u001b[43mfn\u001b[49m\u001b[43m(\u001b[49m\u001b[38;5;241;43m*\u001b[39;49m\u001b[43margs\u001b[49m\u001b[43m,\u001b[49m\u001b[43m \u001b[49m\u001b[38;5;241;43m*\u001b[39;49m\u001b[38;5;241;43m*\u001b[39;49m\u001b[43mkwargs\u001b[49m\u001b[43m)\u001b[49m\n\u001b[1;32m     66\u001b[0m \u001b[38;5;28;01mexcept\u001b[39;00m \u001b[38;5;167;01mException\u001b[39;00m \u001b[38;5;28;01mas\u001b[39;00m e:\n\u001b[1;32m     67\u001b[0m     filtered_tb \u001b[38;5;241m=\u001b[39m _process_traceback_frames(e\u001b[38;5;241m.\u001b[39m__traceback__)\n",
      "File \u001b[0;32m~/myenv/lib/python3.11/site-packages/keras/src/engine/training.py:1807\u001b[0m, in \u001b[0;36mModel.fit\u001b[0;34m(self, x, y, batch_size, epochs, verbose, callbacks, validation_split, validation_data, shuffle, class_weight, sample_weight, initial_epoch, steps_per_epoch, validation_steps, validation_batch_size, validation_freq, max_queue_size, workers, use_multiprocessing)\u001b[0m\n\u001b[1;32m   1799\u001b[0m \u001b[38;5;28;01mwith\u001b[39;00m tf\u001b[38;5;241m.\u001b[39mprofiler\u001b[38;5;241m.\u001b[39mexperimental\u001b[38;5;241m.\u001b[39mTrace(\n\u001b[1;32m   1800\u001b[0m     \u001b[38;5;124m\"\u001b[39m\u001b[38;5;124mtrain\u001b[39m\u001b[38;5;124m\"\u001b[39m,\n\u001b[1;32m   1801\u001b[0m     epoch_num\u001b[38;5;241m=\u001b[39mepoch,\n\u001b[0;32m   (...)\u001b[0m\n\u001b[1;32m   1804\u001b[0m     _r\u001b[38;5;241m=\u001b[39m\u001b[38;5;241m1\u001b[39m,\n\u001b[1;32m   1805\u001b[0m ):\n\u001b[1;32m   1806\u001b[0m     callbacks\u001b[38;5;241m.\u001b[39mon_train_batch_begin(step)\n\u001b[0;32m-> 1807\u001b[0m     tmp_logs \u001b[38;5;241m=\u001b[39m \u001b[38;5;28;43mself\u001b[39;49m\u001b[38;5;241;43m.\u001b[39;49m\u001b[43mtrain_function\u001b[49m\u001b[43m(\u001b[49m\u001b[43miterator\u001b[49m\u001b[43m)\u001b[49m\n\u001b[1;32m   1808\u001b[0m     \u001b[38;5;28;01mif\u001b[39;00m data_handler\u001b[38;5;241m.\u001b[39mshould_sync:\n\u001b[1;32m   1809\u001b[0m         context\u001b[38;5;241m.\u001b[39masync_wait()\n",
      "File \u001b[0;32m~/myenv/lib/python3.11/site-packages/tensorflow/python/util/traceback_utils.py:150\u001b[0m, in \u001b[0;36mfilter_traceback.<locals>.error_handler\u001b[0;34m(*args, **kwargs)\u001b[0m\n\u001b[1;32m    148\u001b[0m filtered_tb \u001b[38;5;241m=\u001b[39m \u001b[38;5;28;01mNone\u001b[39;00m\n\u001b[1;32m    149\u001b[0m \u001b[38;5;28;01mtry\u001b[39;00m:\n\u001b[0;32m--> 150\u001b[0m   \u001b[38;5;28;01mreturn\u001b[39;00m \u001b[43mfn\u001b[49m\u001b[43m(\u001b[49m\u001b[38;5;241;43m*\u001b[39;49m\u001b[43margs\u001b[49m\u001b[43m,\u001b[49m\u001b[43m \u001b[49m\u001b[38;5;241;43m*\u001b[39;49m\u001b[38;5;241;43m*\u001b[39;49m\u001b[43mkwargs\u001b[49m\u001b[43m)\u001b[49m\n\u001b[1;32m    151\u001b[0m \u001b[38;5;28;01mexcept\u001b[39;00m \u001b[38;5;167;01mException\u001b[39;00m \u001b[38;5;28;01mas\u001b[39;00m e:\n\u001b[1;32m    152\u001b[0m   filtered_tb \u001b[38;5;241m=\u001b[39m _process_traceback_frames(e\u001b[38;5;241m.\u001b[39m__traceback__)\n",
      "File \u001b[0;32m~/myenv/lib/python3.11/site-packages/tensorflow/python/eager/polymorphic_function/polymorphic_function.py:832\u001b[0m, in \u001b[0;36mFunction.__call__\u001b[0;34m(self, *args, **kwds)\u001b[0m\n\u001b[1;32m    829\u001b[0m compiler \u001b[38;5;241m=\u001b[39m \u001b[38;5;124m\"\u001b[39m\u001b[38;5;124mxla\u001b[39m\u001b[38;5;124m\"\u001b[39m \u001b[38;5;28;01mif\u001b[39;00m \u001b[38;5;28mself\u001b[39m\u001b[38;5;241m.\u001b[39m_jit_compile \u001b[38;5;28;01melse\u001b[39;00m \u001b[38;5;124m\"\u001b[39m\u001b[38;5;124mnonXla\u001b[39m\u001b[38;5;124m\"\u001b[39m\n\u001b[1;32m    831\u001b[0m \u001b[38;5;28;01mwith\u001b[39;00m OptionalXlaContext(\u001b[38;5;28mself\u001b[39m\u001b[38;5;241m.\u001b[39m_jit_compile):\n\u001b[0;32m--> 832\u001b[0m   result \u001b[38;5;241m=\u001b[39m \u001b[38;5;28;43mself\u001b[39;49m\u001b[38;5;241;43m.\u001b[39;49m\u001b[43m_call\u001b[49m\u001b[43m(\u001b[49m\u001b[38;5;241;43m*\u001b[39;49m\u001b[43margs\u001b[49m\u001b[43m,\u001b[49m\u001b[43m \u001b[49m\u001b[38;5;241;43m*\u001b[39;49m\u001b[38;5;241;43m*\u001b[39;49m\u001b[43mkwds\u001b[49m\u001b[43m)\u001b[49m\n\u001b[1;32m    834\u001b[0m new_tracing_count \u001b[38;5;241m=\u001b[39m \u001b[38;5;28mself\u001b[39m\u001b[38;5;241m.\u001b[39mexperimental_get_tracing_count()\n\u001b[1;32m    835\u001b[0m without_tracing \u001b[38;5;241m=\u001b[39m (tracing_count \u001b[38;5;241m==\u001b[39m new_tracing_count)\n",
      "File \u001b[0;32m~/myenv/lib/python3.11/site-packages/tensorflow/python/eager/polymorphic_function/polymorphic_function.py:868\u001b[0m, in \u001b[0;36mFunction._call\u001b[0;34m(self, *args, **kwds)\u001b[0m\n\u001b[1;32m    865\u001b[0m   \u001b[38;5;28mself\u001b[39m\u001b[38;5;241m.\u001b[39m_lock\u001b[38;5;241m.\u001b[39mrelease()\n\u001b[1;32m    866\u001b[0m   \u001b[38;5;66;03m# In this case we have created variables on the first call, so we run the\u001b[39;00m\n\u001b[1;32m    867\u001b[0m   \u001b[38;5;66;03m# defunned version which is guaranteed to never create variables.\u001b[39;00m\n\u001b[0;32m--> 868\u001b[0m   \u001b[38;5;28;01mreturn\u001b[39;00m \u001b[43mtracing_compilation\u001b[49m\u001b[38;5;241;43m.\u001b[39;49m\u001b[43mcall_function\u001b[49m\u001b[43m(\u001b[49m\n\u001b[1;32m    869\u001b[0m \u001b[43m      \u001b[49m\u001b[43margs\u001b[49m\u001b[43m,\u001b[49m\u001b[43m \u001b[49m\u001b[43mkwds\u001b[49m\u001b[43m,\u001b[49m\u001b[43m \u001b[49m\u001b[38;5;28;43mself\u001b[39;49m\u001b[38;5;241;43m.\u001b[39;49m\u001b[43m_no_variable_creation_config\u001b[49m\n\u001b[1;32m    870\u001b[0m \u001b[43m  \u001b[49m\u001b[43m)\u001b[49m\n\u001b[1;32m    871\u001b[0m \u001b[38;5;28;01melif\u001b[39;00m \u001b[38;5;28mself\u001b[39m\u001b[38;5;241m.\u001b[39m_variable_creation_config \u001b[38;5;129;01mis\u001b[39;00m \u001b[38;5;129;01mnot\u001b[39;00m \u001b[38;5;28;01mNone\u001b[39;00m:\n\u001b[1;32m    872\u001b[0m   \u001b[38;5;66;03m# Release the lock early so that multiple threads can perform the call\u001b[39;00m\n\u001b[1;32m    873\u001b[0m   \u001b[38;5;66;03m# in parallel.\u001b[39;00m\n\u001b[1;32m    874\u001b[0m   \u001b[38;5;28mself\u001b[39m\u001b[38;5;241m.\u001b[39m_lock\u001b[38;5;241m.\u001b[39mrelease()\n",
      "File \u001b[0;32m~/myenv/lib/python3.11/site-packages/tensorflow/python/eager/polymorphic_function/tracing_compilation.py:139\u001b[0m, in \u001b[0;36mcall_function\u001b[0;34m(args, kwargs, tracing_options)\u001b[0m\n\u001b[1;32m    137\u001b[0m bound_args \u001b[38;5;241m=\u001b[39m function\u001b[38;5;241m.\u001b[39mfunction_type\u001b[38;5;241m.\u001b[39mbind(\u001b[38;5;241m*\u001b[39margs, \u001b[38;5;241m*\u001b[39m\u001b[38;5;241m*\u001b[39mkwargs)\n\u001b[1;32m    138\u001b[0m flat_inputs \u001b[38;5;241m=\u001b[39m function\u001b[38;5;241m.\u001b[39mfunction_type\u001b[38;5;241m.\u001b[39munpack_inputs(bound_args)\n\u001b[0;32m--> 139\u001b[0m \u001b[38;5;28;01mreturn\u001b[39;00m \u001b[43mfunction\u001b[49m\u001b[38;5;241;43m.\u001b[39;49m\u001b[43m_call_flat\u001b[49m\u001b[43m(\u001b[49m\u001b[43m  \u001b[49m\u001b[38;5;66;43;03m# pylint: disable=protected-access\u001b[39;49;00m\n\u001b[1;32m    140\u001b[0m \u001b[43m    \u001b[49m\u001b[43mflat_inputs\u001b[49m\u001b[43m,\u001b[49m\u001b[43m \u001b[49m\u001b[43mcaptured_inputs\u001b[49m\u001b[38;5;241;43m=\u001b[39;49m\u001b[43mfunction\u001b[49m\u001b[38;5;241;43m.\u001b[39;49m\u001b[43mcaptured_inputs\u001b[49m\n\u001b[1;32m    141\u001b[0m \u001b[43m\u001b[49m\u001b[43m)\u001b[49m\n",
      "File \u001b[0;32m~/myenv/lib/python3.11/site-packages/tensorflow/python/eager/polymorphic_function/concrete_function.py:1323\u001b[0m, in \u001b[0;36mConcreteFunction._call_flat\u001b[0;34m(self, tensor_inputs, captured_inputs)\u001b[0m\n\u001b[1;32m   1319\u001b[0m possible_gradient_type \u001b[38;5;241m=\u001b[39m gradients_util\u001b[38;5;241m.\u001b[39mPossibleTapeGradientTypes(args)\n\u001b[1;32m   1320\u001b[0m \u001b[38;5;28;01mif\u001b[39;00m (possible_gradient_type \u001b[38;5;241m==\u001b[39m gradients_util\u001b[38;5;241m.\u001b[39mPOSSIBLE_GRADIENT_TYPES_NONE\n\u001b[1;32m   1321\u001b[0m     \u001b[38;5;129;01mand\u001b[39;00m executing_eagerly):\n\u001b[1;32m   1322\u001b[0m   \u001b[38;5;66;03m# No tape is watching; skip to running the function.\u001b[39;00m\n\u001b[0;32m-> 1323\u001b[0m   \u001b[38;5;28;01mreturn\u001b[39;00m \u001b[38;5;28;43mself\u001b[39;49m\u001b[38;5;241;43m.\u001b[39;49m\u001b[43m_inference_function\u001b[49m\u001b[38;5;241;43m.\u001b[39;49m\u001b[43mcall_preflattened\u001b[49m\u001b[43m(\u001b[49m\u001b[43margs\u001b[49m\u001b[43m)\u001b[49m\n\u001b[1;32m   1324\u001b[0m forward_backward \u001b[38;5;241m=\u001b[39m \u001b[38;5;28mself\u001b[39m\u001b[38;5;241m.\u001b[39m_select_forward_and_backward_functions(\n\u001b[1;32m   1325\u001b[0m     args,\n\u001b[1;32m   1326\u001b[0m     possible_gradient_type,\n\u001b[1;32m   1327\u001b[0m     executing_eagerly)\n\u001b[1;32m   1328\u001b[0m forward_function, args_with_tangents \u001b[38;5;241m=\u001b[39m forward_backward\u001b[38;5;241m.\u001b[39mforward()\n",
      "File \u001b[0;32m~/myenv/lib/python3.11/site-packages/tensorflow/python/eager/polymorphic_function/atomic_function.py:216\u001b[0m, in \u001b[0;36mAtomicFunction.call_preflattened\u001b[0;34m(self, args)\u001b[0m\n\u001b[1;32m    214\u001b[0m \u001b[38;5;28;01mdef\u001b[39;00m \u001b[38;5;21mcall_preflattened\u001b[39m(\u001b[38;5;28mself\u001b[39m, args: Sequence[core\u001b[38;5;241m.\u001b[39mTensor]) \u001b[38;5;241m-\u001b[39m\u001b[38;5;241m>\u001b[39m Any:\n\u001b[1;32m    215\u001b[0m \u001b[38;5;250m  \u001b[39m\u001b[38;5;124;03m\"\"\"Calls with flattened tensor inputs and returns the structured output.\"\"\"\u001b[39;00m\n\u001b[0;32m--> 216\u001b[0m   flat_outputs \u001b[38;5;241m=\u001b[39m \u001b[38;5;28;43mself\u001b[39;49m\u001b[38;5;241;43m.\u001b[39;49m\u001b[43mcall_flat\u001b[49m\u001b[43m(\u001b[49m\u001b[38;5;241;43m*\u001b[39;49m\u001b[43margs\u001b[49m\u001b[43m)\u001b[49m\n\u001b[1;32m    217\u001b[0m   \u001b[38;5;28;01mreturn\u001b[39;00m \u001b[38;5;28mself\u001b[39m\u001b[38;5;241m.\u001b[39mfunction_type\u001b[38;5;241m.\u001b[39mpack_output(flat_outputs)\n",
      "File \u001b[0;32m~/myenv/lib/python3.11/site-packages/tensorflow/python/eager/polymorphic_function/atomic_function.py:251\u001b[0m, in \u001b[0;36mAtomicFunction.call_flat\u001b[0;34m(self, *args)\u001b[0m\n\u001b[1;32m    249\u001b[0m \u001b[38;5;28;01mwith\u001b[39;00m record\u001b[38;5;241m.\u001b[39mstop_recording():\n\u001b[1;32m    250\u001b[0m   \u001b[38;5;28;01mif\u001b[39;00m \u001b[38;5;28mself\u001b[39m\u001b[38;5;241m.\u001b[39m_bound_context\u001b[38;5;241m.\u001b[39mexecuting_eagerly():\n\u001b[0;32m--> 251\u001b[0m     outputs \u001b[38;5;241m=\u001b[39m \u001b[38;5;28;43mself\u001b[39;49m\u001b[38;5;241;43m.\u001b[39;49m\u001b[43m_bound_context\u001b[49m\u001b[38;5;241;43m.\u001b[39;49m\u001b[43mcall_function\u001b[49m\u001b[43m(\u001b[49m\n\u001b[1;32m    252\u001b[0m \u001b[43m        \u001b[49m\u001b[38;5;28;43mself\u001b[39;49m\u001b[38;5;241;43m.\u001b[39;49m\u001b[43mname\u001b[49m\u001b[43m,\u001b[49m\n\u001b[1;32m    253\u001b[0m \u001b[43m        \u001b[49m\u001b[38;5;28;43mlist\u001b[39;49m\u001b[43m(\u001b[49m\u001b[43margs\u001b[49m\u001b[43m)\u001b[49m\u001b[43m,\u001b[49m\n\u001b[1;32m    254\u001b[0m \u001b[43m        \u001b[49m\u001b[38;5;28;43mlen\u001b[39;49m\u001b[43m(\u001b[49m\u001b[38;5;28;43mself\u001b[39;49m\u001b[38;5;241;43m.\u001b[39;49m\u001b[43mfunction_type\u001b[49m\u001b[38;5;241;43m.\u001b[39;49m\u001b[43mflat_outputs\u001b[49m\u001b[43m)\u001b[49m\u001b[43m,\u001b[49m\n\u001b[1;32m    255\u001b[0m \u001b[43m    \u001b[49m\u001b[43m)\u001b[49m\n\u001b[1;32m    256\u001b[0m   \u001b[38;5;28;01melse\u001b[39;00m:\n\u001b[1;32m    257\u001b[0m     outputs \u001b[38;5;241m=\u001b[39m make_call_op_in_graph(\n\u001b[1;32m    258\u001b[0m         \u001b[38;5;28mself\u001b[39m,\n\u001b[1;32m    259\u001b[0m         \u001b[38;5;28mlist\u001b[39m(args),\n\u001b[1;32m    260\u001b[0m         \u001b[38;5;28mself\u001b[39m\u001b[38;5;241m.\u001b[39m_bound_context\u001b[38;5;241m.\u001b[39mfunction_call_options\u001b[38;5;241m.\u001b[39mas_attrs(),\n\u001b[1;32m    261\u001b[0m     )\n",
      "File \u001b[0;32m~/myenv/lib/python3.11/site-packages/tensorflow/python/eager/context.py:1486\u001b[0m, in \u001b[0;36mContext.call_function\u001b[0;34m(self, name, tensor_inputs, num_outputs)\u001b[0m\n\u001b[1;32m   1484\u001b[0m cancellation_context \u001b[38;5;241m=\u001b[39m cancellation\u001b[38;5;241m.\u001b[39mcontext()\n\u001b[1;32m   1485\u001b[0m \u001b[38;5;28;01mif\u001b[39;00m cancellation_context \u001b[38;5;129;01mis\u001b[39;00m \u001b[38;5;28;01mNone\u001b[39;00m:\n\u001b[0;32m-> 1486\u001b[0m   outputs \u001b[38;5;241m=\u001b[39m \u001b[43mexecute\u001b[49m\u001b[38;5;241;43m.\u001b[39;49m\u001b[43mexecute\u001b[49m\u001b[43m(\u001b[49m\n\u001b[1;32m   1487\u001b[0m \u001b[43m      \u001b[49m\u001b[43mname\u001b[49m\u001b[38;5;241;43m.\u001b[39;49m\u001b[43mdecode\u001b[49m\u001b[43m(\u001b[49m\u001b[38;5;124;43m\"\u001b[39;49m\u001b[38;5;124;43mutf-8\u001b[39;49m\u001b[38;5;124;43m\"\u001b[39;49m\u001b[43m)\u001b[49m\u001b[43m,\u001b[49m\n\u001b[1;32m   1488\u001b[0m \u001b[43m      \u001b[49m\u001b[43mnum_outputs\u001b[49m\u001b[38;5;241;43m=\u001b[39;49m\u001b[43mnum_outputs\u001b[49m\u001b[43m,\u001b[49m\n\u001b[1;32m   1489\u001b[0m \u001b[43m      \u001b[49m\u001b[43minputs\u001b[49m\u001b[38;5;241;43m=\u001b[39;49m\u001b[43mtensor_inputs\u001b[49m\u001b[43m,\u001b[49m\n\u001b[1;32m   1490\u001b[0m \u001b[43m      \u001b[49m\u001b[43mattrs\u001b[49m\u001b[38;5;241;43m=\u001b[39;49m\u001b[43mattrs\u001b[49m\u001b[43m,\u001b[49m\n\u001b[1;32m   1491\u001b[0m \u001b[43m      \u001b[49m\u001b[43mctx\u001b[49m\u001b[38;5;241;43m=\u001b[39;49m\u001b[38;5;28;43mself\u001b[39;49m\u001b[43m,\u001b[49m\n\u001b[1;32m   1492\u001b[0m \u001b[43m  \u001b[49m\u001b[43m)\u001b[49m\n\u001b[1;32m   1493\u001b[0m \u001b[38;5;28;01melse\u001b[39;00m:\n\u001b[1;32m   1494\u001b[0m   outputs \u001b[38;5;241m=\u001b[39m execute\u001b[38;5;241m.\u001b[39mexecute_with_cancellation(\n\u001b[1;32m   1495\u001b[0m       name\u001b[38;5;241m.\u001b[39mdecode(\u001b[38;5;124m\"\u001b[39m\u001b[38;5;124mutf-8\u001b[39m\u001b[38;5;124m\"\u001b[39m),\n\u001b[1;32m   1496\u001b[0m       num_outputs\u001b[38;5;241m=\u001b[39mnum_outputs,\n\u001b[0;32m   (...)\u001b[0m\n\u001b[1;32m   1500\u001b[0m       cancellation_manager\u001b[38;5;241m=\u001b[39mcancellation_context,\n\u001b[1;32m   1501\u001b[0m   )\n",
      "File \u001b[0;32m~/myenv/lib/python3.11/site-packages/tensorflow/python/eager/execute.py:53\u001b[0m, in \u001b[0;36mquick_execute\u001b[0;34m(op_name, num_outputs, inputs, attrs, ctx, name)\u001b[0m\n\u001b[1;32m     51\u001b[0m \u001b[38;5;28;01mtry\u001b[39;00m:\n\u001b[1;32m     52\u001b[0m   ctx\u001b[38;5;241m.\u001b[39mensure_initialized()\n\u001b[0;32m---> 53\u001b[0m   tensors \u001b[38;5;241m=\u001b[39m \u001b[43mpywrap_tfe\u001b[49m\u001b[38;5;241;43m.\u001b[39;49m\u001b[43mTFE_Py_Execute\u001b[49m\u001b[43m(\u001b[49m\u001b[43mctx\u001b[49m\u001b[38;5;241;43m.\u001b[39;49m\u001b[43m_handle\u001b[49m\u001b[43m,\u001b[49m\u001b[43m \u001b[49m\u001b[43mdevice_name\u001b[49m\u001b[43m,\u001b[49m\u001b[43m \u001b[49m\u001b[43mop_name\u001b[49m\u001b[43m,\u001b[49m\n\u001b[1;32m     54\u001b[0m \u001b[43m                                      \u001b[49m\u001b[43minputs\u001b[49m\u001b[43m,\u001b[49m\u001b[43m \u001b[49m\u001b[43mattrs\u001b[49m\u001b[43m,\u001b[49m\u001b[43m \u001b[49m\u001b[43mnum_outputs\u001b[49m\u001b[43m)\u001b[49m\n\u001b[1;32m     55\u001b[0m \u001b[38;5;28;01mexcept\u001b[39;00m core\u001b[38;5;241m.\u001b[39m_NotOkStatusException \u001b[38;5;28;01mas\u001b[39;00m e:\n\u001b[1;32m     56\u001b[0m   \u001b[38;5;28;01mif\u001b[39;00m name \u001b[38;5;129;01mis\u001b[39;00m \u001b[38;5;129;01mnot\u001b[39;00m \u001b[38;5;28;01mNone\u001b[39;00m:\n",
      "\u001b[0;31mKeyboardInterrupt\u001b[0m: "
     ]
    }
   ],
   "source": [
    "model.fit(X_train, y_train,\n",
    "          validation_data=(X_valid, y_valid),\n",
    "          batch_size=32,\n",
    "         epochs=80)"
   ]
  },
  {
   "cell_type": "code",
   "execution_count": 34,
   "id": "d543f0e4-0bda-4a96-9bfd-76bdfdd98fe5",
   "metadata": {},
   "outputs": [
    {
     "name": "stdout",
     "output_type": "stream",
     "text": [
      "dict_keys(['loss', 'accuracy', 'val_loss', 'val_accuracy'])\n"
     ]
    },
    {
     "data": {
      "image/png": "[encoded data removed]",
      "text/plain": [
       "<Figure size 640x480 with 1 Axes>"
      ]
     },
     "metadata": {},
     "output_type": "display_data"
    }
   ],
   "source": [
    "print(model.history.history.keys())\n",
    "# summarize history for accuracy\n",
    "plt.plot(model.history.history['accuracy'])\n",
    "plt.plot(model.history.history['val_accuracy'])\n",
    "plt.title('model accuracy')\n",
    "plt.ylabel('accuracy')\n",
    "plt.xlabel('epoch')\n",
    "plt.legend(['train', 'val'], loc='upper left')\n",
    "plt.show()"
   ]
  },
  {
   "cell_type": "code",
   "execution_count": null,
   "id": "5250c39f-adc5-49fc-aef4-3c7b67e662a3",
   "metadata": {},
   "outputs": [],
   "source": [
    "# третья модель с эмбедингами word2vec из второго задания лучше всего получилась"
   ]
  }
 ],
 "metadata": {
  "accelerator": "GPU",
  "colab": {
   "gpuType": "T4",
   "provenance": []
  },
  "kernelspec": {
   "display_name": "Python 3 (ipykernel)",
   "language": "python",
   "name": "python3"
  },
  "language_info": {
   "codemirror_mode": {
    "name": "ipython",
    "version": 3
   },
   "file_extension": ".py",
   "mimetype": "text/x-python",
   "name": "python",
   "nbconvert_exporter": "python",
   "pygments_lexer": "ipython3",
   "version": "3.11.2"
  }
 },
 "nbformat": 4,
 "nbformat_minor": 5
}
