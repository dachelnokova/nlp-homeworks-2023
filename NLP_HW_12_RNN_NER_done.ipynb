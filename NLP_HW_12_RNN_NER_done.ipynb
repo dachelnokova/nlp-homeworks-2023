{
  "cells": [
    {
      "cell_type": "markdown",
      "id": "1bf6f873",
      "metadata": {
        "id": "1bf6f873"
      },
      "source": [
        "# Домашнее задание № 8"
      ]
    },
    {
      "cell_type": "markdown",
      "id": "3b4bd487",
      "metadata": {
        "id": "3b4bd487"
      },
      "source": [
        "## Задание 1 (4 балла)"
      ]
    },
    {
      "cell_type": "markdown",
      "id": "bf4c4f87",
      "metadata": {
        "id": "bf4c4f87"
      },
      "source": [
        "Обучите 8 моделей для задачи классификации текста (датасет - lenta_40k ). А именно:  \n",
        "1) модель с 1 GRU слоем;   \n",
        "2) модель с 1 LSTM слоем    \n",
        "3) модель с 1 GRU и 1 LSTM слоем  \n",
        "4) модель с 1 BIGRU и 2 LSTM слоями  \n",
        "5) модель с 5 GRU слоями и 3 LSTM слоями  \n",
        "6) модель 1 BIGRU и 1 BILSTM слоями, причем так чтобы модели для forward и backward прохода отличались   \n",
        "7) модель, где последовательно идут слои: LSTM, GRU, BILSTM, BIGRU, GRU, LSTM  \n",
        "\n",
        "\n",
        "\n",
        "Параметр units и размер эмбединга можете задать любой. Оцените качество каждой модели и определите победителя."
      ]
    },
    {
      "cell_type": "code",
      "source": [
        "!pip install pandas scikit-learn matplotlib"
      ],
      "metadata": {
        "colab": {
          "base_uri": "https://localhost:8080/"
        },
        "id": "yKBZ_Tbs59XS",
        "outputId": "63574996-5274-4f40-f8b9-614ef5fc29ad"
      },
      "id": "yKBZ_Tbs59XS",
      "execution_count": null,
      "outputs": [
        {
          "output_type": "stream",
          "name": "stdout",
          "text": [
            "Requirement already satisfied: pandas in /usr/local/lib/python3.10/dist-packages (1.5.3)\n",
            "Requirement already satisfied: scikit-learn in /usr/local/lib/python3.10/dist-packages (1.2.2)\n",
            "Requirement already satisfied: matplotlib in /usr/local/lib/python3.10/dist-packages (3.7.1)\n",
            "Requirement already satisfied: python-dateutil>=2.8.1 in /usr/local/lib/python3.10/dist-packages (from pandas) (2.8.2)\n",
            "Requirement already satisfied: pytz>=2020.1 in /usr/local/lib/python3.10/dist-packages (from pandas) (2023.4)\n",
            "Requirement already satisfied: numpy>=1.21.0 in /usr/local/lib/python3.10/dist-packages (from pandas) (1.25.2)\n",
            "Requirement already satisfied: scipy>=1.3.2 in /usr/local/lib/python3.10/dist-packages (from scikit-learn) (1.11.4)\n",
            "Requirement already satisfied: joblib>=1.1.1 in /usr/local/lib/python3.10/dist-packages (from scikit-learn) (1.3.2)\n",
            "Requirement already satisfied: threadpoolctl>=2.0.0 in /usr/local/lib/python3.10/dist-packages (from scikit-learn) (3.3.0)\n",
            "Requirement already satisfied: contourpy>=1.0.1 in /usr/local/lib/python3.10/dist-packages (from matplotlib) (1.2.0)\n",
            "Requirement already satisfied: cycler>=0.10 in /usr/local/lib/python3.10/dist-packages (from matplotlib) (0.12.1)\n",
            "Requirement already satisfied: fonttools>=4.22.0 in /usr/local/lib/python3.10/dist-packages (from matplotlib) (4.49.0)\n",
            "Requirement already satisfied: kiwisolver>=1.0.1 in /usr/local/lib/python3.10/dist-packages (from matplotlib) (1.4.5)\n",
            "Requirement already satisfied: packaging>=20.0 in /usr/local/lib/python3.10/dist-packages (from matplotlib) (23.2)\n",
            "Requirement already satisfied: pillow>=6.2.0 in /usr/local/lib/python3.10/dist-packages (from matplotlib) (9.4.0)\n",
            "Requirement already satisfied: pyparsing>=2.3.1 in /usr/local/lib/python3.10/dist-packages (from matplotlib) (3.1.1)\n",
            "Requirement already satisfied: six>=1.5 in /usr/local/lib/python3.10/dist-packages (from python-dateutil>=2.8.1->pandas) (1.16.0)\n"
          ]
        }
      ]
    },
    {
      "cell_type": "code",
      "execution_count": null,
      "metadata": {
        "id": "bMSUJWfrZQF0"
      },
      "outputs": [],
      "source": [
        "import tensorflow as tf"
      ],
      "id": "bMSUJWfrZQF0"
    },
    {
      "cell_type": "code",
      "execution_count": null,
      "metadata": {
        "id": "mhmLlFR_ZQF0"
      },
      "outputs": [],
      "source": [
        "import pandas as pd\n",
        "import numpy as np\n",
        "from string import punctuation\n",
        "from sklearn.model_selection import train_test_split\n",
        "from collections import Counter\n",
        "from IPython.display import Image\n",
        "from IPython.core.display import HTML\n",
        "import matplotlib.pyplot as plt\n",
        "%matplotlib inline"
      ],
      "id": "mhmLlFR_ZQF0"
    },
    {
      "cell_type": "markdown",
      "source": [
        "### Предобработка"
      ],
      "metadata": {
        "id": "upqCNMaT5KOz"
      },
      "id": "upqCNMaT5KOz"
    },
    {
      "cell_type": "code",
      "execution_count": null,
      "id": "50362f6e",
      "metadata": {
        "colab": {
          "base_uri": "https://localhost:8080/"
        },
        "id": "50362f6e",
        "outputId": "e2668dec-7d55-49b1-963b-7371daf94d2b"
      },
      "outputs": [
        {
          "output_type": "stream",
          "name": "stdout",
          "text": [
            "--2024-03-06 09:53:33--  https://github.com/mannefedov/compling_nlp_hse_course/raw/master/data/lenta_40k.csv.zip\n",
            "Resolving github.com (github.com)... 192.30.255.112\n",
            "Connecting to github.com (github.com)|192.30.255.112|:443... connected.\n",
            "HTTP request sent, awaiting response... 302 Found\n",
            "Location: https://raw.githubusercontent.com/mannefedov/compling_nlp_hse_course/master/data/lenta_40k.csv.zip [following]\n",
            "--2024-03-06 09:53:33--  https://raw.githubusercontent.com/mannefedov/compling_nlp_hse_course/master/data/lenta_40k.csv.zip\n",
            "Resolving raw.githubusercontent.com (raw.githubusercontent.com)... 185.199.108.133, 185.199.109.133, 185.199.110.133, ...\n",
            "Connecting to raw.githubusercontent.com (raw.githubusercontent.com)|185.199.108.133|:443... connected.\n",
            "HTTP request sent, awaiting response... 200 OK\n",
            "Length: 30658975 (29M) [application/zip]\n",
            "Saving to: ‘lenta_40k.csv.zip’\n",
            "\n",
            "lenta_40k.csv.zip   100%[===================>]  29.24M  --.-KB/s    in 0.1s    \n",
            "\n",
            "2024-03-06 09:53:34 (234 MB/s) - ‘lenta_40k.csv.zip’ saved [30658975/30658975]\n",
            "\n",
            "Archive:  lenta_40k.csv.zip\n",
            "  inflating: lenta_40k.csv           \n"
          ]
        }
      ],
      "source": [
        "!wget https://github.com/mannefedov/compling_nlp_hse_course/raw/master/data/lenta_40k.csv.zip\n",
        "!unzip lenta_40k.csv.zip"
      ]
    },
    {
      "cell_type": "code",
      "source": [
        "data = pd.read_csv('lenta_40k.csv')"
      ],
      "metadata": {
        "id": "flErn8IJ53QW"
      },
      "id": "flErn8IJ53QW",
      "execution_count": null,
      "outputs": []
    },
    {
      "cell_type": "code",
      "execution_count": null,
      "metadata": {
        "id": "h6Gh8M6EZQF1",
        "outputId": "920c3177-ee12-442d-c2b1-086dc260f793",
        "colab": {
          "base_uri": "https://localhost:8080/",
          "height": 206
        }
      },
      "outputs": [
        {
          "output_type": "execute_result",
          "data": {
            "text/plain": [
              "                                                text           topic\n",
              "0  Россия должна сотрудничать с Всемирным антидоп...           Спорт\n",
              "1  Уголовный суд Кувейта 28 июня освободил под за...             Мир\n",
              "2  Французский журнал Charlie Hebdo опубликовал н...  Интернет и СМИ\n",
              "3  В Петербурге в доме № 53 по улице Лени Голиков...          Россия\n",
              "4  В московском аэропорту \"Домодедово\" задержан г...          Россия"
            ],
            "text/html": [
              "\n",
              "  <div id=\"df-ba4980fe-7adb-4955-81a2-4c89921f8d3d\" class=\"colab-df-container\">\n",
              "    <div>\n",
              "<style scoped>\n",
              "    .dataframe tbody tr th:only-of-type {\n",
              "        vertical-align: middle;\n",
              "    }\n",
              "\n",
              "    .dataframe tbody tr th {\n",
              "        vertical-align: top;\n",
              "    }\n",
              "\n",
              "    .dataframe thead th {\n",
              "        text-align: right;\n",
              "    }\n",
              "</style>\n",
              "<table border=\"1\" class=\"dataframe\">\n",
              "  <thead>\n",
              "    <tr style=\"text-align: right;\">\n",
              "      <th></th>\n",
              "      <th>text</th>\n",
              "      <th>topic</th>\n",
              "    </tr>\n",
              "  </thead>\n",
              "  <tbody>\n",
              "    <tr>\n",
              "      <th>0</th>\n",
              "      <td>Россия должна сотрудничать с Всемирным антидоп...</td>\n",
              "      <td>Спорт</td>\n",
              "    </tr>\n",
              "    <tr>\n",
              "      <th>1</th>\n",
              "      <td>Уголовный суд Кувейта 28 июня освободил под за...</td>\n",
              "      <td>Мир</td>\n",
              "    </tr>\n",
              "    <tr>\n",
              "      <th>2</th>\n",
              "      <td>Французский журнал Charlie Hebdo опубликовал н...</td>\n",
              "      <td>Интернет и СМИ</td>\n",
              "    </tr>\n",
              "    <tr>\n",
              "      <th>3</th>\n",
              "      <td>В Петербурге в доме № 53 по улице Лени Голиков...</td>\n",
              "      <td>Россия</td>\n",
              "    </tr>\n",
              "    <tr>\n",
              "      <th>4</th>\n",
              "      <td>В московском аэропорту \"Домодедово\" задержан г...</td>\n",
              "      <td>Россия</td>\n",
              "    </tr>\n",
              "  </tbody>\n",
              "</table>\n",
              "</div>\n",
              "    <div class=\"colab-df-buttons\">\n",
              "\n",
              "  <div class=\"colab-df-container\">\n",
              "    <button class=\"colab-df-convert\" onclick=\"convertToInteractive('df-ba4980fe-7adb-4955-81a2-4c89921f8d3d')\"\n",
              "            title=\"Convert this dataframe to an interactive table.\"\n",
              "            style=\"display:none;\">\n",
              "\n",
              "  <svg xmlns=\"http://www.w3.org/2000/svg\" height=\"24px\" viewBox=\"0 -960 960 960\">\n",
              "    <path d=\"M120-120v-720h720v720H120Zm60-500h600v-160H180v160Zm220 220h160v-160H400v160Zm0 220h160v-160H400v160ZM180-400h160v-160H180v160Zm440 0h160v-160H620v160ZM180-180h160v-160H180v160Zm440 0h160v-160H620v160Z\"/>\n",
              "  </svg>\n",
              "    </button>\n",
              "\n",
              "  <style>\n",
              "    .colab-df-container {\n",
              "      display:flex;\n",
              "      gap: 12px;\n",
              "    }\n",
              "\n",
              "    .colab-df-convert {\n",
              "      background-color: #E8F0FE;\n",
              "      border: none;\n",
              "      border-radius: 50%;\n",
              "      cursor: pointer;\n",
              "      display: none;\n",
              "      fill: #1967D2;\n",
              "      height: 32px;\n",
              "      padding: 0 0 0 0;\n",
              "      width: 32px;\n",
              "    }\n",
              "\n",
              "    .colab-df-convert:hover {\n",
              "      background-color: #E2EBFA;\n",
              "      box-shadow: 0px 1px 2px rgba(60, 64, 67, 0.3), 0px 1px 3px 1px rgba(60, 64, 67, 0.15);\n",
              "      fill: #174EA6;\n",
              "    }\n",
              "\n",
              "    .colab-df-buttons div {\n",
              "      margin-bottom: 4px;\n",
              "    }\n",
              "\n",
              "    [theme=dark] .colab-df-convert {\n",
              "      background-color: #3B4455;\n",
              "      fill: #D2E3FC;\n",
              "    }\n",
              "\n",
              "    [theme=dark] .colab-df-convert:hover {\n",
              "      background-color: #434B5C;\n",
              "      box-shadow: 0px 1px 3px 1px rgba(0, 0, 0, 0.15);\n",
              "      filter: drop-shadow(0px 1px 2px rgba(0, 0, 0, 0.3));\n",
              "      fill: #FFFFFF;\n",
              "    }\n",
              "  </style>\n",
              "\n",
              "    <script>\n",
              "      const buttonEl =\n",
              "        document.querySelector('#df-ba4980fe-7adb-4955-81a2-4c89921f8d3d button.colab-df-convert');\n",
              "      buttonEl.style.display =\n",
              "        google.colab.kernel.accessAllowed ? 'block' : 'none';\n",
              "\n",
              "      async function convertToInteractive(key) {\n",
              "        const element = document.querySelector('#df-ba4980fe-7adb-4955-81a2-4c89921f8d3d');\n",
              "        const dataTable =\n",
              "          await google.colab.kernel.invokeFunction('convertToInteractive',\n",
              "                                                    [key], {});\n",
              "        if (!dataTable) return;\n",
              "\n",
              "        const docLinkHtml = 'Like what you see? Visit the ' +\n",
              "          '<a target=\"_blank\" href=https://colab.research.google.com/notebooks/data_table.ipynb>data table notebook</a>'\n",
              "          + ' to learn more about interactive tables.';\n",
              "        element.innerHTML = '';\n",
              "        dataTable['output_type'] = 'display_data';\n",
              "        await google.colab.output.renderOutput(dataTable, element);\n",
              "        const docLink = document.createElement('div');\n",
              "        docLink.innerHTML = docLinkHtml;\n",
              "        element.appendChild(docLink);\n",
              "      }\n",
              "    </script>\n",
              "  </div>\n",
              "\n",
              "\n",
              "<div id=\"df-d9852139-73c5-4af5-8dff-3684afa6754a\">\n",
              "  <button class=\"colab-df-quickchart\" onclick=\"quickchart('df-d9852139-73c5-4af5-8dff-3684afa6754a')\"\n",
              "            title=\"Suggest charts\"\n",
              "            style=\"display:none;\">\n",
              "\n",
              "<svg xmlns=\"http://www.w3.org/2000/svg\" height=\"24px\"viewBox=\"0 0 24 24\"\n",
              "     width=\"24px\">\n",
              "    <g>\n",
              "        <path d=\"M19 3H5c-1.1 0-2 .9-2 2v14c0 1.1.9 2 2 2h14c1.1 0 2-.9 2-2V5c0-1.1-.9-2-2-2zM9 17H7v-7h2v7zm4 0h-2V7h2v10zm4 0h-2v-4h2v4z\"/>\n",
              "    </g>\n",
              "</svg>\n",
              "  </button>\n",
              "\n",
              "<style>\n",
              "  .colab-df-quickchart {\n",
              "      --bg-color: #E8F0FE;\n",
              "      --fill-color: #1967D2;\n",
              "      --hover-bg-color: #E2EBFA;\n",
              "      --hover-fill-color: #174EA6;\n",
              "      --disabled-fill-color: #AAA;\n",
              "      --disabled-bg-color: #DDD;\n",
              "  }\n",
              "\n",
              "  [theme=dark] .colab-df-quickchart {\n",
              "      --bg-color: #3B4455;\n",
              "      --fill-color: #D2E3FC;\n",
              "      --hover-bg-color: #434B5C;\n",
              "      --hover-fill-color: #FFFFFF;\n",
              "      --disabled-bg-color: #3B4455;\n",
              "      --disabled-fill-color: #666;\n",
              "  }\n",
              "\n",
              "  .colab-df-quickchart {\n",
              "    background-color: var(--bg-color);\n",
              "    border: none;\n",
              "    border-radius: 50%;\n",
              "    cursor: pointer;\n",
              "    display: none;\n",
              "    fill: var(--fill-color);\n",
              "    height: 32px;\n",
              "    padding: 0;\n",
              "    width: 32px;\n",
              "  }\n",
              "\n",
              "  .colab-df-quickchart:hover {\n",
              "    background-color: var(--hover-bg-color);\n",
              "    box-shadow: 0 1px 2px rgba(60, 64, 67, 0.3), 0 1px 3px 1px rgba(60, 64, 67, 0.15);\n",
              "    fill: var(--button-hover-fill-color);\n",
              "  }\n",
              "\n",
              "  .colab-df-quickchart-complete:disabled,\n",
              "  .colab-df-quickchart-complete:disabled:hover {\n",
              "    background-color: var(--disabled-bg-color);\n",
              "    fill: var(--disabled-fill-color);\n",
              "    box-shadow: none;\n",
              "  }\n",
              "\n",
              "  .colab-df-spinner {\n",
              "    border: 2px solid var(--fill-color);\n",
              "    border-color: transparent;\n",
              "    border-bottom-color: var(--fill-color);\n",
              "    animation:\n",
              "      spin 1s steps(1) infinite;\n",
              "  }\n",
              "\n",
              "  @keyframes spin {\n",
              "    0% {\n",
              "      border-color: transparent;\n",
              "      border-bottom-color: var(--fill-color);\n",
              "      border-left-color: var(--fill-color);\n",
              "    }\n",
              "    20% {\n",
              "      border-color: transparent;\n",
              "      border-left-color: var(--fill-color);\n",
              "      border-top-color: var(--fill-color);\n",
              "    }\n",
              "    30% {\n",
              "      border-color: transparent;\n",
              "      border-left-color: var(--fill-color);\n",
              "      border-top-color: var(--fill-color);\n",
              "      border-right-color: var(--fill-color);\n",
              "    }\n",
              "    40% {\n",
              "      border-color: transparent;\n",
              "      border-right-color: var(--fill-color);\n",
              "      border-top-color: var(--fill-color);\n",
              "    }\n",
              "    60% {\n",
              "      border-color: transparent;\n",
              "      border-right-color: var(--fill-color);\n",
              "    }\n",
              "    80% {\n",
              "      border-color: transparent;\n",
              "      border-right-color: var(--fill-color);\n",
              "      border-bottom-color: var(--fill-color);\n",
              "    }\n",
              "    90% {\n",
              "      border-color: transparent;\n",
              "      border-bottom-color: var(--fill-color);\n",
              "    }\n",
              "  }\n",
              "</style>\n",
              "\n",
              "  <script>\n",
              "    async function quickchart(key) {\n",
              "      const quickchartButtonEl =\n",
              "        document.querySelector('#' + key + ' button');\n",
              "      quickchartButtonEl.disabled = true;  // To prevent multiple clicks.\n",
              "      quickchartButtonEl.classList.add('colab-df-spinner');\n",
              "      try {\n",
              "        const charts = await google.colab.kernel.invokeFunction(\n",
              "            'suggestCharts', [key], {});\n",
              "      } catch (error) {\n",
              "        console.error('Error during call to suggestCharts:', error);\n",
              "      }\n",
              "      quickchartButtonEl.classList.remove('colab-df-spinner');\n",
              "      quickchartButtonEl.classList.add('colab-df-quickchart-complete');\n",
              "    }\n",
              "    (() => {\n",
              "      let quickchartButtonEl =\n",
              "        document.querySelector('#df-d9852139-73c5-4af5-8dff-3684afa6754a button');\n",
              "      quickchartButtonEl.style.display =\n",
              "        google.colab.kernel.accessAllowed ? 'block' : 'none';\n",
              "    })();\n",
              "  </script>\n",
              "</div>\n",
              "    </div>\n",
              "  </div>\n"
            ],
            "application/vnd.google.colaboratory.intrinsic+json": {
              "type": "dataframe",
              "variable_name": "data",
              "summary": "{\n  \"name\": \"data\",\n  \"rows\": 44356,\n  \"fields\": [\n    {\n      \"column\": \"text\",\n      \"properties\": {\n        \"dtype\": \"string\",\n        \"num_unique_values\": 44319,\n        \"samples\": [\n          \"\\u0412 \\u041c\\u043e\\u0441\\u043a\\u0432\\u0435 \\u0432 \\u043f\\u044f\\u0442\\u043d\\u0438\\u0446\\u0443, 29 \\u0444\\u0435\\u0432\\u0440\\u0430\\u043b\\u044f, \\u0437\\u0430\\u0434\\u0435\\u0440\\u0436\\u0430\\u043d \\u043e\\u0434\\u0438\\u043d \\u0438\\u0437 \\u043b\\u0438\\u0434\\u0435\\u0440\\u043e\\u0432 \\u043d\\u0430\\u0446\\u0431\\u043e\\u043b\\u043e\\u0432 \\u0412\\u043b\\u0430\\u0434\\u0438\\u043c\\u0438\\u0440 \\u041b\\u0438\\u043d\\u0434\\u0435\\u0440\\u043c\\u0430\\u043d, \\u0438\\u0437\\u0432\\u0435\\u0441\\u0442\\u043d\\u044b\\u0439 \\u0442\\u0430\\u043a\\u0436\\u0435 \\u043a\\u0430\\u043a \\u0410\\u0431\\u0435\\u043b\\u044c. \\u041e\\u0431 \\u044d\\u0442\\u043e\\u043c \\u0441\\u043e\\u043e\\u0431\\u0449\\u0430\\u0435\\u0442 \\u0421\\u043e\\u0431\\u043a\\u043e\\u0440.Ru \\u0441\\u043e \\u0441\\u0441\\u044b\\u043b\\u043a\\u043e\\u0439 \\u043d\\u0430 \\u0441\\u0430\\u043c\\u043e\\u0433\\u043e \\u0410\\u0431\\u0435\\u043b\\u044f. \\u0410\\u0431\\u0435\\u043b\\u044c, \\u0440\\u0430\\u0437\\u044b\\u0441\\u043a\\u0438\\u0432\\u0430\\u0435\\u043c\\u044b\\u0439 \\u043f\\u0440\\u0430\\u0432\\u043e\\u043e\\u0445\\u0440\\u0430\\u043d\\u0438\\u0442\\u0435\\u043b\\u044c\\u043d\\u044b\\u043c\\u0438 \\u043e\\u0440\\u0433\\u0430\\u043d\\u0430\\u043c\\u0438 \\u041b\\u0430\\u0442\\u0432\\u0438\\u0438 \\u043f\\u043e \\u043e\\u0431\\u0432\\u0438\\u043d\\u0435\\u043d\\u0438\\u044e \\u0432 \\u043f\\u043e\\u0434\\u0433\\u043e\\u0442\\u043e\\u0432\\u043a\\u0435 \\u043f\\u043e\\u043a\\u0443\\u0448\\u0435\\u043d\\u0438\\u044f \\u043d\\u0430 \\u043f\\u0440\\u0435\\u0437\\u0438\\u0434\\u0435\\u043d\\u0442\\u0430 \\u0441\\u0442\\u0440\\u0430\\u043d\\u044b, \\u0441 2003 \\u0433\\u043e\\u0434\\u0430 \\u0436\\u0438\\u043b \\u0432 \\u0420\\u043e\\u0441\\u0441\\u0438\\u0438 \\u0438 \\u0434\\u0432\\u0430\\u0436\\u0434\\u044b \\u043f\\u0440\\u043e\\u0441\\u0438\\u043b \\u043f\\u0440\\u0435\\u0434\\u043e\\u0441\\u0442\\u0430\\u0432\\u0438\\u0442\\u044c \\u0435\\u043c\\u0443 \\u043f\\u043e\\u043b\\u0438\\u0442\\u0438\\u0447\\u0435\\u0441\\u043a\\u043e\\u0435 \\u0443\\u0431\\u0435\\u0436\\u0438\\u0449\\u0435, \\u0443\\u0442\\u0432\\u0435\\u0440\\u0436\\u0434\\u0430\\u044f, \\u0447\\u0442\\u043e \\u0435\\u0433\\u043e \\u043f\\u0440\\u0435\\u0441\\u043b\\u0435\\u0434\\u0443\\u044e\\u0442 \\u043f\\u043e \\u043f\\u043e\\u043b\\u0438\\u0442\\u0438\\u0447\\u0435\\u0441\\u043a\\u0438\\u043c \\u043c\\u043e\\u0442\\u0438\\u0432\\u0430\\u043c. \\u0412 \\u0442\\u043e \\u0436\\u0435 \\u0432\\u0440\\u0435\\u043c\\u044f \\u043e\\u043d \\u0430\\u043a\\u0442\\u0438\\u0432\\u043d\\u043e \\u0443\\u0447\\u0430\\u0441\\u0442\\u0432\\u043e\\u0432\\u0430\\u043b \\u0432 \\u0434\\u0435\\u044f\\u0442\\u0435\\u043b\\u044c\\u043d\\u043e\\u0441\\u0442\\u0438 \\u0437\\u0430\\u043f\\u0440\\u0435\\u0449\\u0435\\u043d\\u043d\\u043e\\u0439 \\u041d\\u0430\\u0446\\u0438\\u043e\\u043d\\u0430\\u043b-\\u0431\\u043e\\u043b\\u044c\\u0448\\u0435\\u0432\\u0438\\u0441\\u0442\\u0441\\u043a\\u043e\\u0439 \\u043f\\u0430\\u0440\\u0442\\u0438\\u0438 \\u0438 \\u043e\\u043f\\u043f\\u043e\\u0437\\u0438\\u0446\\u0438\\u043e\\u043d\\u043d\\u043e\\u0439 \\u043a\\u043e\\u0430\\u043b\\u0438\\u0446\\u0438\\u0438 \\\"\\u0414\\u0440\\u0443\\u0433\\u0430\\u044f \\u0420\\u043e\\u0441\\u0441\\u0438\\u044f\\\". \\u041b\\u0435\\u0442\\u043e\\u043c 2006 \\u0433\\u043e\\u0434\\u0430 \\u041a\\u0443\\u0437\\u044c\\u043c\\u0438\\u043d\\u0441\\u043a\\u0438\\u0439 \\u0440\\u0430\\u0439\\u043e\\u043d\\u043d\\u044b\\u0439 \\u0441\\u0443\\u0434 \\u043f\\u043e\\u0441\\u0442\\u0430\\u043d\\u043e\\u0432\\u0438\\u043b \\u0434\\u0435\\u043f\\u043e\\u0440\\u0442\\u0438\\u0440\\u043e\\u0432\\u0430\\u0442\\u044c \\u0410\\u0431\\u0435\\u043b\\u044f \\u0438\\u0437 \\u0420\\u043e\\u0441\\u0441\\u0438\\u0438 \\u0437\\u0430 \\u043d\\u0430\\u0440\\u0443\\u0448\\u0435\\u043d\\u0438\\u0435 \\u043f\\u0430\\u0441\\u043f\\u043e\\u0440\\u0442\\u043d\\u043e\\u0433\\u043e \\u0440\\u0435\\u0436\\u0438\\u043c\\u0430, \\u043d\\u043e \\u043f\\u043e \\u0434\\u043e\\u0440\\u043e\\u0433\\u0435 \\u0432 \\u041b\\u0430\\u0442\\u0432\\u0438\\u044e \\u043e\\u043d \\u043f\\u0440\\u043e\\u043f\\u0430\\u043b. \\u0410\\u0431\\u0435\\u043b\\u044c, \\u043f\\u043e \\u0434\\u0430\\u043d\\u043d\\u044b\\u043c \\u0421\\u043e\\u0431\\u043a\\u043e\\u0440.Ru, \\u0443\\u0436\\u0435 \\u0434\\u043e\\u0441\\u0442\\u0430\\u0432\\u043b\\u0435\\u043d \\u0432 \\u0418\\u0437\\u043c\\u0430\\u0439\\u043b\\u043e\\u0432\\u0441\\u043a\\u0438\\u0439 \\u0441\\u0443\\u0434, \\u043a\\u043e\\u0442\\u043e\\u0440\\u044b\\u0439 \\u0440\\u0435\\u0448\\u0438\\u0442, \\u0441\\u043b\\u0435\\u0434\\u0443\\u0435\\u0442 \\u043b\\u0438 \\u043f\\u043e\\u0432\\u0442\\u043e\\u0440\\u043d\\u043e \\u0434\\u0435\\u043f\\u043e\\u0440\\u0442\\u0438\\u0440\\u043e\\u0432\\u0430\\u0442\\u044c \\u0435\\u0433\\u043e \\u0432 \\u041b\\u0430\\u0442\\u0432\\u0438\\u044e.\",\n          \"\\u0420\\u043e\\u0441\\u0441\\u0438\\u044f \\u0441\\u043f\\u0435\\u0446\\u0438\\u0430\\u043b\\u044c\\u043d\\u043e \\u0437\\u0430\\u043c\\u0435\\u0434\\u043b\\u0438\\u043b\\u0430 \\u043f\\u0435\\u0440\\u0435\\u0433\\u043e\\u0432\\u043e\\u0440\\u044b \\u0441 \\u0421\\u0428\\u0410 \\u043f\\u043e \\u043f\\u0430\\u0440\\u0430\\u043c\\u0435\\u0442\\u0440\\u0430\\u043c \\u0432\\u0441\\u0442\\u0443\\u043f\\u043b\\u0435\\u043d\\u0438\\u044f \\u0432 \\u0412\\u0422\\u041e (World Trade Organisation, WTO). \\u041e\\u0431 \\u044d\\u0442\\u043e\\u043c \\u0437\\u0430\\u044f\\u0432\\u0438\\u043b \\u0433\\u043b\\u0430\\u0432\\u0430 \\u0440\\u043e\\u0441\\u0441\\u0438\\u0439\\u0441\\u043a\\u043e\\u0439 \\u0434\\u0435\\u043b\\u0435\\u0433\\u0430\\u0446\\u0438\\u0438 \\u043d\\u0430 \\u043f\\u0435\\u0440\\u0435\\u0433\\u043e\\u0432\\u043e\\u0440\\u0430\\u0445 \\u043f\\u043e \\u043f\\u0440\\u0438\\u0441\\u043e\\u0435\\u0434\\u0438\\u043d\\u0435\\u043d\\u0438\\u044e \\u043a \\u0412\\u0422\\u041e \\u041c\\u0430\\u043a\\u0441\\u0438\\u043c \\u041c\\u0435\\u0434\\u0432\\u0435\\u0434\\u043a\\u043e\\u0432, \\u043f\\u0438\\u0448\\u0435\\u0442 \\\"\\u0420\\u043e\\u0441\\u0441\\u0438\\u0439\\u0441\\u043a\\u0430\\u044f \\u0433\\u0430\\u0437\\u0435\\u0442\\u0430\\\". \\u0413\\u043b\\u0430\\u0432\\u043d\\u044b\\u0439 \\u043f\\u0435\\u0440\\u0435\\u0433\\u043e\\u0432\\u043e\\u0440\\u0449\\u0438\\u043a \\u043e\\u0442\\u043a\\u0430\\u0437\\u0430\\u043b\\u0441\\u044f \\u0443\\u0442\\u043e\\u0447\\u043d\\u0438\\u0442\\u044c \\u0434\\u0435\\u0442\\u0430\\u043b\\u0438 \\u0437\\u0430\\u043c\\u0435\\u0434\\u043b\\u0435\\u043d\\u0438\\u044f, \\u043d\\u043e \\u0441\\u043a\\u0430\\u0437\\u0430\\u043b, \\u0447\\u0442\\u043e \\u0420\\u043e\\u0441\\u0441\\u0438\\u044f \\u0432\\u0437\\u044f\\u043b\\u0430 \\u043f\\u0430\\u0443\\u0437\\u0443 \\u0438\\u0437-\\u0437\\u0430 \\u0442\\u043e\\u0433\\u043e, \\u0447\\u0442\\u043e \\u043d\\u0435 \\u043c\\u043e\\u0436\\u0435\\u0442 \\u043d\\u0430\\u0439\\u0442\\u0438 \\u0440\\u0435\\u0448\\u0435\\u043d\\u0438\\u044f \\u043d\\u0435\\u0441\\u043a\\u043e\\u043b\\u044c\\u043a\\u0438\\u0445 \\u043f\\u0440\\u043e\\u0431\\u043b\\u0435\\u043c \\u043f\\u043e \\u043f\\u0435\\u0440\\u0435\\u0433\\u043e\\u0432\\u043e\\u0440\\u0430\\u043c \\u043a\\u0430\\u043a \\u0441 \\u0421\\u0428\\u0410, \\u0442\\u0430\\u043a \\u0438 \\u0441 \\u0434\\u0440\\u0443\\u0433\\u0438\\u043c\\u0438 \\u0441\\u0442\\u0440\\u0430\\u043d\\u0430\\u043c\\u0438. \\u041c\\u0435\\u0434\\u0432\\u0435\\u0434\\u043a\\u043e\\u0432 \\u0437\\u0430\\u044f\\u0432\\u0438\\u043b, \\u0447\\u0442\\u043e, \\u0442\\u0435\\u043c \\u043d\\u0435 \\u043c\\u0435\\u043d\\u0435\\u0435, \\u043f\\u0435\\u0440\\u0435\\u0433\\u043e\\u0432\\u043e\\u0440\\u043d\\u044b\\u0439 \\u043f\\u0440\\u043e\\u0446\\u0435\\u0441\\u0441 \\u043d\\u0435 \\u043f\\u0440\\u0435\\u0440\\u0432\\u0430\\u043d \\u0438 \\u0443 \\u0420\\u043e\\u0441\\u0441\\u0438\\u0438 \\u043e\\u0441\\u0442\\u0430\\u0435\\u0442\\u0441\\u044f \\u0442\\u0435\\u0445\\u043d\\u0438\\u0447\\u0435\\u0441\\u043a\\u0430\\u044f \\u0432\\u043e\\u0437\\u043c\\u043e\\u0436\\u043d\\u043e\\u0441\\u0442\\u044c \\u0432\\u0441\\u0442\\u0443\\u043f\\u0438\\u0442\\u044c \\u0432 \\u0442\\u043e\\u0440\\u0433\\u043e\\u0432\\u044b\\u0439 \\u043a\\u043b\\u0443\\u0431 \\u043a \\u043a\\u043e\\u043d\\u0446\\u0443 2006 \\u0433\\u043e\\u0434\\u0430. \\u041c\\u0430\\u043a\\u0441\\u0438\\u043c \\u041c\\u0435\\u0434\\u0432\\u0435\\u0434\\u043a\\u043e\\u0432 \\u0432 \\u043e\\u0447\\u0435\\u0440\\u0435\\u0434\\u043d\\u043e\\u0439 \\u0440\\u0430\\u0437 \\u043f\\u043e\\u0432\\u0442\\u043e\\u0440\\u0438\\u043b, \\u0447\\u0442\\u043e \\u0420\\u043e\\u0441\\u0441\\u0438\\u044f \\u043d\\u0435 \\u0441\\u043e\\u0431\\u0438\\u0440\\u0430\\u0435\\u0442\\u0441\\u044f \\u0438\\u0434\\u0442\\u0438 \\u043d\\u0430 \\u0437\\u043d\\u0430\\u0447\\u0438\\u0442\\u0435\\u043b\\u044c\\u043d\\u044b\\u0435 \\u0443\\u0441\\u0442\\u0443\\u043f\\u043a\\u0438 \\u0421\\u0428\\u0410 \\u0438 \\u043d\\u0435 \\u0431\\u0443\\u0434\\u0435\\u0442 \\u0436\\u0435\\u0440\\u0442\\u0432\\u043e\\u0432\\u0430\\u0442\\u044c \\u0441\\u0432\\u043e\\u0438\\u043c\\u0438 \\u044d\\u043a\\u043e\\u043d\\u043e\\u043c\\u0438\\u0447\\u0435\\u0441\\u043a\\u0438\\u043c\\u0438 \\u0442\\u0440\\u0435\\u0431\\u043e\\u0432\\u0430\\u043d\\u0438\\u044f\\u043c\\u0438 \\u0440\\u0430\\u0434\\u0438 \\u0441\\u043a\\u043e\\u0440\\u0435\\u0439\\u0448\\u0435\\u0433\\u043e \\u0432\\u0441\\u0442\\u0443\\u043f\\u043b\\u0435\\u043d\\u0438\\u044f \\u0432 \\u0412\\u0422\\u041e. \\u0421\\u043b\\u043e\\u0432\\u0430 \\u0433\\u043b\\u0430\\u0432\\u043d\\u043e\\u0433\\u043e \\u043f\\u0435\\u0440\\u0435\\u0433\\u043e\\u0432\\u043e\\u0440\\u0449\\u0438\\u043a\\u0430 \\u0441\\u0442\\u0440\\u0430\\u043d\\u044b \\u043f\\u043e \\u0432\\u0441\\u0442\\u0443\\u043f\\u043b\\u0435\\u043d\\u0438\\u044e \\u0432 \\u0412\\u0422\\u041e \\u043f\\u0440\\u0430\\u043a\\u0442\\u0438\\u0447\\u0435\\u0441\\u043a\\u0438 \\u043f\\u043e\\u043b\\u043d\\u043e\\u0441\\u0442\\u044c\\u044e \\u0441\\u043e\\u0432\\u043f\\u0430\\u0434\\u0430\\u044e\\u0442 \\u0441 \\u043c\\u043d\\u0435\\u043d\\u0438\\u0435\\u043c \\u0441\\u043f\\u0438\\u043a\\u0435\\u0440\\u0430 \\u0413\\u043e\\u0441\\u0434\\u0443\\u043c\\u044b \\u0411\\u043e\\u0440\\u0438\\u0441\\u0430 \\u0413\\u0440\\u044b\\u0437\\u043b\\u043e\\u0432\\u0430. \\u041d\\u0430\\u043a\\u0430\\u043d\\u0443\\u043d\\u0435 \\u043e\\u043d \\u0437\\u0430\\u044f\\u0432\\u0438\\u043b, \\u0447\\u0442\\u043e \\u043f\\u0440\\u0438\\u0441\\u043e\\u0435\\u0434\\u0438\\u043d\\u0435\\u043d\\u0438\\u0435 \\u043a \\u0442\\u043e\\u0440\\u0433\\u043e\\u0432\\u043e\\u043c\\u0443 \\u043a\\u043b\\u0443\\u0431\\u0443 \\u043d\\u0435 \\u043c\\u043e\\u0436\\u0435\\u0442 \\u044f\\u0432\\u043b\\u044f\\u0442\\u044c\\u0441\\u044f \\u0434\\u043b\\u044f \\u0420\\u043e\\u0441\\u0441\\u0438\\u0438 \\u0441\\u0430\\u043c\\u043e\\u0446\\u0435\\u043b\\u044c\\u044e \\u0438 \\u043e\\u0442\\u0432\\u0435\\u0440\\u0433 \\u0432\\u043e\\u0437\\u043c\\u043e\\u0436\\u043d\\u044b\\u0435 \\u043a\\u043e\\u043c\\u043f\\u0440\\u043e\\u043c\\u0438\\u0441\\u0441\\u044b \\u0441 \\u0421\\u0428\\u0410. \\u041d\\u0435\\u0441\\u043a\\u043e\\u043b\\u044c\\u043a\\u043e \\u0434\\u043d\\u0435\\u0439 \\u043d\\u0430\\u0437\\u0430\\u0434 \\u0433\\u043b\\u0430\\u0432\\u0430 \\u0441\\u0435\\u043d\\u0430\\u0442\\u0441\\u043a\\u043e\\u0433\\u043e \\u0431\\u043e\\u043b\\u044c\\u0448\\u0438\\u043d\\u0441\\u0442\\u0432\\u0430 \\u0421\\u0428\\u0410 \\u0440\\u0435\\u0441\\u043f\\u0443\\u0431\\u043b\\u0438\\u043a\\u0430\\u043d\\u0435\\u0446 \\u0411\\u0438\\u043b\\u043b \\u0424\\u0440\\u0438\\u0441\\u0442 (Bill Frist) \\u0441\\u0432\\u044f\\u0437\\u0430\\u043b \\u0432\\u043e\\u0437\\u043c\\u043e\\u0436\\u043d\\u043e\\u0441\\u0442\\u044c \\u0432\\u0441\\u0442\\u0443\\u043f\\u043b\\u0435\\u043d\\u0438\\u044f \\u0420\\u043e\\u0441\\u0441\\u0438\\u0438 \\u0432 \\u0412\\u0422\\u041e \\u043d\\u0435 \\u0442\\u043e\\u043b\\u044c\\u043a\\u043e \\u0441 \\u044d\\u043a\\u043e\\u043d\\u043e\\u043c\\u0438\\u0447\\u0435\\u0441\\u043a\\u0438\\u043c\\u0438, \\u043d\\u043e \\u0438 \\u0441 \\u043f\\u043e\\u043b\\u0438\\u0442\\u0438\\u0447\\u0435\\u0441\\u043a\\u0438\\u043c\\u0438 \\u043f\\u0440\\u043e\\u0431\\u043b\\u0435\\u043c\\u0430\\u043c\\u0438, \\u0432 \\u0447\\u0430\\u0441\\u0442\\u043d\\u043e\\u0441\\u0442\\u0438, \\u043f\\u043e\\u0437\\u0438\\u0446\\u0438\\u0438 \\u0441\\u0442\\u0440\\u0430\\u043d\\u044b \\u043f\\u043e \\u044f\\u0434\\u0435\\u0440\\u043d\\u043e\\u0439 \\u043f\\u0440\\u043e\\u0433\\u0440\\u0430\\u043c\\u043c\\u0435 \\u0418\\u0440\\u0430\\u043d\\u0430 \\u0438 \\u0441\\u0432\\u043e\\u0431\\u043e\\u0434\\u0435 \\u0441\\u043b\\u043e\\u0432\\u0430. \\u0420\\u043e\\u0441\\u0441\\u0438\\u044f \\u043f\\u044b\\u0442\\u0430\\u0435\\u0442\\u0441\\u044f \\u0432\\u0441\\u0442\\u0443\\u043f\\u0438\\u0442\\u044c \\u0432 \\u0412\\u0422\\u041e \\u0441 1994 \\u0433\\u043e\\u0434\\u0430.\\u041d\\u0430 \\u0434\\u0430\\u043d\\u043d\\u044b\\u0439 \\u043c\\u043e\\u043c\\u0435\\u043d\\u0442 \\u043e\\u0441\\u043d\\u043e\\u0432\\u043d\\u044b\\u043c \\u043f\\u0440\\u0435\\u043f\\u044f\\u0442\\u0441\\u0442\\u0432\\u0438\\u0435\\u043c \\u043a \\u0447\\u043b\\u0435\\u043d\\u0441\\u0442\\u0432\\u0443 \\u0432 \\u0412\\u0422\\u041e \\u044f\\u0432\\u043b\\u044f\\u0435\\u0442\\u0441\\u044f \\u043f\\u043e\\u0437\\u0438\\u0446\\u0438\\u044f \\u0421\\u0428\\u0410.\",\n          \"\\u0412 \\u0430\\u043c\\u0435\\u0440\\u0438\\u043a\\u0430\\u043d\\u0441\\u043a\\u043e\\u043c \\u0448\\u0442\\u0430\\u0442\\u0435 \\u0424\\u043b\\u043e\\u0440\\u0438\\u0434\\u0430 \\u0434\\u0432\\u043e\\u0435 \\u0437\\u043b\\u043e\\u0443\\u043c\\u044b\\u0448\\u043b\\u0435\\u043d\\u043d\\u0438\\u043a\\u043e\\u0432 \\u043f\\u043e\\u0445\\u0438\\u0442\\u0438\\u043b\\u0438 \\u043c\\u0430\\u0448\\u0438\\u043d\\u0443 \\u0434\\u043b\\u044f \\u043f\\u0435\\u0440\\u0435\\u0441\\u0447\\u0435\\u0442\\u0430 \\u0431\\u044e\\u043b\\u043b\\u0435\\u0442\\u0435\\u043d\\u0438\\u0439 \\u0441 \\u043e\\u0434\\u043d\\u043e\\u0433\\u043e \\u0438\\u0437 \\u0438\\u0437\\u0431\\u0438\\u0440\\u0430\\u0442\\u0435\\u043b\\u044c\\u043d\\u044b\\u0445 \\u0443\\u0447\\u0430\\u0441\\u0442\\u043a\\u043e\\u0432 \\u0432 \\u0433\\u0440\\u0430\\u0444\\u0441\\u0442\\u0432\\u0435 \\u041f\\u0430\\u043b\\u043c \\u0411\\u0438\\u0447, \\u0441\\u043e\\u043e\\u0431\\u0449\\u0430\\u0435\\u0442 \\u0420\\u0418\\u0410 \\\"\\u041d\\u043e\\u0432\\u043e\\u0441\\u0442\\u0438\\\". \\u041f\\u0440\\u0435\\u0441\\u0442\\u0443\\u043f\\u043d\\u0438\\u043a\\u0438 \\u043f\\u043e\\u043f\\u044b\\u0442\\u0430\\u043b\\u0438\\u0441\\u044c \\u043f\\u0440\\u043e\\u0434\\u0430\\u0442\\u044c \\u043c\\u0430\\u0448\\u0438\\u043d\\u0443 \\u0437\\u0430 20 \\u0442\\u044b\\u0441\\u044f\\u0447 \\u0434\\u043e\\u043b\\u043b\\u0430\\u0440\\u043e\\u0432 \\u0447\\u0435\\u0440\\u0435\\u0437 \\u0430\\u043d\\u043e\\u043d\\u0438\\u043c\\u043d\\u044b\\u0439 \\u0430\\u0443\\u043a\\u0446\\u0438\\u043e\\u043d \\u043d\\u0430 \\u043e\\u0434\\u043d\\u043e\\u043c \\u0438\\u0437 \\u0441\\u0430\\u0439\\u0442\\u043e\\u0432 \\u0432 \\u0418\\u043d\\u0442\\u0435\\u0440\\u043d\\u0435\\u0442\\u0435. \\u041e\\u043d\\u0438 \\u0431\\u044b\\u043b\\u0438 \\u043f\\u043e\\u0439\\u043c\\u0430\\u043d\\u044b \\u0441 \\u043f\\u043e\\u043b\\u0438\\u0447\\u043d\\u044b\\u043c \\u0432 \\u043c\\u043e\\u043c\\u0435\\u043d\\u0442 \\u043f\\u0435\\u0440\\u0435\\u0434\\u0430\\u0447\\u0438 \\u0430\\u043f\\u043f\\u043f\\u0430\\u0440\\u0430\\u0442\\u0430 \\\"\\u043f\\u043e\\u043a\\u0443\\u043f\\u0430\\u0442\\u0435\\u043b\\u044f\\u043c\\\", \\u043a\\u043e\\u0442\\u043e\\u0440\\u044b\\u043c\\u0438 \\u0431\\u044b\\u043b\\u0438 \\u043f\\u0435\\u0440\\u0435\\u043e\\u0434\\u0435\\u0442\\u044b\\u0435 \\u043f\\u0440\\u0435\\u0434\\u0441\\u0442\\u0430\\u0432\\u0438\\u0442\\u0435\\u043b\\u0438 \\u043f\\u0440\\u0430\\u0432\\u043e\\u043e\\u0445\\u0440\\u0430\\u043d\\u0438\\u0442\\u0435\\u043b\\u044c\\u043d\\u044b\\u0445 \\u043e\\u0440\\u0433\\u0430\\u043d\\u043e\\u0432. \\u041f\\u043e \\u0437\\u0430\\u043a\\u043e\\u043d\\u0430\\u043c \\u0421\\u0428\\u0410 \\u043e\\u0431\\u043b\\u0430\\u0434\\u0430\\u043d\\u0438\\u0435 \\u0447\\u0430\\u0441\\u0442\\u043d\\u044b\\u043c \\u043b\\u0438\\u0446\\u043e\\u043c \\u0441\\u0447\\u0435\\u0442\\u043d\\u043e\\u0439 \\u043c\\u0430\\u0448\\u0438\\u043d\\u043e\\u0439 \\u0434\\u043b\\u044f \\u043e\\u0431\\u0440\\u0430\\u0431\\u043e\\u0442\\u043a\\u0438 \\u0438\\u0437\\u0431\\u0438\\u0440\\u0430\\u0442\\u0435\\u043b\\u044c\\u043d\\u044b\\u0445 \\u0431\\u044e\\u043b\\u043b\\u0435\\u0442\\u0435\\u043d\\u0438\\u0439 \\u044f\\u0432\\u043b\\u044f\\u0435\\u0442\\u0441\\u044f \\u043f\\u0440\\u0435\\u0441\\u0442\\u0443\\u043f\\u043b\\u0435\\u043d\\u0438\\u0435\\u043c, \\u043f\\u0435\\u0440\\u0435\\u0434\\u0430\\u0435\\u0442 \\u0430\\u0433\\u0435\\u043d\\u0442\\u0441\\u0442\\u0432\\u043e.\"\n        ],\n        \"semantic_type\": \"\",\n        \"description\": \"\"\n      }\n    },\n    {\n      \"column\": \"topic\",\n      \"properties\": {\n        \"dtype\": \"category\",\n        \"num_unique_values\": 19,\n        \"samples\": [\n          \"\\u0421\\u043f\\u043e\\u0440\\u0442\",\n          \"\\u0421\\u0438\\u043b\\u043e\\u0432\\u044b\\u0435 \\u0441\\u0442\\u0440\\u0443\\u043a\\u0442\\u0443\\u0440\\u044b\",\n          \"\\u0414\\u043e\\u043c\"\n        ],\n        \"semantic_type\": \"\",\n        \"description\": \"\"\n      }\n    }\n  ]\n}"
            }
          },
          "metadata": {},
          "execution_count": 6
        }
      ],
      "source": [
        "data.head(5)"
      ],
      "id": "h6Gh8M6EZQF1"
    },
    {
      "cell_type": "code",
      "execution_count": null,
      "metadata": {
        "id": "lAudBiPHZQF2",
        "outputId": "7e77d527-53ea-4838-8fcb-b6b12446a8fa",
        "colab": {
          "base_uri": "https://localhost:8080/"
        }
      },
      "outputs": [
        {
          "output_type": "execute_result",
          "data": {
            "text/plain": [
              "array(['Спорт', 'Мир', 'Интернет и СМИ', 'Россия', 'Наука и техника',\n",
              "       'Силовые структуры', 'Бывший СССР', 'Культура', 'Экономика',\n",
              "       'Ценности', 'Из жизни', 'Дом', 'Бизнес', '69-я параллель', 'Крым',\n",
              "       'Путешествия', 'Культпросвет ', 'Легпром', 'Библиотека'],\n",
              "      dtype=object)"
            ]
          },
          "metadata": {},
          "execution_count": 7
        }
      ],
      "source": [
        "data.topic.unique()"
      ],
      "id": "lAudBiPHZQF2"
    },
    {
      "cell_type": "code",
      "source": [
        "def preprocess(text):\n",
        "    tokens = text.lower().split()\n",
        "    tokens = [token.strip(punctuation) for token in tokens]\n",
        "    return tokens"
      ],
      "metadata": {
        "id": "W4K4xBut640S"
      },
      "id": "W4K4xBut640S",
      "execution_count": null,
      "outputs": []
    },
    {
      "cell_type": "code",
      "source": [
        "# f1\n",
        "from tensorflow.keras import backend as K\n",
        "def f1(y_true, y_pred):\n",
        "    def recall(y_true, y_pred):\n",
        "        \"\"\"Recall metric.\n",
        "\n",
        "        Only computes a batch-wise average of recall.\n",
        "\n",
        "        Computes the recall, a metric for multi-label classification of\n",
        "        how many relevant items are selected.\n",
        "        \"\"\"\n",
        "        true_positives = K.sum(K.round(K.clip(y_true * y_pred, 0, 1)))\n",
        "        possible_positives = K.sum(K.round(K.clip(y_true, 0, 1)))\n",
        "        recall = true_positives / (possible_positives + K.epsilon())\n",
        "        return recall\n",
        "\n",
        "    def precision(y_true, y_pred):\n",
        "        \"\"\"Precision metric.\n",
        "\n",
        "        Only computes a batch-wise average of precision.\n",
        "\n",
        "        Computes the precision, a metric for multi-label classification of\n",
        "        how many selected items are relevant.\n",
        "        \"\"\"\n",
        "        true_positives = K.sum(K.round(K.clip(y_true * y_pred, 0, 1)))\n",
        "        predicted_positives = K.sum(K.round(K.clip(y_pred, 0, 1)))\n",
        "        precision = true_positives / (predicted_positives + K.epsilon())\n",
        "        return precision\n",
        "    precision = precision(y_true, y_pred)\n",
        "    recall = recall(y_true, y_pred)\n",
        "    return 2*((precision*recall)/(precision+recall+K.epsilon()))"
      ],
      "metadata": {
        "id": "Z8Ptle9N7Doz"
      },
      "id": "Z8Ptle9N7Doz",
      "execution_count": null,
      "outputs": []
    },
    {
      "cell_type": "markdown",
      "metadata": {
        "id": "bz7D7B1-ZQF3"
      },
      "source": [
        "Как и раньше, создаем словарь, фильтруем, чтобы он был адекватного размера и переводим токены в индексы"
      ],
      "id": "bz7D7B1-ZQF3"
    },
    {
      "cell_type": "code",
      "execution_count": null,
      "metadata": {
        "id": "YAkQM9odZQF3"
      },
      "outputs": [],
      "source": [
        "# словарь\n",
        "vocab = Counter()\n",
        "\n",
        "for text in data.text:\n",
        "    vocab.update(preprocess(text))"
      ],
      "id": "YAkQM9odZQF3"
    },
    {
      "cell_type": "code",
      "execution_count": null,
      "metadata": {
        "id": "Zt2gSeQzZQF4",
        "outputId": "96f605ec-aed0-45da-a9f3-90d0d26ff54b",
        "colab": {
          "base_uri": "https://localhost:8080/"
        }
      },
      "outputs": [
        {
          "output_type": "execute_result",
          "data": {
            "text/plain": [
              "354611"
            ]
          },
          "metadata": {},
          "execution_count": 11
        }
      ],
      "source": [
        "len(vocab)"
      ],
      "id": "Zt2gSeQzZQF4"
    },
    {
      "cell_type": "code",
      "execution_count": null,
      "metadata": {
        "id": "z5_yxJIcZQF4"
      },
      "outputs": [],
      "source": [
        "# отфильтрованный словарь\n",
        "filtered_vocab = set()\n",
        "\n",
        "for word in vocab:\n",
        "    if vocab[word] > 30:\n",
        "        filtered_vocab.add(word)"
      ],
      "id": "z5_yxJIcZQF4"
    },
    {
      "cell_type": "code",
      "execution_count": null,
      "metadata": {
        "id": "jXERbLBrZQF4",
        "outputId": "996ca55a-b5f1-48b6-f369-20d4f820dbc8",
        "colab": {
          "base_uri": "https://localhost:8080/"
        }
      },
      "outputs": [
        {
          "output_type": "execute_result",
          "data": {
            "text/plain": [
              "24091"
            ]
          },
          "metadata": {},
          "execution_count": 13
        }
      ],
      "source": [
        "len(filtered_vocab)"
      ],
      "id": "jXERbLBrZQF4"
    },
    {
      "cell_type": "code",
      "execution_count": null,
      "metadata": {
        "id": "K46MLuw9ZQF5"
      },
      "outputs": [],
      "source": [
        "# индексируем слова\n",
        "word2id = {'PAD':0, 'UNK':1}\n",
        "\n",
        "for word in filtered_vocab:\n",
        "    word2id[word] = len(word2id)"
      ],
      "id": "K46MLuw9ZQF5"
    },
    {
      "cell_type": "code",
      "execution_count": null,
      "metadata": {
        "id": "OzUS6qR8ZQF5"
      },
      "outputs": [],
      "source": [
        "id2word = {i:word for word, i in word2id.items()}"
      ],
      "id": "OzUS6qR8ZQF5"
    },
    {
      "cell_type": "code",
      "execution_count": null,
      "metadata": {
        "id": "9hZlqfmRZQF5"
      },
      "outputs": [],
      "source": [
        "# переводим тексты в последовательности индексов\n",
        "X = []\n",
        "\n",
        "for text in data.text:\n",
        "    tokens = preprocess(text)\n",
        "    ids = [word2id.get(token, 1) for token in tokens]\n",
        "    X.append(ids)"
      ],
      "id": "9hZlqfmRZQF5"
    },
    {
      "cell_type": "code",
      "execution_count": null,
      "metadata": {
        "id": "eFtb-XSJZQF5"
      },
      "outputs": [],
      "source": [
        "MAX_LEN = max(len(x) for x in X)"
      ],
      "id": "eFtb-XSJZQF5"
    },
    {
      "cell_type": "markdown",
      "metadata": {
        "id": "EYXTbN6BZQF6"
      },
      "source": [
        "Можно посчитать среднюю или медианную длину, если максимальная кажется слишком большой."
      ],
      "id": "EYXTbN6BZQF6"
    },
    {
      "cell_type": "code",
      "execution_count": null,
      "metadata": {
        "id": "j4zCrWDFZQF6"
      },
      "outputs": [],
      "source": [
        "MEAN_LEN = np.median([len(x) for x in X])"
      ],
      "id": "j4zCrWDFZQF6"
    },
    {
      "cell_type": "code",
      "execution_count": null,
      "metadata": {
        "id": "blyQUFTDZQF7",
        "outputId": "4b4612c1-1e4c-4d85-b70d-b0e9ba29f489",
        "colab": {
          "base_uri": "https://localhost:8080/"
        }
      },
      "outputs": [
        {
          "output_type": "execute_result",
          "data": {
            "text/plain": [
              "(1748, 170.0)"
            ]
          },
          "metadata": {},
          "execution_count": 19
        }
      ],
      "source": [
        "MAX_LEN, MEAN_LEN"
      ],
      "id": "blyQUFTDZQF7"
    },
    {
      "cell_type": "code",
      "execution_count": null,
      "metadata": {
        "id": "wgD4vLyUZQF8"
      },
      "outputs": [],
      "source": [
        "MAX_LEN = int(MEAN_LEN + 30)"
      ],
      "id": "wgD4vLyUZQF8"
    },
    {
      "cell_type": "code",
      "execution_count": null,
      "metadata": {
        "id": "Wm8QhLuUZQF8"
      },
      "outputs": [],
      "source": [
        "# паддинг\n",
        "X = tf.keras.preprocessing.sequence.pad_sequences(X, maxlen=MAX_LEN)"
      ],
      "id": "Wm8QhLuUZQF8"
    },
    {
      "cell_type": "code",
      "execution_count": null,
      "metadata": {
        "id": "-weLkXl2ZQF9",
        "outputId": "0ab061af-094b-4238-b2af-38a9e69cecb9",
        "colab": {
          "base_uri": "https://localhost:8080/"
        }
      },
      "outputs": [
        {
          "output_type": "execute_result",
          "data": {
            "text/plain": [
              "(44356, 200)"
            ]
          },
          "metadata": {},
          "execution_count": 22
        }
      ],
      "source": [
        "X.shape"
      ],
      "id": "-weLkXl2ZQF9"
    },
    {
      "cell_type": "code",
      "execution_count": null,
      "metadata": {
        "id": "I7_Rayo_ZQF9"
      },
      "outputs": [],
      "source": [
        "id2label = {i:label for i, label in enumerate(set(data.topic.values))}\n",
        "label2id = {l:i for i, l in id2label.items()}"
      ],
      "id": "I7_Rayo_ZQF9"
    },
    {
      "cell_type": "code",
      "execution_count": null,
      "metadata": {
        "id": "Frjr_5VLZQF9"
      },
      "outputs": [],
      "source": [
        "y = tf.keras.utils.to_categorical([label2id[label] for label in data.topic.values])"
      ],
      "id": "Frjr_5VLZQF9"
    },
    {
      "cell_type": "code",
      "execution_count": null,
      "metadata": {
        "id": "cD0AE_W-ZQF9",
        "outputId": "ed1c590e-77f1-474c-bb40-de33674e568a",
        "colab": {
          "base_uri": "https://localhost:8080/"
        }
      },
      "outputs": [
        {
          "output_type": "execute_result",
          "data": {
            "text/plain": [
              "19"
            ]
          },
          "metadata": {},
          "execution_count": 25
        }
      ],
      "source": [
        "len(label2id)"
      ],
      "id": "cD0AE_W-ZQF9"
    },
    {
      "cell_type": "markdown",
      "metadata": {
        "id": "QiR8qPseZQF-"
      },
      "source": [
        "В этот раз добавим стратификацию, т.к. в данных у нас дисбаланс классов."
      ],
      "id": "QiR8qPseZQF-"
    },
    {
      "cell_type": "code",
      "execution_count": null,
      "metadata": {
        "id": "lSfs6iArZQF-"
      },
      "outputs": [],
      "source": [
        "X_train, X_valid, y_train, y_valid = train_test_split(X, y, test_size=0.05, stratify=y)"
      ],
      "id": "lSfs6iArZQF-"
    },
    {
      "cell_type": "markdown",
      "source": [
        "### 1) модель с 1 GRU слоем;"
      ],
      "metadata": {
        "id": "LpqHXaC47z8W"
      },
      "id": "LpqHXaC47z8W"
    },
    {
      "cell_type": "code",
      "source": [
        "inputs = tf.keras.layers.Input(shape=(MAX_LEN,))\n",
        "embeddings = tf.keras.layers.Embedding(input_dim=len(word2id), output_dim=30)(inputs, )\n",
        "\n",
        "rnn = tf.keras.layers.GRU(128, return_sequences=False)(embeddings)\n",
        "\n",
        "outputs = tf.keras.layers.Dense(len(label2id), activation='softmax')(rnn)\n",
        "\n",
        "model = tf.keras.Model(inputs=inputs, outputs=outputs)\n",
        "optimizer = tf.keras.optimizers.Adam(learning_rate=0.001)\n",
        "model.compile(optimizer=optimizer,\n",
        "              loss='categorical_crossentropy',\n",
        "              metrics=[f1,\n",
        "                       tf.keras.metrics.RecallAtPrecision(0.8, name='rec@prec')])\n",
        "\n",
        "model.summary()\n"
      ],
      "metadata": {
        "colab": {
          "base_uri": "https://localhost:8080/"
        },
        "id": "Of2X2Kcx8SVN",
        "outputId": "b0ce6f34-1f1a-4078-c373-84a2446d58bd"
      },
      "id": "Of2X2Kcx8SVN",
      "execution_count": null,
      "outputs": [
        {
          "output_type": "stream",
          "name": "stdout",
          "text": [
            "Model: \"model\"\n",
            "_________________________________________________________________\n",
            " Layer (type)                Output Shape              Param #   \n",
            "=================================================================\n",
            " input_1 (InputLayer)        [(None, 200)]             0         \n",
            "                                                                 \n",
            " embedding (Embedding)       (None, 200, 30)           722790    \n",
            "                                                                 \n",
            " gru (GRU)                   (None, 128)               61440     \n",
            "                                                                 \n",
            " dense (Dense)               (None, 19)                2451      \n",
            "                                                                 \n",
            "=================================================================\n",
            "Total params: 786681 (3.00 MB)\n",
            "Trainable params: 786681 (3.00 MB)\n",
            "Non-trainable params: 0 (0.00 Byte)\n",
            "_________________________________________________________________\n"
          ]
        }
      ]
    },
    {
      "cell_type": "code",
      "source": [
        "model.fit(X_train, y_train,\n",
        "          validation_data=(X_valid, y_valid),\n",
        "          batch_size=1000,\n",
        "         epochs=20)"
      ],
      "metadata": {
        "colab": {
          "base_uri": "https://localhost:8080/"
        },
        "id": "PyPhN35i9Mxo",
        "outputId": "f593e73d-dd77-4ef4-bee4-33248dab6f4d"
      },
      "id": "PyPhN35i9Mxo",
      "execution_count": null,
      "outputs": [
        {
          "output_type": "stream",
          "name": "stdout",
          "text": [
            "Epoch 1/20\n",
            "43/43 [==============================] - 14s 209ms/step - loss: 2.5758 - f1: 0.0000e+00 - rec@prec: 0.0000e+00 - val_loss: 2.3307 - val_f1: 0.0000e+00 - val_rec@prec: 0.0000e+00\n",
            "Epoch 2/20\n",
            "43/43 [==============================] - 8s 177ms/step - loss: 2.2937 - f1: 0.0000e+00 - rec@prec: 3.5597e-04 - val_loss: 2.2603 - val_f1: 0.0000e+00 - val_rec@prec: 0.0018\n",
            "Epoch 3/20\n",
            "43/43 [==============================] - 6s 148ms/step - loss: 2.1668 - f1: 0.0000e+00 - rec@prec: 9.4926e-05 - val_loss: 2.1020 - val_f1: 0.0000e+00 - val_rec@prec: 0.0108\n",
            "Epoch 4/20\n",
            "43/43 [==============================] - 6s 137ms/step - loss: 1.9365 - f1: 0.0415 - rec@prec: 0.0027 - val_loss: 1.8700 - val_f1: 0.1076 - val_rec@prec: 0.0564\n",
            "Epoch 5/20\n",
            "43/43 [==============================] - 5s 109ms/step - loss: 1.6821 - f1: 0.2180 - rec@prec: 0.0971 - val_loss: 1.7096 - val_f1: 0.2355 - val_rec@prec: 0.1285\n",
            "Epoch 6/20\n",
            "43/43 [==============================] - 7s 155ms/step - loss: 1.4235 - f1: 0.4028 - rec@prec: 0.2606 - val_loss: 1.5984 - val_f1: 0.3504 - val_rec@prec: 0.1713\n",
            "Epoch 7/20\n",
            "43/43 [==============================] - 7s 156ms/step - loss: 1.2395 - f1: 0.5009 - rec@prec: 0.3742 - val_loss: 1.4944 - val_f1: 0.4330 - val_rec@prec: 0.2155\n",
            "Epoch 8/20\n",
            "43/43 [==============================] - 4s 100ms/step - loss: 1.0758 - f1: 0.6151 - rec@prec: 0.5316 - val_loss: 1.4097 - val_f1: 0.5179 - val_rec@prec: 0.3377\n",
            "Epoch 9/20\n",
            "43/43 [==============================] - 5s 121ms/step - loss: 0.9223 - f1: 0.6932 - rec@prec: 0.6474 - val_loss: 1.4569 - val_f1: 0.5538 - val_rec@prec: 0.2836\n",
            "Epoch 10/20\n",
            "43/43 [==============================] - 4s 85ms/step - loss: 0.8150 - f1: 0.7383 - rec@prec: 0.7152 - val_loss: 1.3956 - val_f1: 0.6025 - val_rec@prec: 0.4170\n",
            "Epoch 11/20\n",
            "43/43 [==============================] - 4s 91ms/step - loss: 0.7027 - f1: 0.7795 - rec@prec: 0.7905 - val_loss: 1.4569 - val_f1: 0.6135 - val_rec@prec: 0.3940\n",
            "Epoch 12/20\n",
            "43/43 [==============================] - 5s 106ms/step - loss: 0.6118 - f1: 0.8153 - rec@prec: 0.8390 - val_loss: 1.4761 - val_f1: 0.6246 - val_rec@prec: 0.4513\n",
            "Epoch 13/20\n",
            "43/43 [==============================] - 4s 96ms/step - loss: 0.5239 - f1: 0.8473 - rec@prec: 0.8844 - val_loss: 1.5952 - val_f1: 0.6283 - val_rec@prec: 0.4283\n",
            "Epoch 14/20\n",
            "43/43 [==============================] - 3s 66ms/step - loss: 0.4627 - f1: 0.8673 - rec@prec: 0.9078 - val_loss: 1.6390 - val_f1: 0.6271 - val_rec@prec: 0.4152\n",
            "Epoch 15/20\n",
            "43/43 [==============================] - 5s 113ms/step - loss: 0.4114 - f1: 0.8845 - rec@prec: 0.9266 - val_loss: 1.6972 - val_f1: 0.6412 - val_rec@prec: 0.4414\n",
            "Epoch 16/20\n",
            "43/43 [==============================] - 3s 66ms/step - loss: 0.3405 - f1: 0.9110 - rec@prec: 0.9508 - val_loss: 1.7273 - val_f1: 0.6263 - val_rec@prec: 0.4680\n",
            "Epoch 17/20\n",
            "43/43 [==============================] - 3s 65ms/step - loss: 0.2816 - f1: 0.9298 - rec@prec: 0.9656 - val_loss: 1.7998 - val_f1: 0.6368 - val_rec@prec: 0.4418\n",
            "Epoch 18/20\n",
            "43/43 [==============================] - 3s 68ms/step - loss: 0.2440 - f1: 0.9410 - rec@prec: 0.9739 - val_loss: 1.8507 - val_f1: 0.6402 - val_rec@prec: 0.4675\n",
            "Epoch 19/20\n",
            "43/43 [==============================] - 3s 72ms/step - loss: 0.2190 - f1: 0.9474 - rec@prec: 0.9794 - val_loss: 1.9172 - val_f1: 0.6312 - val_rec@prec: 0.4779\n",
            "Epoch 20/20\n",
            "43/43 [==============================] - 3s 77ms/step - loss: 0.2130 - f1: 0.9453 - rec@prec: 0.9797 - val_loss: 1.9532 - val_f1: 0.6330 - val_rec@prec: 0.4725\n"
          ]
        },
        {
          "output_type": "execute_result",
          "data": {
            "text/plain": [
              "<keras.src.callbacks.History at 0x78d900eee8c0>"
            ]
          },
          "metadata": {},
          "execution_count": 29
        }
      ]
    },
    {
      "cell_type": "code",
      "source": [
        "print(model.history.history.keys())\n",
        "# summarize history for accuracy\n",
        "plt.plot(model.history.history['rec@prec'])\n",
        "plt.plot(model.history.history['val_rec@prec'])\n",
        "plt.title('model f1')\n",
        "plt.ylabel('f1')\n",
        "plt.xlabel('epoch')\n",
        "plt.legend(['train', 'val'], loc='upper left')\n",
        "plt.show()"
      ],
      "metadata": {
        "colab": {
          "base_uri": "https://localhost:8080/",
          "height": 489
        },
        "id": "DqfDFbRq9Ub1",
        "outputId": "88aede1e-a438-4e93-f24d-61bd9788d203"
      },
      "id": "DqfDFbRq9Ub1",
      "execution_count": null,
      "outputs": [
        {
          "output_type": "stream",
          "name": "stdout",
          "text": [
            "dict_keys(['loss', 'f1', 'rec@prec', 'val_loss', 'val_f1', 'val_rec@prec'])\n"
          ]
        },
        {
          "output_type": "display_data",
          "data": {
            "text/plain": [
              "<Figure size 640x480 with 1 Axes>"
            ],
            "image/png": "[encoded data removed]"
          },
          "metadata": {}
        }
      ]
    },
    {
      "cell_type": "markdown",
      "source": [
        "### 2) модель с 1 LSTM слоем"
      ],
      "metadata": {
        "id": "BXCU2ur872rk"
      },
      "id": "BXCU2ur872rk"
    },
    {
      "cell_type": "code",
      "source": [
        "inputs = tf.keras.layers.Input(shape=(MAX_LEN,))\n",
        "embeddings = tf.keras.layers.Embedding(input_dim=len(word2id), output_dim=30)(inputs, )\n",
        "\n",
        "rnn = tf.keras.layers.LSTM(128, return_sequences=False)(embeddings)\n",
        "\n",
        "outputs = tf.keras.layers.Dense(len(label2id), activation='softmax')(rnn)\n",
        "\n",
        "model = tf.keras.Model(inputs=inputs, outputs=outputs)\n",
        "optimizer = tf.keras.optimizers.Adam(learning_rate=0.001)\n",
        "model.compile(optimizer=optimizer,\n",
        "              loss='categorical_crossentropy',\n",
        "              metrics=[f1,\n",
        "                       tf.keras.metrics.RecallAtPrecision(0.8, name='rec@prec')])\n",
        "\n",
        "model.summary()\n"
      ],
      "metadata": {
        "colab": {
          "base_uri": "https://localhost:8080/"
        },
        "id": "bvd_NPHt85JD",
        "outputId": "fa5ef938-500c-44eb-8cad-7a898cc918e7"
      },
      "id": "bvd_NPHt85JD",
      "execution_count": null,
      "outputs": [
        {
          "output_type": "stream",
          "name": "stdout",
          "text": [
            "Model: \"model_1\"\n",
            "_________________________________________________________________\n",
            " Layer (type)                Output Shape              Param #   \n",
            "=================================================================\n",
            " input_2 (InputLayer)        [(None, 200)]             0         \n",
            "                                                                 \n",
            " embedding_1 (Embedding)     (None, 200, 30)           722790    \n",
            "                                                                 \n",
            " lstm (LSTM)                 (None, 128)               81408     \n",
            "                                                                 \n",
            " dense_1 (Dense)             (None, 19)                2451      \n",
            "                                                                 \n",
            "=================================================================\n",
            "Total params: 806649 (3.08 MB)\n",
            "Trainable params: 806649 (3.08 MB)\n",
            "Non-trainable params: 0 (0.00 Byte)\n",
            "_________________________________________________________________\n"
          ]
        }
      ]
    },
    {
      "cell_type": "code",
      "source": [
        "model.fit(X_train, y_train,\n",
        "          validation_data=(X_valid, y_valid),\n",
        "          batch_size=1000,\n",
        "         epochs=20)"
      ],
      "metadata": {
        "colab": {
          "base_uri": "https://localhost:8080/"
        },
        "id": "uE5_iqDrAymp",
        "outputId": "8fd9b0c5-16ba-49e6-a717-2abe98b4cbbb"
      },
      "id": "uE5_iqDrAymp",
      "execution_count": null,
      "outputs": [
        {
          "output_type": "stream",
          "name": "stdout",
          "text": [
            "Epoch 1/20\n",
            "43/43 [==============================] - 8s 142ms/step - loss: 2.4938 - f1: 0.0000e+00 - rec@prec: 0.0000e+00 - val_loss: 2.3217 - val_f1: 0.0000e+00 - val_rec@prec: 0.0000e+00\n",
            "Epoch 2/20\n",
            "43/43 [==============================] - 5s 112ms/step - loss: 2.3123 - f1: 0.0000e+00 - rec@prec: 0.0000e+00 - val_loss: 2.2971 - val_f1: 0.0000e+00 - val_rec@prec: 0.0023\n",
            "Epoch 3/20\n",
            "43/43 [==============================] - 4s 94ms/step - loss: 2.2012 - f1: 8.4168e-04 - rec@prec: 3.7970e-04 - val_loss: 2.0026 - val_f1: 0.0623 - val_rec@prec: 0.0108\n",
            "Epoch 4/20\n",
            "43/43 [==============================] - 5s 110ms/step - loss: 1.8198 - f1: 0.0999 - rec@prec: 0.0522 - val_loss: 1.7061 - val_f1: 0.2123 - val_rec@prec: 0.1583\n",
            "Epoch 5/20\n",
            "43/43 [==============================] - 4s 98ms/step - loss: 1.5156 - f1: 0.3866 - rec@prec: 0.2084 - val_loss: 1.5967 - val_f1: 0.3521 - val_rec@prec: 0.2304\n",
            "Epoch 6/20\n",
            "43/43 [==============================] - 4s 87ms/step - loss: 1.4648 - f1: 0.4159 - rec@prec: 0.2355 - val_loss: 1.5243 - val_f1: 0.3730 - val_rec@prec: 0.2353\n",
            "Epoch 7/20\n",
            "43/43 [==============================] - 5s 105ms/step - loss: 1.2758 - f1: 0.5225 - rec@prec: 0.3519 - val_loss: 1.3577 - val_f1: 0.5412 - val_rec@prec: 0.3485\n",
            "Epoch 8/20\n",
            "43/43 [==============================] - 3s 75ms/step - loss: 1.0651 - f1: 0.6584 - rec@prec: 0.5611 - val_loss: 1.2694 - val_f1: 0.6000 - val_rec@prec: 0.4680\n",
            "Epoch 9/20\n",
            "43/43 [==============================] - 4s 81ms/step - loss: 0.9276 - f1: 0.7061 - rec@prec: 0.6601 - val_loss: 1.1695 - val_f1: 0.6544 - val_rec@prec: 0.5388\n",
            "Epoch 10/20\n",
            "43/43 [==============================] - 4s 88ms/step - loss: 0.7873 - f1: 0.7570 - rec@prec: 0.7419 - val_loss: 1.1046 - val_f1: 0.6787 - val_rec@prec: 0.5915\n",
            "Epoch 11/20\n",
            "43/43 [==============================] - 4s 89ms/step - loss: 0.6780 - f1: 0.7965 - rec@prec: 0.8060 - val_loss: 1.0898 - val_f1: 0.6895 - val_rec@prec: 0.6078\n",
            "Epoch 12/20\n",
            "43/43 [==============================] - 4s 87ms/step - loss: 0.5849 - f1: 0.8276 - rec@prec: 0.8541 - val_loss: 1.0850 - val_f1: 0.7172 - val_rec@prec: 0.6371\n",
            "Epoch 13/20\n",
            "43/43 [==============================] - 3s 80ms/step - loss: 0.5516 - f1: 0.8355 - rec@prec: 0.8706 - val_loss: 1.0907 - val_f1: 0.6966 - val_rec@prec: 0.6091\n",
            "Epoch 14/20\n",
            "43/43 [==============================] - 4s 85ms/step - loss: 0.4514 - f1: 0.8725 - rec@prec: 0.9131 - val_loss: 1.1034 - val_f1: 0.7168 - val_rec@prec: 0.6339\n",
            "Epoch 15/20\n",
            "43/43 [==============================] - 3s 76ms/step - loss: 0.3907 - f1: 0.8928 - rec@prec: 0.9333 - val_loss: 1.1293 - val_f1: 0.7185 - val_rec@prec: 0.6384\n",
            "Epoch 16/20\n",
            "43/43 [==============================] - 3s 75ms/step - loss: 0.3374 - f1: 0.9101 - rec@prec: 0.9494 - val_loss: 1.1223 - val_f1: 0.7164 - val_rec@prec: 0.6321\n",
            "Epoch 17/20\n",
            "43/43 [==============================] - 3s 78ms/step - loss: 0.2965 - f1: 0.9223 - rec@prec: 0.9599 - val_loss: 1.2032 - val_f1: 0.7083 - val_rec@prec: 0.6267\n",
            "Epoch 18/20\n",
            "43/43 [==============================] - 3s 78ms/step - loss: 0.2747 - f1: 0.9274 - rec@prec: 0.9651 - val_loss: 1.1695 - val_f1: 0.7160 - val_rec@prec: 0.6222\n",
            "Epoch 19/20\n",
            "43/43 [==============================] - 3s 71ms/step - loss: 0.2374 - f1: 0.9390 - rec@prec: 0.9729 - val_loss: 1.2582 - val_f1: 0.7041 - val_rec@prec: 0.6032\n",
            "Epoch 20/20\n",
            "43/43 [==============================] - 3s 68ms/step - loss: 0.2125 - f1: 0.9468 - rec@prec: 0.9772 - val_loss: 1.3315 - val_f1: 0.7062 - val_rec@prec: 0.6078\n"
          ]
        },
        {
          "output_type": "execute_result",
          "data": {
            "text/plain": [
              "<keras.src.callbacks.History at 0x78d88c67a710>"
            ]
          },
          "metadata": {},
          "execution_count": 33
        }
      ]
    },
    {
      "cell_type": "code",
      "source": [
        "print(model.history.history.keys())\n",
        "# summarize history for accuracy\n",
        "plt.plot(model.history.history['rec@prec'])\n",
        "plt.plot(model.history.history['val_rec@prec'])\n",
        "plt.title('model f1')\n",
        "plt.ylabel('f1')\n",
        "plt.xlabel('epoch')\n",
        "plt.legend(['train', 'val'], loc='upper left')\n",
        "plt.show()"
      ],
      "metadata": {
        "colab": {
          "base_uri": "https://localhost:8080/",
          "height": 489
        },
        "id": "k7kNdy7tAzze",
        "outputId": "dd8bf54f-e2f2-4c91-bd83-4ebf682df599"
      },
      "id": "k7kNdy7tAzze",
      "execution_count": null,
      "outputs": [
        {
          "output_type": "stream",
          "name": "stdout",
          "text": [
            "dict_keys(['loss', 'f1', 'rec@prec', 'val_loss', 'val_f1', 'val_rec@prec'])\n"
          ]
        },
        {
          "output_type": "display_data",
          "data": {
            "text/plain": [
              "<Figure size 640x480 with 1 Axes>"
            ],
            "image/png": "[encoded data removed]"
          },
          "metadata": {}
        }
      ]
    },
    {
      "cell_type": "markdown",
      "source": [
        "### 3) модель с 1 GRU и 1 LSTM слоем"
      ],
      "metadata": {
        "id": "z1f51nNs725h"
      },
      "id": "z1f51nNs725h"
    },
    {
      "cell_type": "code",
      "source": [
        "inputs = tf.keras.layers.Input(shape=(MAX_LEN,))\n",
        "embeddings = tf.keras.layers.Embedding(input_dim=len(word2id), output_dim=30)(inputs, )\n",
        "\n",
        "lstm_1 = tf.keras.layers.LSTM(128, return_sequences=True)(embeddings)\n",
        "lstm_2 = tf.keras.layers.GRU(128, return_sequences=False)(lstm_1)\n",
        "\n",
        "dense = tf.keras.layers.Dense(64, activation='relu')(lstm_2)\n",
        "outputs = tf.keras.layers.Dense(len(label2id), activation='softmax')(dense)\n",
        "\n",
        "model = tf.keras.Model(inputs=inputs, outputs=outputs)\n",
        "optimizer = tf.keras.optimizers.Adam(learning_rate=0.001)\n",
        "model.compile(optimizer=optimizer,\n",
        "              loss='categorical_crossentropy',\n",
        "              metrics=[f1, tf.keras.metrics.RecallAtPrecision(0.8, name='rec@prec')])\n",
        "\n",
        "model.summary()\n"
      ],
      "metadata": {
        "colab": {
          "base_uri": "https://localhost:8080/"
        },
        "id": "e6qBXl-289k8",
        "outputId": "a3b4cad5-6a65-4a1f-a530-65259681810b"
      },
      "id": "e6qBXl-289k8",
      "execution_count": null,
      "outputs": [
        {
          "output_type": "stream",
          "name": "stdout",
          "text": [
            "Model: \"model_2\"\n",
            "_________________________________________________________________\n",
            " Layer (type)                Output Shape              Param #   \n",
            "=================================================================\n",
            " input_3 (InputLayer)        [(None, 200)]             0         \n",
            "                                                                 \n",
            " embedding_2 (Embedding)     (None, 200, 30)           722790    \n",
            "                                                                 \n",
            " lstm_1 (LSTM)               (None, 200, 128)          81408     \n",
            "                                                                 \n",
            " gru_1 (GRU)                 (None, 128)               99072     \n",
            "                                                                 \n",
            " dense_2 (Dense)             (None, 64)                8256      \n",
            "                                                                 \n",
            " dense_3 (Dense)             (None, 19)                1235      \n",
            "                                                                 \n",
            "=================================================================\n",
            "Total params: 912761 (3.48 MB)\n",
            "Trainable params: 912761 (3.48 MB)\n",
            "Non-trainable params: 0 (0.00 Byte)\n",
            "_________________________________________________________________\n"
          ]
        }
      ]
    },
    {
      "cell_type": "code",
      "execution_count": null,
      "metadata": {
        "scrolled": true,
        "id": "lvPusU5uZQGS",
        "outputId": "d697aac2-2a8b-4118-fa77-142d01d92fdb",
        "colab": {
          "base_uri": "https://localhost:8080/"
        }
      },
      "outputs": [
        {
          "output_type": "stream",
          "name": "stdout",
          "text": [
            "Epoch 1/15\n",
            "211/211 [==============================] - 40s 172ms/step - loss: 2.1123 - f1: 0.0342 - rec@prec: 0.0028 - val_loss: 1.7657 - val_f1: 0.0531 - val_rec@prec: 0.0302\n",
            "Epoch 2/15\n",
            "211/211 [==============================] - 23s 109ms/step - loss: 1.5015 - f1: 0.3143 - rec@prec: 0.1685 - val_loss: 1.3910 - val_f1: 0.4878 - val_rec@prec: 0.2804\n",
            "Epoch 3/15\n",
            "211/211 [==============================] - 18s 83ms/step - loss: 1.1087 - f1: 0.6254 - rec@prec: 0.4986 - val_loss: 1.1493 - val_f1: 0.6366 - val_rec@prec: 0.5316\n",
            "Epoch 4/15\n",
            "211/211 [==============================] - 15s 69ms/step - loss: 0.8092 - f1: 0.7533 - rec@prec: 0.7272 - val_loss: 1.0812 - val_f1: 0.6634 - val_rec@prec: 0.5564\n",
            "Epoch 5/15\n",
            "211/211 [==============================] - 13s 59ms/step - loss: 0.6258 - f1: 0.8146 - rec@prec: 0.8287 - val_loss: 1.1033 - val_f1: 0.6794 - val_rec@prec: 0.5789\n",
            "Epoch 6/15\n",
            "211/211 [==============================] - 10s 46ms/step - loss: 0.4981 - f1: 0.8542 - rec@prec: 0.8872 - val_loss: 1.1996 - val_f1: 0.6865 - val_rec@prec: 0.5775\n",
            "Epoch 7/15\n",
            "211/211 [==============================] - 10s 45ms/step - loss: 0.3993 - f1: 0.8836 - rec@prec: 0.9257 - val_loss: 1.3281 - val_f1: 0.6813 - val_rec@prec: 0.5794\n",
            "Epoch 8/15\n",
            "211/211 [==============================] - 8s 40ms/step - loss: 0.3223 - f1: 0.9072 - rec@prec: 0.9496 - val_loss: 1.2893 - val_f1: 0.6790 - val_rec@prec: 0.5672\n",
            "Epoch 9/15\n",
            "211/211 [==============================] - 9s 42ms/step - loss: 0.2542 - f1: 0.9274 - rec@prec: 0.9673 - val_loss: 1.5278 - val_f1: 0.6803 - val_rec@prec: 0.5834\n",
            "Epoch 10/15\n",
            "211/211 [==============================] - 9s 45ms/step - loss: 0.1984 - f1: 0.9441 - rec@prec: 0.9794 - val_loss: 1.5555 - val_f1: 0.6799 - val_rec@prec: 0.5654\n",
            "Epoch 11/15\n",
            "211/211 [==============================] - 9s 42ms/step - loss: 0.1663 - f1: 0.9545 - rec@prec: 0.9848 - val_loss: 1.6811 - val_f1: 0.6853 - val_rec@prec: 0.5717\n",
            "Epoch 12/15\n",
            "211/211 [==============================] - 9s 42ms/step - loss: 0.1450 - f1: 0.9597 - rec@prec: 0.9881 - val_loss: 1.7663 - val_f1: 0.6886 - val_rec@prec: 0.5906\n",
            "Epoch 13/15\n",
            "211/211 [==============================] - 9s 43ms/step - loss: 0.1202 - f1: 0.9671 - rec@prec: 0.9916 - val_loss: 1.7874 - val_f1: 0.6706 - val_rec@prec: 0.5676\n",
            "Epoch 14/15\n",
            "211/211 [==============================] - 9s 40ms/step - loss: 0.0957 - f1: 0.9741 - rec@prec: 0.9943 - val_loss: 1.8351 - val_f1: 0.6956 - val_rec@prec: 0.5712\n",
            "Epoch 15/15\n",
            "211/211 [==============================] - 7s 35ms/step - loss: 0.0845 - f1: 0.9761 - rec@prec: 0.9956 - val_loss: 2.0148 - val_f1: 0.6753 - val_rec@prec: 0.5537\n"
          ]
        },
        {
          "output_type": "execute_result",
          "data": {
            "text/plain": [
              "<keras.src.callbacks.History at 0x78d8843303a0>"
            ]
          },
          "metadata": {},
          "execution_count": 37
        }
      ],
      "source": [
        "model.fit(X_train, y_train,\n",
        "          validation_data=(X_valid, y_valid),\n",
        "          batch_size=200,\n",
        "          epochs=15)"
      ],
      "id": "lvPusU5uZQGS"
    },
    {
      "cell_type": "code",
      "execution_count": null,
      "metadata": {
        "id": "5UT8tDOZZQGT",
        "outputId": "39c02811-b7a2-4ca5-8bba-6e9bcc7af13f",
        "colab": {
          "base_uri": "https://localhost:8080/",
          "height": 489
        }
      },
      "outputs": [
        {
          "output_type": "stream",
          "name": "stdout",
          "text": [
            "dict_keys(['loss', 'f1', 'rec@prec', 'val_loss', 'val_f1', 'val_rec@prec'])\n"
          ]
        },
        {
          "output_type": "display_data",
          "data": {
            "text/plain": [
              "<Figure size 640x480 with 1 Axes>"
            ],
            "image/png": "[encoded data removed]"
          },
          "metadata": {}
        }
      ],
      "source": [
        "print(model.history.history.keys())\n",
        "# summarize history for accuracy\n",
        "plt.plot(model.history.history['f1'])\n",
        "plt.plot(model.history.history['val_f1'])\n",
        "plt.title('model f1')\n",
        "plt.ylabel('f1')\n",
        "plt.xlabel('epoch')\n",
        "plt.legend(['train', 'val'], loc='upper left')\n",
        "plt.show()"
      ],
      "id": "5UT8tDOZZQGT"
    },
    {
      "cell_type": "markdown",
      "source": [
        "### 4) модель с 1 BIGRU и 2 LSTM слоями"
      ],
      "metadata": {
        "id": "QyvGIbgV73F_"
      },
      "id": "QyvGIbgV73F_"
    },
    {
      "cell_type": "code",
      "execution_count": null,
      "metadata": {
        "id": "5w6O0HFJZQGV",
        "colab": {
          "base_uri": "https://localhost:8080/"
        },
        "outputId": "960c2048-8794-483d-942b-69cc86e42bb7"
      },
      "outputs": [
        {
          "output_type": "stream",
          "name": "stdout",
          "text": [
            "Model: \"model_3\"\n",
            "_________________________________________________________________\n",
            " Layer (type)                Output Shape              Param #   \n",
            "=================================================================\n",
            " input_4 (InputLayer)        [(None, 200)]             0         \n",
            "                                                                 \n",
            " embedding_3 (Embedding)     (None, 200, 100)          2409300   \n",
            "                                                                 \n",
            " bidirectional (Bidirection  (None, 200, 256)          176640    \n",
            " al)                                                             \n",
            "                                                                 \n",
            " lstm_2 (LSTM)               (None, 200, 128)          197120    \n",
            "                                                                 \n",
            " lstm_3 (LSTM)               (None, 128)               131584    \n",
            "                                                                 \n",
            " dense_4 (Dense)             (None, 19)                2451      \n",
            "                                                                 \n",
            "=================================================================\n",
            "Total params: 2917095 (11.13 MB)\n",
            "Trainable params: 2917095 (11.13 MB)\n",
            "Non-trainable params: 0 (0.00 Byte)\n",
            "_________________________________________________________________\n"
          ]
        }
      ],
      "source": [
        "inputs = tf.keras.layers.Input(shape=(MAX_LEN,))\n",
        "embeddings = tf.keras.layers.Embedding(input_dim=len(word2id), output_dim=100)(inputs)\n",
        "\n",
        "bigru = tf.keras.layers.Bidirectional(\n",
        "    tf.keras.layers.GRU(128, return_sequences=True))(embeddings)\n",
        "\n",
        "lstm_1 = tf.keras.layers.LSTM(128, return_sequences=True)(bigru)\n",
        "lstm_2 = tf.keras.layers.LSTM(128, return_sequences=False)(lstm_1)\n",
        "\n",
        "outputs = tf.keras.layers.Dense(len(label2id), activation='softmax')(lstm_2)\n",
        "\n",
        "model = tf.keras.Model(inputs=inputs, outputs=outputs)\n",
        "optimizer = tf.keras.optimizers.Adam()\n",
        "model.compile(optimizer=optimizer,\n",
        "              loss='categorical_crossentropy',\n",
        "              metrics=[f1, tf.keras.metrics.RecallAtPrecision(0.8, name='rec@prec')])\n",
        "\n",
        "model.summary()\n"
      ],
      "id": "5w6O0HFJZQGV"
    },
    {
      "cell_type": "code",
      "execution_count": null,
      "metadata": {
        "scrolled": true,
        "id": "jUpe5JhYZQGV",
        "outputId": "f4bb8afb-a8d2-4004-e58a-948a394e85d8",
        "colab": {
          "base_uri": "https://localhost:8080/"
        }
      },
      "outputs": [
        {
          "output_type": "stream",
          "name": "stdout",
          "text": [
            "Epoch 1/10\n",
            "211/211 [==============================] - 53s 202ms/step - loss: 2.0575 - f1: 0.0731 - rec@prec: 2.3732e-04 - val_loss: 1.6826 - val_f1: 0.1684 - val_rec@prec: 0.0203\n",
            "Epoch 2/10\n",
            "211/211 [==============================] - 31s 145ms/step - loss: 1.5212 - f1: 0.3530 - rec@prec: 0.0837 - val_loss: 1.3953 - val_f1: 0.5141 - val_rec@prec: 0.2759\n",
            "Epoch 3/10\n",
            "211/211 [==============================] - 24s 115ms/step - loss: 1.2315 - f1: 0.5831 - rec@prec: 0.3427 - val_loss: 1.2687 - val_f1: 0.5801 - val_rec@prec: 0.3756\n",
            "Epoch 4/10\n",
            "211/211 [==============================] - 21s 100ms/step - loss: 1.0808 - f1: 0.6464 - rec@prec: 0.4995 - val_loss: 1.1763 - val_f1: 0.6335 - val_rec@prec: 0.4567\n",
            "Epoch 5/10\n",
            "211/211 [==============================] - 21s 99ms/step - loss: 0.9492 - f1: 0.7038 - rec@prec: 0.6297 - val_loss: 1.1534 - val_f1: 0.6471 - val_rec@prec: 0.5185\n",
            "Epoch 6/10\n",
            "211/211 [==============================] - 19s 88ms/step - loss: 0.8150 - f1: 0.7585 - rec@prec: 0.7311 - val_loss: 1.0320 - val_f1: 0.7149 - val_rec@prec: 0.6150\n",
            "Epoch 7/10\n",
            "211/211 [==============================] - 18s 85ms/step - loss: 0.6878 - f1: 0.8004 - rec@prec: 0.8045 - val_loss: 1.1515 - val_f1: 0.6610 - val_rec@prec: 0.5014\n",
            "Epoch 8/10\n",
            "211/211 [==============================] - 18s 87ms/step - loss: 0.6034 - f1: 0.8261 - rec@prec: 0.8451 - val_loss: 1.0496 - val_f1: 0.7144 - val_rec@prec: 0.5978\n",
            "Epoch 9/10\n",
            "211/211 [==============================] - 19s 88ms/step - loss: 0.5102 - f1: 0.8559 - rec@prec: 0.8861 - val_loss: 1.0411 - val_f1: 0.7204 - val_rec@prec: 0.6181\n",
            "Epoch 10/10\n",
            "211/211 [==============================] - 18s 84ms/step - loss: 0.4483 - f1: 0.8736 - rec@prec: 0.9101 - val_loss: 1.1217 - val_f1: 0.7053 - val_rec@prec: 0.6100\n"
          ]
        },
        {
          "output_type": "execute_result",
          "data": {
            "text/plain": [
              "<keras.src.callbacks.History at 0x78d87cd9a650>"
            ]
          },
          "metadata": {},
          "execution_count": 41
        }
      ],
      "source": [
        "model.fit(X_train, y_train,\n",
        "          validation_data=(X_valid, y_valid),\n",
        "          batch_size=200,\n",
        "         epochs=10)"
      ],
      "id": "jUpe5JhYZQGV"
    },
    {
      "cell_type": "code",
      "execution_count": null,
      "metadata": {
        "id": "tikgT6J2ZQGW",
        "outputId": "97ae3f29-f13a-4df3-960c-53eaf098dca9",
        "colab": {
          "base_uri": "https://localhost:8080/",
          "height": 489
        }
      },
      "outputs": [
        {
          "output_type": "stream",
          "name": "stdout",
          "text": [
            "dict_keys(['loss', 'f1', 'rec@prec', 'val_loss', 'val_f1', 'val_rec@prec'])\n"
          ]
        },
        {
          "output_type": "display_data",
          "data": {
            "text/plain": [
              "<Figure size 640x480 with 1 Axes>"
            ],
            "image/png": "[encoded data removed]"
          },
          "metadata": {}
        }
      ],
      "source": [
        "print(model.history.history.keys())\n",
        "# summarize history for accuracy\n",
        "plt.plot(model.history.history['f1'])\n",
        "plt.plot(model.history.history['val_f1'])\n",
        "plt.title('model f1')\n",
        "plt.ylabel('f1')\n",
        "plt.xlabel('epoch')\n",
        "plt.legend(['train', 'val'], loc='upper left')\n",
        "plt.show()"
      ],
      "id": "tikgT6J2ZQGW"
    },
    {
      "cell_type": "markdown",
      "source": [
        "### 5) модель с 5 GRU слоями и 3 LSTM слоями"
      ],
      "metadata": {
        "id": "ncLREU7s7ofZ"
      },
      "id": "ncLREU7s7ofZ"
    },
    {
      "cell_type": "code",
      "source": [
        "inputs = tf.keras.layers.Input(shape=(MAX_LEN,))\n",
        "embeddings = tf.keras.layers.Embedding(input_dim=len(word2id), output_dim=30)(inputs, )\n",
        "\n",
        "gru_1 = tf.keras.layers.GRU(128, return_sequences=True)(embeddings)\n",
        "gru_2 = tf.keras.layers.GRU(128, return_sequences=True)(gru_1)\n",
        "gru_3 = tf.keras.layers.GRU(128, return_sequences=True)(gru_2)\n",
        "gru_4 = tf.keras.layers.GRU(128, return_sequences=True)(gru_3)\n",
        "gru_5 = tf.keras.layers.GRU(128, return_sequences=True)(gru_4)\n",
        "\n",
        "lstm_1 = tf.keras.layers.LSTM(128, return_sequences=True)(gru_5)\n",
        "lstm_2 = tf.keras.layers.LSTM(128, return_sequences=True)(lstm_1)\n",
        "lstm_3 = tf.keras.layers.LSTM(128, return_sequences=False)(lstm_2)\n",
        "\n",
        "dense = tf.keras.layers.Dense(64, activation='relu')(lstm_3)\n",
        "outputs = tf.keras.layers.Dense(len(label2id), activation='softmax')(dense)\n",
        "\n",
        "model = tf.keras.Model(inputs=inputs, outputs=outputs)\n",
        "optimizer = tf.keras.optimizers.Adam(learning_rate=0.001)\n",
        "model.compile(optimizer=optimizer,\n",
        "              loss='categorical_crossentropy',\n",
        "              metrics=[f1, tf.keras.metrics.RecallAtPrecision(0.8, name='rec@prec')])\n",
        "model.summary()\n"
      ],
      "metadata": {
        "colab": {
          "base_uri": "https://localhost:8080/"
        },
        "id": "ETS9EUxBB9LV",
        "outputId": "8d1e4992-dcf2-4652-bcde-06df9c0059d6"
      },
      "id": "ETS9EUxBB9LV",
      "execution_count": null,
      "outputs": [
        {
          "output_type": "stream",
          "name": "stdout",
          "text": [
            "Model: \"model_4\"\n",
            "_________________________________________________________________\n",
            " Layer (type)                Output Shape              Param #   \n",
            "=================================================================\n",
            " input_5 (InputLayer)        [(None, 200)]             0         \n",
            "                                                                 \n",
            " embedding_4 (Embedding)     (None, 200, 30)           722790    \n",
            "                                                                 \n",
            " gru_3 (GRU)                 (None, 200, 128)          61440     \n",
            "                                                                 \n",
            " gru_4 (GRU)                 (None, 200, 128)          99072     \n",
            "                                                                 \n",
            " gru_5 (GRU)                 (None, 200, 128)          99072     \n",
            "                                                                 \n",
            " gru_6 (GRU)                 (None, 200, 128)          99072     \n",
            "                                                                 \n",
            " gru_7 (GRU)                 (None, 200, 128)          99072     \n",
            "                                                                 \n",
            " lstm_4 (LSTM)               (None, 200, 128)          131584    \n",
            "                                                                 \n",
            " lstm_5 (LSTM)               (None, 200, 128)          131584    \n",
            "                                                                 \n",
            " lstm_6 (LSTM)               (None, 128)               131584    \n",
            "                                                                 \n",
            " dense_5 (Dense)             (None, 64)                8256      \n",
            "                                                                 \n",
            " dense_6 (Dense)             (None, 19)                1235      \n",
            "                                                                 \n",
            "=================================================================\n",
            "Total params: 1584761 (6.05 MB)\n",
            "Trainable params: 1584761 (6.05 MB)\n",
            "Non-trainable params: 0 (0.00 Byte)\n",
            "_________________________________________________________________\n"
          ]
        }
      ]
    },
    {
      "cell_type": "markdown",
      "source": [
        "### 6) модель 1 BIGRU и 1 BILSTM слоями, причем так чтобы модели для forward и backward прохода отличались"
      ],
      "metadata": {
        "id": "prCpl9Bj8EaT"
      },
      "id": "prCpl9Bj8EaT"
    },
    {
      "cell_type": "code",
      "source": [
        "inputs = tf.keras.layers.Input(shape=(MAX_LEN,))\n",
        "embeddings = tf.keras.layers.Embedding(input_dim=len(word2id), output_dim=100)(inputs, )\n",
        "\n",
        "bigru_forward = tf.keras.layers.Bidirectional(\n",
        "    tf.keras.layers.GRU(128, return_sequences=False))(embeddings)\n",
        "\n",
        "bilstm_backward = tf.keras.layers.Bidirectional(\n",
        "    tf.keras.layers.LSTM(128, return_sequences=False, go_backwards=True))(embeddings)\n",
        "\n",
        "hidden = tf.keras.layers.concatenate([bigru_forward, bilstm_backward])\n",
        "\n",
        "outputs = tf.keras.layers.Dense(len(label2id), activation='softmax')(hidden)\n",
        "\n",
        "model = tf.keras.Model(inputs=inputs, outputs=outputs)\n",
        "\n",
        "model.compile(optimizer='rmsprop',\n",
        "              loss='categorical_crossentropy',\n",
        "              metrics=[f1, tf.keras.metrics.RecallAtPrecision(0.8, name='rec@prec')])\n",
        "model.summary()"
      ],
      "metadata": {
        "colab": {
          "base_uri": "https://localhost:8080/"
        },
        "id": "9CFzaDb0GGEG",
        "outputId": "f7ed1390-c9b6-4094-aa50-d04569b90e70"
      },
      "id": "9CFzaDb0GGEG",
      "execution_count": null,
      "outputs": [
        {
          "output_type": "stream",
          "name": "stdout",
          "text": [
            "Model: \"model_5\"\n",
            "__________________________________________________________________________________________________\n",
            " Layer (type)                Output Shape                 Param #   Connected to                  \n",
            "==================================================================================================\n",
            " input_6 (InputLayer)        [(None, 200)]                0         []                            \n",
            "                                                                                                  \n",
            " embedding_5 (Embedding)     (None, 200, 100)             2409300   ['input_6[0][0]']             \n",
            "                                                                                                  \n",
            " bidirectional_1 (Bidirecti  (None, 256)                  176640    ['embedding_5[0][0]']         \n",
            " onal)                                                                                            \n",
            "                                                                                                  \n",
            " bidirectional_2 (Bidirecti  (None, 256)                  234496    ['embedding_5[0][0]']         \n",
            " onal)                                                                                            \n",
            "                                                                                                  \n",
            " concatenate (Concatenate)   (None, 512)                  0         ['bidirectional_1[0][0]',     \n",
            "                                                                     'bidirectional_2[0][0]']     \n",
            "                                                                                                  \n",
            " dense_7 (Dense)             (None, 19)                   9747      ['concatenate[0][0]']         \n",
            "                                                                                                  \n",
            "==================================================================================================\n",
            "Total params: 2830183 (10.80 MB)\n",
            "Trainable params: 2830183 (10.80 MB)\n",
            "Non-trainable params: 0 (0.00 Byte)\n",
            "__________________________________________________________________________________________________\n"
          ]
        }
      ]
    },
    {
      "cell_type": "code",
      "source": [
        "model.fit(X_train, y_train,\n",
        "          validation_data=(X_valid, y_valid),\n",
        "          batch_size=200,\n",
        "         epochs=10)"
      ],
      "metadata": {
        "colab": {
          "base_uri": "https://localhost:8080/"
        },
        "id": "6z5Q8F7EIFVZ",
        "outputId": "8975a18b-0260-4af2-d5dd-44fb906a1427"
      },
      "id": "6z5Q8F7EIFVZ",
      "execution_count": null,
      "outputs": [
        {
          "output_type": "stream",
          "name": "stdout",
          "text": [
            "Epoch 1/10\n",
            "211/211 [==============================] - 36s 145ms/step - loss: 2.1980 - f1: 0.0046 - rec@prec: 2.1358e-04 - val_loss: 1.8711 - val_f1: 0.0333 - val_rec@prec: 0.0252\n",
            "Epoch 2/10\n",
            "211/211 [==============================] - 22s 105ms/step - loss: 1.6883 - f1: 0.2002 - rec@prec: 0.0538 - val_loss: 1.6683 - val_f1: 0.3390 - val_rec@prec: 0.1177\n",
            "Epoch 3/10\n",
            "211/211 [==============================] - 20s 94ms/step - loss: 1.3772 - f1: 0.5006 - rec@prec: 0.2284 - val_loss: 1.4002 - val_f1: 0.5123 - val_rec@prec: 0.3170\n",
            "Epoch 4/10\n",
            "211/211 [==============================] - 19s 91ms/step - loss: 1.1599 - f1: 0.6157 - rec@prec: 0.4340 - val_loss: 1.1717 - val_f1: 0.6186 - val_rec@prec: 0.4973\n",
            "Epoch 5/10\n",
            "211/211 [==============================] - 16s 75ms/step - loss: 0.9730 - f1: 0.6926 - rec@prec: 0.6117 - val_loss: 1.1478 - val_f1: 0.6711 - val_rec@prec: 0.5379\n",
            "Epoch 6/10\n",
            "211/211 [==============================] - 16s 78ms/step - loss: 0.8170 - f1: 0.7483 - rec@prec: 0.7202 - val_loss: 1.1244 - val_f1: 0.6819 - val_rec@prec: 0.5505\n",
            "Epoch 7/10\n",
            "211/211 [==============================] - 15s 71ms/step - loss: 0.6899 - f1: 0.7900 - rec@prec: 0.7930 - val_loss: 1.0070 - val_f1: 0.7075 - val_rec@prec: 0.6438\n",
            "Epoch 8/10\n",
            "211/211 [==============================] - 16s 75ms/step - loss: 0.5778 - f1: 0.8252 - rec@prec: 0.8518 - val_loss: 1.0861 - val_f1: 0.6922 - val_rec@prec: 0.5604\n",
            "Epoch 9/10\n",
            "211/211 [==============================] - 15s 72ms/step - loss: 0.4765 - f1: 0.8561 - rec@prec: 0.8962 - val_loss: 1.1241 - val_f1: 0.6853 - val_rec@prec: 0.5766\n",
            "Epoch 10/10\n",
            "211/211 [==============================] - 15s 72ms/step - loss: 0.3919 - f1: 0.8819 - rec@prec: 0.9278 - val_loss: 1.0114 - val_f1: 0.7278 - val_rec@prec: 0.6610\n"
          ]
        },
        {
          "output_type": "execute_result",
          "data": {
            "text/plain": [
              "<keras.src.callbacks.History at 0x78d87aadf790>"
            ]
          },
          "metadata": {},
          "execution_count": 45
        }
      ]
    },
    {
      "cell_type": "code",
      "source": [
        "print(model.history.history.keys())\n",
        "# summarize history for accuracy\n",
        "plt.plot(model.history.history['f1'])\n",
        "plt.plot(model.history.history['val_f1'])\n",
        "plt.title('model f1')\n",
        "plt.ylabel('f1')\n",
        "plt.xlabel('epoch')\n",
        "plt.legend(['train', 'val'], loc='upper left')\n",
        "plt.show()"
      ],
      "metadata": {
        "colab": {
          "base_uri": "https://localhost:8080/",
          "height": 489
        },
        "id": "0fmrcJ1OIG_L",
        "outputId": "4eb02252-e750-442d-ae62-3811a2eb9bff"
      },
      "id": "0fmrcJ1OIG_L",
      "execution_count": null,
      "outputs": [
        {
          "output_type": "stream",
          "name": "stdout",
          "text": [
            "dict_keys(['loss', 'f1', 'rec@prec', 'val_loss', 'val_f1', 'val_rec@prec'])\n"
          ]
        },
        {
          "output_type": "display_data",
          "data": {
            "text/plain": [
              "<Figure size 640x480 with 1 Axes>"
            ],
            "image/png": "[encoded data removed]"
          },
          "metadata": {}
        }
      ]
    },
    {
      "cell_type": "markdown",
      "source": [
        "### 7) модель, где последовательно идут слои: LSTM, GRU, BILSTM, BIGRU, GRU, LSTM"
      ],
      "metadata": {
        "id": "uoe4bAUw8EjI"
      },
      "id": "uoe4bAUw8EjI"
    },
    {
      "cell_type": "code",
      "source": [
        "inputs = tf.keras.layers.Input(shape=(MAX_LEN,))\n",
        "embeddings = tf.keras.layers.Embedding(input_dim=len(word2id), output_dim=100)(inputs, )\n",
        "\n",
        "lstm_1 = tf.keras.layers.LSTM(128, return_sequences=True)(embeddings)\n",
        "gru_1 = tf.keras.layers.GRU(128, return_sequences=True)(lstm_1)\n",
        "\n",
        "bilstm = tf.keras.layers.Bidirectional(\n",
        "    tf.keras.layers.LSTM(128, return_sequences=True))(gru_1)\n",
        "\n",
        "bigru = tf.keras.layers.Bidirectional(\n",
        "    tf.keras.layers.GRU(128, return_sequences=True))(bilstm)\n",
        "\n",
        "gru_2 = tf.keras.layers.GRU(128, return_sequences=True)(bigru)\n",
        "\n",
        "lstm_2 = tf.keras.layers.LSTM(128, return_sequences=False)(gru_2)\n",
        "\n",
        "outputs = tf.keras.layers.Dense(len(label2id), activation='softmax')(lstm_2)\n",
        "\n",
        "model = tf.keras.Model(inputs=inputs, outputs=outputs)\n",
        "\n",
        "model.compile(optimizer='rmsprop',\n",
        "              loss='categorical_crossentropy',\n",
        "              metrics=[f1, tf.keras.metrics.RecallAtPrecision(0.8, name='rec@prec')])\n",
        "\n",
        "model.summary()"
      ],
      "metadata": {
        "colab": {
          "base_uri": "https://localhost:8080/"
        },
        "id": "Shl0AwPV7x_x",
        "outputId": "c639df6d-2c6d-4eed-9ced-ac3309c86a95"
      },
      "id": "Shl0AwPV7x_x",
      "execution_count": null,
      "outputs": [
        {
          "output_type": "stream",
          "name": "stdout",
          "text": [
            "Model: \"model_6\"\n",
            "_________________________________________________________________\n",
            " Layer (type)                Output Shape              Param #   \n",
            "=================================================================\n",
            " input_7 (InputLayer)        [(None, 200)]             0         \n",
            "                                                                 \n",
            " embedding_6 (Embedding)     (None, 200, 100)          2409300   \n",
            "                                                                 \n",
            " lstm_8 (LSTM)               (None, 200, 128)          117248    \n",
            "                                                                 \n",
            " gru_9 (GRU)                 (None, 200, 128)          99072     \n",
            "                                                                 \n",
            " bidirectional_3 (Bidirecti  (None, 200, 256)          263168    \n",
            " onal)                                                           \n",
            "                                                                 \n",
            " bidirectional_4 (Bidirecti  (None, 200, 256)          296448    \n",
            " onal)                                                           \n",
            "                                                                 \n",
            " gru_11 (GRU)                (None, 200, 128)          148224    \n",
            "                                                                 \n",
            " lstm_10 (LSTM)              (None, 128)               131584    \n",
            "                                                                 \n",
            " dense_8 (Dense)             (None, 19)                2451      \n",
            "                                                                 \n",
            "=================================================================\n",
            "Total params: 3467495 (13.23 MB)\n",
            "Trainable params: 3467495 (13.23 MB)\n",
            "Non-trainable params: 0 (0.00 Byte)\n",
            "_________________________________________________________________\n"
          ]
        }
      ]
    },
    {
      "cell_type": "code",
      "execution_count": null,
      "metadata": {
        "scrolled": true,
        "outputId": "52ae56ff-e80a-4e71-dc29-c5142c50da2a",
        "colab": {
          "base_uri": "https://localhost:8080/"
        },
        "id": "qCg5kBctKW9X"
      },
      "outputs": [
        {
          "output_type": "stream",
          "name": "stdout",
          "text": [
            "Epoch 1/10\n",
            "211/211 [==============================] - 54s 206ms/step - loss: 2.2526 - f1: 0.0000e+00 - rec@prec: 2.3732e-05 - val_loss: 2.0246 - val_f1: 0.0000e+00 - val_rec@prec: 0.0000e+00\n",
            "Epoch 2/10\n",
            "211/211 [==============================] - 38s 180ms/step - loss: 1.8707 - f1: 0.0955 - rec@prec: 0.0475 - val_loss: 1.7262 - val_f1: 0.1757 - val_rec@prec: 0.0857\n",
            "Epoch 3/10\n",
            "211/211 [==============================] - 35s 166ms/step - loss: 1.6689 - f1: 0.1854 - rec@prec: 0.1020 - val_loss: 1.8892 - val_f1: 0.2140 - val_rec@prec: 0.1353\n",
            "Epoch 4/10\n",
            "211/211 [==============================] - 34s 160ms/step - loss: 1.4341 - f1: 0.3602 - rec@prec: 0.1902 - val_loss: 1.3898 - val_f1: 0.4597 - val_rec@prec: 0.2430\n",
            "Epoch 5/10\n",
            "211/211 [==============================] - 33s 157ms/step - loss: 1.2048 - f1: 0.5823 - rec@prec: 0.3593 - val_loss: 1.1943 - val_f1: 0.6148 - val_rec@prec: 0.4509\n",
            "Epoch 6/10\n",
            "211/211 [==============================] - 33s 158ms/step - loss: 1.0413 - f1: 0.6677 - rec@prec: 0.5362 - val_loss: 1.1157 - val_f1: 0.6673 - val_rec@prec: 0.5014\n",
            "Epoch 7/10\n",
            "211/211 [==============================] - 33s 158ms/step - loss: 0.9265 - f1: 0.7153 - rec@prec: 0.6404 - val_loss: 1.2347 - val_f1: 0.6095 - val_rec@prec: 0.4121\n",
            "Epoch 8/10\n",
            "211/211 [==============================] - 32s 154ms/step - loss: 0.8322 - f1: 0.7470 - rec@prec: 0.7075 - val_loss: 1.0902 - val_f1: 0.6737 - val_rec@prec: 0.5509\n",
            "Epoch 9/10\n",
            "211/211 [==============================] - 32s 152ms/step - loss: 0.7540 - f1: 0.7716 - rec@prec: 0.7556 - val_loss: 1.0598 - val_f1: 0.6946 - val_rec@prec: 0.5789\n",
            "Epoch 10/10\n",
            "211/211 [==============================] - 32s 153ms/step - loss: 0.6918 - f1: 0.7938 - rec@prec: 0.7938 - val_loss: 1.0267 - val_f1: 0.7037 - val_rec@prec: 0.6136\n"
          ]
        },
        {
          "output_type": "execute_result",
          "data": {
            "text/plain": [
              "<keras.src.callbacks.History at 0x78d87ce8f760>"
            ]
          },
          "metadata": {},
          "execution_count": 48
        }
      ],
      "source": [
        "model.fit(X_train, y_train,\n",
        "          validation_data=(X_valid, y_valid),\n",
        "          batch_size=200,\n",
        "         epochs=10)"
      ],
      "id": "qCg5kBctKW9X"
    },
    {
      "cell_type": "code",
      "execution_count": null,
      "metadata": {
        "outputId": "30da89d1-d362-40d5-d21a-a9ccc3122a6c",
        "colab": {
          "base_uri": "https://localhost:8080/",
          "height": 489
        },
        "id": "azabOy8wKW9i"
      },
      "outputs": [
        {
          "output_type": "stream",
          "name": "stdout",
          "text": [
            "dict_keys(['loss', 'f1', 'rec@prec', 'val_loss', 'val_f1', 'val_rec@prec'])\n"
          ]
        },
        {
          "output_type": "display_data",
          "data": {
            "text/plain": [
              "<Figure size 640x480 with 1 Axes>"
            ],
            "image/png": "[encoded data removed]"
          },
          "metadata": {}
        }
      ],
      "source": [
        "print(model.history.history.keys())\n",
        "# summarize history for accuracy\n",
        "plt.plot(model.history.history['f1'])\n",
        "plt.plot(model.history.history['val_f1'])\n",
        "plt.title('model f1')\n",
        "plt.ylabel('f1')\n",
        "plt.xlabel('epoch')\n",
        "plt.legend(['train', 'val'], loc='upper left')\n",
        "plt.show()"
      ],
      "id": "azabOy8wKW9i"
    },
    {
      "cell_type": "markdown",
      "source": [
        "### Оцените качество каждой модели и определите победителя.\n",
        "Последняя модель победила, показав лучшую F1 меру."
      ],
      "metadata": {
        "id": "A0AETcfXPi-O"
      },
      "id": "A0AETcfXPi-O"
    },
    {
      "cell_type": "markdown",
      "id": "ed5d6eea",
      "metadata": {
        "id": "ed5d6eea"
      },
      "source": [
        "## Задание 2 (6 баллов)\n"
      ]
    },
    {
      "cell_type": "markdown",
      "id": "5c2c07cf",
      "metadata": {
        "id": "5c2c07cf"
      },
      "source": [
        "На данных википедии (wikiann) обучите 2 модели:  \n",
        "1) модель в которой будут использованы предобученные эмбединги слов и несколько BILSTM слоев.\n",
        "1) модель в которой будут использованы предобученные эмбединги слов и несколько BIGRU слоев.\n",
        "\n",
        "Сравните качество по метрикам. Также придумайте несколько сложных примеров и проверьте, какие сущности определяет каждая из моделей."
      ]
    },
    {
      "cell_type": "markdown",
      "source": [
        "### Предобработка с семинара"
      ],
      "metadata": {
        "id": "DoxE87X3PSlE"
      },
      "id": "DoxE87X3PSlE"
    },
    {
      "cell_type": "code",
      "source": [
        "!pip install datasets"
      ],
      "metadata": {
        "colab": {
          "base_uri": "https://localhost:8080/"
        },
        "id": "XOHKq7TGPqpb",
        "outputId": "e7b8c463-1751-4c9c-a531-33150269f0c7"
      },
      "id": "XOHKq7TGPqpb",
      "execution_count": null,
      "outputs": [
        {
          "output_type": "stream",
          "name": "stdout",
          "text": [
            "Requirement already satisfied: datasets in /usr/local/lib/python3.10/dist-packages (2.18.0)\n",
            "Requirement already satisfied: filelock in /usr/local/lib/python3.10/dist-packages (from datasets) (3.13.1)\n",
            "Requirement already satisfied: numpy>=1.17 in /usr/local/lib/python3.10/dist-packages (from datasets) (1.25.2)\n",
            "Requirement already satisfied: pyarrow>=12.0.0 in /usr/local/lib/python3.10/dist-packages (from datasets) (14.0.2)\n",
            "Requirement already satisfied: pyarrow-hotfix in /usr/local/lib/python3.10/dist-packages (from datasets) (0.6)\n",
            "Requirement already satisfied: dill<0.3.9,>=0.3.0 in /usr/local/lib/python3.10/dist-packages (from datasets) (0.3.8)\n",
            "Requirement already satisfied: pandas in /usr/local/lib/python3.10/dist-packages (from datasets) (1.5.3)\n",
            "Requirement already satisfied: requests>=2.19.0 in /usr/local/lib/python3.10/dist-packages (from datasets) (2.31.0)\n",
            "Requirement already satisfied: tqdm>=4.62.1 in /usr/local/lib/python3.10/dist-packages (from datasets) (4.66.2)\n",
            "Requirement already satisfied: xxhash in /usr/local/lib/python3.10/dist-packages (from datasets) (3.4.1)\n",
            "Requirement already satisfied: multiprocess in /usr/local/lib/python3.10/dist-packages (from datasets) (0.70.16)\n",
            "Requirement already satisfied: fsspec[http]<=2024.2.0,>=2023.1.0 in /usr/local/lib/python3.10/dist-packages (from datasets) (2023.6.0)\n",
            "Requirement already satisfied: aiohttp in /usr/local/lib/python3.10/dist-packages (from datasets) (3.9.3)\n",
            "Requirement already satisfied: huggingface-hub>=0.19.4 in /usr/local/lib/python3.10/dist-packages (from datasets) (0.20.3)\n",
            "Requirement already satisfied: packaging in /usr/local/lib/python3.10/dist-packages (from datasets) (23.2)\n",
            "Requirement already satisfied: pyyaml>=5.1 in /usr/local/lib/python3.10/dist-packages (from datasets) (6.0.1)\n",
            "Requirement already satisfied: aiosignal>=1.1.2 in /usr/local/lib/python3.10/dist-packages (from aiohttp->datasets) (1.3.1)\n",
            "Requirement already satisfied: attrs>=17.3.0 in /usr/local/lib/python3.10/dist-packages (from aiohttp->datasets) (23.2.0)\n",
            "Requirement already satisfied: frozenlist>=1.1.1 in /usr/local/lib/python3.10/dist-packages (from aiohttp->datasets) (1.4.1)\n",
            "Requirement already satisfied: multidict<7.0,>=4.5 in /usr/local/lib/python3.10/dist-packages (from aiohttp->datasets) (6.0.5)\n",
            "Requirement already satisfied: yarl<2.0,>=1.0 in /usr/local/lib/python3.10/dist-packages (from aiohttp->datasets) (1.9.4)\n",
            "Requirement already satisfied: async-timeout<5.0,>=4.0 in /usr/local/lib/python3.10/dist-packages (from aiohttp->datasets) (4.0.3)\n",
            "Requirement already satisfied: typing-extensions>=3.7.4.3 in /usr/local/lib/python3.10/dist-packages (from huggingface-hub>=0.19.4->datasets) (4.10.0)\n",
            "Requirement already satisfied: charset-normalizer<4,>=2 in /usr/local/lib/python3.10/dist-packages (from requests>=2.19.0->datasets) (3.3.2)\n",
            "Requirement already satisfied: idna<4,>=2.5 in /usr/local/lib/python3.10/dist-packages (from requests>=2.19.0->datasets) (3.6)\n",
            "Requirement already satisfied: urllib3<3,>=1.21.1 in /usr/local/lib/python3.10/dist-packages (from requests>=2.19.0->datasets) (2.0.7)\n",
            "Requirement already satisfied: certifi>=2017.4.17 in /usr/local/lib/python3.10/dist-packages (from requests>=2.19.0->datasets) (2024.2.2)\n",
            "Requirement already satisfied: python-dateutil>=2.8.1 in /usr/local/lib/python3.10/dist-packages (from pandas->datasets) (2.8.2)\n",
            "Requirement already satisfied: pytz>=2020.1 in /usr/local/lib/python3.10/dist-packages (from pandas->datasets) (2023.4)\n",
            "Requirement already satisfied: six>=1.5 in /usr/local/lib/python3.10/dist-packages (from python-dateutil>=2.8.1->pandas->datasets) (1.16.0)\n"
          ]
        }
      ]
    },
    {
      "cell_type": "code",
      "source": [
        "from datasets import load_dataset"
      ],
      "metadata": {
        "id": "6U9lobVfP96Y"
      },
      "id": "6U9lobVfP96Y",
      "execution_count": null,
      "outputs": []
    },
    {
      "cell_type": "code",
      "source": [
        "dataset = load_dataset(\"wikiann\", 'ru')"
      ],
      "metadata": {
        "id": "bRP22I0UP_Oj"
      },
      "id": "bRP22I0UP_Oj",
      "execution_count": null,
      "outputs": []
    },
    {
      "cell_type": "code",
      "execution_count": null,
      "metadata": {
        "id": "f-frOHv5ZQGY",
        "outputId": "90ae3033-1d95-49ed-919c-094127d19650",
        "colab": {
          "base_uri": "https://localhost:8080/"
        }
      },
      "outputs": [
        {
          "output_type": "execute_result",
          "data": {
            "text/plain": [
              "DatasetDict({\n",
              "    validation: Dataset({\n",
              "        features: ['tokens', 'ner_tags', 'langs', 'spans'],\n",
              "        num_rows: 10000\n",
              "    })\n",
              "    test: Dataset({\n",
              "        features: ['tokens', 'ner_tags', 'langs', 'spans'],\n",
              "        num_rows: 10000\n",
              "    })\n",
              "    train: Dataset({\n",
              "        features: ['tokens', 'ner_tags', 'langs', 'spans'],\n",
              "        num_rows: 20000\n",
              "    })\n",
              "})"
            ]
          },
          "metadata": {},
          "execution_count": 79
        }
      ],
      "source": [
        "dataset"
      ],
      "id": "f-frOHv5ZQGY"
    },
    {
      "cell_type": "code",
      "execution_count": null,
      "metadata": {
        "id": "Bqpfv0shZQGY",
        "outputId": "5319c98b-501e-48fc-9327-4adfba6270ed",
        "colab": {
          "base_uri": "https://localhost:8080/"
        }
      },
      "outputs": [
        {
          "output_type": "execute_result",
          "data": {
            "text/plain": [
              "([\"'\", \"''\", 'Рыбницкий', 'район', \"''\", \"'\"], [0, 0, 5, 6, 0, 0])"
            ]
          },
          "metadata": {},
          "execution_count": 80
        }
      ],
      "source": [
        "dataset['train']['tokens'][1], dataset['train']['ner_tags'][1]"
      ],
      "id": "Bqpfv0shZQGY"
    },
    {
      "cell_type": "code",
      "execution_count": null,
      "metadata": {
        "colab": {
          "base_uri": "https://localhost:8080/"
        },
        "outputId": "230870be-2d2f-417d-f40f-7254681f0237",
        "id": "EPXrbvhnrDRN"
      },
      "outputs": [
        {
          "output_type": "stream",
          "name": "stdout",
          "text": [
            "{'илизаров': 1, ',': 9597, 'гавриил': 1, 'абрамович': 7, \"'\": 4470, \"''\": 5673, 'рыбницкий': 1, 'район': 118, 'за': 191, 'образцовое': 1}\n"
          ]
        }
      ],
      "source": [
        "# словарь\n",
        "vocab = Counter()\n",
        "\n",
        "for sent in dataset['train']['tokens']:\n",
        "    vocab.update([x.lower() for x in sent])\n",
        "\n",
        "print(dict(list(vocab.items())[:10]))\n",
        "\n"
      ],
      "id": "EPXrbvhnrDRN"
    },
    {
      "cell_type": "code",
      "execution_count": null,
      "metadata": {
        "scrolled": true,
        "outputId": "40c3c424-15e5-4697-fb82-083b8c314cb2",
        "colab": {
          "base_uri": "https://localhost:8080/"
        },
        "id": "YFo2xMnArDRa"
      },
      "outputs": [
        {
          "output_type": "execute_result",
          "data": {
            "text/plain": [
              "36015"
            ]
          },
          "metadata": {},
          "execution_count": 82
        }
      ],
      "source": [
        "# тут словарь не очень большой и тут нужно предсказывать тэги для всех слов\n",
        "# поэтому не будем фильтровать словарь\n",
        "len(vocab)"
      ],
      "id": "YFo2xMnArDRa"
    },
    {
      "cell_type": "code",
      "execution_count": null,
      "metadata": {
        "id": "vSYXvHedrDRb"
      },
      "outputs": [],
      "source": [
        "# индексируем слова, каждому слову из словаря vocab (на основе трейна) присваивается уникальный индекс\n",
        "word2id = {'PAD':0, 'UNK':1}\n",
        "\n",
        "for word in vocab:\n",
        "    word2id[word] = len(word2id)"
      ],
      "id": "vSYXvHedrDRb"
    },
    {
      "cell_type": "code",
      "execution_count": null,
      "metadata": {
        "id": "3PvAI-uIrDRb"
      },
      "outputs": [],
      "source": [
        "# отображение индексов обратно на соответствующие слова\n",
        "id2word = {i:word for word, i in word2id.items()}"
      ],
      "id": "3PvAI-uIrDRb"
    },
    {
      "cell_type": "code",
      "source": [
        "# переводим тексты в последовательности индексов\n",
        "X = []\n",
        "\n",
        "for sent in dataset['train']['tokens']:\n",
        "    tokens = [w.lower() for w in sent]\n",
        "    ids = [word2id.get(token, 1) for token in tokens]\n",
        "    X.append(ids)"
      ],
      "metadata": {
        "id": "sD8JR-1grDRc"
      },
      "execution_count": null,
      "outputs": [],
      "id": "sD8JR-1grDRc"
    },
    {
      "cell_type": "code",
      "execution_count": null,
      "metadata": {
        "id": "dDDvbYRNrDRd"
      },
      "outputs": [],
      "source": [
        "# переводим тексты из теста в последовательности индексов\n",
        "X_test = []\n",
        "\n",
        "for sent in dataset['test']['tokens']:\n",
        "    tokens = [w.lower() for w in sent]\n",
        "    ids = [word2id.get(token, 1) for token in tokens]\n",
        "    X_test.append(ids)"
      ],
      "id": "dDDvbYRNrDRd"
    },
    {
      "cell_type": "code",
      "execution_count": null,
      "metadata": {
        "id": "6WIrLl1_rDRd"
      },
      "outputs": [],
      "source": [
        "MAX_LEN = max(len(x) for x in X)\n",
        "\n",
        "# X – трейн\n",
        "# X_test – тест\n",
        "# паддинг\n",
        "X = tf.keras.preprocessing.sequence.pad_sequences(X, maxlen=MAX_LEN, padding='post')\n",
        "X_test = tf.keras.preprocessing.sequence.pad_sequences(X_test, maxlen=MAX_LEN, padding='post')"
      ],
      "id": "6WIrLl1_rDRd"
    },
    {
      "cell_type": "code",
      "execution_count": null,
      "metadata": {
        "id": "X8nhVmMrrG3G"
      },
      "outputs": [],
      "source": [
        "id2labels = {0:'O', 1:'B-PER', 2:'I-PER', 3:'B-ORG', 4:'I-ORG', 5: 'B-LOC', 6:'I-LOC', 7:'PAD'}\n",
        "label2id = {v:k for k,v in id2labels.items()}"
      ],
      "id": "X8nhVmMrrG3G"
    },
    {
      "cell_type": "code",
      "execution_count": null,
      "metadata": {
        "id": "4Roo6fLhrG3U"
      },
      "outputs": [],
      "source": [
        "y = tf.keras.preprocessing.sequence.pad_sequences(dataset['train']['ner_tags'], value=7,\n",
        "                                                  maxlen=MAX_LEN,  padding='post')\n",
        "y_test = tf.keras.preprocessing.sequence.pad_sequences(dataset['test']['ner_tags'], value=7,\n",
        "                                                       maxlen=MAX_LEN,  padding='post')"
      ],
      "id": "4Roo6fLhrG3U"
    },
    {
      "cell_type": "code",
      "source": [
        "print(X[:1])\n",
        "print(X_test[:1])\n",
        "\n",
        "print(y[:1])\n",
        "print(y_test[:1])"
      ],
      "metadata": {
        "colab": {
          "base_uri": "https://localhost:8080/"
        },
        "outputId": "74001532-1ea5-455d-e0a3-4b1a8107698c",
        "id": "NHy_oMzZrG3U"
      },
      "execution_count": null,
      "outputs": [
        {
          "output_type": "stream",
          "name": "stdout",
          "text": [
            "[[2 3 4 5 0 0 0 0 0 0 0 0 0 0 0 0 0 0 0 0 0 0 0 0 0 0 0 0 0 0 0 0 0 0 0 0\n",
            "  0 0 0 0 0 0 0 0 0 0 0 0 0 0 0 0 0 0]]\n",
            "[[   6    7 3587 3588    7    6    0    0    0    0    0    0    0    0\n",
            "     0    0    0    0    0    0    0    0    0    0    0    0    0    0\n",
            "     0    0    0    0    0    0    0    0    0    0    0    0    0    0\n",
            "     0    0    0    0    0    0    0    0    0    0    0    0]]\n",
            "[[1 2 2 2 7 7 7 7 7 7 7 7 7 7 7 7 7 7 7 7 7 7 7 7 7 7 7 7 7 7 7 7 7 7 7 7\n",
            "  7 7 7 7 7 7 7 7 7 7 7 7 7 7 7 7 7 7]]\n",
            "[[0 0 3 4 0 0 7 7 7 7 7 7 7 7 7 7 7 7 7 7 7 7 7 7 7 7 7 7 7 7 7 7 7 7 7 7\n",
            "  7 7 7 7 7 7 7 7 7 7 7 7 7 7 7 7 7 7]]\n"
          ]
        }
      ],
      "id": "NHy_oMzZrG3U"
    },
    {
      "cell_type": "code",
      "source": [],
      "metadata": {
        "id": "c1HAIiSXrRXi"
      },
      "id": "c1HAIiSXrRXi",
      "execution_count": null,
      "outputs": []
    },
    {
      "cell_type": "markdown",
      "source": [
        "### Матрица с предобученными векторами"
      ],
      "metadata": {
        "id": "NB8a2IeprdCr"
      },
      "id": "NB8a2IeprdCr"
    },
    {
      "cell_type": "code",
      "source": [
        "# загружаем предобученную модель\n",
        "\n",
        "import requests\n",
        "import gzip\n",
        "import shutil\n",
        "import gensim\n",
        "\n",
        "url = 'https://rusvectores.org/static/models/rusvectores4/araneum/araneum_upos_skipgram_300_2_2018.vec.gz'\n",
        "filename = 'araneum_upos_skipgram_300_2_2018.vec.gz'\n",
        "\n",
        "r = requests.get(url, stream=True)\n",
        "with open(filename, 'wb') as f:\n",
        "    shutil.copyfileobj(r.raw, f)\n",
        "\n",
        "with gzip.open(filename, 'rb') as f_in:\n",
        "    with open('araneum_upos_skipgram_300_2_2018.vec', 'wb') as f_out:\n",
        "        shutil.copyfileobj(f_in, f_out)\n",
        "rusvec_model = gensim.models.KeyedVectors.load_word2vec_format('araneum_upos_skipgram_300_2_2018.vec', binary=False)\n"
      ],
      "metadata": {
        "id": "EZrk9YUMODp-"
      },
      "execution_count": null,
      "outputs": [],
      "id": "EZrk9YUMODp-"
    },
    {
      "cell_type": "code",
      "source": [
        "rusvec_model.most_similar('изюм_NOUN')"
      ],
      "metadata": {
        "colab": {
          "base_uri": "https://localhost:8080/"
        },
        "outputId": "d8e6b29f-ab89-41a6-875e-9e755f2bc8b6",
        "id": "gCD2MQsiODp-"
      },
      "execution_count": null,
      "outputs": [
        {
          "output_type": "execute_result",
          "data": {
            "text/plain": [
              "[('курага_NOUN', 0.8573834300041199),\n",
              " ('чернослив_NOUN', 0.8140918016433716),\n",
              " ('сухофрукты_NOUN', 0.7855675220489502),\n",
              " ('цукат_NOUN', 0.7812947630882263),\n",
              " ('финик_NOUN', 0.7234672904014587),\n",
              " ('фундук_NOUN', 0.702560305595398),\n",
              " ('миндаль_NOUN', 0.7016867399215698),\n",
              " ('инжир_NOUN', 0.690302312374115),\n",
              " ('кунжут_NOUN', 0.687254011631012),\n",
              " ('кешью_NOUN', 0.6865500807762146)]"
            ]
          },
          "metadata": {},
          "execution_count": 92
        }
      ],
      "id": "gCD2MQsiODp-"
    },
    {
      "cell_type": "code",
      "source": [
        "# cлова в модели хранятся в нормализованном виде с прибавленной частью речи\n",
        "# соответствие тэгов майстема тэгам Udpipe (https://github.com/akutuzov/universal-pos-tags/blob/4653e8a9154e93fe2f417c7fdb7a357b7d6ce333/ru-rnc.map)"
      ],
      "metadata": {
        "id": "K_HnpJnlVnaR"
      },
      "id": "K_HnpJnlVnaR",
      "execution_count": null,
      "outputs": []
    },
    {
      "cell_type": "code",
      "source": [
        "import requests\n",
        "mapping_url = \"https://raw.githubusercontent.com/akutuzov/universal-pos-tags/4653e8a9154e93fe2f417c7fdb7a357b7d6ce333/ru-rnc.map\"\n",
        "response = requests.get(mapping_url)\n",
        "mapping = {}\n",
        "for line in response.text.splitlines():\n",
        "    ms, ud = line.strip('\\n').split()\n",
        "    mapping[ms] = ud\n",
        "mapping"
      ],
      "metadata": {
        "colab": {
          "base_uri": "https://localhost:8080/"
        },
        "id": "iUsaYCC1-4Ns",
        "outputId": "0d62abc2-247d-4a9e-f120-3993541b25c1"
      },
      "id": "iUsaYCC1-4Ns",
      "execution_count": null,
      "outputs": [
        {
          "output_type": "execute_result",
          "data": {
            "text/plain": [
              "{'A': 'ADJ',\n",
              " 'ADV': 'ADV',\n",
              " 'ADVPRO': 'ADV',\n",
              " 'ANUM': 'ADJ',\n",
              " 'APRO': 'DET',\n",
              " 'COM': 'ADJ',\n",
              " 'CONJ': 'SCONJ',\n",
              " 'INTJ': 'INTJ',\n",
              " 'NONLEX': 'X',\n",
              " 'NUM': 'NUM',\n",
              " 'PART': 'PART',\n",
              " 'PR': 'ADP',\n",
              " 'S': 'NOUN',\n",
              " 'SPRO': 'PRON',\n",
              " 'UNKN': 'X',\n",
              " 'V': 'VERB'}"
            ]
          },
          "metadata": {},
          "execution_count": 94
        }
      ]
    },
    {
      "cell_type": "code",
      "source": [
        "from pymystem3 import Mystem\n",
        "m = Mystem()"
      ],
      "metadata": {
        "id": "vzUv6e-J_M-N"
      },
      "id": "vzUv6e-J_M-N",
      "execution_count": null,
      "outputs": []
    },
    {
      "cell_type": "code",
      "source": [
        "def normalize_mystem(text):\n",
        "    tokens = []\n",
        "    norm_words = m.analyze(text)\n",
        "    for norm_word in norm_words:\n",
        "        if 'analysis' not in norm_word:\n",
        "            continue\n",
        "\n",
        "        if not len(norm_word['analysis']):\n",
        "            lemma = norm_word['text']\n",
        "            pos = 'UNKN'\n",
        "        else:\n",
        "            lemma = norm_word[\"analysis\"][0][\"lex\"].lower().strip()\n",
        "            pos = norm_word[\"analysis\"][0][\"gr\"].split(',')[0]\n",
        "            pos = pos.split('=')[0].strip()\n",
        "        pos = mapping[pos]\n",
        "        tokens.append(lemma+'_'+pos)\n",
        "\n",
        "    return tokens"
      ],
      "metadata": {
        "id": "2_nZ9zlnT_JR"
      },
      "id": "2_nZ9zlnT_JR",
      "execution_count": null,
      "outputs": []
    },
    {
      "cell_type": "code",
      "source": [
        "normalize_mystem('не очень-то, ! 34 PAD')"
      ],
      "metadata": {
        "colab": {
          "base_uri": "https://localhost:8080/"
        },
        "id": "laeAEJhIzxS1",
        "outputId": "831a4bb5-4cdd-4f51-96f8-927ce9b18a6e"
      },
      "id": "laeAEJhIzxS1",
      "execution_count": null,
      "outputs": [
        {
          "output_type": "execute_result",
          "data": {
            "text/plain": [
              "['не_PART', 'очень_ADV', 'то_PART', 'PAD_X']"
            ]
          },
          "metadata": {},
          "execution_count": 97
        }
      ]
    },
    {
      "cell_type": "code",
      "source": [
        "norm_word2id = {}\n",
        "for word, idx in word2id.items():\n",
        "    norm_words = normalize_mystem(word)\n",
        "    if norm_words:  # проверяем, не пустой ли список нормализованных слов\n",
        "        norm_word = norm_words[0]  # берем первое нормализованное слово\n",
        "        if norm_word not in norm_word2id:  # проверяем, не было ли уже добавлено такое нормализованное слово\n",
        "            norm_word2id[norm_word] = idx  # сохраняем индекс из изначального словаря\n",
        "list(norm_word2id.items())[:10]"
      ],
      "metadata": {
        "colab": {
          "base_uri": "https://localhost:8080/"
        },
        "id": "QBKwIYRNzewR",
        "outputId": "cb8b5c56-0aa7-466d-b983-1ab8df7513ba"
      },
      "id": "QBKwIYRNzewR",
      "execution_count": null,
      "outputs": [
        {
          "output_type": "execute_result",
          "data": {
            "text/plain": [
              "[('PAD_X', 0),\n",
              " ('UNK_X', 1),\n",
              " ('илизар_NOUN', 2),\n",
              " ('гавриил_NOUN', 4),\n",
              " ('абрамович_NOUN', 5),\n",
              " ('рыбницкий_ADJ', 8),\n",
              " ('район_NOUN', 9),\n",
              " ('за_ADP', 10),\n",
              " ('образцовый_ADJ', 11),\n",
              " ('выполнение_NOUN', 12)]"
            ]
          },
          "metadata": {},
          "execution_count": 98
        }
      ]
    },
    {
      "cell_type": "code",
      "source": [
        "list(word2id.items())[:15]"
      ],
      "metadata": {
        "colab": {
          "base_uri": "https://localhost:8080/"
        },
        "id": "d3dXFnQR3HEF",
        "outputId": "87a909c7-a926-4455-e70e-e39b148b84d5"
      },
      "id": "d3dXFnQR3HEF",
      "execution_count": null,
      "outputs": [
        {
          "output_type": "execute_result",
          "data": {
            "text/plain": [
              "[('PAD', 0),\n",
              " ('UNK', 1),\n",
              " ('илизаров', 2),\n",
              " (',', 3),\n",
              " ('гавриил', 4),\n",
              " ('абрамович', 5),\n",
              " (\"'\", 6),\n",
              " (\"''\", 7),\n",
              " ('рыбницкий', 8),\n",
              " ('район', 9),\n",
              " ('за', 10),\n",
              " ('образцовое', 11),\n",
              " ('выполнение', 12),\n",
              " ('заданий', 13),\n",
              " ('командования', 14)]"
            ]
          },
          "metadata": {},
          "execution_count": 99
        }
      ]
    },
    {
      "cell_type": "code",
      "source": [
        "norm_id2word = {i:word for word, i in norm_word2id.items()}\n",
        "list(norm_id2word.items())[:10]"
      ],
      "metadata": {
        "colab": {
          "base_uri": "https://localhost:8080/"
        },
        "id": "yqpb-PzZ3LfQ",
        "outputId": "4f37d345-d09e-4c22-a12c-b49d3c53a79c"
      },
      "id": "yqpb-PzZ3LfQ",
      "execution_count": null,
      "outputs": [
        {
          "output_type": "execute_result",
          "data": {
            "text/plain": [
              "[(0, 'PAD_X'),\n",
              " (1, 'UNK_X'),\n",
              " (2, 'илизар_NOUN'),\n",
              " (4, 'гавриил_NOUN'),\n",
              " (5, 'абрамович_NOUN'),\n",
              " (8, 'рыбницкий_ADJ'),\n",
              " (9, 'район_NOUN'),\n",
              " (10, 'за_ADP'),\n",
              " (11, 'образцовый_ADJ'),\n",
              " (12, 'выполнение_NOUN')]"
            ]
          },
          "metadata": {},
          "execution_count": 100
        }
      ]
    },
    {
      "cell_type": "code",
      "source": [
        "import numpy as np\n",
        "\n",
        "embedding_dim = rusvec_model.vector_size\n",
        "vocab_size = len(word2id)\n",
        "\n",
        "# создаем матрицу с нулевыми эмбеддингами\n",
        "embedding_matrix = np.zeros((vocab_size, embedding_dim))\n",
        "\n",
        "# счетчики для подсчета использованных векторов\n",
        "found_in_rusvec = 0\n",
        "random_vectors = 0\n",
        "\n",
        "for idx, word in norm_id2word.items():\n",
        "    if word == 'PAD':\n",
        "        continue  # пропускаем слово с индексом 0 (паддинг)\n",
        "    if word in rusvec_model:\n",
        "        # если слово есть в предобученной модели, берем его вектор\n",
        "        embedding_matrix[idx] = rusvec_model[word]\n",
        "        found_in_rusvec += 1\n",
        "    else:\n",
        "        # если нет, генерируем случайный вектор\n",
        "        embedding_matrix[idx] = np.random.normal(size=(embedding_dim,))\n",
        "        random_vectors += 1\n",
        "\n",
        "print(\"Найдено векторов в rusvec_model:\", found_in_rusvec)\n",
        "print(\"Сгенерировано случайных векторов:\", random_vectors)\n",
        "\n",
        "embedding_matrix.shape\n"
      ],
      "metadata": {
        "colab": {
          "base_uri": "https://localhost:8080/"
        },
        "id": "0ZD65jpv5T6y",
        "outputId": "7efba9db-b72f-43b5-fb35-8b03b775229f"
      },
      "id": "0ZD65jpv5T6y",
      "execution_count": null,
      "outputs": [
        {
          "output_type": "stream",
          "name": "stdout",
          "text": [
            "Найдено векторов в rusvec_model: 12624\n",
            "Сгенерировано случайных векторов: 12113\n"
          ]
        },
        {
          "output_type": "execute_result",
          "data": {
            "text/plain": [
              "(36017, 300)"
            ]
          },
          "metadata": {},
          "execution_count": 101
        }
      ]
    },
    {
      "cell_type": "code",
      "source": [
        "X.shape, X_test.shape"
      ],
      "metadata": {
        "id": "hIGKYTl7TR6B",
        "colab": {
          "base_uri": "https://localhost:8080/"
        },
        "outputId": "3b7aa94c-68fd-460f-bc24-1bf004f2e24f"
      },
      "id": "hIGKYTl7TR6B",
      "execution_count": null,
      "outputs": [
        {
          "output_type": "execute_result",
          "data": {
            "text/plain": [
              "((20000, 54), (10000, 54))"
            ]
          },
          "metadata": {},
          "execution_count": 102
        }
      ]
    },
    {
      "cell_type": "code",
      "source": [
        "y.shape, y_test.shape"
      ],
      "metadata": {
        "id": "w4ietxIrTSEk",
        "colab": {
          "base_uri": "https://localhost:8080/"
        },
        "outputId": "16f42d7c-687a-43e9-8507-36fd8d837d66"
      },
      "id": "w4ietxIrTSEk",
      "execution_count": null,
      "outputs": [
        {
          "output_type": "execute_result",
          "data": {
            "text/plain": [
              "((20000, 54), (10000, 54))"
            ]
          },
          "metadata": {},
          "execution_count": 103
        }
      ]
    },
    {
      "cell_type": "markdown",
      "source": [
        "### 1) модель в которой будут использованы предобученные эмбединги слов и несколько BILSTM слоев."
      ],
      "metadata": {
        "id": "DqKbT8k-PU9e"
      },
      "id": "DqKbT8k-PU9e"
    },
    {
      "cell_type": "code",
      "source": [
        "inputs = tf.keras.layers.Input(shape=(MAX_LEN,))\n",
        "# Используем нашу матрицу с векторами как веса для слоя еmbeddings\n",
        "embeddings = tf.keras.layers.Embedding(input_dim=len(word2id), output_dim=300, weights=[embedding_matrix], trainable=False)(inputs)\n",
        "\n",
        "bilstm_1 = tf.keras.layers.Bidirectional(tf.keras.layers.LSTM(128, return_sequences=True))(embeddings)\n",
        "bilstm_2 = tf.keras.layers.Bidirectional(tf.keras.layers.LSTM(128, return_sequences=True))(bilstm_1)\n",
        "bilstm_3 = tf.keras.layers.Bidirectional(tf.keras.layers.LSTM(128, return_sequences=True))(bilstm_2)\n",
        "\n",
        "outputs = tf.keras.layers.Dense(len(label2id), activation='softmax')(bilstm_3)\n",
        "\n",
        "model_bilstm = tf.keras.Model(inputs=inputs, outputs=outputs)\n",
        "model_bilstm.compile(optimizer='adam',\n",
        "              loss='sparse_categorical_crossentropy',\n",
        "              metrics=['accuracy'])\n",
        "\n",
        "model_bilstm.summary()"
      ],
      "metadata": {
        "colab": {
          "base_uri": "https://localhost:8080/"
        },
        "id": "IefphXXID1xJ",
        "outputId": "786ae940-30ae-4b4a-93f6-d66d8d3aae15"
      },
      "execution_count": null,
      "outputs": [
        {
          "output_type": "stream",
          "name": "stdout",
          "text": [
            "Model: \"model_6\"\n",
            "_________________________________________________________________\n",
            " Layer (type)                Output Shape              Param #   \n",
            "=================================================================\n",
            " input_7 (InputLayer)        [(None, 54)]              0         \n",
            "                                                                 \n",
            " embedding_6 (Embedding)     (None, 54, 300)           10805100  \n",
            "                                                                 \n",
            " bidirectional_18 (Bidirect  (None, 54, 256)           439296    \n",
            " ional)                                                          \n",
            "                                                                 \n",
            " bidirectional_19 (Bidirect  (None, 54, 256)           394240    \n",
            " ional)                                                          \n",
            "                                                                 \n",
            " bidirectional_20 (Bidirect  (None, 54, 256)           394240    \n",
            " ional)                                                          \n",
            "                                                                 \n",
            " dense_6 (Dense)             (None, 54, 8)             2056      \n",
            "                                                                 \n",
            "=================================================================\n",
            "Total params: 12034932 (45.91 MB)\n",
            "Trainable params: 1229832 (4.69 MB)\n",
            "Non-trainable params: 10805100 (41.22 MB)\n",
            "_________________________________________________________________\n"
          ]
        }
      ],
      "id": "IefphXXID1xJ"
    },
    {
      "cell_type": "code",
      "source": [
        "model_bilstm.fit(X, y,\n",
        "          validation_data=(X_test, y_test),\n",
        "          batch_size=128,\n",
        "         epochs=5)"
      ],
      "metadata": {
        "colab": {
          "base_uri": "https://localhost:8080/"
        },
        "outputId": "8d3093f3-929d-42ef-c041-e92a16d91458",
        "id": "n7W7LX9yD1xX"
      },
      "execution_count": null,
      "outputs": [
        {
          "output_type": "stream",
          "name": "stdout",
          "text": [
            "Epoch 1/5\n",
            "157/157 [==============================] - 18s 53ms/step - loss: 0.1881 - accuracy: 0.9404 - val_loss: 0.1427 - val_accuracy: 0.9533\n",
            "Epoch 2/5\n",
            "157/157 [==============================] - 6s 39ms/step - loss: 0.1330 - accuracy: 0.9556 - val_loss: 0.1250 - val_accuracy: 0.9586\n",
            "Epoch 3/5\n",
            "157/157 [==============================] - 6s 39ms/step - loss: 0.1145 - accuracy: 0.9614 - val_loss: 0.1333 - val_accuracy: 0.9561\n",
            "Epoch 4/5\n",
            "157/157 [==============================] - 6s 39ms/step - loss: 0.0943 - accuracy: 0.9688 - val_loss: 0.1379 - val_accuracy: 0.9594\n",
            "Epoch 5/5\n",
            "157/157 [==============================] - 6s 39ms/step - loss: 0.0793 - accuracy: 0.9740 - val_loss: 0.1385 - val_accuracy: 0.9607\n"
          ]
        },
        {
          "output_type": "execute_result",
          "data": {
            "text/plain": [
              "<keras.src.callbacks.History at 0x7e8f79adc9a0>"
            ]
          },
          "metadata": {},
          "execution_count": 106
        }
      ],
      "id": "n7W7LX9yD1xX"
    },
    {
      "cell_type": "code",
      "source": [
        "print(model_bilstm.history.history.keys())\n",
        "plt.plot(model_bilstm.history.history['accuracy'])\n",
        "plt.plot(model_bilstm.history.history['val_accuracy'])\n",
        "plt.title('model acc')\n",
        "plt.ylabel('accuracy')\n",
        "plt.xlabel('epoch')\n",
        "plt.legend(['train', 'val'], loc='upper left')\n",
        "plt.show()"
      ],
      "metadata": {
        "colab": {
          "base_uri": "https://localhost:8080/",
          "height": 489
        },
        "outputId": "bb7116e4-87cc-4a90-a2ef-f4764a55b6af",
        "id": "Z47O9E5VD1xY"
      },
      "execution_count": null,
      "outputs": [
        {
          "output_type": "stream",
          "name": "stdout",
          "text": [
            "dict_keys(['loss', 'accuracy', 'val_loss', 'val_accuracy'])\n"
          ]
        },
        {
          "output_type": "display_data",
          "data": {
            "text/plain": [
              "<Figure size 640x480 with 1 Axes>"
            ],
            "image/png": "[encoded data removed]"
          },
          "metadata": {}
        }
      ],
      "id": "Z47O9E5VD1xY"
    },
    {
      "cell_type": "markdown",
      "source": [
        "### 2) модель в которой будут использованы предобученные эмбединги слов и несколько BIGRU слоев."
      ],
      "metadata": {
        "id": "i8AHAL0XPZpk"
      },
      "id": "i8AHAL0XPZpk"
    },
    {
      "cell_type": "code",
      "source": [
        "inputs = tf.keras.layers.Input(shape=(MAX_LEN,))\n",
        "# Используем нашу матрицу с векторами как веса для слоя еmbeddings\n",
        "embeddings = tf.keras.layers.Embedding(input_dim=len(word2id), output_dim=300, weights=[embedding_matrix], trainable=False)(inputs)\n",
        "\n",
        "bigru_1 = tf.keras.layers.Bidirectional(tf.keras.layers.GRU(128, return_sequences=True))(embeddings)\n",
        "bigru_2 = tf.keras.layers.Bidirectional(tf.keras.layers.GRU(128, return_sequences=True))(bigru_1)\n",
        "bigru_3 = tf.keras.layers.Bidirectional(tf.keras.layers.GRU(128, return_sequences=True))(bigru_2)\n",
        "\n",
        "outputs = tf.keras.layers.Dense(len(label2id), activation='softmax')(bigru_3)\n",
        "\n",
        "model_bigru = tf.keras.Model(inputs=inputs, outputs=outputs)\n",
        "model_bigru.compile(optimizer='adam',\n",
        "              loss='sparse_categorical_crossentropy',\n",
        "              metrics=['accuracy'])\n",
        "model_bigru.summary()"
      ],
      "metadata": {
        "colab": {
          "base_uri": "https://localhost:8080/"
        },
        "id": "l9kipzIbEGL2",
        "outputId": "749f2797-7e3e-4b3d-a99e-783b21709261"
      },
      "execution_count": null,
      "outputs": [
        {
          "output_type": "stream",
          "name": "stdout",
          "text": [
            "Model: \"model_7\"\n",
            "_________________________________________________________________\n",
            " Layer (type)                Output Shape              Param #   \n",
            "=================================================================\n",
            " input_8 (InputLayer)        [(None, 54)]              0         \n",
            "                                                                 \n",
            " embedding_7 (Embedding)     (None, 54, 300)           10805100  \n",
            "                                                                 \n",
            " bidirectional_21 (Bidirect  (None, 54, 256)           330240    \n",
            " ional)                                                          \n",
            "                                                                 \n",
            " bidirectional_22 (Bidirect  (None, 54, 256)           296448    \n",
            " ional)                                                          \n",
            "                                                                 \n",
            " bidirectional_23 (Bidirect  (None, 54, 256)           296448    \n",
            " ional)                                                          \n",
            "                                                                 \n",
            " dense_7 (Dense)             (None, 54, 8)             2056      \n",
            "                                                                 \n",
            "=================================================================\n",
            "Total params: 11730292 (44.75 MB)\n",
            "Trainable params: 925192 (3.53 MB)\n",
            "Non-trainable params: 10805100 (41.22 MB)\n",
            "_________________________________________________________________\n"
          ]
        }
      ],
      "id": "l9kipzIbEGL2"
    },
    {
      "cell_type": "code",
      "source": [
        "model_bigru.fit(X, y,\n",
        "          validation_data=(X_test, y_test),\n",
        "          batch_size=128,\n",
        "         epochs=5)"
      ],
      "metadata": {
        "colab": {
          "base_uri": "https://localhost:8080/"
        },
        "outputId": "f7845857-a8b6-46c8-c094-1e6c364b7776",
        "id": "5c1DraxXEGME"
      },
      "execution_count": null,
      "outputs": [
        {
          "output_type": "stream",
          "name": "stdout",
          "text": [
            "Epoch 1/5\n",
            "157/157 [==============================] - 18s 45ms/step - loss: 0.1754 - accuracy: 0.9426 - val_loss: 0.1321 - val_accuracy: 0.9553\n",
            "Epoch 2/5\n",
            "157/157 [==============================] - 6s 37ms/step - loss: 0.1183 - accuracy: 0.9600 - val_loss: 0.1224 - val_accuracy: 0.9585\n",
            "Epoch 3/5\n",
            "157/157 [==============================] - 6s 37ms/step - loss: 0.0939 - accuracy: 0.9686 - val_loss: 0.1171 - val_accuracy: 0.9631\n",
            "Epoch 4/5\n",
            "157/157 [==============================] - 5s 33ms/step - loss: 0.0787 - accuracy: 0.9740 - val_loss: 0.1217 - val_accuracy: 0.9644\n",
            "Epoch 5/5\n",
            "157/157 [==============================] - 5s 35ms/step - loss: 0.0682 - accuracy: 0.9777 - val_loss: 0.1296 - val_accuracy: 0.9639\n"
          ]
        },
        {
          "output_type": "execute_result",
          "data": {
            "text/plain": [
              "<keras.src.callbacks.History at 0x7e8f812316f0>"
            ]
          },
          "metadata": {},
          "execution_count": 109
        }
      ],
      "id": "5c1DraxXEGME"
    },
    {
      "cell_type": "code",
      "source": [
        "print(model_bigru.history.history.keys())\n",
        "plt.plot(model_bigru.history.history['accuracy'])\n",
        "plt.plot(model_bigru.history.history['val_accuracy'])\n",
        "plt.title('model acc')\n",
        "plt.ylabel('accuracy')\n",
        "plt.xlabel('epoch')\n",
        "plt.legend(['train', 'val'], loc='upper left')\n",
        "plt.show()"
      ],
      "metadata": {
        "colab": {
          "base_uri": "https://localhost:8080/",
          "height": 489
        },
        "outputId": "2f76ff1d-869a-46d8-d5fe-a0b2d4e2ab2e",
        "id": "uefMf20HEGME"
      },
      "execution_count": null,
      "outputs": [
        {
          "output_type": "stream",
          "name": "stdout",
          "text": [
            "dict_keys(['loss', 'accuracy', 'val_loss', 'val_accuracy'])\n"
          ]
        },
        {
          "output_type": "display_data",
          "data": {
            "text/plain": [
              "<Figure size 640x480 with 1 Axes>"
            ],
            "image/png": "[encoded data removed]"
          },
          "metadata": {}
        }
      ],
      "id": "uefMf20HEGME"
    },
    {
      "cell_type": "markdown",
      "source": [
        "### Сравните качество по метрикам. Также придумайте несколько сложных примеров и проверьте, какие сущности определяет каждая из моделей."
      ],
      "metadata": {
        "id": "3QMWirpMPd9r"
      },
      "id": "3QMWirpMPd9r"
    },
    {
      "cell_type": "code",
      "source": [
        "from sklearn.metrics import classification_report"
      ],
      "metadata": {
        "id": "KMnYBX7FDFDW"
      },
      "id": "KMnYBX7FDFDW",
      "execution_count": null,
      "outputs": []
    },
    {
      "cell_type": "markdown",
      "source": [
        "#### Метрики model_bilstm"
      ],
      "metadata": {
        "id": "sFxHvVqGEto1"
      },
      "id": "sFxHvVqGEto1"
    },
    {
      "cell_type": "code",
      "source": [
        "pred_model_bilstm = model_bilstm.predict(X_test).argmax(2)"
      ],
      "metadata": {
        "colab": {
          "base_uri": "https://localhost:8080/"
        },
        "id": "QTrShNPFDFXe",
        "outputId": "e20727e6-a359-4f7d-9244-bdb617457efc"
      },
      "id": "QTrShNPFDFXe",
      "execution_count": null,
      "outputs": [
        {
          "output_type": "stream",
          "name": "stdout",
          "text": [
            "313/313 [==============================] - 6s 11ms/step\n"
          ]
        }
      ]
    },
    {
      "cell_type": "code",
      "source": [
        "pred_model_bilstm"
      ],
      "metadata": {
        "colab": {
          "base_uri": "https://localhost:8080/"
        },
        "id": "7zpniSr7E27m",
        "outputId": "37a5c411-2a19-4a0f-894b-4c9c02d621db"
      },
      "execution_count": null,
      "outputs": [
        {
          "output_type": "execute_result",
          "data": {
            "text/plain": [
              "array([[0, 0, 3, ..., 7, 7, 7],\n",
              "       [0, 0, 6, ..., 7, 7, 7],\n",
              "       [0, 0, 0, ..., 7, 7, 7],\n",
              "       ...,\n",
              "       [1, 2, 0, ..., 7, 7, 7],\n",
              "       [5, 0, 0, ..., 7, 7, 7],\n",
              "       [0, 0, 0, ..., 7, 7, 7]])"
            ]
          },
          "metadata": {},
          "execution_count": 69
        }
      ],
      "id": "7zpniSr7E27m"
    },
    {
      "cell_type": "code",
      "source": [
        "print(classification_report(y_test.reshape(-1), pred_model_bilstm.reshape(-1), labels=list(id2labels.keys()),\n",
        "                                                                     target_names=list(id2labels.values()),\n",
        "                                                                     zero_division=0))"
      ],
      "metadata": {
        "colab": {
          "base_uri": "https://localhost:8080/"
        },
        "id": "M6MHthzCE27n",
        "outputId": "d93220b4-e012-4f85-b5ed-0f920d13da3b"
      },
      "execution_count": null,
      "outputs": [
        {
          "output_type": "stream",
          "name": "stdout",
          "text": [
            "              precision    recall  f1-score   support\n",
            "\n",
            "           O       0.79      0.94      0.86     40480\n",
            "       B-PER       0.84      0.74      0.78      3542\n",
            "       I-PER       0.85      0.80      0.83      7544\n",
            "       B-ORG       0.68      0.14      0.23      4074\n",
            "       I-ORG       0.68      0.32      0.44      8008\n",
            "       B-LOC       0.42      0.60      0.49      4560\n",
            "       I-LOC       0.56      0.38      0.45      3060\n",
            "         PAD       1.00      1.00      1.00    468732\n",
            "\n",
            "    accuracy                           0.97    540000\n",
            "   macro avg       0.73      0.61      0.64    540000\n",
            "weighted avg       0.97      0.97      0.96    540000\n",
            "\n"
          ]
        }
      ],
      "id": "M6MHthzCE27n"
    },
    {
      "cell_type": "code",
      "source": [
        "import re\n",
        "\n",
        "def tokenize(text, word2id):\n",
        "    # токенизирует и переводит в индексы\n",
        "    tokens = re.findall('\\w+|[^\\w\\s]+', text)\n",
        "    ids = [word2id.get(token.lower(), 1) for token in tokens]\n",
        "    return tokens, ids\n",
        "\n",
        "def pred2tags(pred, id2label, length):\n",
        "    # декодирует индексы в части речи\n",
        "    # length нужно чтобы откидывать паддинги или некорректные предсказания\n",
        "    pred = pred.argmax(2)[0, :length]\n",
        "    labels = [id2label[l] for l in pred]\n",
        "    return labels\n",
        "\n",
        "def label_seq(text, word2id, id2label, max_len, model):\n",
        "    tokens, ids = tokenize(text, word2id)\n",
        "    pred = model.predict(tf.keras.preprocessing.sequence.pad_sequences([ids],\n",
        "                                                                       maxlen=max_len,\n",
        "                                                                       padding='post'))\n",
        "    labels = pred2tags(pred, id2label, len(ids))\n",
        "\n",
        "    return list(zip(tokens, labels))"
      ],
      "metadata": {
        "id": "hiWYefX5E27n"
      },
      "execution_count": null,
      "outputs": [],
      "id": "hiWYefX5E27n"
    },
    {
      "cell_type": "code",
      "source": [
        "label_seq('Алексей сказал Светлане, чтобы она собиралась на поезд в Москву.', word2id, id2labels, MAX_LEN, model_bilstm)"
      ],
      "metadata": {
        "colab": {
          "base_uri": "https://localhost:8080/"
        },
        "id": "MQTrQxG6E27n",
        "outputId": "2dd78c9f-fdf9-4ca7-8ce6-c2a569837fe5"
      },
      "execution_count": null,
      "outputs": [
        {
          "output_type": "stream",
          "name": "stdout",
          "text": [
            "1/1 [==============================] - 0s 256ms/step\n"
          ]
        },
        {
          "output_type": "execute_result",
          "data": {
            "text/plain": [
              "[('Алексей', 'B-PER'),\n",
              " ('сказал', 'I-PER'),\n",
              " ('Светлане', 'O'),\n",
              " (',', 'O'),\n",
              " ('чтобы', 'O'),\n",
              " ('она', 'O'),\n",
              " ('собиралась', 'O'),\n",
              " ('на', 'O'),\n",
              " ('поезд', 'O'),\n",
              " ('в', 'O'),\n",
              " ('Москву', 'B-LOC'),\n",
              " ('.', 'O')]"
            ]
          },
          "metadata": {},
          "execution_count": 62
        }
      ],
      "id": "MQTrQxG6E27n"
    },
    {
      "cell_type": "code",
      "source": [
        "label_seq('Я поступил в ВШЭ в Питер', word2id, id2labels, MAX_LEN, model_bilstm)"
      ],
      "metadata": {
        "colab": {
          "base_uri": "https://localhost:8080/"
        },
        "id": "xz4ynInNE27n",
        "outputId": "67f2e950-794c-4995-df51-87bc6565d86c"
      },
      "execution_count": null,
      "outputs": [
        {
          "output_type": "stream",
          "name": "stdout",
          "text": [
            "1/1 [==============================] - 0s 131ms/step\n"
          ]
        },
        {
          "output_type": "execute_result",
          "data": {
            "text/plain": [
              "[('Я', 'O'),\n",
              " ('поступил', 'O'),\n",
              " ('в', 'O'),\n",
              " ('ВШЭ', 'B-LOC'),\n",
              " ('в', 'O'),\n",
              " ('Питер', 'B-LOC')]"
            ]
          },
          "metadata": {},
          "execution_count": 63
        }
      ],
      "id": "xz4ynInNE27n"
    },
    {
      "cell_type": "code",
      "source": [
        "label_seq('Встреча с Джоном Смитом запланирована на завтра в 15:00 в отеле \"Метрополь\"', word2id, id2labels, MAX_LEN, model_bilstm)"
      ],
      "metadata": {
        "colab": {
          "base_uri": "https://localhost:8080/"
        },
        "id": "bTxLbY66E27o",
        "outputId": "c6c02710-f3e7-4945-967c-e7a84a5d7541"
      },
      "execution_count": null,
      "outputs": [
        {
          "output_type": "stream",
          "name": "stdout",
          "text": [
            "1/1 [==============================] - 0s 38ms/step\n"
          ]
        },
        {
          "output_type": "execute_result",
          "data": {
            "text/plain": [
              "[('Встреча', 'O'),\n",
              " ('с', 'O'),\n",
              " ('Джоном', 'O'),\n",
              " ('Смитом', 'B-LOC'),\n",
              " ('запланирована', 'I-LOC'),\n",
              " ('на', 'O'),\n",
              " ('завтра', 'B-LOC'),\n",
              " ('в', 'O'),\n",
              " ('15', 'B-LOC'),\n",
              " (':', 'O'),\n",
              " ('00', 'O'),\n",
              " ('в', 'O'),\n",
              " ('отеле', 'O'),\n",
              " ('\"', 'B-LOC'),\n",
              " ('Метрополь', 'I-LOC'),\n",
              " ('\"', 'O')]"
            ]
          },
          "metadata": {},
          "execution_count": 113
        }
      ],
      "id": "bTxLbY66E27o"
    },
    {
      "cell_type": "markdown",
      "source": [
        "#### Метрики model_bigru"
      ],
      "metadata": {
        "id": "LH1rIMzkEmnN"
      },
      "id": "LH1rIMzkEmnN"
    },
    {
      "cell_type": "code",
      "source": [
        "pred_model_bigru = model_bigru.predict(X_test).argmax(2)"
      ],
      "metadata": {
        "colab": {
          "base_uri": "https://localhost:8080/"
        },
        "outputId": "e052a211-eadf-4c64-ea58-e5b73ae62bdb",
        "id": "Fm8cWpK-HCpZ"
      },
      "execution_count": null,
      "outputs": [
        {
          "output_type": "stream",
          "name": "stdout",
          "text": [
            "313/313 [==============================] - 6s 10ms/step\n"
          ]
        }
      ],
      "id": "Fm8cWpK-HCpZ"
    },
    {
      "cell_type": "code",
      "source": [
        "pred_model_bigru"
      ],
      "metadata": {
        "colab": {
          "base_uri": "https://localhost:8080/"
        },
        "outputId": "7853d805-7ee9-4b5e-b309-7eb3e9272f78",
        "id": "bn7PS0ZGHCpZ"
      },
      "execution_count": null,
      "outputs": [
        {
          "output_type": "execute_result",
          "data": {
            "text/plain": [
              "array([[0, 0, 3, ..., 7, 7, 7],\n",
              "       [0, 0, 6, ..., 7, 7, 7],\n",
              "       [0, 0, 0, ..., 7, 7, 7],\n",
              "       ...,\n",
              "       [1, 2, 0, ..., 7, 7, 7],\n",
              "       [0, 0, 0, ..., 7, 7, 7],\n",
              "       [0, 0, 0, ..., 7, 7, 7]])"
            ]
          },
          "metadata": {},
          "execution_count": 67
        }
      ],
      "id": "bn7PS0ZGHCpZ"
    },
    {
      "cell_type": "code",
      "source": [
        "print(classification_report(y_test.reshape(-1), pred_model_bigru.reshape(-1), labels=list(id2labels.keys()),\n",
        "                                                                     target_names=list(id2labels.values()),\n",
        "                                                                     zero_division=0))"
      ],
      "metadata": {
        "colab": {
          "base_uri": "https://localhost:8080/"
        },
        "id": "M9H8yeb0DMAj",
        "outputId": "e4b6464a-9984-4147-b3cc-de8ff7b23c46"
      },
      "id": "M9H8yeb0DMAj",
      "execution_count": null,
      "outputs": [
        {
          "output_type": "stream",
          "name": "stdout",
          "text": [
            "              precision    recall  f1-score   support\n",
            "\n",
            "           O       0.74      0.99      0.85     40480\n",
            "       B-PER       0.81      0.78      0.79      3542\n",
            "       I-PER       0.86      0.80      0.83      7544\n",
            "       B-ORG       0.79      0.21      0.33      4074\n",
            "       I-ORG       0.88      0.24      0.38      8008\n",
            "       B-LOC       0.65      0.40      0.50      4560\n",
            "       I-LOC       0.80      0.27      0.41      3060\n",
            "         PAD       1.00      1.00      1.00    468732\n",
            "\n",
            "    accuracy                           0.97    540000\n",
            "   macro avg       0.82      0.59      0.64    540000\n",
            "weighted avg       0.97      0.97      0.96    540000\n",
            "\n"
          ]
        }
      ]
    },
    {
      "cell_type": "code",
      "source": [
        "label_seq('Алексей сказал Светлане, чтобы она собиралась на поезд в Москву.', word2id, id2labels, MAX_LEN, model_bigru)"
      ],
      "metadata": {
        "colab": {
          "base_uri": "https://localhost:8080/"
        },
        "id": "PXVUggvEDUVl",
        "outputId": "044706c3-e567-4eb6-b36f-05827d70fa89"
      },
      "id": "PXVUggvEDUVl",
      "execution_count": null,
      "outputs": [
        {
          "output_type": "stream",
          "name": "stdout",
          "text": [
            "1/1 [==============================] - 0s 57ms/step\n"
          ]
        },
        {
          "output_type": "execute_result",
          "data": {
            "text/plain": [
              "[('Алексей', 'B-PER'),\n",
              " ('сказал', 'I-PER'),\n",
              " ('Светлане', 'O'),\n",
              " (',', 'O'),\n",
              " ('чтобы', 'O'),\n",
              " ('она', 'O'),\n",
              " ('собиралась', 'O'),\n",
              " ('на', 'O'),\n",
              " ('поезд', 'O'),\n",
              " ('в', 'O'),\n",
              " ('Москву', 'B-LOC'),\n",
              " ('.', 'O')]"
            ]
          },
          "metadata": {},
          "execution_count": 71
        }
      ]
    },
    {
      "cell_type": "code",
      "source": [
        "label_seq('Я поступил в ВШЭ в Питер', word2id, id2labels, MAX_LEN, model_bigru)"
      ],
      "metadata": {
        "colab": {
          "base_uri": "https://localhost:8080/"
        },
        "id": "QbSJYmA9DV8N",
        "outputId": "b1ad5450-a21c-4ea0-a12f-05f355c45f4d"
      },
      "id": "QbSJYmA9DV8N",
      "execution_count": null,
      "outputs": [
        {
          "output_type": "stream",
          "name": "stdout",
          "text": [
            "1/1 [==============================] - 0s 35ms/step\n"
          ]
        },
        {
          "output_type": "execute_result",
          "data": {
            "text/plain": [
              "[('Я', 'O'),\n",
              " ('поступил', 'O'),\n",
              " ('в', 'O'),\n",
              " ('ВШЭ', 'O'),\n",
              " ('в', 'O'),\n",
              " ('Питер', 'B-LOC')]"
            ]
          },
          "metadata": {},
          "execution_count": 72
        }
      ]
    },
    {
      "cell_type": "code",
      "source": [
        "label_seq('Встреча с Джоном Смитом запланирована на завтра в 15:00 в отеле \"Метрополь\"', word2id, id2labels, MAX_LEN, model_bigru)"
      ],
      "metadata": {
        "colab": {
          "base_uri": "https://localhost:8080/"
        },
        "id": "X94OCk_nDYFc",
        "outputId": "d9740ac9-6f97-41fd-af11-de406b57d924"
      },
      "id": "X94OCk_nDYFc",
      "execution_count": null,
      "outputs": [
        {
          "output_type": "stream",
          "name": "stdout",
          "text": [
            "1/1 [==============================] - 3s 3s/step\n"
          ]
        },
        {
          "output_type": "execute_result",
          "data": {
            "text/plain": [
              "[('Встреча', 'O'),\n",
              " ('с', 'O'),\n",
              " ('Джоном', 'O'),\n",
              " ('Смитом', 'B-LOC'),\n",
              " ('запланирована', 'O'),\n",
              " ('на', 'O'),\n",
              " ('завтра', 'B-LOC'),\n",
              " ('в', 'O'),\n",
              " ('15', 'B-LOC'),\n",
              " (':', 'O'),\n",
              " ('00', 'O'),\n",
              " ('в', 'O'),\n",
              " ('отеле', 'O'),\n",
              " ('\"', 'B-PER'),\n",
              " ('Метрополь', 'I-LOC'),\n",
              " ('\"', 'I-PER')]"
            ]
          },
          "metadata": {},
          "execution_count": 114
        }
      ]
    },
    {
      "cell_type": "markdown",
      "source": [
        "Обе модели имеют высокие метрики для класса неименованных сущностей, видимо, потому что их больше. Персоналии (PER) предсказывают примерно одинаково (precision: 0.84 и 0.81, recall: 0.74 и 0.78 для model_bilstm и model_bigru соответственно), организации model_bigru показывает чуть лучше результаты (precision: 0.79 и 0.88, recall: 0.21 и 0.24 для model_bilstm и model_bigru соответственно), местоположения одинаково (precision: 0.42 и 0.65, recall: 0.60 и 0.40 для model_bilstm и model_bigru соответственно).\n",
        "\n",
        "На конкретных примерах обе модели делают разные ошибки. Алексея обе правильно определеили, Москву и Санкт-Петербург тоже. Несколько раз несущности ошибочно принимались за сущность."
      ],
      "metadata": {
        "id": "VDTOYy7Viu4F"
      },
      "id": "VDTOYy7Viu4F"
    }
  ],
  "metadata": {
    "kernelspec": {
      "display_name": "Python 3",
      "name": "python3"
    },
    "language_info": {
      "codemirror_mode": {
        "name": "ipython",
        "version": 3
      },
      "file_extension": ".py",
      "mimetype": "text/x-python",
      "name": "python",
      "nbconvert_exporter": "python",
      "pygments_lexer": "ipython3",
      "version": "3.9.14"
    },
    "colab": {
      "provenance": [],
      "collapsed_sections": [
        "upqCNMaT5KOz",
        "LpqHXaC47z8W",
        "BXCU2ur872rk",
        "z1f51nNs725h",
        "QyvGIbgV73F_",
        "ncLREU7s7ofZ",
        "prCpl9Bj8EaT",
        "DoxE87X3PSlE",
        "NB8a2IeprdCr"
      ],
      "toc_visible": true,
      "gpuType": "T4"
    },
    "accelerator": "GPU"
  },
  "nbformat": 4,
  "nbformat_minor": 5
}